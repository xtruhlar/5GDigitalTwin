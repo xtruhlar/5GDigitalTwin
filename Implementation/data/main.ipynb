{
 "cells": [
  {
   "cell_type": "code",
   "execution_count": 1,
   "metadata": {
    "execution": {
     "iopub.execute_input": "2025-03-21T11:46:00.909203Z",
     "iopub.status.busy": "2025-03-21T11:46:00.909023Z",
     "iopub.status.idle": "2025-03-21T11:46:01.107538Z",
     "shell.execute_reply": "2025-03-21T11:46:01.107170Z"
    }
   },
   "outputs": [
    {
     "name": "stderr",
     "output_type": "stream",
     "text": [
      "/Users/davidtruhlar/Documents/FIIT/BP/5GDigitalTwin/Implementation/.venv/lib/python3.9/site-packages/urllib3/__init__.py:35: NotOpenSSLWarning: urllib3 v2 only supports OpenSSL 1.1.1+, currently the 'ssl' module is compiled with 'LibreSSL 2.8.3'. See: https://github.com/urllib3/urllib3/issues/3020\n",
      "  warnings.warn(\n"
     ]
    }
   ],
   "source": [
    "import pandas as pd\n",
    "from prometheus_api_client import PrometheusConnect, MetricSnapshotDataFrame\n",
    "from datetime import datetime, timedelta, timezone\n",
    "import os\n",
    "import re"
   ]
  },
  {
   "cell_type": "code",
   "execution_count": 2,
   "metadata": {
    "execution": {
     "iopub.execute_input": "2025-03-21T11:46:01.109069Z",
     "iopub.status.busy": "2025-03-21T11:46:01.108944Z",
     "iopub.status.idle": "2025-03-21T11:46:01.110799Z",
     "shell.execute_reply": "2025-03-21T11:46:01.110532Z"
    }
   },
   "outputs": [],
   "source": [
    "start = datetime.now()"
   ]
  },
  {
   "cell_type": "code",
   "execution_count": 3,
   "metadata": {
    "execution": {
     "iopub.execute_input": "2025-03-21T11:46:01.112109Z",
     "iopub.status.busy": "2025-03-21T11:46:01.112018Z",
     "iopub.status.idle": "2025-03-21T11:46:01.114239Z",
     "shell.execute_reply": "2025-03-21T11:46:01.113984Z"
    }
   },
   "outputs": [
    {
     "name": "stdout",
     "output_type": "stream",
     "text": [
      "Connected to Prometheus\n"
     ]
    }
   ],
   "source": [
    "# Create a connection to prometheus\n",
    "try:\n",
    "    prom = PrometheusConnect(url=\"http://localhost:9090\", disable_ssl=True)\n",
    "    print(\"Connected to Prometheus\")\n",
    "except Exception as e:\n",
    "    print(f\"Error connecting to Prometheus: {e}\")"
   ]
  },
  {
   "cell_type": "code",
   "execution_count": 4,
   "metadata": {
    "execution": {
     "iopub.execute_input": "2025-03-21T11:46:01.115559Z",
     "iopub.status.busy": "2025-03-21T11:46:01.115450Z",
     "iopub.status.idle": "2025-03-21T11:46:01.118489Z",
     "shell.execute_reply": "2025-03-21T11:46:01.118131Z"
    }
   },
   "outputs": [],
   "source": [
    "current_time = datetime.now()\n",
    "\n",
    "# Set start_time as the last processed time (or now - 10 seconds for a buffer)\n",
    "start_time = (current_time - timedelta(seconds=50)).strftime(\"%Y-%m-%dT%H:%M:%SZ\")\n",
    "end_time = current_time.strftime(\"%Y-%m-%dT%H:%M:%SZ\")\n",
    "\n",
    "step = \"50ms\"\n",
    "\n",
    "start_time = datetime.strptime(start_time, \"%Y-%m-%dT%H:%M:%SZ\")\n",
    "end_time = datetime.strptime(end_time, \"%Y-%m-%dT%H:%M:%SZ\")"
   ]
  },
  {
   "cell_type": "code",
   "execution_count": 5,
   "metadata": {
    "execution": {
     "iopub.execute_input": "2025-03-21T11:46:01.120081Z",
     "iopub.status.busy": "2025-03-21T11:46:01.119990Z",
     "iopub.status.idle": "2025-03-21T11:46:01.121775Z",
     "shell.execute_reply": "2025-03-21T11:46:01.121444Z"
    }
   },
   "outputs": [
    {
     "name": "stdout",
     "output_type": "stream",
     "text": [
      "Start time: 2025-03-21 12:45:11\n",
      "End time: 2025-03-21 12:46:01\n"
     ]
    }
   ],
   "source": [
    "print(f\"Start time: {start_time}\")\n",
    "print(f\"End time: {end_time}\")"
   ]
  },
  {
   "cell_type": "code",
   "execution_count": 6,
   "metadata": {
    "execution": {
     "iopub.execute_input": "2025-03-21T11:46:01.122994Z",
     "iopub.status.busy": "2025-03-21T11:46:01.122912Z",
     "iopub.status.idle": "2025-03-21T11:46:01.124586Z",
     "shell.execute_reply": "2025-03-21T11:46:01.124313Z"
    }
   },
   "outputs": [],
   "source": [
    "# Labels\n",
    "device=\"br-02c136a167f8\",                                               # Device name for network metrics (Based on the device name in the Prometheus metrics)\n",
    "cgroup_name=\"b48f9356ec91\",                                             # Cgroup name for CPU metrics (Based on the cgroup name in the Prometheus metrics)"
   ]
  },
  {
   "cell_type": "code",
   "execution_count": null,
   "metadata": {
    "execution": {
     "iopub.execute_input": "2025-03-21T11:46:01.125908Z",
     "iopub.status.busy": "2025-03-21T11:46:01.125821Z",
     "iopub.status.idle": "2025-03-21T11:46:01.130531Z",
     "shell.execute_reply": "2025-03-21T11:46:01.130264Z"
    }
   },
   "outputs": [],
   "source": [
    "# List of important metrics\n",
    "metrics = [\n",
    "    # Open5GS metrics\n",
    "    # \"amf_session\",                                                          # AMF Sessions (Gauge)\n",
    "    # \"bearers_active\",                                                       # Active Bearers (Gauge)                                                                     \n",
    "    # \"enb\",                                                                  # eNodeBs (Gauge)\n",
    "    # \"enb_ue\",                                                               # Number of UEs connected to eNodeBs (Gauge)\n",
    "\n",
    "    # FiveGS metrics\n",
    "    ## AMF\n",
    "    \"fivegs_amffunction_amf_authreject\",                                    # Number of authentication rejections sent by the AMF (Counter)\n",
    "    \"fivegs_amffunction_amf_authreq\",                                       # Number of authentication requests sent by the AMF (Counter)\n",
    "    # \"fivegs_amffunction_mm_confupdate\",                                     # Number of UE Configuration Update commands requested by the AMF (Counter)\n",
    "    # \"fivegs_amffunction_mm_confupdatesucc\",                                 # Number of UE Configuration Update complete messages received by the AMF (Counter)\n",
    "    # \"fivegs_amffunction_mm_paging5greq\",                                    # Number of 5G paging procedures initiated at the AMF (Counter)\n",
    "    # \"fivegs_amffunction_mm_paging5gsucc\",                                   # Number of successful 5G paging procedures initiated at the AMF (Counter)\n",
    "    # \"fivegs_amffunction_rm_regemergreq\",                                    # Number of emergency registration requests received by the AMF (Counter)\n",
    "    # \"fivegs_amffunction_rm_regemergsucc\",                                   # Number of successful emergency registrations at the AMF (Counter)\n",
    "    # \"fivegs_amffunction_rm_reginitreq\",                                     # Number of initial registration requests received by the AMF (Counter)\n",
    "    \"fivegs_amffunction_rm_reginitsucc\",                                    # Number of successful initial registrations at the AMF (Counter)\n",
    "    # \"fivegs_amffunction_rm_registeredsubnbr\",                               # Number of registered subscribers at the AMF (Gauge)\n",
    "    # \"fivegs_amffunction_rm_regmobreq\",                                      # Number of mobility registration update requests received by the AMF (Counter)\n",
    "    # \"fivegs_amffunction_rm_regmobsucc\",                                     # Number of successful mobility registration updates at the AMF (Counter)\n",
    "    # \"fivegs_amffunction_rm_regperiodreq\",                                   # Number of periodic registration update requests received by the AMF (Counter)\n",
    "    # \"fivegs_amffunction_rm_regperiodsucc\",                                  # Number of successful periodic registration update requests at the AMF (Counter)\n",
    "\n",
    "    ## EP_N3_GTP\n",
    "    \"fivegs_ep_n3_gtp_indatapktn3upf\",                                      # Number of incoming GTP data packets on the N3 interface (Counter)\n",
    "    \"fivegs_ep_n3_gtp_outdatapktn3upf\",                                     # Number of outgoing GTP data packets on the N3 interface (Counter)\n",
    "\n",
    "    ## SMF\n",
    "    # \"fivegs_smffunction_sm_n4sessionestabreq\",                              # Number of requested N4 session establishments evidented by SMF (Counter)\n",
    "    # \"fivegs_smffunction_sm_n4sessionreport\",                                # Number of requested N4 session reports evidented by SMF (Counter)\n",
    "    # \"fivegs_smffunction_sm_n4sessionreportsucc\",                            # Number of successful N4 session reports evidented by SMF (Counter)\n",
    "    # \"fivegs_smffunction_sm_pdusessioncreationreq\",                          # Number of PDU sessions requested to be created by the SMF (Counter)\n",
    "    # \"fivegs_smffunction_sm_pdusessioncreationsucc\",                         # Number of PDU sessions successfully created by the SMF (Counter)\n",
    "    # \"fivegs_smffunction_sm_qos_flow_nbr\",                                   # Number of QoS flows at the SMF (Gauge)\n",
    "    # \"fivegs_smffunction_sm_sessionnbr\",                                     # Active Sessions (Gauge)\n",
    "\n",
    "    ## UPF\n",
    "    #\"fivegs_upffunction_sm_n4sessionestabreq\",                              # Number of requested N4 session establishments (Counter)\n",
    "    #\"fivegs_upffunction_sm_n4sessionreport\",                                # Number of requested N4 session reports (Counter)\n",
    "    #\"fivegs_upffunction_sm_n4sessionreportsucc\",                            # Number of successful N4 session reports (Counter)\n",
    "    #\"fivegs_upffunction_upf_qosflows\",                                      # Number of QoS flows of UPF (Gauge)\n",
    "    \"fivegs_upffunction_upf_sessionnbr\",                                    # Active Sessions (Gauge)\n",
    "\n",
    "    ## PCF\n",
    "    # \"fivegs_pcffunction_pa_policyamassoreq\",                                # Number of Policy Association Requests sent by the PCF (Counter)\n",
    "    # \"fivegs_pcffunction_pa_policyamassosucc\",                               # Number of Policy Association Successes sent by the PCF (Counter)\n",
    "    # \"fivegs_pcffunction_pa_policysmassoreq\",                                # Number of Policy Session Association Requests sent by the PCF (Counter)\n",
    "    # \"fivegs_pcffunction_pa_policysmassosucc\",                               # Number of Policy Session Association Successes sent by the PCF (Counter)\n",
    "    # \"fivegs_pcffunction_pa_sessionnbr\",                                     # Active Sessions (Gauge)\n",
    "\n",
    "    ## GN RX\n",
    "    # \"gn_rx_createpdpcontextreq\",                                            # Received GTPv1C CreatePDPContextRequest messages (Counter)\n",
    "    # \"gn_rx_deletepdpcontextreq\",                                            # Received GTPv1C DeletePDPContextRequest messages (Counter)\n",
    "    # \"gn_rx_parse_failed\",                                                   # Received GTPv1C messages discarded due to parsing failure (Counter)\n",
    "\n",
    "    ## GNB\n",
    "    # \"gnb\",                                                                  # gNodeBs (Gauge) [Real time active gNodeBs]\n",
    "\n",
    "    ## GTP\n",
    "    # \"gtp1_pdpctxs_active\",                                                  # Active GTPv1 PDP Contexts (GGSN) (Gauge)\n",
    "    # \"gtp2_sessions_active\",                                                 # Active GTPv2 Sessions (PGW) (Gauge)\n",
    "    # \"gtp_new_node_failed\",                                                  # Unable to allocate new GTP (peer) Node (Counter)\n",
    "    # \"gtp_peers_active\",                                                     # Active GTP peers (Gauge)\n",
    "\n",
    "    ## MME\n",
    "    # \"mme_session\",                                                          # MME Sessions (Gauge)\n",
    "\n",
    "    ## S5C RX\n",
    "    # \"s5c_rx_createsession\",                                                 # Received GTPv2C CreateSessionRequest messages (Counter)\n",
    "    # \"s5c_rx_parse_failed\",                                                  # Received GTPv2C messages discarded due to parsing failure (Counter)\n",
    "\n",
    "    ## Prometheus metrics scrape\n",
    "    # \"scrape_duration_seconds\",                                              # Prometheus scrape duration (Gauge)\n",
    "    # \"scrape_samples_post_metric_relabeling\",                                # Prometheus scrape samples post metric relabeling (Gauge)\n",
    "    # \"scrape_samples_scraped\",                                               # Prometheus scrape samples scraped (Gauge)\n",
    "    # \"scrape_series_added\",                                                  # Prometheus scrape series added (Gauge)\n",
    "\n",
    "    ## UES\n",
    "    \"ues_active\",                                                             # Active User Equipments (Gauge) [Not real time active UEs but the total number of UEs that have been connected to the network]\n",
    "    # \"ran_ue\",                                                               # RAN UEs (Gauge) [Real time active UEs]\n",
    "    \n",
    "    ## Up\n",
    "    \"up\",                                                                     # 0 = Down, 1 = Up (Gauge)\n",
    "\n",
    "    ## Process metrics\n",
    "    # \"process_cpu_seconds_total\",                                            # Total user and system CPU time spent in seconds (Counter)\n",
    "    # \"process_max_fds\",                                                      # Maximum number of open file descriptors (Gauge)\n",
    "    # \"process_open_fds\",                                                     # Number of open file descriptors (Gauge)\n",
    "    # \"process_resident_memory_bytes\",                                        # Resident memory size in bytes (Gauge)\n",
    "    # \"process_start_time_seconds\",                                           # Start time of the process since unix epoch in seconds (Gauge)\n",
    "    # \"process_virtual_memory_bytes\",                                         # Virtual memory size in bytes (Gauge)\n",
    "    # \"process_virtual_memory_max_bytes\",                                     # Maximum amount of virtual memory available in bytes (Gauge)\n",
    "\n",
    "    ## NetData metrics for network traffic\n",
    "    f'netdata_net_net_kilobits_persec_average{{device=\"{device[0]}\", dimension=\"received\"}}',                              # Bandwidth received (Kbps)\n",
    "    f'netdata_net_net_kilobits_persec_average{{device=\"{device[0]}\", dimension=\"sent\"}}',                                  # Bandwidth sent (Kbps)\n",
    "    # The two metrics above will be used to calculate the total bandwidth used (Kbps)\n",
    "\n",
    "    f'netdata_net_packets_packets_persec_average{{device=\"{device[0]}\", dimension=\"received\"}}',                           # Packets received per second\n",
    "    f'netdata_net_packets_packets_persec_average{{device=\"{device[0]}\", dimension=\"sent\"}}',                               # Packets sent per second\n",
    "    # The two metrics above will be used to calculate the total packets sent and received per second\n",
    "\n",
    "    f'netdata_cgroup_cpu_percentage_average{{cgroup_name=\"{cgroup_name[0]}\"}}',                                           # CPU usage percentage\n",
    "    ]"
   ]
  },
  {
   "cell_type": "code",
   "execution_count": 8,
   "metadata": {
    "execution": {
     "iopub.execute_input": "2025-03-21T11:46:01.131736Z",
     "iopub.status.busy": "2025-03-21T11:46:01.131641Z",
     "iopub.status.idle": "2025-03-21T11:46:01.133405Z",
     "shell.execute_reply": "2025-03-21T11:46:01.133139Z"
    }
   },
   "outputs": [],
   "source": [
    "# Create an empty DataFrame to store all metrics\n",
    "df_list = []"
   ]
  },
  {
   "cell_type": "code",
   "execution_count": 9,
   "metadata": {
    "execution": {
     "iopub.execute_input": "2025-03-21T11:46:01.134623Z",
     "iopub.status.busy": "2025-03-21T11:46:01.134543Z",
     "iopub.status.idle": "2025-03-21T11:46:01.264836Z",
     "shell.execute_reply": "2025-03-21T11:46:01.264509Z"
    }
   },
   "outputs": [],
   "source": [
    "import pytz  # For timezone conversion\n",
    "\n",
    "# Define your local timezone (change this if necessary)\n",
    "LOCAL_TZ = pytz.timezone(\"Europe/Bratislava\")  # Change if needed\n",
    "\n",
    "# Fetch metrics and transform timestamps\n",
    "for metric in metrics:\n",
    "    try:\n",
    "        response = prom.custom_query_range(\n",
    "            metric, start_time=start_time, end_time=end_time, step=step\n",
    "        )\n",
    "\n",
    "        # Ensure response is not empty\n",
    "        if not response:\n",
    "            print(f\"⚠️ Warning: No data for metric {metric}\")\n",
    "            continue\n",
    "\n",
    "        # Process each metric entry\n",
    "        for entry in response:\n",
    "            base_metric_name = entry[\"metric\"][\"__name__\"]\n",
    "\n",
    "            # Extract metadata if available\n",
    "            dimension = entry[\"metric\"].get(\"dimension\", None)\n",
    "            device = entry[\"metric\"].get(\"device\", None)\n",
    "            cgroup_name = entry[\"metric\"].get(\"cgroup_name\", None)\n",
    "\n",
    "            # Construct metric name properly\n",
    "            metric_name = base_metric_name\n",
    "            if device and dimension:\n",
    "                metric_name = f\"{base_metric_name}_{device}_{dimension}\"\n",
    "            elif device:\n",
    "                metric_name = f\"{base_metric_name}_{device}\"\n",
    "            elif cgroup_name:\n",
    "                metric_name = f\"{base_metric_name}_{cgroup_name}\"\n",
    "\n",
    "            # Extract and format values with timezone conversion\n",
    "            if \"values\" in entry and isinstance(entry[\"values\"], list):\n",
    "                extracted_values = [\n",
    "                   (datetime.utcfromtimestamp(int(ts)).replace(tzinfo=pytz.utc).astimezone(LOCAL_TZ), float(val))\n",
    "                    for ts, val in entry[\"values\"]\n",
    "                ]\n",
    "\n",
    "                # Create DataFrame\n",
    "                metric_df = pd.DataFrame(extracted_values, columns=[\"timestamp\", \"value\"])\n",
    "                metric_df[\"metric_name\"] = metric_name\n",
    "\n",
    "                # Append to list\n",
    "                df_list.append(metric_df)\n",
    "            else:\n",
    "                print(f\"⚠️ Warning: No valid values found for {metric}\")\n",
    "\n",
    "    except Exception as e:\n",
    "        print(f\"❌ Error fetching {metric}: {e}\")\n"
   ]
  },
  {
   "cell_type": "code",
   "execution_count": 10,
   "metadata": {
    "execution": {
     "iopub.execute_input": "2025-03-21T11:46:01.266220Z",
     "iopub.status.busy": "2025-03-21T11:46:01.266130Z",
     "iopub.status.idle": "2025-03-21T11:46:01.268795Z",
     "shell.execute_reply": "2025-03-21T11:46:01.268564Z"
    }
   },
   "outputs": [],
   "source": [
    "if df_list:\n",
    "    final_df = pd.concat(df_list, ignore_index=True)"
   ]
  },
  {
   "cell_type": "code",
   "execution_count": 11,
   "metadata": {
    "execution": {
     "iopub.execute_input": "2025-03-21T11:46:01.270083Z",
     "iopub.status.busy": "2025-03-21T11:46:01.269993Z",
     "iopub.status.idle": "2025-03-21T11:46:01.316973Z",
     "shell.execute_reply": "2025-03-21T11:46:01.316679Z"
    }
   },
   "outputs": [],
   "source": [
    "# Remove +01:00 from the timestamp\n",
    "final_df['timestamp'] = final_df['timestamp'].astype(str).str.replace(r'\\+\\d{2}:\\d{2}', '', regex=True)"
   ]
  },
  {
   "cell_type": "code",
   "execution_count": 12,
   "metadata": {
    "execution": {
     "iopub.execute_input": "2025-03-21T11:46:01.318410Z",
     "iopub.status.busy": "2025-03-21T11:46:01.318323Z",
     "iopub.status.idle": "2025-03-21T11:46:01.324036Z",
     "shell.execute_reply": "2025-03-21T11:46:01.323782Z"
    }
   },
   "outputs": [
    {
     "data": {
      "text/html": [
       "<div>\n",
       "<style scoped>\n",
       "    .dataframe tbody tr th:only-of-type {\n",
       "        vertical-align: middle;\n",
       "    }\n",
       "\n",
       "    .dataframe tbody tr th {\n",
       "        vertical-align: top;\n",
       "    }\n",
       "\n",
       "    .dataframe thead th {\n",
       "        text-align: right;\n",
       "    }\n",
       "</style>\n",
       "<table border=\"1\" class=\"dataframe\">\n",
       "  <thead>\n",
       "    <tr style=\"text-align: right;\">\n",
       "      <th></th>\n",
       "      <th>timestamp</th>\n",
       "      <th>value</th>\n",
       "      <th>metric_name</th>\n",
       "    </tr>\n",
       "  </thead>\n",
       "  <tbody>\n",
       "    <tr>\n",
       "      <th>0</th>\n",
       "      <td>2025-03-21 12:45:11</td>\n",
       "      <td>0.0</td>\n",
       "      <td>fivegs_amffunction_amf_authreject</td>\n",
       "    </tr>\n",
       "    <tr>\n",
       "      <th>1</th>\n",
       "      <td>2025-03-21 12:45:11</td>\n",
       "      <td>0.0</td>\n",
       "      <td>fivegs_amffunction_amf_authreject</td>\n",
       "    </tr>\n",
       "    <tr>\n",
       "      <th>2</th>\n",
       "      <td>2025-03-21 12:45:11</td>\n",
       "      <td>0.0</td>\n",
       "      <td>fivegs_amffunction_amf_authreject</td>\n",
       "    </tr>\n",
       "    <tr>\n",
       "      <th>3</th>\n",
       "      <td>2025-03-21 12:45:11</td>\n",
       "      <td>0.0</td>\n",
       "      <td>fivegs_amffunction_amf_authreject</td>\n",
       "    </tr>\n",
       "    <tr>\n",
       "      <th>4</th>\n",
       "      <td>2025-03-21 12:45:11</td>\n",
       "      <td>0.0</td>\n",
       "      <td>fivegs_amffunction_amf_authreject</td>\n",
       "    </tr>\n",
       "  </tbody>\n",
       "</table>\n",
       "</div>"
      ],
      "text/plain": [
       "             timestamp  value                        metric_name\n",
       "0  2025-03-21 12:45:11    0.0  fivegs_amffunction_amf_authreject\n",
       "1  2025-03-21 12:45:11    0.0  fivegs_amffunction_amf_authreject\n",
       "2  2025-03-21 12:45:11    0.0  fivegs_amffunction_amf_authreject\n",
       "3  2025-03-21 12:45:11    0.0  fivegs_amffunction_amf_authreject\n",
       "4  2025-03-21 12:45:11    0.0  fivegs_amffunction_amf_authreject"
      ]
     },
     "execution_count": 12,
     "metadata": {},
     "output_type": "execute_result"
    }
   ],
   "source": [
    "final_df.head()"
   ]
  },
  {
   "cell_type": "code",
   "execution_count": 13,
   "metadata": {
    "execution": {
     "iopub.execute_input": "2025-03-21T11:46:01.325269Z",
     "iopub.status.busy": "2025-03-21T11:46:01.325191Z",
     "iopub.status.idle": "2025-03-21T11:46:01.327170Z",
     "shell.execute_reply": "2025-03-21T11:46:01.326936Z"
    }
   },
   "outputs": [],
   "source": [
    "log_dir = \"../log/\"\n",
    "\n",
    "# Example:\n",
    "# 03/19 11:20:11.151: [amf] INFO: ngap_server() [172.22.0.10]:38412 (../src/amf/ngap-sctp.c:61)\n",
    "# 03/19 11:20:11.154: [sctp] INFO: AMF initialize...done (../src/amf/app.c:33)\n",
    "# 03/19 11:20:11.174: [sbi] INFO: [bd5d91d4-04ab-41f0-8871-a9dc3c5ef804] NF registered [Heartbeat:10s] (../lib/sbi/nf-sm.c:208)\n",
    "# 03/19 11:20:11.179: [sbi] INFO: NF EndPoint(addr) setup [172.22.0.12:7777] (../lib/sbi/nnrf-handler.c:949)\n",
    "\n",
    "\n",
    "log_pattern = re.compile(r\"(\\d{2}/\\d{2} \\d{2}:\\d{2}:\\d{2}\\.\\d{3}):\\s+\\[(\\w+)\\]\\s+(\\w+):\\s*(.+)\")\n",
    "\n",
    "log_data = []"
   ]
  },
  {
   "cell_type": "code",
   "execution_count": 14,
   "metadata": {
    "execution": {
     "iopub.execute_input": "2025-03-21T11:46:01.328219Z",
     "iopub.status.busy": "2025-03-21T11:46:01.328136Z",
     "iopub.status.idle": "2025-03-21T11:46:01.378034Z",
     "shell.execute_reply": "2025-03-21T11:46:01.377672Z"
    }
   },
   "outputs": [],
   "source": [
    "# Iterate over all log files in the directory\n",
    "for log_file in os.listdir(log_dir):\n",
    "    log_path = os.path.join(log_dir, log_file)\n",
    "    \n",
    "    with open(log_path, \"r\", encoding=\"utf-8\", errors=\"ignore\") as f:\n",
    "        for line in f:\n",
    "            match = log_pattern.match(line)\n",
    "            if match:\n",
    "                timestamp_str, application, log_level, log_message = match.groups()\n",
    "\n",
    "                # Convert timestamp to datetime (add missing year)\n",
    "                log_timestamp = datetime.strptime(timestamp_str, \"%m/%d %H:%M:%S.%f\")\n",
    "                log_timestamp = log_timestamp.replace(year=start_time.year)  # Assign correct year\n",
    "\n",
    "                # 🔹 Remove milliseconds to match Prometheus format\n",
    "                log_timestamp = log_timestamp.replace(tzinfo=None)\n",
    "                log_timestamp = log_timestamp.replace(microsecond=0)\n",
    "\n",
    "\n",
    "                # Check if the log timestamp later than the start time\n",
    "                if log_timestamp > start_time:\n",
    "                    log_data.append({\n",
    "                        \"timestamp\": log_timestamp,\n",
    "                        \"application\": application,\n",
    "                        \"log_level\": log_level,\n",
    "                        \"log_message\": log_message\n",
    "                    })\n"
   ]
  },
  {
   "cell_type": "code",
   "execution_count": 15,
   "metadata": {
    "execution": {
     "iopub.execute_input": "2025-03-21T11:46:01.379230Z",
     "iopub.status.busy": "2025-03-21T11:46:01.379151Z",
     "iopub.status.idle": "2025-03-21T11:46:01.382767Z",
     "shell.execute_reply": "2025-03-21T11:46:01.382518Z"
    }
   },
   "outputs": [
    {
     "data": {
      "text/html": [
       "<div>\n",
       "<style scoped>\n",
       "    .dataframe tbody tr th:only-of-type {\n",
       "        vertical-align: middle;\n",
       "    }\n",
       "\n",
       "    .dataframe tbody tr th {\n",
       "        vertical-align: top;\n",
       "    }\n",
       "\n",
       "    .dataframe thead th {\n",
       "        text-align: right;\n",
       "    }\n",
       "</style>\n",
       "<table border=\"1\" class=\"dataframe\">\n",
       "  <thead>\n",
       "    <tr style=\"text-align: right;\">\n",
       "      <th></th>\n",
       "      <th>timestamp</th>\n",
       "      <th>application</th>\n",
       "      <th>log_level</th>\n",
       "      <th>log_message</th>\n",
       "    </tr>\n",
       "  </thead>\n",
       "  <tbody>\n",
       "    <tr>\n",
       "      <th>0</th>\n",
       "      <td>2025-03-21 12:45:14</td>\n",
       "      <td>scp</td>\n",
       "      <td>INFO</td>\n",
       "      <td>NF EndPoint(addr) setup [172.22.0.7:7777] (../...</td>\n",
       "    </tr>\n",
       "    <tr>\n",
       "      <th>1</th>\n",
       "      <td>2025-03-21 12:45:14</td>\n",
       "      <td>amf</td>\n",
       "      <td>INFO</td>\n",
       "      <td>gNB-N2[172.22.0.23] connection refused!!! (../...</td>\n",
       "    </tr>\n",
       "    <tr>\n",
       "      <th>2</th>\n",
       "      <td>2025-03-21 12:45:14</td>\n",
       "      <td>amf</td>\n",
       "      <td>INFO</td>\n",
       "      <td>[Removed] Number of gNBs is now 0 (../src/amf/...</td>\n",
       "    </tr>\n",
       "    <tr>\n",
       "      <th>3</th>\n",
       "      <td>2025-03-21 12:45:14</td>\n",
       "      <td>amf</td>\n",
       "      <td>INFO</td>\n",
       "      <td>[Removed] Number of gNB-UEs is now 0 (../src/a...</td>\n",
       "    </tr>\n",
       "    <tr>\n",
       "      <th>4</th>\n",
       "      <td>2025-03-21 12:45:14</td>\n",
       "      <td>amf</td>\n",
       "      <td>INFO</td>\n",
       "      <td>[imsi-001011234567895:1:51][0:0:NULL] /nsmf-pd...</td>\n",
       "    </tr>\n",
       "  </tbody>\n",
       "</table>\n",
       "</div>"
      ],
      "text/plain": [
       "            timestamp application log_level  \\\n",
       "0 2025-03-21 12:45:14         scp      INFO   \n",
       "1 2025-03-21 12:45:14         amf      INFO   \n",
       "2 2025-03-21 12:45:14         amf      INFO   \n",
       "3 2025-03-21 12:45:14         amf      INFO   \n",
       "4 2025-03-21 12:45:14         amf      INFO   \n",
       "\n",
       "                                         log_message  \n",
       "0  NF EndPoint(addr) setup [172.22.0.7:7777] (../...  \n",
       "1  gNB-N2[172.22.0.23] connection refused!!! (../...  \n",
       "2  [Removed] Number of gNBs is now 0 (../src/amf/...  \n",
       "3  [Removed] Number of gNB-UEs is now 0 (../src/a...  \n",
       "4  [imsi-001011234567895:1:51][0:0:NULL] /nsmf-pd...  "
      ]
     },
     "execution_count": 15,
     "metadata": {},
     "output_type": "execute_result"
    }
   ],
   "source": [
    "log_data = pd.DataFrame(log_data)\n",
    "log_data.head()"
   ]
  },
  {
   "cell_type": "code",
   "execution_count": 16,
   "metadata": {
    "execution": {
     "iopub.execute_input": "2025-03-21T11:46:01.384105Z",
     "iopub.status.busy": "2025-03-21T11:46:01.384021Z",
     "iopub.status.idle": "2025-03-21T11:46:01.389670Z",
     "shell.execute_reply": "2025-03-21T11:46:01.389420Z"
    }
   },
   "outputs": [
    {
     "data": {
      "text/html": [
       "<div>\n",
       "<style scoped>\n",
       "    .dataframe tbody tr th:only-of-type {\n",
       "        vertical-align: middle;\n",
       "    }\n",
       "\n",
       "    .dataframe tbody tr th {\n",
       "        vertical-align: top;\n",
       "    }\n",
       "\n",
       "    .dataframe thead th {\n",
       "        text-align: right;\n",
       "    }\n",
       "</style>\n",
       "<table border=\"1\" class=\"dataframe\">\n",
       "  <thead>\n",
       "    <tr style=\"text-align: right;\">\n",
       "      <th></th>\n",
       "      <th>timestamp</th>\n",
       "      <th>value</th>\n",
       "      <th>metric_name</th>\n",
       "    </tr>\n",
       "  </thead>\n",
       "  <tbody>\n",
       "    <tr>\n",
       "      <th>0</th>\n",
       "      <td>2025-03-21 12:45:11</td>\n",
       "      <td>0.0</td>\n",
       "      <td>fivegs_amffunction_amf_authreject</td>\n",
       "    </tr>\n",
       "  </tbody>\n",
       "</table>\n",
       "</div>"
      ],
      "text/plain": [
       "            timestamp  value                        metric_name\n",
       "0 2025-03-21 12:45:11    0.0  fivegs_amffunction_amf_authreject"
      ]
     },
     "execution_count": 16,
     "metadata": {},
     "output_type": "execute_result"
    }
   ],
   "source": [
    "final_df[\"timestamp\"] = pd.to_datetime(final_df[\"timestamp\"])\n",
    "final_df.head(1)"
   ]
  },
  {
   "cell_type": "markdown",
   "metadata": {},
   "source": [
    "log_data and final_df\n",
    "----------------------\n",
    "save()"
   ]
  },
  {
   "cell_type": "code",
   "execution_count": 17,
   "metadata": {
    "execution": {
     "iopub.execute_input": "2025-03-21T11:46:01.390832Z",
     "iopub.status.busy": "2025-03-21T11:46:01.390760Z",
     "iopub.status.idle": "2025-03-21T11:46:01.421213Z",
     "shell.execute_reply": "2025-03-21T11:46:01.420869Z"
    }
   },
   "outputs": [],
   "source": [
    "log_data.to_csv(\"log_data.csv\", index=False)\n",
    "final_df.to_csv(\"metrics_data.csv\", index=False)"
   ]
  },
  {
   "cell_type": "code",
   "execution_count": 18,
   "metadata": {
    "execution": {
     "iopub.execute_input": "2025-03-21T11:46:01.422443Z",
     "iopub.status.busy": "2025-03-21T11:46:01.422365Z",
     "iopub.status.idle": "2025-03-21T11:46:01.423948Z",
     "shell.execute_reply": "2025-03-21T11:46:01.423701Z"
    }
   },
   "outputs": [],
   "source": [
    "# Load logs separately before merging\n",
    "logs = log_data\n",
    "metrics = final_df"
   ]
  },
  {
   "cell_type": "code",
   "execution_count": 19,
   "metadata": {
    "execution": {
     "iopub.execute_input": "2025-03-21T11:46:01.424965Z",
     "iopub.status.busy": "2025-03-21T11:46:01.424889Z",
     "iopub.status.idle": "2025-03-21T11:46:01.433702Z",
     "shell.execute_reply": "2025-03-21T11:46:01.433470Z"
    }
   },
   "outputs": [
    {
     "name": "stdout",
     "output_type": "stream",
     "text": [
      "✅ NetData metrics aggregated and pivoted successfully!\n"
     ]
    },
    {
     "data": {
      "text/html": [
       "<div>\n",
       "<style scoped>\n",
       "    .dataframe tbody tr th:only-of-type {\n",
       "        vertical-align: middle;\n",
       "    }\n",
       "\n",
       "    .dataframe tbody tr th {\n",
       "        vertical-align: top;\n",
       "    }\n",
       "\n",
       "    .dataframe thead th {\n",
       "        text-align: right;\n",
       "    }\n",
       "</style>\n",
       "<table border=\"1\" class=\"dataframe\">\n",
       "  <thead>\n",
       "    <tr style=\"text-align: right;\">\n",
       "      <th></th>\n",
       "      <th>timestamp</th>\n",
       "      <th>fivegs_amffunction_amf_authreject_value</th>\n",
       "      <th>fivegs_amffunction_amf_authreq_value</th>\n",
       "      <th>fivegs_amffunction_rm_reginitsucc_value</th>\n",
       "      <th>fivegs_ep_n3_gtp_indatapktn3upf_value</th>\n",
       "      <th>fivegs_ep_n3_gtp_outdatapktn3upf_value</th>\n",
       "      <th>fivegs_upffunction_upf_sessionnbr_value</th>\n",
       "      <th>netdata_cgroup_cpu_percentage_average_b48f9356ec91_value</th>\n",
       "      <th>netdata_net_net_kilobits_persec_average_br-02c136a167f8_received_value</th>\n",
       "      <th>netdata_net_net_kilobits_persec_average_br-02c136a167f8_sent_value</th>\n",
       "      <th>netdata_net_packets_packets_persec_average_br-02c136a167f8_received_value</th>\n",
       "      <th>netdata_net_packets_packets_persec_average_br-02c136a167f8_sent_value</th>\n",
       "      <th>ues_active_value</th>\n",
       "      <th>up_value</th>\n",
       "    </tr>\n",
       "  </thead>\n",
       "  <tbody>\n",
       "    <tr>\n",
       "      <th>0</th>\n",
       "      <td>2025-03-21 12:45:11</td>\n",
       "      <td>0.0</td>\n",
       "      <td>2.0</td>\n",
       "      <td>2.0</td>\n",
       "      <td>0.0</td>\n",
       "      <td>0.0</td>\n",
       "      <td>1.0</td>\n",
       "      <td>2.212887</td>\n",
       "      <td>192.846723</td>\n",
       "      <td>-137.895358</td>\n",
       "      <td>12.178434</td>\n",
       "      <td>-21.249814</td>\n",
       "      <td>1.0</td>\n",
       "      <td>1.0</td>\n",
       "    </tr>\n",
       "    <tr>\n",
       "      <th>1</th>\n",
       "      <td>2025-03-21 12:45:12</td>\n",
       "      <td>0.0</td>\n",
       "      <td>2.0</td>\n",
       "      <td>2.0</td>\n",
       "      <td>0.0</td>\n",
       "      <td>0.0</td>\n",
       "      <td>1.0</td>\n",
       "      <td>2.385365</td>\n",
       "      <td>178.627439</td>\n",
       "      <td>-135.723708</td>\n",
       "      <td>10.957273</td>\n",
       "      <td>-21.657374</td>\n",
       "      <td>1.0</td>\n",
       "      <td>1.0</td>\n",
       "    </tr>\n",
       "    <tr>\n",
       "      <th>2</th>\n",
       "      <td>2025-03-21 12:45:13</td>\n",
       "      <td>0.0</td>\n",
       "      <td>2.0</td>\n",
       "      <td>2.0</td>\n",
       "      <td>0.0</td>\n",
       "      <td>0.0</td>\n",
       "      <td>1.0</td>\n",
       "      <td>2.385365</td>\n",
       "      <td>178.627439</td>\n",
       "      <td>-135.723708</td>\n",
       "      <td>10.957273</td>\n",
       "      <td>-21.657374</td>\n",
       "      <td>1.0</td>\n",
       "      <td>1.0</td>\n",
       "    </tr>\n",
       "  </tbody>\n",
       "</table>\n",
       "</div>"
      ],
      "text/plain": [
       "            timestamp  fivegs_amffunction_amf_authreject_value  \\\n",
       "0 2025-03-21 12:45:11                                      0.0   \n",
       "1 2025-03-21 12:45:12                                      0.0   \n",
       "2 2025-03-21 12:45:13                                      0.0   \n",
       "\n",
       "   fivegs_amffunction_amf_authreq_value  \\\n",
       "0                                   2.0   \n",
       "1                                   2.0   \n",
       "2                                   2.0   \n",
       "\n",
       "   fivegs_amffunction_rm_reginitsucc_value  \\\n",
       "0                                      2.0   \n",
       "1                                      2.0   \n",
       "2                                      2.0   \n",
       "\n",
       "   fivegs_ep_n3_gtp_indatapktn3upf_value  \\\n",
       "0                                    0.0   \n",
       "1                                    0.0   \n",
       "2                                    0.0   \n",
       "\n",
       "   fivegs_ep_n3_gtp_outdatapktn3upf_value  \\\n",
       "0                                     0.0   \n",
       "1                                     0.0   \n",
       "2                                     0.0   \n",
       "\n",
       "   fivegs_upffunction_upf_sessionnbr_value  \\\n",
       "0                                      1.0   \n",
       "1                                      1.0   \n",
       "2                                      1.0   \n",
       "\n",
       "   netdata_cgroup_cpu_percentage_average_b48f9356ec91_value  \\\n",
       "0                                           2.212887          \n",
       "1                                           2.385365          \n",
       "2                                           2.385365          \n",
       "\n",
       "   netdata_net_net_kilobits_persec_average_br-02c136a167f8_received_value  \\\n",
       "0                                         192.846723                        \n",
       "1                                         178.627439                        \n",
       "2                                         178.627439                        \n",
       "\n",
       "   netdata_net_net_kilobits_persec_average_br-02c136a167f8_sent_value  \\\n",
       "0                                        -137.895358                    \n",
       "1                                        -135.723708                    \n",
       "2                                        -135.723708                    \n",
       "\n",
       "   netdata_net_packets_packets_persec_average_br-02c136a167f8_received_value  \\\n",
       "0                                          12.178434                           \n",
       "1                                          10.957273                           \n",
       "2                                          10.957273                           \n",
       "\n",
       "   netdata_net_packets_packets_persec_average_br-02c136a167f8_sent_value  \\\n",
       "0                                         -21.249814                       \n",
       "1                                         -21.657374                       \n",
       "2                                         -21.657374                       \n",
       "\n",
       "   ues_active_value  up_value  \n",
       "0               1.0       1.0  \n",
       "1               1.0       1.0  \n",
       "2               1.0       1.0  "
      ]
     },
     "execution_count": 19,
     "metadata": {},
     "output_type": "execute_result"
    }
   ],
   "source": [
    "# 🔹 Aggregate NetData metrics (choose appropriate aggregation: mean, sum, max, etc.)\n",
    "netdata_aggregated = metrics.groupby([\"timestamp\", \"metric_name\"])[\"value\"].mean().reset_index()\n",
    "\n",
    "# Pivot NetData metrics so each metric has its own column\n",
    "netdata_pivot = netdata_aggregated.pivot(index=\"timestamp\", columns=\"metric_name\", values=\"value\")\n",
    "\n",
    "# Flatten column names\n",
    "netdata_pivot.columns = [f\"{col}_value\" for col in netdata_pivot.columns]\n",
    "\n",
    "# Reset index to bring timestamp back\n",
    "netdata_pivot.reset_index(inplace=True)\n",
    "\n",
    "print(\"✅ NetData metrics aggregated and pivoted successfully!\")\n",
    "netdata_pivot.head(3)"
   ]
  },
  {
   "cell_type": "code",
   "execution_count": 20,
   "metadata": {
    "execution": {
     "iopub.execute_input": "2025-03-21T11:46:01.434706Z",
     "iopub.status.busy": "2025-03-21T11:46:01.434634Z",
     "iopub.status.idle": "2025-03-21T11:46:01.436507Z",
     "shell.execute_reply": "2025-03-21T11:46:01.436279Z"
    }
   },
   "outputs": [],
   "source": [
    "# Move the up_value to the second column after the timestamp\n",
    "cols = list(netdata_pivot.columns)\n",
    "cols.remove(\"up_value\")\n",
    "cols.insert(1, \"up_value\")\n",
    "netdata_pivot = netdata_pivot[cols]"
   ]
  },
  {
   "cell_type": "code",
   "execution_count": 21,
   "metadata": {
    "execution": {
     "iopub.execute_input": "2025-03-21T11:46:01.437558Z",
     "iopub.status.busy": "2025-03-21T11:46:01.437481Z",
     "iopub.status.idle": "2025-03-21T11:46:01.439582Z",
     "shell.execute_reply": "2025-03-21T11:46:01.439334Z"
    }
   },
   "outputs": [],
   "source": [
    "# Define function to classify log messages\n",
    "def classify_log_message(message):\n",
    "    if isinstance(message, str):  # Ensure it's a string before applying .lower()\n",
    "        if \"connect\" in message.lower():\n",
    "            return \"connect\"\n",
    "        elif \"request\" in message.lower():\n",
    "            return \"request\"\n",
    "        elif \"reject\" in message.lower():\n",
    "            return \"reject\"\n",
    "        else:\n",
    "            return \"nothing\"\n",
    "    return \"nothing\"  # Handle missing or NaN values"
   ]
  },
  {
   "cell_type": "code",
   "execution_count": 22,
   "metadata": {
    "execution": {
     "iopub.execute_input": "2025-03-21T11:46:01.440561Z",
     "iopub.status.busy": "2025-03-21T11:46:01.440488Z",
     "iopub.status.idle": "2025-03-21T11:46:01.442241Z",
     "shell.execute_reply": "2025-03-21T11:46:01.442025Z"
    }
   },
   "outputs": [],
   "source": [
    "# Ensure log_message column exists before applying classification\n",
    "if \"log_message\" in logs.columns:\n",
    "\tlogs[\"log_type\"] = logs[\"log_message\"].apply(classify_log_message)\n",
    "else:\n",
    "\tprint(\"Error: 'log_message' column not found in logs DataFrame\")"
   ]
  },
  {
   "cell_type": "code",
   "execution_count": 23,
   "metadata": {
    "execution": {
     "iopub.execute_input": "2025-03-21T11:46:01.443236Z",
     "iopub.status.busy": "2025-03-21T11:46:01.443167Z",
     "iopub.status.idle": "2025-03-21T11:46:01.446006Z",
     "shell.execute_reply": "2025-03-21T11:46:01.445790Z"
    }
   },
   "outputs": [
    {
     "data": {
      "text/html": [
       "<div>\n",
       "<style scoped>\n",
       "    .dataframe tbody tr th:only-of-type {\n",
       "        vertical-align: middle;\n",
       "    }\n",
       "\n",
       "    .dataframe tbody tr th {\n",
       "        vertical-align: top;\n",
       "    }\n",
       "\n",
       "    .dataframe thead th {\n",
       "        text-align: right;\n",
       "    }\n",
       "</style>\n",
       "<table border=\"1\" class=\"dataframe\">\n",
       "  <thead>\n",
       "    <tr style=\"text-align: right;\">\n",
       "      <th></th>\n",
       "      <th>timestamp</th>\n",
       "      <th>application</th>\n",
       "      <th>log_level</th>\n",
       "      <th>log_message</th>\n",
       "      <th>log_type</th>\n",
       "    </tr>\n",
       "  </thead>\n",
       "  <tbody>\n",
       "    <tr>\n",
       "      <th>0</th>\n",
       "      <td>2025-03-21 12:45:14</td>\n",
       "      <td>scp</td>\n",
       "      <td>INFO</td>\n",
       "      <td>NF EndPoint(addr) setup [172.22.0.7:7777] (../...</td>\n",
       "      <td>nothing</td>\n",
       "    </tr>\n",
       "  </tbody>\n",
       "</table>\n",
       "</div>"
      ],
      "text/plain": [
       "            timestamp application log_level  \\\n",
       "0 2025-03-21 12:45:14         scp      INFO   \n",
       "\n",
       "                                         log_message log_type  \n",
       "0  NF EndPoint(addr) setup [172.22.0.7:7777] (../...  nothing  "
      ]
     },
     "execution_count": 23,
     "metadata": {},
     "output_type": "execute_result"
    }
   ],
   "source": [
    "logs.head(1)"
   ]
  },
  {
   "cell_type": "code",
   "execution_count": 24,
   "metadata": {
    "execution": {
     "iopub.execute_input": "2025-03-21T11:46:01.446976Z",
     "iopub.status.busy": "2025-03-21T11:46:01.446905Z",
     "iopub.status.idle": "2025-03-21T11:46:01.448744Z",
     "shell.execute_reply": "2025-03-21T11:46:01.448527Z"
    }
   },
   "outputs": [],
   "source": [
    "# Check if logs DataFrame is not empty before selecting columns\n",
    "if not logs.empty:\n",
    "\t# Keep only necessary columns from logs\n",
    "\tlogs_short = logs[[\"timestamp\", \"application\", \"log_type\"]]\n",
    "else:\n",
    "\t# Create an empty DataFrame if logs is empty\n",
    "\tlogs_short = pd.DataFrame(columns=[\"timestamp\", \"application\", \"log_type\"])"
   ]
  },
  {
   "cell_type": "code",
   "execution_count": 25,
   "metadata": {
    "execution": {
     "iopub.execute_input": "2025-03-21T11:46:01.449693Z",
     "iopub.status.busy": "2025-03-21T11:46:01.449622Z",
     "iopub.status.idle": "2025-03-21T11:46:01.452177Z",
     "shell.execute_reply": "2025-03-21T11:46:01.451943Z"
    }
   },
   "outputs": [
    {
     "data": {
      "text/html": [
       "<div>\n",
       "<style scoped>\n",
       "    .dataframe tbody tr th:only-of-type {\n",
       "        vertical-align: middle;\n",
       "    }\n",
       "\n",
       "    .dataframe tbody tr th {\n",
       "        vertical-align: top;\n",
       "    }\n",
       "\n",
       "    .dataframe thead th {\n",
       "        text-align: right;\n",
       "    }\n",
       "</style>\n",
       "<table border=\"1\" class=\"dataframe\">\n",
       "  <thead>\n",
       "    <tr style=\"text-align: right;\">\n",
       "      <th></th>\n",
       "      <th>timestamp</th>\n",
       "      <th>application</th>\n",
       "      <th>log_type</th>\n",
       "    </tr>\n",
       "  </thead>\n",
       "  <tbody>\n",
       "    <tr>\n",
       "      <th>0</th>\n",
       "      <td>2025-03-21 12:45:14</td>\n",
       "      <td>scp</td>\n",
       "      <td>nothing</td>\n",
       "    </tr>\n",
       "  </tbody>\n",
       "</table>\n",
       "</div>"
      ],
      "text/plain": [
       "            timestamp application log_type\n",
       "0 2025-03-21 12:45:14         scp  nothing"
      ]
     },
     "execution_count": 25,
     "metadata": {},
     "output_type": "execute_result"
    }
   ],
   "source": [
    "logs_short.head(1)"
   ]
  },
  {
   "cell_type": "code",
   "execution_count": 26,
   "metadata": {
    "execution": {
     "iopub.execute_input": "2025-03-21T11:46:01.453173Z",
     "iopub.status.busy": "2025-03-21T11:46:01.453102Z",
     "iopub.status.idle": "2025-03-21T11:46:01.455521Z",
     "shell.execute_reply": "2025-03-21T11:46:01.455298Z"
    }
   },
   "outputs": [
    {
     "name": "stderr",
     "output_type": "stream",
     "text": [
      "/var/folders/7b/kthfybh105s_tz_wbjp8ntjr0000gn/T/ipykernel_82852/459345850.py:5: SettingWithCopyWarning: \n",
      "A value is trying to be set on a copy of a slice from a DataFrame.\n",
      "Try using .loc[row_indexer,col_indexer] = value instead\n",
      "\n",
      "See the caveats in the documentation: https://pandas.pydata.org/pandas-docs/stable/user_guide/indexing.html#returning-a-view-versus-a-copy\n",
      "  logs_short[\"timestamp\"] = pd.to_datetime(logs_short[\"timestamp\"]).dt.tz_localize('UTC').dt.tz_convert(LOCAL_TZ)\n"
     ]
    }
   ],
   "source": [
    "# Ensure start_time is timezone-aware\n",
    "start_time_tz_aware = start_time.replace(tzinfo=pytz.utc).astimezone(LOCAL_TZ)\n",
    "\n",
    "# Convert logs_short timestamp to datetime and ensure it is timezone-aware\n",
    "logs_short[\"timestamp\"] = pd.to_datetime(logs_short[\"timestamp\"]).dt.tz_localize('UTC').dt.tz_convert(LOCAL_TZ)\n",
    "\n",
    "# Remove logs before the start time\n",
    "logs_short = logs_short[logs_short[\"timestamp\"] >= start_time_tz_aware]\n"
   ]
  },
  {
   "cell_type": "code",
   "execution_count": 27,
   "metadata": {
    "execution": {
     "iopub.execute_input": "2025-03-21T11:46:01.456485Z",
     "iopub.status.busy": "2025-03-21T11:46:01.456415Z",
     "iopub.status.idle": "2025-03-21T11:46:01.460613Z",
     "shell.execute_reply": "2025-03-21T11:46:01.460415Z"
    }
   },
   "outputs": [
    {
     "data": {
      "text/html": [
       "<div>\n",
       "<style scoped>\n",
       "    .dataframe tbody tr th:only-of-type {\n",
       "        vertical-align: middle;\n",
       "    }\n",
       "\n",
       "    .dataframe tbody tr th {\n",
       "        vertical-align: top;\n",
       "    }\n",
       "\n",
       "    .dataframe thead th {\n",
       "        text-align: right;\n",
       "    }\n",
       "</style>\n",
       "<table border=\"1\" class=\"dataframe\">\n",
       "  <thead>\n",
       "    <tr style=\"text-align: right;\">\n",
       "      <th></th>\n",
       "      <th>timestamp</th>\n",
       "      <th>up_value</th>\n",
       "      <th>fivegs_amffunction_amf_authreject_value</th>\n",
       "      <th>fivegs_amffunction_amf_authreq_value</th>\n",
       "      <th>fivegs_amffunction_rm_reginitsucc_value</th>\n",
       "      <th>fivegs_ep_n3_gtp_indatapktn3upf_value</th>\n",
       "      <th>fivegs_ep_n3_gtp_outdatapktn3upf_value</th>\n",
       "      <th>fivegs_upffunction_upf_sessionnbr_value</th>\n",
       "      <th>netdata_cgroup_cpu_percentage_average_b48f9356ec91_value</th>\n",
       "      <th>netdata_net_net_kilobits_persec_average_br-02c136a167f8_received_value</th>\n",
       "      <th>netdata_net_net_kilobits_persec_average_br-02c136a167f8_sent_value</th>\n",
       "      <th>netdata_net_packets_packets_persec_average_br-02c136a167f8_received_value</th>\n",
       "      <th>netdata_net_packets_packets_persec_average_br-02c136a167f8_sent_value</th>\n",
       "      <th>ues_active_value</th>\n",
       "    </tr>\n",
       "  </thead>\n",
       "  <tbody>\n",
       "    <tr>\n",
       "      <th>0</th>\n",
       "      <td>2025-03-21 12:45:11</td>\n",
       "      <td>1.0</td>\n",
       "      <td>0.0</td>\n",
       "      <td>2.0</td>\n",
       "      <td>2.0</td>\n",
       "      <td>0.0</td>\n",
       "      <td>0.0</td>\n",
       "      <td>1.0</td>\n",
       "      <td>2.212887</td>\n",
       "      <td>192.846723</td>\n",
       "      <td>-137.895358</td>\n",
       "      <td>12.178434</td>\n",
       "      <td>-21.249814</td>\n",
       "      <td>1.0</td>\n",
       "    </tr>\n",
       "  </tbody>\n",
       "</table>\n",
       "</div>"
      ],
      "text/plain": [
       "            timestamp  up_value  fivegs_amffunction_amf_authreject_value  \\\n",
       "0 2025-03-21 12:45:11       1.0                                      0.0   \n",
       "\n",
       "   fivegs_amffunction_amf_authreq_value  \\\n",
       "0                                   2.0   \n",
       "\n",
       "   fivegs_amffunction_rm_reginitsucc_value  \\\n",
       "0                                      2.0   \n",
       "\n",
       "   fivegs_ep_n3_gtp_indatapktn3upf_value  \\\n",
       "0                                    0.0   \n",
       "\n",
       "   fivegs_ep_n3_gtp_outdatapktn3upf_value  \\\n",
       "0                                     0.0   \n",
       "\n",
       "   fivegs_upffunction_upf_sessionnbr_value  \\\n",
       "0                                      1.0   \n",
       "\n",
       "   netdata_cgroup_cpu_percentage_average_b48f9356ec91_value  \\\n",
       "0                                           2.212887          \n",
       "\n",
       "   netdata_net_net_kilobits_persec_average_br-02c136a167f8_received_value  \\\n",
       "0                                         192.846723                        \n",
       "\n",
       "   netdata_net_net_kilobits_persec_average_br-02c136a167f8_sent_value  \\\n",
       "0                                        -137.895358                    \n",
       "\n",
       "   netdata_net_packets_packets_persec_average_br-02c136a167f8_received_value  \\\n",
       "0                                          12.178434                           \n",
       "\n",
       "   netdata_net_packets_packets_persec_average_br-02c136a167f8_sent_value  \\\n",
       "0                                         -21.249814                       \n",
       "\n",
       "   ues_active_value  \n",
       "0               1.0  "
      ]
     },
     "execution_count": 27,
     "metadata": {},
     "output_type": "execute_result"
    }
   ],
   "source": [
    "netdata_pivot.head(1)"
   ]
  },
  {
   "cell_type": "code",
   "execution_count": 28,
   "metadata": {
    "execution": {
     "iopub.execute_input": "2025-03-21T11:46:01.461603Z",
     "iopub.status.busy": "2025-03-21T11:46:01.461532Z",
     "iopub.status.idle": "2025-03-21T11:46:01.463984Z",
     "shell.execute_reply": "2025-03-21T11:46:01.463770Z"
    }
   },
   "outputs": [],
   "source": [
    "# Convert logs_short timestamp to UTC\n",
    "logs_short[\"timestamp\"] = logs_short[\"timestamp\"].dt.tz_convert(\"UTC\").dt.tz_localize(None)\n",
    "\n",
    "# Merge logs with NetData metrics\n",
    "merged_data = pd.merge(netdata_pivot, logs_short, on=\"timestamp\", how=\"outer\")\n"
   ]
  },
  {
   "cell_type": "code",
   "execution_count": 29,
   "metadata": {
    "execution": {
     "iopub.execute_input": "2025-03-21T11:46:01.464997Z",
     "iopub.status.busy": "2025-03-21T11:46:01.464923Z",
     "iopub.status.idle": "2025-03-21T11:46:01.470632Z",
     "shell.execute_reply": "2025-03-21T11:46:01.470425Z"
    }
   },
   "outputs": [
    {
     "data": {
      "text/html": [
       "<div>\n",
       "<style scoped>\n",
       "    .dataframe tbody tr th:only-of-type {\n",
       "        vertical-align: middle;\n",
       "    }\n",
       "\n",
       "    .dataframe tbody tr th {\n",
       "        vertical-align: top;\n",
       "    }\n",
       "\n",
       "    .dataframe thead th {\n",
       "        text-align: right;\n",
       "    }\n",
       "</style>\n",
       "<table border=\"1\" class=\"dataframe\">\n",
       "  <thead>\n",
       "    <tr style=\"text-align: right;\">\n",
       "      <th></th>\n",
       "      <th>timestamp</th>\n",
       "      <th>up_value</th>\n",
       "      <th>fivegs_amffunction_amf_authreject_value</th>\n",
       "      <th>fivegs_amffunction_amf_authreq_value</th>\n",
       "      <th>fivegs_amffunction_rm_reginitsucc_value</th>\n",
       "      <th>fivegs_ep_n3_gtp_indatapktn3upf_value</th>\n",
       "      <th>fivegs_ep_n3_gtp_outdatapktn3upf_value</th>\n",
       "      <th>fivegs_upffunction_upf_sessionnbr_value</th>\n",
       "      <th>netdata_cgroup_cpu_percentage_average_b48f9356ec91_value</th>\n",
       "      <th>netdata_net_net_kilobits_persec_average_br-02c136a167f8_received_value</th>\n",
       "      <th>netdata_net_net_kilobits_persec_average_br-02c136a167f8_sent_value</th>\n",
       "      <th>netdata_net_packets_packets_persec_average_br-02c136a167f8_received_value</th>\n",
       "      <th>netdata_net_packets_packets_persec_average_br-02c136a167f8_sent_value</th>\n",
       "      <th>ues_active_value</th>\n",
       "      <th>application</th>\n",
       "      <th>log_type</th>\n",
       "    </tr>\n",
       "  </thead>\n",
       "  <tbody>\n",
       "    <tr>\n",
       "      <th>0</th>\n",
       "      <td>2025-03-21 12:45:11</td>\n",
       "      <td>1.0</td>\n",
       "      <td>0.0</td>\n",
       "      <td>2.0</td>\n",
       "      <td>2.0</td>\n",
       "      <td>0.0</td>\n",
       "      <td>0.0</td>\n",
       "      <td>1.0</td>\n",
       "      <td>2.212887</td>\n",
       "      <td>192.846723</td>\n",
       "      <td>-137.895358</td>\n",
       "      <td>12.178434</td>\n",
       "      <td>-21.249814</td>\n",
       "      <td>1.0</td>\n",
       "      <td>NaN</td>\n",
       "      <td>NaN</td>\n",
       "    </tr>\n",
       "    <tr>\n",
       "      <th>1</th>\n",
       "      <td>2025-03-21 12:45:12</td>\n",
       "      <td>1.0</td>\n",
       "      <td>0.0</td>\n",
       "      <td>2.0</td>\n",
       "      <td>2.0</td>\n",
       "      <td>0.0</td>\n",
       "      <td>0.0</td>\n",
       "      <td>1.0</td>\n",
       "      <td>2.385365</td>\n",
       "      <td>178.627439</td>\n",
       "      <td>-135.723708</td>\n",
       "      <td>10.957273</td>\n",
       "      <td>-21.657374</td>\n",
       "      <td>1.0</td>\n",
       "      <td>NaN</td>\n",
       "      <td>NaN</td>\n",
       "    </tr>\n",
       "    <tr>\n",
       "      <th>2</th>\n",
       "      <td>2025-03-21 12:45:13</td>\n",
       "      <td>1.0</td>\n",
       "      <td>0.0</td>\n",
       "      <td>2.0</td>\n",
       "      <td>2.0</td>\n",
       "      <td>0.0</td>\n",
       "      <td>0.0</td>\n",
       "      <td>1.0</td>\n",
       "      <td>2.385365</td>\n",
       "      <td>178.627439</td>\n",
       "      <td>-135.723708</td>\n",
       "      <td>10.957273</td>\n",
       "      <td>-21.657374</td>\n",
       "      <td>1.0</td>\n",
       "      <td>NaN</td>\n",
       "      <td>NaN</td>\n",
       "    </tr>\n",
       "    <tr>\n",
       "      <th>3</th>\n",
       "      <td>2025-03-21 12:45:14</td>\n",
       "      <td>1.0</td>\n",
       "      <td>0.0</td>\n",
       "      <td>2.0</td>\n",
       "      <td>2.0</td>\n",
       "      <td>0.0</td>\n",
       "      <td>0.0</td>\n",
       "      <td>1.0</td>\n",
       "      <td>2.385365</td>\n",
       "      <td>178.627439</td>\n",
       "      <td>-135.723708</td>\n",
       "      <td>10.957273</td>\n",
       "      <td>-21.657374</td>\n",
       "      <td>1.0</td>\n",
       "      <td>scp</td>\n",
       "      <td>nothing</td>\n",
       "    </tr>\n",
       "    <tr>\n",
       "      <th>4</th>\n",
       "      <td>2025-03-21 12:45:14</td>\n",
       "      <td>1.0</td>\n",
       "      <td>0.0</td>\n",
       "      <td>2.0</td>\n",
       "      <td>2.0</td>\n",
       "      <td>0.0</td>\n",
       "      <td>0.0</td>\n",
       "      <td>1.0</td>\n",
       "      <td>2.385365</td>\n",
       "      <td>178.627439</td>\n",
       "      <td>-135.723708</td>\n",
       "      <td>10.957273</td>\n",
       "      <td>-21.657374</td>\n",
       "      <td>1.0</td>\n",
       "      <td>amf</td>\n",
       "      <td>connect</td>\n",
       "    </tr>\n",
       "  </tbody>\n",
       "</table>\n",
       "</div>"
      ],
      "text/plain": [
       "            timestamp  up_value  fivegs_amffunction_amf_authreject_value  \\\n",
       "0 2025-03-21 12:45:11       1.0                                      0.0   \n",
       "1 2025-03-21 12:45:12       1.0                                      0.0   \n",
       "2 2025-03-21 12:45:13       1.0                                      0.0   \n",
       "3 2025-03-21 12:45:14       1.0                                      0.0   \n",
       "4 2025-03-21 12:45:14       1.0                                      0.0   \n",
       "\n",
       "   fivegs_amffunction_amf_authreq_value  \\\n",
       "0                                   2.0   \n",
       "1                                   2.0   \n",
       "2                                   2.0   \n",
       "3                                   2.0   \n",
       "4                                   2.0   \n",
       "\n",
       "   fivegs_amffunction_rm_reginitsucc_value  \\\n",
       "0                                      2.0   \n",
       "1                                      2.0   \n",
       "2                                      2.0   \n",
       "3                                      2.0   \n",
       "4                                      2.0   \n",
       "\n",
       "   fivegs_ep_n3_gtp_indatapktn3upf_value  \\\n",
       "0                                    0.0   \n",
       "1                                    0.0   \n",
       "2                                    0.0   \n",
       "3                                    0.0   \n",
       "4                                    0.0   \n",
       "\n",
       "   fivegs_ep_n3_gtp_outdatapktn3upf_value  \\\n",
       "0                                     0.0   \n",
       "1                                     0.0   \n",
       "2                                     0.0   \n",
       "3                                     0.0   \n",
       "4                                     0.0   \n",
       "\n",
       "   fivegs_upffunction_upf_sessionnbr_value  \\\n",
       "0                                      1.0   \n",
       "1                                      1.0   \n",
       "2                                      1.0   \n",
       "3                                      1.0   \n",
       "4                                      1.0   \n",
       "\n",
       "   netdata_cgroup_cpu_percentage_average_b48f9356ec91_value  \\\n",
       "0                                           2.212887          \n",
       "1                                           2.385365          \n",
       "2                                           2.385365          \n",
       "3                                           2.385365          \n",
       "4                                           2.385365          \n",
       "\n",
       "   netdata_net_net_kilobits_persec_average_br-02c136a167f8_received_value  \\\n",
       "0                                         192.846723                        \n",
       "1                                         178.627439                        \n",
       "2                                         178.627439                        \n",
       "3                                         178.627439                        \n",
       "4                                         178.627439                        \n",
       "\n",
       "   netdata_net_net_kilobits_persec_average_br-02c136a167f8_sent_value  \\\n",
       "0                                        -137.895358                    \n",
       "1                                        -135.723708                    \n",
       "2                                        -135.723708                    \n",
       "3                                        -135.723708                    \n",
       "4                                        -135.723708                    \n",
       "\n",
       "   netdata_net_packets_packets_persec_average_br-02c136a167f8_received_value  \\\n",
       "0                                          12.178434                           \n",
       "1                                          10.957273                           \n",
       "2                                          10.957273                           \n",
       "3                                          10.957273                           \n",
       "4                                          10.957273                           \n",
       "\n",
       "   netdata_net_packets_packets_persec_average_br-02c136a167f8_sent_value  \\\n",
       "0                                         -21.249814                       \n",
       "1                                         -21.657374                       \n",
       "2                                         -21.657374                       \n",
       "3                                         -21.657374                       \n",
       "4                                         -21.657374                       \n",
       "\n",
       "   ues_active_value application log_type  \n",
       "0               1.0         NaN      NaN  \n",
       "1               1.0         NaN      NaN  \n",
       "2               1.0         NaN      NaN  \n",
       "3               1.0         scp  nothing  \n",
       "4               1.0         amf  connect  "
      ]
     },
     "execution_count": 29,
     "metadata": {},
     "output_type": "execute_result"
    }
   ],
   "source": [
    "merged_data.head()"
   ]
  },
  {
   "cell_type": "code",
   "execution_count": 30,
   "metadata": {
    "execution": {
     "iopub.execute_input": "2025-03-21T11:46:01.471665Z",
     "iopub.status.busy": "2025-03-21T11:46:01.471594Z",
     "iopub.status.idle": "2025-03-21T11:46:01.474087Z",
     "shell.execute_reply": "2025-03-21T11:46:01.473869Z"
    }
   },
   "outputs": [
    {
     "name": "stdout",
     "output_type": "stream",
     "text": [
      "✅ Updated Column Names: Index(['timestamp', 'Status', 'Auth Reject Count', 'Auth Request Count',\n",
      "       'Registration Success', 'Incoming Data Packets',\n",
      "       'Outgoing Data Packets', 'Session Number', 'CPU Usage (Open5GS)',\n",
      "       'Network Traffic In (kbps)', 'Network Traffic Out (kbps)',\n",
      "       'Packets Received (pps)', 'Packets Sent (pps)', 'Active UEs',\n",
      "       'Application Name', 'Log Type'],\n",
      "      dtype='object')\n"
     ]
    }
   ],
   "source": [
    "# Define a mapping for renaming columns\n",
    "column_rename_mapping = {\n",
    "    \"fivegs_amffunction_amf_authreject_value\": \"Auth Reject Count\",\n",
    "    \"fivegs_amffunction_amf_authreq_value\": \"Auth Request Count\",\n",
    "    \"fivegs_amffunction_rm_reginitsucc_value\": \"Registration Success\",\n",
    "    \"fivegs_ep_n3_gtp_outdatapktn3upf_value\": \"Outgoing Data Packets\",\n",
    "    \"fivegs_ep_n3_gtp_indatapktn3upf_value\": \"Incoming Data Packets\",\n",
    "    \"fivegs_upffunction_upf_sessionnbr_value\": \"Session Number\",\n",
    "\n",
    "    # NetData metrics\n",
    "    \"netdata_cgroup_cpu_percentage_average_b48f9356ec91_value\": \"CPU Usage (Open5GS)\",\n",
    "    \"netdata_net_net_kilobits_persec_average_br-02c136a167f8_received_value\": \"Network Traffic In (kbps)\",\n",
    "    \"netdata_net_net_kilobits_persec_average_br-02c136a167f8_sent_value\": \"Network Traffic Out (kbps)\",\n",
    "    \"netdata_net_packets_packets_persec_average_br-02c136a167f8_received_value\": \"Packets Received (pps)\",\n",
    "    \"netdata_net_packets_packets_persec_average_br-02c136a167f8_sent_value\": \"Packets Sent (pps)\",\n",
    "\n",
    "    # UEs and logs\n",
    "    \"ues_active_value\": \"Active UEs\",\n",
    "    \"application\": \"Application Name\",\n",
    "    \"log_type\": \"Log Type\",\n",
    "\n",
    "    \"up_value\": \"Status\"\n",
    "}\n",
    "\n",
    "# Apply renaming\n",
    "merged_data.rename(columns=column_rename_mapping, inplace=True)\n",
    "\n",
    "# Print updated column names for verification\n",
    "print(\"✅ Updated Column Names:\", merged_data.columns)\n"
   ]
  },
  {
   "cell_type": "code",
   "execution_count": 31,
   "metadata": {
    "execution": {
     "iopub.execute_input": "2025-03-21T11:46:01.475112Z",
     "iopub.status.busy": "2025-03-21T11:46:01.475037Z",
     "iopub.status.idle": "2025-03-21T11:46:01.479097Z",
     "shell.execute_reply": "2025-03-21T11:46:01.478882Z"
    }
   },
   "outputs": [
    {
     "name": "stdout",
     "output_type": "stream",
     "text": [
      "✅ Data appended efficiently!\n"
     ]
    }
   ],
   "source": [
    "csv_file = \"merged_data.csv\"\n",
    "\n",
    "# Check if the file exists and is not empty\n",
    "if os.path.exists(csv_file) and os.path.getsize(csv_file) > 0:\n",
    "    try:\n",
    "        last_timestamp = pd.read_csv(csv_file, usecols=[\"timestamp\"], nrows=1)[\"timestamp\"].max()\n",
    "        merged_data = merged_data[merged_data[\"timestamp\"] > last_timestamp]  # Keep only new data\n",
    "    except pd.errors.EmptyDataError:\n",
    "        print(\"⚠️ CSV file is empty. Writing new data without filtering.\")\n",
    "else:\n",
    "    print(\"⚠️ CSV file does not exist or is empty. Creating a new one.\")\n",
    "\n",
    "# If the file is empty or does not exist, write with a header\n",
    "write_header = not os.path.exists(csv_file) or os.path.getsize(csv_file) == 0\n",
    "\n",
    "# Append only new data with a header each time\n",
    "if not merged_data.empty:\n",
    "    merged_data.to_csv(csv_file, mode=\"a\", index=False, header=write_header)\n",
    "\n",
    "\n",
    "print(\"✅ Data appended efficiently!\")\n"
   ]
  }
 ],
 "metadata": {
  "kernelspec": {
   "display_name": ".venv",
   "language": "python",
   "name": "python3"
  },
  "language_info": {
   "codemirror_mode": {
    "name": "ipython",
    "version": 3
   },
   "file_extension": ".py",
   "mimetype": "text/x-python",
   "name": "python",
   "nbconvert_exporter": "python",
   "pygments_lexer": "ipython3",
   "version": "3.9.6"
  }
 },
 "nbformat": 4,
 "nbformat_minor": 2
}
