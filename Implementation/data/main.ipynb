{
 "cells": [
  {
   "cell_type": "markdown",
   "metadata": {},
   "source": [
    "# Digital Twin of 5G network - Bachelor Thesis\n",
    "## Dataset Creation - David Truhlar, 2025"
   ]
  },
  {
   "cell_type": "code",
   "execution_count": 144,
   "metadata": {
    "execution": {
     "iopub.execute_input": "2025-03-24T12:00:42.297333Z",
     "iopub.status.busy": "2025-03-24T12:00:42.296921Z",
     "iopub.status.idle": "2025-03-24T12:00:42.503227Z",
     "shell.execute_reply": "2025-03-24T12:00:42.502967Z"
    }
   },
   "outputs": [],
   "source": [
    "import pandas as pd\n",
    "from prometheus_api_client import PrometheusConnect\n",
    "from datetime import datetime, timedelta\n",
    "import os\n",
    "import re\n",
    "import pytz\n",
    "from pathlib import Path\n",
    "from metrics_config import metrics"
   ]
  },
  {
   "cell_type": "code",
   "execution_count": 145,
   "metadata": {},
   "outputs": [],
   "source": [
    "# Global variables\n",
    "PROMETHEUS_PORT = 9090                                                                            # Port for Prometheus metrics\n",
    "\n",
    "STEP = \"1s\"                                                                                   # Time step for the simulation\n",
    "TIMEDELTA_SECONDS = 10                                                                            # Time delta for the simulation\n",
    "LOCAL_TZ = pytz.timezone(\"Europe/Bratislava\")                                                     # TZ\n",
    "LOG_DIR = \"../log/\"                                                                               # Directory with logs\n",
    "LOG_PATTERN = re.compile(r\"(\\d{2}/\\d{2} \\d{2}:\\d{2}:\\d{2}\\.\\d{3}):\\s+\\[(\\w+)\\]\\s+(\\w+):\\s*(.+)\")  # Regex pattern for log lines\n",
    "ENCODING = \"utf-8\"                                                                                # Encoding for log files"
   ]
  },
  {
   "cell_type": "code",
   "execution_count": 146,
   "metadata": {
    "execution": {
     "iopub.execute_input": "2025-03-24T12:00:42.507419Z",
     "iopub.status.busy": "2025-03-24T12:00:42.507345Z",
     "iopub.status.idle": "2025-03-24T12:00:42.509272Z",
     "shell.execute_reply": "2025-03-24T12:00:42.509026Z"
    }
   },
   "outputs": [],
   "source": [
    "# Create a connection to prometheus\n",
    "try:\n",
    "    prom = PrometheusConnect(url=f\"http://localhost:{PROMETHEUS_PORT}\", disable_ssl=True)\n",
    "except Exception as e:\n",
    "    print(f\"Error connecting to Prometheus: {e}\")"
   ]
  },
  {
   "cell_type": "code",
   "execution_count": 147,
   "metadata": {},
   "outputs": [],
   "source": [
    "# Time \n",
    "end_time = datetime.now()\n",
    "start_time = end_time - timedelta(seconds=TIMEDELTA_SECONDS)"
   ]
  },
  {
   "cell_type": "code",
   "execution_count": 148,
   "metadata": {},
   "outputs": [
    {
     "name": "stdout",
     "output_type": "stream",
     "text": [
      "Start time: 2025-04-09 14:38:36.064967\n",
      "End time: 2025-04-09 14:38:46.064967\n"
     ]
    }
   ],
   "source": [
    "print(f\"Start time: {start_time}\")\n",
    "print(f\"End time: {end_time}\")"
   ]
  },
  {
   "cell_type": "code",
   "execution_count": 149,
   "metadata": {},
   "outputs": [],
   "source": [
    "uc1_range = {\n",
    "    \"from\": \"2025-04-09 13:30:00\",\n",
    "    \"to\": \"2025-04-09 13:40:00\"\n",
    "}"
   ]
  },
  {
   "cell_type": "code",
   "execution_count": 150,
   "metadata": {},
   "outputs": [
    {
     "name": "stdout",
     "output_type": "stream",
     "text": [
      "Start time: 2025-04-09 14:34:07\n",
      "End time: 2025-04-09 14:37:59\n"
     ]
    }
   ],
   "source": [
    "from datetime import datetime\n",
    "\n",
    "# Input range (UTC)\n",
    "start_str = \"2025-04-09 14:34:07\"\n",
    "end_str = \"2025-04-09 14:37:59\"\n",
    "\n",
    "# Parse as UTC datetime\n",
    "start_utc = datetime.fromisoformat(start_str)\n",
    "end_utc = datetime.fromisoformat(end_str)\n",
    "\n",
    "# Convert to local time with microseconds\n",
    "start_local = start_utc.astimezone().replace(microsecond=0)\n",
    "end_local = end_utc.astimezone().replace(microsecond=0)\n",
    "\n",
    "print(\"Start time:\", start_utc)\n",
    "print(\"End time:\", end_utc)\n",
    "\n",
    "end_time = end_utc\n",
    "start_time = start_utc"
   ]
  },
  {
   "cell_type": "markdown",
   "metadata": {},
   "source": [
    "### Fetch and process metrics from Prometheus"
   ]
  },
  {
   "cell_type": "code",
   "execution_count": 151,
   "metadata": {
    "execution": {
     "iopub.execute_input": "2025-03-24T12:00:42.526353Z",
     "iopub.status.busy": "2025-03-24T12:00:42.526276Z",
     "iopub.status.idle": "2025-03-24T12:00:42.664443Z",
     "shell.execute_reply": "2025-03-24T12:00:42.664179Z"
    }
   },
   "outputs": [],
   "source": [
    "# Create an empty list to hold metric DataFrames\n",
    "df_list = []\n",
    "\n",
    "# Iterate through metric groups\n",
    "for group, metric_list in metrics.items():\n",
    "    for metric in metric_list:\n",
    "        try:\n",
    "            response = prom.custom_query_range(\n",
    "                metric, start_time=start_time, end_time=end_time, step=STEP\n",
    "            )\n",
    "\n",
    "            if not response:\n",
    "                print(f\"⚠️ No data: {group}/{metric}\")\n",
    "                continue\n",
    "\n",
    "            for entry in response:\n",
    "                base_metric_name = entry[\"metric\"].get(\"__name__\", metric)\n",
    "\n",
    "                if \"values\" in entry and isinstance(entry[\"values\"], list):\n",
    "                    extracted_values = [\n",
    "                        (\n",
    "                            datetime.utcfromtimestamp(int(ts))\n",
    "                            .replace(tzinfo=pytz.utc)\n",
    "                            .astimezone(LOCAL_TZ),\n",
    "                            float(val)\n",
    "                        )\n",
    "                        for ts, val in entry[\"values\"]\n",
    "                    ]\n",
    "\n",
    "                    metric_df = pd.DataFrame(extracted_values, columns=[\"timestamp\", \"value\"])\n",
    "                    metric_df[\"metric_name\"] = base_metric_name\n",
    "                    metric_df[\"group\"] = group\n",
    "\n",
    "                    df_list.append(metric_df)\n",
    "                else:\n",
    "                    print(f\"⚠️ No valid values found: {group}/{metric}\")\n",
    "\n",
    "        except Exception as e:\n",
    "            print(f\"❌ Error fetching {group}/{metric}: {e}\")\n",
    "\n",
    "# Combine all metrics into one DataFrame\n",
    "if df_list:\n",
    "    final_df = pd.concat(df_list, ignore_index=True)\n",
    "    final_df['timestamp'] = final_df['timestamp'].astype(str).str.replace(r'\\+\\d{2}:\\d{2}', '', regex=True)\n",
    "    final_df[\"timestamp\"] = pd.to_datetime(final_df[\"timestamp\"])\n",
    "else:\n",
    "    print(\"❌ No data collected for any metric.\")\n"
   ]
  },
  {
   "cell_type": "markdown",
   "metadata": {},
   "source": [
    "#### Process and extract logs from Open5gs functions"
   ]
  },
  {
   "cell_type": "code",
   "execution_count": 152,
   "metadata": {
    "execution": {
     "iopub.execute_input": "2025-03-24T12:00:42.728463Z",
     "iopub.status.busy": "2025-03-24T12:00:42.728390Z",
     "iopub.status.idle": "2025-03-24T12:00:42.834558Z",
     "shell.execute_reply": "2025-03-24T12:00:42.834244Z"
    }
   },
   "outputs": [
    {
     "name": "stdout",
     "output_type": "stream",
     "text": [
      "Processing sgwu.log from ../log/, range: 2025-04-09 14:34:07 - 2025-04-09 14:37:59\n",
      "Processing sgwc.log from ../log/, range: 2025-04-09 14:34:07 - 2025-04-09 14:37:59\n",
      "Processing pcrf.log from ../log/, range: 2025-04-09 14:34:07 - 2025-04-09 14:37:59\n",
      "Processing scp.log from ../log/, range: 2025-04-09 14:34:07 - 2025-04-09 14:37:59\n",
      "Processing bsf.log from ../log/, range: 2025-04-09 14:34:07 - 2025-04-09 14:37:59\n",
      "Processing upf.log from ../log/, range: 2025-04-09 14:34:07 - 2025-04-09 14:37:59\n",
      "Processing ausf.log from ../log/, range: 2025-04-09 14:34:07 - 2025-04-09 14:37:59\n",
      "Processing pcf.log from ../log/, range: 2025-04-09 14:34:07 - 2025-04-09 14:37:59\n",
      "Processing amf.log from ../log/, range: 2025-04-09 14:34:07 - 2025-04-09 14:37:59\n",
      "Processing udr.log from ../log/, range: 2025-04-09 14:34:07 - 2025-04-09 14:37:59\n",
      "Processing mme.log from ../log/, range: 2025-04-09 14:34:07 - 2025-04-09 14:37:59\n",
      "Processing hss.log from ../log/, range: 2025-04-09 14:34:07 - 2025-04-09 14:37:59\n",
      "Processing nrf.log from ../log/, range: 2025-04-09 14:34:07 - 2025-04-09 14:37:59\n",
      "Processing udm.log from ../log/, range: 2025-04-09 14:34:07 - 2025-04-09 14:37:59\n",
      "Processing nssf.log from ../log/, range: 2025-04-09 14:34:07 - 2025-04-09 14:37:59\n",
      "Processing smf.log from ../log/, range: 2025-04-09 14:34:07 - 2025-04-09 14:37:59\n"
     ]
    }
   ],
   "source": [
    "log_data = []\n",
    "\n",
    "for log_path in Path(LOG_DIR).glob(\"*.log\"):\n",
    "    print(f\"Processing {log_path.name} from {LOG_DIR}, range: {start_time} - {end_time}\")\n",
    "    try:\n",
    "        with open(log_path, \"r\", encoding=ENCODING, errors=\"ignore\") as f:\n",
    "            for line in f:\n",
    "                match = LOG_PATTERN.match(line)\n",
    "                if match:\n",
    "                    timestamp_str, application, log_level, log_message = match.groups()\n",
    "\n",
    "                    # Convert timestamp to datetime (add missing year)\n",
    "                    log_timestamp = datetime.strptime(timestamp_str, \"%m/%d %H:%M:%S.%f\")\n",
    "                    log_timestamp = log_timestamp.replace(year=start_time.year, microsecond=0)\n",
    "\n",
    "                    # Keep only logs after Prometheus start time\n",
    "                    if log_timestamp > start_time and log_timestamp < end_time:\n",
    "                        log_data.append({\n",
    "                            \"timestamp\": log_timestamp,\n",
    "                            \"application\": application,\n",
    "                            \"log_level\": log_level,\n",
    "                            \"log_message\": log_message\n",
    "                        })\n",
    "    except Exception as e:\n",
    "        print(f\"❌ Failed to process {log_path.name}: {e}\")\n",
    "\n",
    "log_data = pd.DataFrame(log_data)\n"
   ]
  },
  {
   "cell_type": "markdown",
   "metadata": {},
   "source": [
    "#### Aggregate and transform metrics data\n"
   ]
  },
  {
   "cell_type": "code",
   "execution_count": 153,
   "metadata": {
    "execution": {
     "iopub.execute_input": "2025-03-24T12:00:42.880500Z",
     "iopub.status.busy": "2025-03-24T12:00:42.880428Z",
     "iopub.status.idle": "2025-03-24T12:00:42.889189Z",
     "shell.execute_reply": "2025-03-24T12:00:42.888966Z"
    }
   },
   "outputs": [],
   "source": [
    "# 🔹 Aggregate metrics (choose appropriate aggregation: mean, sum, max, etc.)\n",
    "data_agg = final_df.groupby([\"timestamp\", \"metric_name\"])[\"value\"].mean().reset_index()\n",
    "data_pivot = data_agg.pivot(index=\"timestamp\", columns=\"metric_name\", values=\"value\")\n",
    "\n",
    "# Flatten column names\n",
    "data_pivot.columns = [f\"{col}_value\" for col in data_pivot.columns]\n",
    "\n",
    "# Reset index to bring timestamp back\n",
    "data_pivot.reset_index(inplace=True)"
   ]
  },
  {
   "cell_type": "code",
   "execution_count": 154,
   "metadata": {},
   "outputs": [],
   "source": [
    "# data pivot to csv\n",
    "data_pivot.to_csv(\"metrics.csv\", index=False)"
   ]
  },
  {
   "cell_type": "code",
   "execution_count": 155,
   "metadata": {},
   "outputs": [
    {
     "data": {
      "application/vnd.microsoft.datawrangler.viewer.v0+json": {
       "columns": [
        {
         "name": "index",
         "rawType": "int64",
         "type": "integer"
        },
        {
         "name": "timestamp",
         "rawType": "datetime64[ns]",
         "type": "datetime"
        },
        {
         "name": "amf_session_value",
         "rawType": "float64",
         "type": "float"
        },
        {
         "name": "bearers_active_value",
         "rawType": "float64",
         "type": "float"
        },
        {
         "name": "fivegs_amffunction_amf_authreject_value",
         "rawType": "float64",
         "type": "float"
        },
        {
         "name": "fivegs_amffunction_amf_authreq_value",
         "rawType": "float64",
         "type": "float"
        },
        {
         "name": "fivegs_amffunction_mm_confupdate_value",
         "rawType": "float64",
         "type": "float"
        },
        {
         "name": "fivegs_amffunction_mm_confupdatesucc_value",
         "rawType": "float64",
         "type": "float"
        },
        {
         "name": "fivegs_amffunction_mm_paging5greq_value",
         "rawType": "float64",
         "type": "float"
        },
        {
         "name": "fivegs_amffunction_mm_paging5gsucc_value",
         "rawType": "float64",
         "type": "float"
        },
        {
         "name": "fivegs_amffunction_rm_regemergreq_value",
         "rawType": "float64",
         "type": "float"
        },
        {
         "name": "fivegs_amffunction_rm_regemergsucc_value",
         "rawType": "float64",
         "type": "float"
        },
        {
         "name": "fivegs_amffunction_rm_reginitreq_value",
         "rawType": "float64",
         "type": "float"
        },
        {
         "name": "fivegs_amffunction_rm_reginitsucc_value",
         "rawType": "float64",
         "type": "float"
        },
        {
         "name": "fivegs_amffunction_rm_registeredsubnbr_value",
         "rawType": "float64",
         "type": "float"
        },
        {
         "name": "fivegs_amffunction_rm_regmobreq_value",
         "rawType": "float64",
         "type": "float"
        },
        {
         "name": "fivegs_amffunction_rm_regmobsucc_value",
         "rawType": "float64",
         "type": "float"
        },
        {
         "name": "fivegs_amffunction_rm_regperiodreq_value",
         "rawType": "float64",
         "type": "float"
        },
        {
         "name": "fivegs_amffunction_rm_regperiodsucc_value",
         "rawType": "float64",
         "type": "float"
        },
        {
         "name": "fivegs_ep_n3_gtp_indatapktn3upf_value",
         "rawType": "float64",
         "type": "float"
        },
        {
         "name": "fivegs_ep_n3_gtp_outdatapktn3upf_value",
         "rawType": "float64",
         "type": "float"
        },
        {
         "name": "fivegs_pcffunction_pa_policyamassoreq_value",
         "rawType": "float64",
         "type": "float"
        },
        {
         "name": "fivegs_pcffunction_pa_policyamassosucc_value",
         "rawType": "float64",
         "type": "float"
        },
        {
         "name": "fivegs_pcffunction_pa_policysmassoreq_value",
         "rawType": "float64",
         "type": "float"
        },
        {
         "name": "fivegs_pcffunction_pa_policysmassosucc_value",
         "rawType": "float64",
         "type": "float"
        },
        {
         "name": "fivegs_pcffunction_pa_sessionnbr_value",
         "rawType": "float64",
         "type": "float"
        },
        {
         "name": "fivegs_smffunction_sm_n4sessionestabreq_value",
         "rawType": "float64",
         "type": "float"
        },
        {
         "name": "fivegs_smffunction_sm_n4sessionreport_value",
         "rawType": "float64",
         "type": "float"
        },
        {
         "name": "fivegs_smffunction_sm_n4sessionreportsucc_value",
         "rawType": "float64",
         "type": "float"
        },
        {
         "name": "fivegs_smffunction_sm_pdusessioncreationreq_value",
         "rawType": "float64",
         "type": "float"
        },
        {
         "name": "fivegs_smffunction_sm_pdusessioncreationsucc_value",
         "rawType": "float64",
         "type": "float"
        },
        {
         "name": "fivegs_smffunction_sm_qos_flow_nbr_value",
         "rawType": "float64",
         "type": "float"
        },
        {
         "name": "fivegs_smffunction_sm_sessionnbr_value",
         "rawType": "float64",
         "type": "float"
        },
        {
         "name": "fivegs_upffunction_sm_n4sessionestabreq_value",
         "rawType": "float64",
         "type": "float"
        },
        {
         "name": "fivegs_upffunction_sm_n4sessionreport_value",
         "rawType": "float64",
         "type": "float"
        },
        {
         "name": "fivegs_upffunction_sm_n4sessionreportsucc_value",
         "rawType": "float64",
         "type": "float"
        },
        {
         "name": "fivegs_upffunction_upf_qosflows_value",
         "rawType": "float64",
         "type": "float"
        },
        {
         "name": "fivegs_upffunction_upf_sessionnbr_value",
         "rawType": "float64",
         "type": "float"
        },
        {
         "name": "gn_rx_createpdpcontextreq_value",
         "rawType": "float64",
         "type": "float"
        },
        {
         "name": "gn_rx_deletepdpcontextreq_value",
         "rawType": "float64",
         "type": "float"
        },
        {
         "name": "gn_rx_parse_failed_value",
         "rawType": "float64",
         "type": "float"
        },
        {
         "name": "gnb_value",
         "rawType": "float64",
         "type": "float"
        },
        {
         "name": "gtp1_pdpctxs_active_value",
         "rawType": "float64",
         "type": "float"
        },
        {
         "name": "gtp2_sessions_active_value",
         "rawType": "float64",
         "type": "float"
        },
        {
         "name": "gtp_new_node_failed_value",
         "rawType": "float64",
         "type": "float"
        },
        {
         "name": "gtp_peers_active_value",
         "rawType": "float64",
         "type": "float"
        },
        {
         "name": "process_cpu_seconds_total_value",
         "rawType": "float64",
         "type": "float"
        },
        {
         "name": "process_max_fds_value",
         "rawType": "float64",
         "type": "float"
        },
        {
         "name": "process_open_fds_value",
         "rawType": "float64",
         "type": "float"
        },
        {
         "name": "process_resident_memory_bytes_value",
         "rawType": "float64",
         "type": "float"
        },
        {
         "name": "process_start_time_seconds_value",
         "rawType": "float64",
         "type": "float"
        },
        {
         "name": "process_virtual_memory_bytes_value",
         "rawType": "float64",
         "type": "float"
        },
        {
         "name": "process_virtual_memory_max_bytes_value",
         "rawType": "float64",
         "type": "float"
        },
        {
         "name": "ran_ue_value",
         "rawType": "float64",
         "type": "float"
        },
        {
         "name": "s5c_rx_createsession_value",
         "rawType": "float64",
         "type": "float"
        },
        {
         "name": "s5c_rx_parse_failed_value",
         "rawType": "float64",
         "type": "float"
        }
       ],
       "conversionMethod": "pd.DataFrame",
       "ref": "8dd7185d-d9d6-4730-8a2d-65d9ff77d9b1",
       "rows": [
        [
         "0",
         "2025-04-09 14:34:07",
         "4.0",
         "4.0",
         "0.0",
         "35.5",
         "82.5",
         "0.0",
         "0.0",
         "0.0",
         "0.0",
         "0.0",
         "35.0",
         "35.0",
         "4.0",
         "0.5",
         "0.5",
         "49.5",
         "47.0",
         "0.0",
         "0.0",
         "69.0",
         "69.0",
         "69.0",
         "69.0",
         "8.0",
         "0.0",
         "0.0",
         "0.0",
         "69.0",
         "69.0",
         "69.0",
         "8.0",
         "34.5",
         "0.0",
         "0.0",
         "8.0",
         "4.0",
         "0.0",
         "0.0",
         "0.0",
         "1.5",
         "0.0",
         "0.0",
         "0.0",
         "0.0",
         "24.78",
         "655744.0",
         "24.375",
         "52654592.0",
         "260263909.7275",
         "1397296128.0",
         "-1.0",
         "0.0",
         "0.0",
         "0.0"
        ],
        [
         "1",
         "2025-04-09 14:34:08",
         "4.0",
         "4.0",
         "0.0",
         "35.5",
         "82.5",
         "0.0",
         "0.0",
         "0.0",
         "0.0",
         "0.0",
         "35.0",
         "35.0",
         "4.0",
         "0.5",
         "0.5",
         "49.5",
         "47.0",
         "0.0",
         "0.0",
         "69.0",
         "69.0",
         "69.0",
         "69.0",
         "8.0",
         "0.0",
         "0.0",
         "0.0",
         "69.0",
         "69.0",
         "69.0",
         "8.0",
         "34.5",
         "0.0",
         "0.0",
         "8.0",
         "4.0",
         "0.0",
         "0.0",
         "0.0",
         "1.5",
         "0.0",
         "0.0",
         "0.0",
         "0.0",
         "24.78125",
         "655744.0",
         "24.375",
         "52654592.0",
         "260263909.7275",
         "1397296128.0",
         "-1.0",
         "0.0",
         "0.0",
         "0.0"
        ],
        [
         "2",
         "2025-04-09 14:34:09",
         "4.0",
         "4.0",
         "0.0",
         "35.5",
         "82.5",
         "0.0",
         "0.0",
         "0.0",
         "0.0",
         "0.0",
         "35.0",
         "35.0",
         "4.0",
         "0.5",
         "0.5",
         "49.5",
         "47.0",
         "0.0",
         "0.0",
         "69.0",
         "69.0",
         "69.0",
         "69.0",
         "8.0",
         "0.0",
         "0.0",
         "0.0",
         "69.0",
         "69.0",
         "69.0",
         "8.0",
         "34.5",
         "0.0",
         "0.0",
         "8.0",
         "4.0",
         "0.0",
         "0.0",
         "0.0",
         "1.5",
         "0.0",
         "0.0",
         "0.0",
         "0.0",
         "24.78125",
         "655744.0",
         "24.375",
         "52654592.0",
         "260263909.7275",
         "1397296128.0",
         "-1.0",
         "0.0",
         "0.0",
         "0.0"
        ],
        [
         "3",
         "2025-04-09 14:34:10",
         "4.0",
         "4.0",
         "0.0",
         "35.5",
         "82.5",
         "0.0",
         "0.0",
         "0.0",
         "0.0",
         "0.0",
         "35.0",
         "35.0",
         "4.0",
         "0.5",
         "0.5",
         "49.5",
         "47.0",
         "0.0",
         "0.0",
         "69.0",
         "69.0",
         "69.0",
         "69.0",
         "8.0",
         "0.0",
         "0.0",
         "0.0",
         "69.0",
         "69.0",
         "69.0",
         "8.0",
         "34.5",
         "0.0",
         "0.0",
         "8.0",
         "4.0",
         "0.0",
         "0.0",
         "0.0",
         "1.5",
         "0.0",
         "0.0",
         "0.0",
         "0.0",
         "24.78125",
         "655744.0",
         "24.375",
         "52654592.0",
         "260263909.7275",
         "1397296128.0",
         "-1.0",
         "0.0",
         "0.0",
         "0.0"
        ],
        [
         "4",
         "2025-04-09 14:34:11",
         "4.0",
         "4.0",
         "0.0",
         "35.5",
         "82.5",
         "0.0",
         "0.0",
         "0.0",
         "0.0",
         "0.0",
         "35.0",
         "35.0",
         "4.0",
         "0.5",
         "0.5",
         "49.5",
         "47.0",
         "0.0",
         "0.0",
         "69.0",
         "69.0",
         "69.0",
         "69.0",
         "8.0",
         "0.0",
         "0.0",
         "0.0",
         "69.0",
         "69.0",
         "69.0",
         "8.0",
         "34.5",
         "0.0",
         "0.0",
         "8.0",
         "4.0",
         "0.0",
         "0.0",
         "0.0",
         "1.5",
         "0.0",
         "0.0",
         "0.0",
         "0.0",
         "24.78125",
         "655744.0",
         "24.375",
         "52654592.0",
         "260263909.7275",
         "1397296128.0",
         "-1.0",
         "0.0",
         "0.0",
         "0.0"
        ]
       ],
       "shape": {
        "columns": 55,
        "rows": 5
       }
      },
      "text/html": [
       "<div>\n",
       "<style scoped>\n",
       "    .dataframe tbody tr th:only-of-type {\n",
       "        vertical-align: middle;\n",
       "    }\n",
       "\n",
       "    .dataframe tbody tr th {\n",
       "        vertical-align: top;\n",
       "    }\n",
       "\n",
       "    .dataframe thead th {\n",
       "        text-align: right;\n",
       "    }\n",
       "</style>\n",
       "<table border=\"1\" class=\"dataframe\">\n",
       "  <thead>\n",
       "    <tr style=\"text-align: right;\">\n",
       "      <th></th>\n",
       "      <th>timestamp</th>\n",
       "      <th>amf_session_value</th>\n",
       "      <th>bearers_active_value</th>\n",
       "      <th>fivegs_amffunction_amf_authreject_value</th>\n",
       "      <th>fivegs_amffunction_amf_authreq_value</th>\n",
       "      <th>fivegs_amffunction_mm_confupdate_value</th>\n",
       "      <th>fivegs_amffunction_mm_confupdatesucc_value</th>\n",
       "      <th>fivegs_amffunction_mm_paging5greq_value</th>\n",
       "      <th>fivegs_amffunction_mm_paging5gsucc_value</th>\n",
       "      <th>fivegs_amffunction_rm_regemergreq_value</th>\n",
       "      <th>...</th>\n",
       "      <th>process_cpu_seconds_total_value</th>\n",
       "      <th>process_max_fds_value</th>\n",
       "      <th>process_open_fds_value</th>\n",
       "      <th>process_resident_memory_bytes_value</th>\n",
       "      <th>process_start_time_seconds_value</th>\n",
       "      <th>process_virtual_memory_bytes_value</th>\n",
       "      <th>process_virtual_memory_max_bytes_value</th>\n",
       "      <th>ran_ue_value</th>\n",
       "      <th>s5c_rx_createsession_value</th>\n",
       "      <th>s5c_rx_parse_failed_value</th>\n",
       "    </tr>\n",
       "  </thead>\n",
       "  <tbody>\n",
       "    <tr>\n",
       "      <th>0</th>\n",
       "      <td>2025-04-09 14:34:07</td>\n",
       "      <td>4.0</td>\n",
       "      <td>4.0</td>\n",
       "      <td>0.0</td>\n",
       "      <td>35.5</td>\n",
       "      <td>82.5</td>\n",
       "      <td>0.0</td>\n",
       "      <td>0.0</td>\n",
       "      <td>0.0</td>\n",
       "      <td>0.0</td>\n",
       "      <td>...</td>\n",
       "      <td>24.78000</td>\n",
       "      <td>655744.0</td>\n",
       "      <td>24.375</td>\n",
       "      <td>52654592.0</td>\n",
       "      <td>2.602639e+08</td>\n",
       "      <td>1.397296e+09</td>\n",
       "      <td>-1.0</td>\n",
       "      <td>0.0</td>\n",
       "      <td>0.0</td>\n",
       "      <td>0.0</td>\n",
       "    </tr>\n",
       "    <tr>\n",
       "      <th>1</th>\n",
       "      <td>2025-04-09 14:34:08</td>\n",
       "      <td>4.0</td>\n",
       "      <td>4.0</td>\n",
       "      <td>0.0</td>\n",
       "      <td>35.5</td>\n",
       "      <td>82.5</td>\n",
       "      <td>0.0</td>\n",
       "      <td>0.0</td>\n",
       "      <td>0.0</td>\n",
       "      <td>0.0</td>\n",
       "      <td>...</td>\n",
       "      <td>24.78125</td>\n",
       "      <td>655744.0</td>\n",
       "      <td>24.375</td>\n",
       "      <td>52654592.0</td>\n",
       "      <td>2.602639e+08</td>\n",
       "      <td>1.397296e+09</td>\n",
       "      <td>-1.0</td>\n",
       "      <td>0.0</td>\n",
       "      <td>0.0</td>\n",
       "      <td>0.0</td>\n",
       "    </tr>\n",
       "    <tr>\n",
       "      <th>2</th>\n",
       "      <td>2025-04-09 14:34:09</td>\n",
       "      <td>4.0</td>\n",
       "      <td>4.0</td>\n",
       "      <td>0.0</td>\n",
       "      <td>35.5</td>\n",
       "      <td>82.5</td>\n",
       "      <td>0.0</td>\n",
       "      <td>0.0</td>\n",
       "      <td>0.0</td>\n",
       "      <td>0.0</td>\n",
       "      <td>...</td>\n",
       "      <td>24.78125</td>\n",
       "      <td>655744.0</td>\n",
       "      <td>24.375</td>\n",
       "      <td>52654592.0</td>\n",
       "      <td>2.602639e+08</td>\n",
       "      <td>1.397296e+09</td>\n",
       "      <td>-1.0</td>\n",
       "      <td>0.0</td>\n",
       "      <td>0.0</td>\n",
       "      <td>0.0</td>\n",
       "    </tr>\n",
       "    <tr>\n",
       "      <th>3</th>\n",
       "      <td>2025-04-09 14:34:10</td>\n",
       "      <td>4.0</td>\n",
       "      <td>4.0</td>\n",
       "      <td>0.0</td>\n",
       "      <td>35.5</td>\n",
       "      <td>82.5</td>\n",
       "      <td>0.0</td>\n",
       "      <td>0.0</td>\n",
       "      <td>0.0</td>\n",
       "      <td>0.0</td>\n",
       "      <td>...</td>\n",
       "      <td>24.78125</td>\n",
       "      <td>655744.0</td>\n",
       "      <td>24.375</td>\n",
       "      <td>52654592.0</td>\n",
       "      <td>2.602639e+08</td>\n",
       "      <td>1.397296e+09</td>\n",
       "      <td>-1.0</td>\n",
       "      <td>0.0</td>\n",
       "      <td>0.0</td>\n",
       "      <td>0.0</td>\n",
       "    </tr>\n",
       "    <tr>\n",
       "      <th>4</th>\n",
       "      <td>2025-04-09 14:34:11</td>\n",
       "      <td>4.0</td>\n",
       "      <td>4.0</td>\n",
       "      <td>0.0</td>\n",
       "      <td>35.5</td>\n",
       "      <td>82.5</td>\n",
       "      <td>0.0</td>\n",
       "      <td>0.0</td>\n",
       "      <td>0.0</td>\n",
       "      <td>0.0</td>\n",
       "      <td>...</td>\n",
       "      <td>24.78125</td>\n",
       "      <td>655744.0</td>\n",
       "      <td>24.375</td>\n",
       "      <td>52654592.0</td>\n",
       "      <td>2.602639e+08</td>\n",
       "      <td>1.397296e+09</td>\n",
       "      <td>-1.0</td>\n",
       "      <td>0.0</td>\n",
       "      <td>0.0</td>\n",
       "      <td>0.0</td>\n",
       "    </tr>\n",
       "  </tbody>\n",
       "</table>\n",
       "<p>5 rows × 55 columns</p>\n",
       "</div>"
      ],
      "text/plain": [
       "            timestamp  amf_session_value  bearers_active_value  \\\n",
       "0 2025-04-09 14:34:07                4.0                   4.0   \n",
       "1 2025-04-09 14:34:08                4.0                   4.0   \n",
       "2 2025-04-09 14:34:09                4.0                   4.0   \n",
       "3 2025-04-09 14:34:10                4.0                   4.0   \n",
       "4 2025-04-09 14:34:11                4.0                   4.0   \n",
       "\n",
       "   fivegs_amffunction_amf_authreject_value  \\\n",
       "0                                      0.0   \n",
       "1                                      0.0   \n",
       "2                                      0.0   \n",
       "3                                      0.0   \n",
       "4                                      0.0   \n",
       "\n",
       "   fivegs_amffunction_amf_authreq_value  \\\n",
       "0                                  35.5   \n",
       "1                                  35.5   \n",
       "2                                  35.5   \n",
       "3                                  35.5   \n",
       "4                                  35.5   \n",
       "\n",
       "   fivegs_amffunction_mm_confupdate_value  \\\n",
       "0                                    82.5   \n",
       "1                                    82.5   \n",
       "2                                    82.5   \n",
       "3                                    82.5   \n",
       "4                                    82.5   \n",
       "\n",
       "   fivegs_amffunction_mm_confupdatesucc_value  \\\n",
       "0                                         0.0   \n",
       "1                                         0.0   \n",
       "2                                         0.0   \n",
       "3                                         0.0   \n",
       "4                                         0.0   \n",
       "\n",
       "   fivegs_amffunction_mm_paging5greq_value  \\\n",
       "0                                      0.0   \n",
       "1                                      0.0   \n",
       "2                                      0.0   \n",
       "3                                      0.0   \n",
       "4                                      0.0   \n",
       "\n",
       "   fivegs_amffunction_mm_paging5gsucc_value  \\\n",
       "0                                       0.0   \n",
       "1                                       0.0   \n",
       "2                                       0.0   \n",
       "3                                       0.0   \n",
       "4                                       0.0   \n",
       "\n",
       "   fivegs_amffunction_rm_regemergreq_value  ...  \\\n",
       "0                                      0.0  ...   \n",
       "1                                      0.0  ...   \n",
       "2                                      0.0  ...   \n",
       "3                                      0.0  ...   \n",
       "4                                      0.0  ...   \n",
       "\n",
       "   process_cpu_seconds_total_value  process_max_fds_value  \\\n",
       "0                         24.78000               655744.0   \n",
       "1                         24.78125               655744.0   \n",
       "2                         24.78125               655744.0   \n",
       "3                         24.78125               655744.0   \n",
       "4                         24.78125               655744.0   \n",
       "\n",
       "   process_open_fds_value  process_resident_memory_bytes_value  \\\n",
       "0                  24.375                           52654592.0   \n",
       "1                  24.375                           52654592.0   \n",
       "2                  24.375                           52654592.0   \n",
       "3                  24.375                           52654592.0   \n",
       "4                  24.375                           52654592.0   \n",
       "\n",
       "   process_start_time_seconds_value  process_virtual_memory_bytes_value  \\\n",
       "0                      2.602639e+08                        1.397296e+09   \n",
       "1                      2.602639e+08                        1.397296e+09   \n",
       "2                      2.602639e+08                        1.397296e+09   \n",
       "3                      2.602639e+08                        1.397296e+09   \n",
       "4                      2.602639e+08                        1.397296e+09   \n",
       "\n",
       "   process_virtual_memory_max_bytes_value  ran_ue_value  \\\n",
       "0                                    -1.0           0.0   \n",
       "1                                    -1.0           0.0   \n",
       "2                                    -1.0           0.0   \n",
       "3                                    -1.0           0.0   \n",
       "4                                    -1.0           0.0   \n",
       "\n",
       "   s5c_rx_createsession_value  s5c_rx_parse_failed_value  \n",
       "0                         0.0                        0.0  \n",
       "1                         0.0                        0.0  \n",
       "2                         0.0                        0.0  \n",
       "3                         0.0                        0.0  \n",
       "4                         0.0                        0.0  \n",
       "\n",
       "[5 rows x 55 columns]"
      ]
     },
     "execution_count": 155,
     "metadata": {},
     "output_type": "execute_result"
    }
   ],
   "source": [
    "data_pivot.head()"
   ]
  },
  {
   "cell_type": "code",
   "execution_count": 156,
   "metadata": {
    "execution": {
     "iopub.execute_input": "2025-03-24T12:00:42.893116Z",
     "iopub.status.busy": "2025-03-24T12:00:42.893046Z",
     "iopub.status.idle": "2025-03-24T12:00:42.894955Z",
     "shell.execute_reply": "2025-03-24T12:00:42.894735Z"
    }
   },
   "outputs": [],
   "source": [
    "# Define function to classify log messages\n",
    "patterns = {\n",
    "    \"connect\": re.compile(r\"connect\", re.IGNORECASE),\n",
    "    \"request\": re.compile(r\"request\", re.IGNORECASE),\n",
    "    \"reject\": re.compile(r\"reject\", re.IGNORECASE),\n",
    "    \"error\": re.compile(r\"error\", re.IGNORECASE),\n",
    "    \"warning\": re.compile(r\"warning\", re.IGNORECASE),\n",
    "    \"info\": re.compile(r\"release\", re.IGNORECASE),\n",
    "}\n",
    "\n",
    "def classify_log_message(message):\n",
    "    if not isinstance(message, str):\n",
    "        return \"nothing\"\n",
    "    for label, pattern in patterns.items():\n",
    "        if pattern.search(message):\n",
    "            return label\n",
    "    return \"nothing\"\n",
    "\n",
    "# Ensure log_message column exists before applying classification\n",
    "if \"log_message\" in log_data.columns:\n",
    "\tlog_data[\"log_type\"] = log_data[\"log_message\"].apply(classify_log_message)"
   ]
  },
  {
   "cell_type": "code",
   "execution_count": 157,
   "metadata": {
    "execution": {
     "iopub.execute_input": "2025-03-24T12:00:42.901685Z",
     "iopub.status.busy": "2025-03-24T12:00:42.901613Z",
     "iopub.status.idle": "2025-03-24T12:00:42.903499Z",
     "shell.execute_reply": "2025-03-24T12:00:42.903288Z"
    }
   },
   "outputs": [],
   "source": [
    "logs_short = log_data[[\"timestamp\", \"application\", \"log_type\"]] \\\n",
    "\tif not log_data.empty \\\n",
    "\telse pd.DataFrame(columns=[\"timestamp\", \"application\", \"log_type\"])"
   ]
  },
  {
   "cell_type": "code",
   "execution_count": 158,
   "metadata": {
    "execution": {
     "iopub.execute_input": "2025-03-24T12:00:42.907731Z",
     "iopub.status.busy": "2025-03-24T12:00:42.907659Z",
     "iopub.status.idle": "2025-03-24T12:00:42.909949Z",
     "shell.execute_reply": "2025-03-24T12:00:42.909717Z"
    }
   },
   "outputs": [
    {
     "name": "stderr",
     "output_type": "stream",
     "text": [
      "/var/folders/7b/kthfybh105s_tz_wbjp8ntjr0000gn/T/ipykernel_32836/3009627530.py:2: SettingWithCopyWarning: \n",
      "A value is trying to be set on a copy of a slice from a DataFrame.\n",
      "Try using .loc[row_indexer,col_indexer] = value instead\n",
      "\n",
      "See the caveats in the documentation: https://pandas.pydata.org/pandas-docs/stable/user_guide/indexing.html#returning-a-view-versus-a-copy\n",
      "  logs_short[\"timestamp\"] = pd.to_datetime(logs_short[\"timestamp\"], errors='coerce').dt.tz_localize(\"UTC\")\n"
     ]
    }
   ],
   "source": [
    "# Convert logs_short timestamp to UTC datetime (assumes naive timestamps are UTC)\n",
    "logs_short[\"timestamp\"] = pd.to_datetime(logs_short[\"timestamp\"], errors='coerce').dt.tz_localize(\"UTC\")\n",
    "\n",
    "# Filter logs after the UTC start_time (also localized to UTC for comparison)\n",
    "logs_short = logs_short[logs_short[\"timestamp\"] >= start_time.replace(tzinfo=pytz.utc)]\n",
    "\n",
    "# Drop timezone info to match Prometheus format\n",
    "logs_short[\"timestamp\"] = logs_short[\"timestamp\"].dt.tz_localize(None)"
   ]
  },
  {
   "cell_type": "code",
   "execution_count": 159,
   "metadata": {},
   "outputs": [],
   "source": [
    "# Merge logs with metrics\n",
    "merged_data = pd.merge(data_pivot, logs_short, on=\"timestamp\", how=\"outer\")"
   ]
  },
  {
   "cell_type": "code",
   "execution_count": 160,
   "metadata": {
    "execution": {
     "iopub.execute_input": "2025-03-24T12:00:42.929414Z",
     "iopub.status.busy": "2025-03-24T12:00:42.929343Z",
     "iopub.status.idle": "2025-03-24T12:00:42.933314Z",
     "shell.execute_reply": "2025-03-24T12:00:42.933111Z"
    }
   },
   "outputs": [],
   "source": [
    "csv_file = \"merged_data.csv\"\n",
    "\n",
    "# Determine whether to write header\n",
    "write_header = not os.path.exists(csv_file) or os.path.getsize(csv_file) == 0\n",
    "\n",
    "# Try filtering only new records if file exists and is not empty\n",
    "if not write_header:\n",
    "    try:\n",
    "        last_timestamp = pd.read_csv(csv_file, usecols=[\"timestamp\"])[\"timestamp\"].max()\n",
    "        merged_data = merged_data[merged_data[\"timestamp\"] > last_timestamp]\n",
    "    except Exception as e:\n",
    "        print(f\"⚠️ Issue reading existing CSV: {e}. Proceeding without filtering.\")\n",
    "\n",
    "# Append new data\n",
    "if not merged_data.empty:\n",
    "    merged_data.to_csv(csv_file, mode=\"a\", index=False, header=write_header)"
   ]
  }
 ],
 "metadata": {
  "kernelspec": {
   "display_name": ".venv",
   "language": "python",
   "name": "python3"
  },
  "language_info": {
   "codemirror_mode": {
    "name": "ipython",
    "version": 3
   },
   "file_extension": ".py",
   "mimetype": "text/x-python",
   "name": "python",
   "nbconvert_exporter": "python",
   "pygments_lexer": "ipython3",
   "version": "3.9.6"
  }
 },
 "nbformat": 4,
 "nbformat_minor": 2
}
