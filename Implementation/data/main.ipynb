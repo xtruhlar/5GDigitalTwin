{
 "cells": [
  {
   "cell_type": "code",
   "execution_count": 1,
   "metadata": {
    "execution": {
     "iopub.execute_input": "2025-03-19T22:41:17.001462Z",
     "iopub.status.busy": "2025-03-19T22:41:17.001073Z",
     "iopub.status.idle": "2025-03-19T22:41:17.193205Z",
     "shell.execute_reply": "2025-03-19T22:41:17.192889Z"
    }
   },
   "outputs": [
    {
     "name": "stderr",
     "output_type": "stream",
     "text": [
      "/Users/davidtruhlar/Documents/FIIT/BP/5GDigitalTwin/Implementation/.venv/lib/python3.9/site-packages/urllib3/__init__.py:35: NotOpenSSLWarning: urllib3 v2 only supports OpenSSL 1.1.1+, currently the 'ssl' module is compiled with 'LibreSSL 2.8.3'. See: https://github.com/urllib3/urllib3/issues/3020\n",
      "  warnings.warn(\n"
     ]
    }
   ],
   "source": [
    "import pandas as pd\n",
    "from prometheus_api_client import PrometheusConnect, MetricSnapshotDataFrame\n",
    "from datetime import datetime, timedelta, timezone\n",
    "import os\n",
    "import re"
   ]
  },
  {
   "cell_type": "code",
   "execution_count": 2,
   "metadata": {
    "execution": {
     "iopub.execute_input": "2025-03-19T22:41:17.194468Z",
     "iopub.status.busy": "2025-03-19T22:41:17.194355Z",
     "iopub.status.idle": "2025-03-19T22:41:17.196035Z",
     "shell.execute_reply": "2025-03-19T22:41:17.195816Z"
    }
   },
   "outputs": [],
   "source": [
    "start = datetime.now()"
   ]
  },
  {
   "cell_type": "code",
   "execution_count": 3,
   "metadata": {
    "execution": {
     "iopub.execute_input": "2025-03-19T22:41:17.197081Z",
     "iopub.status.busy": "2025-03-19T22:41:17.197005Z",
     "iopub.status.idle": "2025-03-19T22:41:17.198864Z",
     "shell.execute_reply": "2025-03-19T22:41:17.198613Z"
    }
   },
   "outputs": [
    {
     "name": "stdout",
     "output_type": "stream",
     "text": [
      "Connected to Prometheus\n"
     ]
    }
   ],
   "source": [
    "# Create a connection to prometheus\n",
    "try:\n",
    "    prom = PrometheusConnect(url=\"http://localhost:9090\", disable_ssl=True)\n",
    "    print(\"Connected to Prometheus\")\n",
    "except Exception as e:\n",
    "    print(f\"Error connecting to Prometheus: {e}\")"
   ]
  },
  {
   "cell_type": "code",
   "execution_count": 4,
   "metadata": {
    "execution": {
     "iopub.execute_input": "2025-03-19T22:41:17.199941Z",
     "iopub.status.busy": "2025-03-19T22:41:17.199858Z",
     "iopub.status.idle": "2025-03-19T22:41:17.202151Z",
     "shell.execute_reply": "2025-03-19T22:41:17.201931Z"
    }
   },
   "outputs": [],
   "source": [
    "current_time = datetime.now()\n",
    "\n",
    "# Set start_time as the last processed time (or now - 10 seconds for a buffer)\n",
    "start_time = (current_time - timedelta(seconds=10)).strftime(\"%Y-%m-%dT%H:%M:%SZ\")\n",
    "end_time = current_time.strftime(\"%Y-%m-%dT%H:%M:%SZ\")\n",
    "\n",
    "step = \"50ms\"\n",
    "\n",
    "start_time = datetime.strptime(start_time, \"%Y-%m-%dT%H:%M:%SZ\")\n",
    "end_time = datetime.strptime(end_time, \"%Y-%m-%dT%H:%M:%SZ\")"
   ]
  },
  {
   "cell_type": "code",
   "execution_count": 5,
   "metadata": {
    "execution": {
     "iopub.execute_input": "2025-03-19T22:41:17.203165Z",
     "iopub.status.busy": "2025-03-19T22:41:17.203093Z",
     "iopub.status.idle": "2025-03-19T22:41:17.204686Z",
     "shell.execute_reply": "2025-03-19T22:41:17.204458Z"
    }
   },
   "outputs": [
    {
     "name": "stdout",
     "output_type": "stream",
     "text": [
      "Start time: 2025-03-19 23:56:22\n",
      "End time: 2025-03-19 23:56:32\n"
     ]
    }
   ],
   "source": [
    "print(f\"Start time: {start_time}\")\n",
    "print(f\"End time: {end_time}\")"
   ]
  },
  {
   "cell_type": "code",
   "execution_count": 6,
   "metadata": {
    "execution": {
     "iopub.execute_input": "2025-03-19T22:41:17.205742Z",
     "iopub.status.busy": "2025-03-19T22:41:17.205650Z",
     "iopub.status.idle": "2025-03-19T22:41:17.207472Z",
     "shell.execute_reply": "2025-03-19T22:41:17.207239Z"
    }
   },
   "outputs": [],
   "source": [
    "# List of important metrics\n",
    "metrics = [\n",
    "    # Open5GS metrics\n",
    "    \"fivegs_amffunction_amf_authreject\",\n",
    "    \"fivegs_amffunction_amf_authreq\",\n",
    "    \"fivegs_amffunction_rm_reginitsucc\", # for registration success\n",
    "    \"fivegs_ep_n3_gtp_indatapktn3upf\", # for incoming data packets\n",
    "    \"fivegs_ep_n3_gtp_outdatapktn3upf\", # for outgoing data packets\n",
    "    \"fivegs_upffunction_upf_sessionnbr\", # for session number\n",
    "    \"ues_active\", # for active UEs\n",
    "\n",
    "    # NetData metrics for network traffic\n",
    "    'netdata_net_packets_packets_persec_average{device=\"br-02c136a167f8\", dimension=\"received\"}',\n",
    "    'netdata_net_packets_packets_persec_average{device=\"br-02c136a167f8\", dimension=\"sent\"}',\n",
    "    'netdata_net_net_kilobits_persec_average{device=\"br-02c136a167f8\", dimension=\"received\"}',\n",
    "    'netdata_net_net_kilobits_persec_average{device=\"br-02c136a167f8\", dimension=\"sent\"}',\n",
    "    'netdata_cgroup_cpu_percentage_average{cgroup_name=\"cd2487a23764\"}',\n",
    "    ]"
   ]
  },
  {
   "cell_type": "code",
   "execution_count": 7,
   "metadata": {
    "execution": {
     "iopub.execute_input": "2025-03-19T22:41:17.208467Z",
     "iopub.status.busy": "2025-03-19T22:41:17.208381Z",
     "iopub.status.idle": "2025-03-19T22:41:17.209787Z",
     "shell.execute_reply": "2025-03-19T22:41:17.209581Z"
    }
   },
   "outputs": [],
   "source": [
    "# Create an empty DataFrame to store all metrics\n",
    "df_list = []"
   ]
  },
  {
   "cell_type": "code",
   "execution_count": 8,
   "metadata": {
    "execution": {
     "iopub.execute_input": "2025-03-19T22:41:17.210802Z",
     "iopub.status.busy": "2025-03-19T22:41:17.210728Z",
     "iopub.status.idle": "2025-03-19T22:41:17.256167Z",
     "shell.execute_reply": "2025-03-19T22:41:17.255875Z"
    }
   },
   "outputs": [],
   "source": [
    "import pytz  # For timezone conversion\n",
    "\n",
    "# Define your local timezone (change this if necessary)\n",
    "LOCAL_TZ = pytz.timezone(\"Europe/Bratislava\")  # Change if needed\n",
    "\n",
    "# Fetch metrics and transform timestamps\n",
    "for metric in metrics:\n",
    "    try:\n",
    "        response = prom.custom_query_range(\n",
    "            metric, start_time=start_time, end_time=end_time, step=step\n",
    "        )\n",
    "\n",
    "        # Ensure response is not empty\n",
    "        if not response:\n",
    "            print(f\"⚠️ Warning: No data for metric {metric}\")\n",
    "            continue\n",
    "\n",
    "        # Process each metric entry\n",
    "        for entry in response:\n",
    "            base_metric_name = entry[\"metric\"][\"__name__\"]\n",
    "\n",
    "            # Extract metadata if available\n",
    "            dimension = entry[\"metric\"].get(\"dimension\", None)\n",
    "            device = entry[\"metric\"].get(\"device\", None)\n",
    "            cgroup_name = entry[\"metric\"].get(\"cgroup_name\", None)\n",
    "\n",
    "            # Construct metric name properly\n",
    "            metric_name = base_metric_name\n",
    "            if device and dimension:\n",
    "                metric_name = f\"{base_metric_name}_{device}_{dimension}\"\n",
    "            elif device:\n",
    "                metric_name = f\"{base_metric_name}_{device}\"\n",
    "            elif cgroup_name:\n",
    "                metric_name = f\"{base_metric_name}_{cgroup_name}\"\n",
    "\n",
    "            # Extract and format values with timezone conversion\n",
    "            if \"values\" in entry and isinstance(entry[\"values\"], list):\n",
    "                extracted_values = [\n",
    "                   (datetime.utcfromtimestamp(int(ts)).replace(tzinfo=pytz.utc).astimezone(LOCAL_TZ), float(val))\n",
    "                    for ts, val in entry[\"values\"]\n",
    "                ]\n",
    "\n",
    "                # Create DataFrame\n",
    "                metric_df = pd.DataFrame(extracted_values, columns=[\"timestamp\", \"value\"])\n",
    "                metric_df[\"metric_name\"] = metric_name\n",
    "\n",
    "                # Append to list\n",
    "                df_list.append(metric_df)\n",
    "            else:\n",
    "                print(f\"⚠️ Warning: No valid values found for {metric}\")\n",
    "\n",
    "    except Exception as e:\n",
    "        print(f\"❌ Error fetching {metric}: {e}\")\n"
   ]
  },
  {
   "cell_type": "code",
   "execution_count": 9,
   "metadata": {
    "execution": {
     "iopub.execute_input": "2025-03-19T22:41:17.257506Z",
     "iopub.status.busy": "2025-03-19T22:41:17.257418Z",
     "iopub.status.idle": "2025-03-19T22:41:17.259810Z",
     "shell.execute_reply": "2025-03-19T22:41:17.259566Z"
    }
   },
   "outputs": [],
   "source": [
    "if df_list:\n",
    "    final_df = pd.concat(df_list, ignore_index=True)"
   ]
  },
  {
   "cell_type": "code",
   "execution_count": 10,
   "metadata": {
    "execution": {
     "iopub.execute_input": "2025-03-19T22:41:17.260875Z",
     "iopub.status.busy": "2025-03-19T22:41:17.260798Z",
     "iopub.status.idle": "2025-03-19T22:41:17.269081Z",
     "shell.execute_reply": "2025-03-19T22:41:17.268815Z"
    }
   },
   "outputs": [],
   "source": [
    "# Remove +01:00 from the timestamp\n",
    "final_df['timestamp'] = final_df['timestamp'].astype(str).str.replace(r'\\+\\d{2}:\\d{2}', '', regex=True)"
   ]
  },
  {
   "cell_type": "code",
   "execution_count": 11,
   "metadata": {
    "execution": {
     "iopub.execute_input": "2025-03-19T22:41:17.270125Z",
     "iopub.status.busy": "2025-03-19T22:41:17.270049Z",
     "iopub.status.idle": "2025-03-19T22:41:17.274726Z",
     "shell.execute_reply": "2025-03-19T22:41:17.274501Z"
    }
   },
   "outputs": [
    {
     "data": {
      "application/vnd.microsoft.datawrangler.viewer.v0+json": {
       "columns": [
        {
         "name": "index",
         "rawType": "int64",
         "type": "integer"
        },
        {
         "name": "timestamp",
         "rawType": "object",
         "type": "string"
        },
        {
         "name": "value",
         "rawType": "float64",
         "type": "float"
        },
        {
         "name": "metric_name",
         "rawType": "object",
         "type": "string"
        }
       ],
       "conversionMethod": "pd.DataFrame",
       "ref": "27f30a33-a53b-434e-b98b-8007e74b2b64",
       "rows": [
        [
         "0",
         "2025-03-19 23:56:22",
         "0.0",
         "fivegs_amffunction_amf_authreject"
        ],
        [
         "1",
         "2025-03-19 23:56:22",
         "0.0",
         "fivegs_amffunction_amf_authreject"
        ],
        [
         "2",
         "2025-03-19 23:56:22",
         "0.0",
         "fivegs_amffunction_amf_authreject"
        ],
        [
         "3",
         "2025-03-19 23:56:22",
         "0.0",
         "fivegs_amffunction_amf_authreject"
        ],
        [
         "4",
         "2025-03-19 23:56:22",
         "0.0",
         "fivegs_amffunction_amf_authreject"
        ]
       ],
       "shape": {
        "columns": 3,
        "rows": 5
       }
      },
      "text/html": [
       "<div>\n",
       "<style scoped>\n",
       "    .dataframe tbody tr th:only-of-type {\n",
       "        vertical-align: middle;\n",
       "    }\n",
       "\n",
       "    .dataframe tbody tr th {\n",
       "        vertical-align: top;\n",
       "    }\n",
       "\n",
       "    .dataframe thead th {\n",
       "        text-align: right;\n",
       "    }\n",
       "</style>\n",
       "<table border=\"1\" class=\"dataframe\">\n",
       "  <thead>\n",
       "    <tr style=\"text-align: right;\">\n",
       "      <th></th>\n",
       "      <th>timestamp</th>\n",
       "      <th>value</th>\n",
       "      <th>metric_name</th>\n",
       "    </tr>\n",
       "  </thead>\n",
       "  <tbody>\n",
       "    <tr>\n",
       "      <th>0</th>\n",
       "      <td>2025-03-19 23:56:22</td>\n",
       "      <td>0.0</td>\n",
       "      <td>fivegs_amffunction_amf_authreject</td>\n",
       "    </tr>\n",
       "    <tr>\n",
       "      <th>1</th>\n",
       "      <td>2025-03-19 23:56:22</td>\n",
       "      <td>0.0</td>\n",
       "      <td>fivegs_amffunction_amf_authreject</td>\n",
       "    </tr>\n",
       "    <tr>\n",
       "      <th>2</th>\n",
       "      <td>2025-03-19 23:56:22</td>\n",
       "      <td>0.0</td>\n",
       "      <td>fivegs_amffunction_amf_authreject</td>\n",
       "    </tr>\n",
       "    <tr>\n",
       "      <th>3</th>\n",
       "      <td>2025-03-19 23:56:22</td>\n",
       "      <td>0.0</td>\n",
       "      <td>fivegs_amffunction_amf_authreject</td>\n",
       "    </tr>\n",
       "    <tr>\n",
       "      <th>4</th>\n",
       "      <td>2025-03-19 23:56:22</td>\n",
       "      <td>0.0</td>\n",
       "      <td>fivegs_amffunction_amf_authreject</td>\n",
       "    </tr>\n",
       "  </tbody>\n",
       "</table>\n",
       "</div>"
      ],
      "text/plain": [
       "             timestamp  value                        metric_name\n",
       "0  2025-03-19 23:56:22    0.0  fivegs_amffunction_amf_authreject\n",
       "1  2025-03-19 23:56:22    0.0  fivegs_amffunction_amf_authreject\n",
       "2  2025-03-19 23:56:22    0.0  fivegs_amffunction_amf_authreject\n",
       "3  2025-03-19 23:56:22    0.0  fivegs_amffunction_amf_authreject\n",
       "4  2025-03-19 23:56:22    0.0  fivegs_amffunction_amf_authreject"
      ]
     },
     "execution_count": 11,
     "metadata": {},
     "output_type": "execute_result"
    }
   ],
   "source": [
    "final_df.head()"
   ]
  },
  {
   "cell_type": "code",
   "execution_count": 12,
   "metadata": {
    "execution": {
     "iopub.execute_input": "2025-03-19T22:41:17.275793Z",
     "iopub.status.busy": "2025-03-19T22:41:17.275718Z",
     "iopub.status.idle": "2025-03-19T22:41:17.277546Z",
     "shell.execute_reply": "2025-03-19T22:41:17.277324Z"
    }
   },
   "outputs": [],
   "source": [
    "log_dir = \"../log/\"\n",
    "\n",
    "# Example:\n",
    "# 03/19 11:20:11.151: [amf] INFO: ngap_server() [172.22.0.10]:38412 (../src/amf/ngap-sctp.c:61)\n",
    "# 03/19 11:20:11.154: [sctp] INFO: AMF initialize...done (../src/amf/app.c:33)\n",
    "# 03/19 11:20:11.174: [sbi] INFO: [bd5d91d4-04ab-41f0-8871-a9dc3c5ef804] NF registered [Heartbeat:10s] (../lib/sbi/nf-sm.c:208)\n",
    "# 03/19 11:20:11.179: [sbi] INFO: NF EndPoint(addr) setup [172.22.0.12:7777] (../lib/sbi/nnrf-handler.c:949)\n",
    "\n",
    "\n",
    "log_pattern = re.compile(r\"(\\d{2}/\\d{2} \\d{2}:\\d{2}:\\d{2}\\.\\d{3}):\\s+\\[(\\w+)\\]\\s+(\\w+):\\s*(.+)\")\n",
    "\n",
    "log_data = []"
   ]
  },
  {
   "cell_type": "code",
   "execution_count": 13,
   "metadata": {
    "execution": {
     "iopub.execute_input": "2025-03-19T22:41:17.278559Z",
     "iopub.status.busy": "2025-03-19T22:41:17.278475Z",
     "iopub.status.idle": "2025-03-19T22:41:17.330005Z",
     "shell.execute_reply": "2025-03-19T22:41:17.329751Z"
    }
   },
   "outputs": [],
   "source": [
    "# Iterate over all log files in the directory\n",
    "for log_file in os.listdir(log_dir):\n",
    "    log_path = os.path.join(log_dir, log_file)\n",
    "    \n",
    "    with open(log_path, \"r\", encoding=\"utf-8\", errors=\"ignore\") as f:\n",
    "        for line in f:\n",
    "            match = log_pattern.match(line)\n",
    "            if match:\n",
    "                timestamp_str, application, log_level, log_message = match.groups()\n",
    "\n",
    "                # Convert timestamp to datetime (add missing year)\n",
    "                log_timestamp = datetime.strptime(timestamp_str, \"%m/%d %H:%M:%S.%f\")\n",
    "                log_timestamp = log_timestamp.replace(year=start_time.year)  # Assign correct year\n",
    "\n",
    "                # 🔹 Remove milliseconds to match Prometheus format\n",
    "                log_timestamp = log_timestamp.replace(tzinfo=pytz.utc).astimezone(LOCAL_TZ)\n",
    "\n",
    "                # Check if the log timestamp later than the start time\n",
    "                if log_timestamp > start_time.replace(tzinfo=pytz.utc).astimezone(LOCAL_TZ):\n",
    "                    log_data.append({\n",
    "                        \"timestamp\": log_timestamp,\n",
    "                        \"application\": application,\n",
    "                        \"log_level\": log_level,\n",
    "                        \"log_message\": log_message\n",
    "                    })\n"
   ]
  },
  {
   "cell_type": "code",
   "execution_count": 14,
   "metadata": {
    "execution": {
     "iopub.execute_input": "2025-03-19T22:41:17.331329Z",
     "iopub.status.busy": "2025-03-19T22:41:17.331218Z",
     "iopub.status.idle": "2025-03-19T22:41:17.334247Z",
     "shell.execute_reply": "2025-03-19T22:41:17.334029Z"
    }
   },
   "outputs": [
    {
     "data": {
      "application/vnd.microsoft.datawrangler.viewer.v0+json": {
       "columns": [
        {
         "name": "index",
         "rawType": "int64",
         "type": "integer"
        }
       ],
       "conversionMethod": "pd.DataFrame",
       "ref": "c5e512af-dd3a-4d21-a058-15d68c316313",
       "rows": [],
       "shape": {
        "columns": 0,
        "rows": 0
       }
      },
      "text/html": [
       "<div>\n",
       "<style scoped>\n",
       "    .dataframe tbody tr th:only-of-type {\n",
       "        vertical-align: middle;\n",
       "    }\n",
       "\n",
       "    .dataframe tbody tr th {\n",
       "        vertical-align: top;\n",
       "    }\n",
       "\n",
       "    .dataframe thead th {\n",
       "        text-align: right;\n",
       "    }\n",
       "</style>\n",
       "<table border=\"1\" class=\"dataframe\">\n",
       "  <thead>\n",
       "    <tr style=\"text-align: right;\">\n",
       "      <th></th>\n",
       "    </tr>\n",
       "  </thead>\n",
       "  <tbody>\n",
       "  </tbody>\n",
       "</table>\n",
       "</div>"
      ],
      "text/plain": [
       "Empty DataFrame\n",
       "Columns: []\n",
       "Index: []"
      ]
     },
     "execution_count": 14,
     "metadata": {},
     "output_type": "execute_result"
    }
   ],
   "source": [
    "log_data = pd.DataFrame(log_data)\n",
    "log_data.head()"
   ]
  },
  {
   "cell_type": "code",
   "execution_count": 15,
   "metadata": {
    "execution": {
     "iopub.execute_input": "2025-03-19T22:41:17.335349Z",
     "iopub.status.busy": "2025-03-19T22:41:17.335253Z",
     "iopub.status.idle": "2025-03-19T22:41:17.337089Z",
     "shell.execute_reply": "2025-03-19T22:41:17.336906Z"
    }
   },
   "outputs": [
    {
     "name": "stdout",
     "output_type": "stream",
     "text": [
      "log_data is empty\n"
     ]
    }
   ],
   "source": [
    "if not log_data.empty:\n",
    "\tlog_data[\"timestamp\"] = pd.to_datetime(log_data[\"timestamp\"])\n",
    "\tlog_data[\"timestamp\"] = log_data[\"timestamp\"].dt.round(\"1s\")\n",
    "\t# Update the timezone we need to subtract 1 hour\n",
    "\tlog_data[\"timestamp\"] = log_data[\"timestamp\"] - timedelta(hours=1)\n",
    "\tlog_data['timestamp'] = log_data['timestamp'].astype(str).str.replace(r'\\+\\d{2}:\\d{2}', '', regex=True)\n",
    "\n",
    "else:\n",
    "\tprint(\"log_data is empty\")"
   ]
  },
  {
   "cell_type": "code",
   "execution_count": 16,
   "metadata": {},
   "outputs": [
    {
     "data": {
      "application/vnd.microsoft.datawrangler.viewer.v0+json": {
       "columns": [
        {
         "name": "index",
         "rawType": "int64",
         "type": "integer"
        }
       ],
       "conversionMethod": "pd.DataFrame",
       "ref": "eb1d1207-7600-4006-9a38-8311bae5c294",
       "rows": [],
       "shape": {
        "columns": 0,
        "rows": 0
       }
      },
      "text/html": [
       "<div>\n",
       "<style scoped>\n",
       "    .dataframe tbody tr th:only-of-type {\n",
       "        vertical-align: middle;\n",
       "    }\n",
       "\n",
       "    .dataframe tbody tr th {\n",
       "        vertical-align: top;\n",
       "    }\n",
       "\n",
       "    .dataframe thead th {\n",
       "        text-align: right;\n",
       "    }\n",
       "</style>\n",
       "<table border=\"1\" class=\"dataframe\">\n",
       "  <thead>\n",
       "    <tr style=\"text-align: right;\">\n",
       "      <th></th>\n",
       "    </tr>\n",
       "  </thead>\n",
       "  <tbody>\n",
       "  </tbody>\n",
       "</table>\n",
       "</div>"
      ],
      "text/plain": [
       "Empty DataFrame\n",
       "Columns: []\n",
       "Index: []"
      ]
     },
     "execution_count": 16,
     "metadata": {},
     "output_type": "execute_result"
    }
   ],
   "source": [
    "# Remove +01:00 from the timestamp\n",
    "log_data.head()"
   ]
  },
  {
   "cell_type": "code",
   "execution_count": 17,
   "metadata": {
    "execution": {
     "iopub.execute_input": "2025-03-19T22:41:17.338107Z",
     "iopub.status.busy": "2025-03-19T22:41:17.338013Z",
     "iopub.status.idle": "2025-03-19T22:41:17.342654Z",
     "shell.execute_reply": "2025-03-19T22:41:17.342432Z"
    }
   },
   "outputs": [
    {
     "data": {
      "application/vnd.microsoft.datawrangler.viewer.v0+json": {
       "columns": [
        {
         "name": "index",
         "rawType": "int64",
         "type": "integer"
        },
        {
         "name": "timestamp",
         "rawType": "datetime64[ns]",
         "type": "datetime"
        },
        {
         "name": "value",
         "rawType": "float64",
         "type": "float"
        },
        {
         "name": "metric_name",
         "rawType": "object",
         "type": "string"
        }
       ],
       "conversionMethod": "pd.DataFrame",
       "ref": "028e117b-9585-45ba-b2b8-4ba0b22c34f5",
       "rows": [
        [
         "0",
         "2025-03-19 23:56:22",
         "0.0",
         "fivegs_amffunction_amf_authreject"
        ]
       ],
       "shape": {
        "columns": 3,
        "rows": 1
       }
      },
      "text/html": [
       "<div>\n",
       "<style scoped>\n",
       "    .dataframe tbody tr th:only-of-type {\n",
       "        vertical-align: middle;\n",
       "    }\n",
       "\n",
       "    .dataframe tbody tr th {\n",
       "        vertical-align: top;\n",
       "    }\n",
       "\n",
       "    .dataframe thead th {\n",
       "        text-align: right;\n",
       "    }\n",
       "</style>\n",
       "<table border=\"1\" class=\"dataframe\">\n",
       "  <thead>\n",
       "    <tr style=\"text-align: right;\">\n",
       "      <th></th>\n",
       "      <th>timestamp</th>\n",
       "      <th>value</th>\n",
       "      <th>metric_name</th>\n",
       "    </tr>\n",
       "  </thead>\n",
       "  <tbody>\n",
       "    <tr>\n",
       "      <th>0</th>\n",
       "      <td>2025-03-19 23:56:22</td>\n",
       "      <td>0.0</td>\n",
       "      <td>fivegs_amffunction_amf_authreject</td>\n",
       "    </tr>\n",
       "  </tbody>\n",
       "</table>\n",
       "</div>"
      ],
      "text/plain": [
       "            timestamp  value                        metric_name\n",
       "0 2025-03-19 23:56:22    0.0  fivegs_amffunction_amf_authreject"
      ]
     },
     "execution_count": 17,
     "metadata": {},
     "output_type": "execute_result"
    }
   ],
   "source": [
    "final_df[\"timestamp\"] = pd.to_datetime(final_df[\"timestamp\"])\n",
    "final_df.head(1)"
   ]
  },
  {
   "cell_type": "markdown",
   "metadata": {},
   "source": [
    "log_data and final_df\n",
    "----------------------\n",
    "save()"
   ]
  },
  {
   "cell_type": "code",
   "execution_count": 18,
   "metadata": {
    "execution": {
     "iopub.execute_input": "2025-03-19T22:41:17.343689Z",
     "iopub.status.busy": "2025-03-19T22:41:17.343610Z",
     "iopub.status.idle": "2025-03-19T22:41:17.350411Z",
     "shell.execute_reply": "2025-03-19T22:41:17.350200Z"
    }
   },
   "outputs": [],
   "source": [
    "log_data.to_csv(\"log_data.csv\", index=False)\n",
    "final_df.to_csv(\"metrics_data.csv\", index=False)"
   ]
  },
  {
   "cell_type": "code",
   "execution_count": 19,
   "metadata": {
    "execution": {
     "iopub.execute_input": "2025-03-19T22:41:17.351413Z",
     "iopub.status.busy": "2025-03-19T22:41:17.351339Z",
     "iopub.status.idle": "2025-03-19T22:41:17.352780Z",
     "shell.execute_reply": "2025-03-19T22:41:17.352552Z"
    }
   },
   "outputs": [],
   "source": [
    "# Load logs separately before merging\n",
    "logs = log_data\n",
    "metrics = final_df"
   ]
  },
  {
   "cell_type": "code",
   "execution_count": 20,
   "metadata": {
    "execution": {
     "iopub.execute_input": "2025-03-19T22:41:17.353688Z",
     "iopub.status.busy": "2025-03-19T22:41:17.353605Z",
     "iopub.status.idle": "2025-03-19T22:41:17.361369Z",
     "shell.execute_reply": "2025-03-19T22:41:17.361140Z"
    }
   },
   "outputs": [
    {
     "name": "stdout",
     "output_type": "stream",
     "text": [
      "✅ NetData metrics aggregated and pivoted successfully!\n"
     ]
    },
    {
     "data": {
      "application/vnd.microsoft.datawrangler.viewer.v0+json": {
       "columns": [
        {
         "name": "index",
         "rawType": "int64",
         "type": "integer"
        },
        {
         "name": "timestamp",
         "rawType": "datetime64[ns]",
         "type": "datetime"
        },
        {
         "name": "fivegs_amffunction_amf_authreject_value",
         "rawType": "float64",
         "type": "float"
        },
        {
         "name": "fivegs_amffunction_amf_authreq_value",
         "rawType": "float64",
         "type": "float"
        },
        {
         "name": "fivegs_amffunction_rm_reginitsucc_value",
         "rawType": "float64",
         "type": "float"
        },
        {
         "name": "fivegs_ep_n3_gtp_indatapktn3upf_value",
         "rawType": "float64",
         "type": "float"
        },
        {
         "name": "fivegs_ep_n3_gtp_outdatapktn3upf_value",
         "rawType": "float64",
         "type": "float"
        },
        {
         "name": "fivegs_upffunction_upf_sessionnbr_value",
         "rawType": "float64",
         "type": "float"
        },
        {
         "name": "netdata_cgroup_cpu_percentage_average_cd2487a23764_value",
         "rawType": "float64",
         "type": "float"
        },
        {
         "name": "netdata_net_net_kilobits_persec_average_br-02c136a167f8_received_value",
         "rawType": "float64",
         "type": "float"
        },
        {
         "name": "netdata_net_net_kilobits_persec_average_br-02c136a167f8_sent_value",
         "rawType": "float64",
         "type": "float"
        },
        {
         "name": "netdata_net_packets_packets_persec_average_br-02c136a167f8_received_value",
         "rawType": "float64",
         "type": "float"
        },
        {
         "name": "netdata_net_packets_packets_persec_average_br-02c136a167f8_sent_value",
         "rawType": "float64",
         "type": "float"
        },
        {
         "name": "ues_active_value",
         "rawType": "float64",
         "type": "float"
        }
       ],
       "conversionMethod": "pd.DataFrame",
       "ref": "47b5190d-3a46-4fbf-98c3-2f93c4617d6a",
       "rows": [
        [
         "0",
         "2025-03-19 23:56:22",
         "0.0",
         "19.0",
         "19.0",
         "0.0",
         "0.0",
         "1.0",
         "2.29861305",
         "120.80083859999999",
         "-124.6067875",
         "8.0674018",
         "-13.6674016",
         "1.0"
        ],
        [
         "1",
         "2025-03-19 23:56:23",
         "0.0",
         "19.0",
         "19.0",
         "0.0",
         "0.0",
         "1.0",
         "2.29861305",
         "120.80083859999999",
         "-124.6067875",
         "8.0674018",
         "-13.6674016",
         "1.0"
        ],
        [
         "2",
         "2025-03-19 23:56:24",
         "0.0",
         "19.0",
         "19.0",
         "0.0",
         "0.0",
         "1.0",
         "2.553254",
         "121.02469999999998",
         "-125.85828",
         "8.1324538",
         "-15.664904000000002",
         "1.0"
        ]
       ],
       "shape": {
        "columns": 13,
        "rows": 3
       }
      },
      "text/html": [
       "<div>\n",
       "<style scoped>\n",
       "    .dataframe tbody tr th:only-of-type {\n",
       "        vertical-align: middle;\n",
       "    }\n",
       "\n",
       "    .dataframe tbody tr th {\n",
       "        vertical-align: top;\n",
       "    }\n",
       "\n",
       "    .dataframe thead th {\n",
       "        text-align: right;\n",
       "    }\n",
       "</style>\n",
       "<table border=\"1\" class=\"dataframe\">\n",
       "  <thead>\n",
       "    <tr style=\"text-align: right;\">\n",
       "      <th></th>\n",
       "      <th>timestamp</th>\n",
       "      <th>fivegs_amffunction_amf_authreject_value</th>\n",
       "      <th>fivegs_amffunction_amf_authreq_value</th>\n",
       "      <th>fivegs_amffunction_rm_reginitsucc_value</th>\n",
       "      <th>fivegs_ep_n3_gtp_indatapktn3upf_value</th>\n",
       "      <th>fivegs_ep_n3_gtp_outdatapktn3upf_value</th>\n",
       "      <th>fivegs_upffunction_upf_sessionnbr_value</th>\n",
       "      <th>netdata_cgroup_cpu_percentage_average_cd2487a23764_value</th>\n",
       "      <th>netdata_net_net_kilobits_persec_average_br-02c136a167f8_received_value</th>\n",
       "      <th>netdata_net_net_kilobits_persec_average_br-02c136a167f8_sent_value</th>\n",
       "      <th>netdata_net_packets_packets_persec_average_br-02c136a167f8_received_value</th>\n",
       "      <th>netdata_net_packets_packets_persec_average_br-02c136a167f8_sent_value</th>\n",
       "      <th>ues_active_value</th>\n",
       "    </tr>\n",
       "  </thead>\n",
       "  <tbody>\n",
       "    <tr>\n",
       "      <th>0</th>\n",
       "      <td>2025-03-19 23:56:22</td>\n",
       "      <td>0.0</td>\n",
       "      <td>19.0</td>\n",
       "      <td>19.0</td>\n",
       "      <td>0.0</td>\n",
       "      <td>0.0</td>\n",
       "      <td>1.0</td>\n",
       "      <td>2.298613</td>\n",
       "      <td>120.800839</td>\n",
       "      <td>-124.606787</td>\n",
       "      <td>8.067402</td>\n",
       "      <td>-13.667402</td>\n",
       "      <td>1.0</td>\n",
       "    </tr>\n",
       "    <tr>\n",
       "      <th>1</th>\n",
       "      <td>2025-03-19 23:56:23</td>\n",
       "      <td>0.0</td>\n",
       "      <td>19.0</td>\n",
       "      <td>19.0</td>\n",
       "      <td>0.0</td>\n",
       "      <td>0.0</td>\n",
       "      <td>1.0</td>\n",
       "      <td>2.298613</td>\n",
       "      <td>120.800839</td>\n",
       "      <td>-124.606787</td>\n",
       "      <td>8.067402</td>\n",
       "      <td>-13.667402</td>\n",
       "      <td>1.0</td>\n",
       "    </tr>\n",
       "    <tr>\n",
       "      <th>2</th>\n",
       "      <td>2025-03-19 23:56:24</td>\n",
       "      <td>0.0</td>\n",
       "      <td>19.0</td>\n",
       "      <td>19.0</td>\n",
       "      <td>0.0</td>\n",
       "      <td>0.0</td>\n",
       "      <td>1.0</td>\n",
       "      <td>2.553254</td>\n",
       "      <td>121.024700</td>\n",
       "      <td>-125.858280</td>\n",
       "      <td>8.132454</td>\n",
       "      <td>-15.664904</td>\n",
       "      <td>1.0</td>\n",
       "    </tr>\n",
       "  </tbody>\n",
       "</table>\n",
       "</div>"
      ],
      "text/plain": [
       "            timestamp  fivegs_amffunction_amf_authreject_value  \\\n",
       "0 2025-03-19 23:56:22                                      0.0   \n",
       "1 2025-03-19 23:56:23                                      0.0   \n",
       "2 2025-03-19 23:56:24                                      0.0   \n",
       "\n",
       "   fivegs_amffunction_amf_authreq_value  \\\n",
       "0                                  19.0   \n",
       "1                                  19.0   \n",
       "2                                  19.0   \n",
       "\n",
       "   fivegs_amffunction_rm_reginitsucc_value  \\\n",
       "0                                     19.0   \n",
       "1                                     19.0   \n",
       "2                                     19.0   \n",
       "\n",
       "   fivegs_ep_n3_gtp_indatapktn3upf_value  \\\n",
       "0                                    0.0   \n",
       "1                                    0.0   \n",
       "2                                    0.0   \n",
       "\n",
       "   fivegs_ep_n3_gtp_outdatapktn3upf_value  \\\n",
       "0                                     0.0   \n",
       "1                                     0.0   \n",
       "2                                     0.0   \n",
       "\n",
       "   fivegs_upffunction_upf_sessionnbr_value  \\\n",
       "0                                      1.0   \n",
       "1                                      1.0   \n",
       "2                                      1.0   \n",
       "\n",
       "   netdata_cgroup_cpu_percentage_average_cd2487a23764_value  \\\n",
       "0                                           2.298613          \n",
       "1                                           2.298613          \n",
       "2                                           2.553254          \n",
       "\n",
       "   netdata_net_net_kilobits_persec_average_br-02c136a167f8_received_value  \\\n",
       "0                                         120.800839                        \n",
       "1                                         120.800839                        \n",
       "2                                         121.024700                        \n",
       "\n",
       "   netdata_net_net_kilobits_persec_average_br-02c136a167f8_sent_value  \\\n",
       "0                                        -124.606787                    \n",
       "1                                        -124.606787                    \n",
       "2                                        -125.858280                    \n",
       "\n",
       "   netdata_net_packets_packets_persec_average_br-02c136a167f8_received_value  \\\n",
       "0                                           8.067402                           \n",
       "1                                           8.067402                           \n",
       "2                                           8.132454                           \n",
       "\n",
       "   netdata_net_packets_packets_persec_average_br-02c136a167f8_sent_value  \\\n",
       "0                                         -13.667402                       \n",
       "1                                         -13.667402                       \n",
       "2                                         -15.664904                       \n",
       "\n",
       "   ues_active_value  \n",
       "0               1.0  \n",
       "1               1.0  \n",
       "2               1.0  "
      ]
     },
     "execution_count": 20,
     "metadata": {},
     "output_type": "execute_result"
    }
   ],
   "source": [
    "# 🔹 Aggregate NetData metrics (choose appropriate aggregation: mean, sum, max, etc.)\n",
    "netdata_aggregated = metrics.groupby([\"timestamp\", \"metric_name\"])[\"value\"].mean().reset_index()\n",
    "\n",
    "# Pivot NetData metrics so each metric has its own column\n",
    "netdata_pivot = netdata_aggregated.pivot(index=\"timestamp\", columns=\"metric_name\", values=\"value\")\n",
    "\n",
    "# Flatten column names\n",
    "netdata_pivot.columns = [f\"{col}_value\" for col in netdata_pivot.columns]\n",
    "\n",
    "# Reset index to bring timestamp back\n",
    "netdata_pivot.reset_index(inplace=True)\n",
    "\n",
    "print(\"✅ NetData metrics aggregated and pivoted successfully!\")\n",
    "netdata_pivot.head(3)"
   ]
  },
  {
   "cell_type": "code",
   "execution_count": 21,
   "metadata": {
    "execution": {
     "iopub.execute_input": "2025-03-19T22:41:17.362400Z",
     "iopub.status.busy": "2025-03-19T22:41:17.362327Z",
     "iopub.status.idle": "2025-03-19T22:41:17.364508Z",
     "shell.execute_reply": "2025-03-19T22:41:17.364258Z"
    }
   },
   "outputs": [],
   "source": [
    "# Define function to classify log messages\n",
    "def classify_log_message(message):\n",
    "    if isinstance(message, str):  # Ensure it's a string before applying .lower()\n",
    "        if \"connect\" in message.lower():\n",
    "            return \"connect\"\n",
    "        elif \"request\" in message.lower():\n",
    "            return \"request\"\n",
    "        elif \"reject\" in message.lower():\n",
    "            return \"reject\"\n",
    "        else:\n",
    "            return \"nothing\"\n",
    "    return \"nothing\"  # Handle missing or NaN values"
   ]
  },
  {
   "cell_type": "code",
   "execution_count": 22,
   "metadata": {
    "execution": {
     "iopub.execute_input": "2025-03-19T22:41:17.365518Z",
     "iopub.status.busy": "2025-03-19T22:41:17.365442Z",
     "iopub.status.idle": "2025-03-19T22:41:17.367214Z",
     "shell.execute_reply": "2025-03-19T22:41:17.366998Z"
    }
   },
   "outputs": [
    {
     "name": "stdout",
     "output_type": "stream",
     "text": [
      "Error: 'log_message' column not found in logs DataFrame\n"
     ]
    }
   ],
   "source": [
    "# Ensure log_message column exists before applying classification\n",
    "if \"log_message\" in logs.columns:\n",
    "\tlogs[\"log_type\"] = logs[\"log_message\"].apply(classify_log_message)\n",
    "else:\n",
    "\tprint(\"Error: 'log_message' column not found in logs DataFrame\")"
   ]
  },
  {
   "cell_type": "code",
   "execution_count": 23,
   "metadata": {
    "execution": {
     "iopub.execute_input": "2025-03-19T22:41:17.368187Z",
     "iopub.status.busy": "2025-03-19T22:41:17.368108Z",
     "iopub.status.idle": "2025-03-19T22:41:17.370711Z",
     "shell.execute_reply": "2025-03-19T22:41:17.370473Z"
    }
   },
   "outputs": [
    {
     "data": {
      "application/vnd.microsoft.datawrangler.viewer.v0+json": {
       "columns": [
        {
         "name": "index",
         "rawType": "int64",
         "type": "integer"
        }
       ],
       "conversionMethod": "pd.DataFrame",
       "ref": "5028a21f-4d5d-4693-bb72-f5764d30e0bd",
       "rows": [],
       "shape": {
        "columns": 0,
        "rows": 0
       }
      },
      "text/html": [
       "<div>\n",
       "<style scoped>\n",
       "    .dataframe tbody tr th:only-of-type {\n",
       "        vertical-align: middle;\n",
       "    }\n",
       "\n",
       "    .dataframe tbody tr th {\n",
       "        vertical-align: top;\n",
       "    }\n",
       "\n",
       "    .dataframe thead th {\n",
       "        text-align: right;\n",
       "    }\n",
       "</style>\n",
       "<table border=\"1\" class=\"dataframe\">\n",
       "  <thead>\n",
       "    <tr style=\"text-align: right;\">\n",
       "      <th></th>\n",
       "    </tr>\n",
       "  </thead>\n",
       "  <tbody>\n",
       "  </tbody>\n",
       "</table>\n",
       "</div>"
      ],
      "text/plain": [
       "Empty DataFrame\n",
       "Columns: []\n",
       "Index: []"
      ]
     },
     "execution_count": 23,
     "metadata": {},
     "output_type": "execute_result"
    }
   ],
   "source": [
    "logs.head(1)"
   ]
  },
  {
   "cell_type": "code",
   "execution_count": 24,
   "metadata": {
    "execution": {
     "iopub.execute_input": "2025-03-19T22:41:17.371789Z",
     "iopub.status.busy": "2025-03-19T22:41:17.371692Z",
     "iopub.status.idle": "2025-03-19T22:41:17.374060Z",
     "shell.execute_reply": "2025-03-19T22:41:17.373780Z"
    }
   },
   "outputs": [],
   "source": [
    "# Check if logs DataFrame is not empty before selecting columns\n",
    "if not logs.empty:\n",
    "\t# Keep only necessary columns from logs\n",
    "\tlogs_short = logs[[\"timestamp\", \"application\", \"log_type\"]]\n",
    "else:\n",
    "\t# Create an empty DataFrame if logs is empty\n",
    "\tlogs_short = pd.DataFrame(columns=[\"timestamp\", \"application\", \"log_type\"])"
   ]
  },
  {
   "cell_type": "code",
   "execution_count": 25,
   "metadata": {
    "execution": {
     "iopub.execute_input": "2025-03-19T22:41:17.375126Z",
     "iopub.status.busy": "2025-03-19T22:41:17.375048Z",
     "iopub.status.idle": "2025-03-19T22:41:17.377644Z",
     "shell.execute_reply": "2025-03-19T22:41:17.377412Z"
    }
   },
   "outputs": [
    {
     "data": {
      "application/vnd.microsoft.datawrangler.viewer.v0+json": {
       "columns": [
        {
         "name": "index",
         "rawType": "int64",
         "type": "integer"
        },
        {
         "name": "timestamp",
         "rawType": "object",
         "type": "string"
        },
        {
         "name": "application",
         "rawType": "object",
         "type": "string"
        },
        {
         "name": "log_type",
         "rawType": "object",
         "type": "string"
        }
       ],
       "conversionMethod": "pd.DataFrame",
       "ref": "7ad7ab3a-f5dd-4b62-8014-1dc8e48e2c2d",
       "rows": [],
       "shape": {
        "columns": 3,
        "rows": 0
       }
      },
      "text/html": [
       "<div>\n",
       "<style scoped>\n",
       "    .dataframe tbody tr th:only-of-type {\n",
       "        vertical-align: middle;\n",
       "    }\n",
       "\n",
       "    .dataframe tbody tr th {\n",
       "        vertical-align: top;\n",
       "    }\n",
       "\n",
       "    .dataframe thead th {\n",
       "        text-align: right;\n",
       "    }\n",
       "</style>\n",
       "<table border=\"1\" class=\"dataframe\">\n",
       "  <thead>\n",
       "    <tr style=\"text-align: right;\">\n",
       "      <th></th>\n",
       "      <th>timestamp</th>\n",
       "      <th>application</th>\n",
       "      <th>log_type</th>\n",
       "    </tr>\n",
       "  </thead>\n",
       "  <tbody>\n",
       "  </tbody>\n",
       "</table>\n",
       "</div>"
      ],
      "text/plain": [
       "Empty DataFrame\n",
       "Columns: [timestamp, application, log_type]\n",
       "Index: []"
      ]
     },
     "execution_count": 25,
     "metadata": {},
     "output_type": "execute_result"
    }
   ],
   "source": [
    "logs_short.head(1)"
   ]
  },
  {
   "cell_type": "code",
   "execution_count": 26,
   "metadata": {
    "execution": {
     "iopub.execute_input": "2025-03-19T22:41:17.378679Z",
     "iopub.status.busy": "2025-03-19T22:41:17.378603Z",
     "iopub.status.idle": "2025-03-19T22:41:17.381057Z",
     "shell.execute_reply": "2025-03-19T22:41:17.380817Z"
    }
   },
   "outputs": [],
   "source": [
    "# Ensure start_time is timezone-aware\n",
    "start_time_tz_aware = start_time.replace(tzinfo=pytz.utc).astimezone(LOCAL_TZ)\n",
    "\n",
    "# Convert logs_short timestamp to datetime and ensure it is timezone-aware\n",
    "logs_short[\"timestamp\"] = pd.to_datetime(logs_short[\"timestamp\"]).dt.tz_localize('UTC').dt.tz_convert(LOCAL_TZ)\n",
    "\n",
    "# Remove logs before the start time\n",
    "logs_short = logs_short[logs_short[\"timestamp\"] >= start_time_tz_aware]\n"
   ]
  },
  {
   "cell_type": "code",
   "execution_count": 27,
   "metadata": {
    "execution": {
     "iopub.execute_input": "2025-03-19T22:41:17.382099Z",
     "iopub.status.busy": "2025-03-19T22:41:17.382021Z",
     "iopub.status.idle": "2025-03-19T22:41:17.386659Z",
     "shell.execute_reply": "2025-03-19T22:41:17.386425Z"
    }
   },
   "outputs": [
    {
     "data": {
      "application/vnd.microsoft.datawrangler.viewer.v0+json": {
       "columns": [
        {
         "name": "index",
         "rawType": "int64",
         "type": "integer"
        },
        {
         "name": "timestamp",
         "rawType": "datetime64[ns]",
         "type": "datetime"
        },
        {
         "name": "fivegs_amffunction_amf_authreject_value",
         "rawType": "float64",
         "type": "float"
        },
        {
         "name": "fivegs_amffunction_amf_authreq_value",
         "rawType": "float64",
         "type": "float"
        },
        {
         "name": "fivegs_amffunction_rm_reginitsucc_value",
         "rawType": "float64",
         "type": "float"
        },
        {
         "name": "fivegs_ep_n3_gtp_indatapktn3upf_value",
         "rawType": "float64",
         "type": "float"
        },
        {
         "name": "fivegs_ep_n3_gtp_outdatapktn3upf_value",
         "rawType": "float64",
         "type": "float"
        },
        {
         "name": "fivegs_upffunction_upf_sessionnbr_value",
         "rawType": "float64",
         "type": "float"
        },
        {
         "name": "netdata_cgroup_cpu_percentage_average_cd2487a23764_value",
         "rawType": "float64",
         "type": "float"
        },
        {
         "name": "netdata_net_net_kilobits_persec_average_br-02c136a167f8_received_value",
         "rawType": "float64",
         "type": "float"
        },
        {
         "name": "netdata_net_net_kilobits_persec_average_br-02c136a167f8_sent_value",
         "rawType": "float64",
         "type": "float"
        },
        {
         "name": "netdata_net_packets_packets_persec_average_br-02c136a167f8_received_value",
         "rawType": "float64",
         "type": "float"
        },
        {
         "name": "netdata_net_packets_packets_persec_average_br-02c136a167f8_sent_value",
         "rawType": "float64",
         "type": "float"
        },
        {
         "name": "ues_active_value",
         "rawType": "float64",
         "type": "float"
        }
       ],
       "conversionMethod": "pd.DataFrame",
       "ref": "07cc8a75-1515-4edd-8265-f70a1d08098a",
       "rows": [
        [
         "0",
         "2025-03-19 23:56:22",
         "0.0",
         "19.0",
         "19.0",
         "0.0",
         "0.0",
         "1.0",
         "2.29861305",
         "120.80083859999999",
         "-124.6067875",
         "8.0674018",
         "-13.6674016",
         "1.0"
        ]
       ],
       "shape": {
        "columns": 13,
        "rows": 1
       }
      },
      "text/html": [
       "<div>\n",
       "<style scoped>\n",
       "    .dataframe tbody tr th:only-of-type {\n",
       "        vertical-align: middle;\n",
       "    }\n",
       "\n",
       "    .dataframe tbody tr th {\n",
       "        vertical-align: top;\n",
       "    }\n",
       "\n",
       "    .dataframe thead th {\n",
       "        text-align: right;\n",
       "    }\n",
       "</style>\n",
       "<table border=\"1\" class=\"dataframe\">\n",
       "  <thead>\n",
       "    <tr style=\"text-align: right;\">\n",
       "      <th></th>\n",
       "      <th>timestamp</th>\n",
       "      <th>fivegs_amffunction_amf_authreject_value</th>\n",
       "      <th>fivegs_amffunction_amf_authreq_value</th>\n",
       "      <th>fivegs_amffunction_rm_reginitsucc_value</th>\n",
       "      <th>fivegs_ep_n3_gtp_indatapktn3upf_value</th>\n",
       "      <th>fivegs_ep_n3_gtp_outdatapktn3upf_value</th>\n",
       "      <th>fivegs_upffunction_upf_sessionnbr_value</th>\n",
       "      <th>netdata_cgroup_cpu_percentage_average_cd2487a23764_value</th>\n",
       "      <th>netdata_net_net_kilobits_persec_average_br-02c136a167f8_received_value</th>\n",
       "      <th>netdata_net_net_kilobits_persec_average_br-02c136a167f8_sent_value</th>\n",
       "      <th>netdata_net_packets_packets_persec_average_br-02c136a167f8_received_value</th>\n",
       "      <th>netdata_net_packets_packets_persec_average_br-02c136a167f8_sent_value</th>\n",
       "      <th>ues_active_value</th>\n",
       "    </tr>\n",
       "  </thead>\n",
       "  <tbody>\n",
       "    <tr>\n",
       "      <th>0</th>\n",
       "      <td>2025-03-19 23:56:22</td>\n",
       "      <td>0.0</td>\n",
       "      <td>19.0</td>\n",
       "      <td>19.0</td>\n",
       "      <td>0.0</td>\n",
       "      <td>0.0</td>\n",
       "      <td>1.0</td>\n",
       "      <td>2.298613</td>\n",
       "      <td>120.800839</td>\n",
       "      <td>-124.606787</td>\n",
       "      <td>8.067402</td>\n",
       "      <td>-13.667402</td>\n",
       "      <td>1.0</td>\n",
       "    </tr>\n",
       "  </tbody>\n",
       "</table>\n",
       "</div>"
      ],
      "text/plain": [
       "            timestamp  fivegs_amffunction_amf_authreject_value  \\\n",
       "0 2025-03-19 23:56:22                                      0.0   \n",
       "\n",
       "   fivegs_amffunction_amf_authreq_value  \\\n",
       "0                                  19.0   \n",
       "\n",
       "   fivegs_amffunction_rm_reginitsucc_value  \\\n",
       "0                                     19.0   \n",
       "\n",
       "   fivegs_ep_n3_gtp_indatapktn3upf_value  \\\n",
       "0                                    0.0   \n",
       "\n",
       "   fivegs_ep_n3_gtp_outdatapktn3upf_value  \\\n",
       "0                                     0.0   \n",
       "\n",
       "   fivegs_upffunction_upf_sessionnbr_value  \\\n",
       "0                                      1.0   \n",
       "\n",
       "   netdata_cgroup_cpu_percentage_average_cd2487a23764_value  \\\n",
       "0                                           2.298613          \n",
       "\n",
       "   netdata_net_net_kilobits_persec_average_br-02c136a167f8_received_value  \\\n",
       "0                                         120.800839                        \n",
       "\n",
       "   netdata_net_net_kilobits_persec_average_br-02c136a167f8_sent_value  \\\n",
       "0                                        -124.606787                    \n",
       "\n",
       "   netdata_net_packets_packets_persec_average_br-02c136a167f8_received_value  \\\n",
       "0                                           8.067402                           \n",
       "\n",
       "   netdata_net_packets_packets_persec_average_br-02c136a167f8_sent_value  \\\n",
       "0                                         -13.667402                       \n",
       "\n",
       "   ues_active_value  \n",
       "0               1.0  "
      ]
     },
     "execution_count": 27,
     "metadata": {},
     "output_type": "execute_result"
    }
   ],
   "source": [
    "netdata_pivot.head(1)"
   ]
  },
  {
   "cell_type": "code",
   "execution_count": 28,
   "metadata": {
    "execution": {
     "iopub.execute_input": "2025-03-19T22:41:17.387733Z",
     "iopub.status.busy": "2025-03-19T22:41:17.387660Z",
     "iopub.status.idle": "2025-03-19T22:41:17.390280Z",
     "shell.execute_reply": "2025-03-19T22:41:17.390056Z"
    }
   },
   "outputs": [],
   "source": [
    "# Convert logs_short timestamp to UTC\n",
    "logs_short[\"timestamp\"] = logs_short[\"timestamp\"].dt.tz_convert(\"UTC\").dt.tz_localize(None)\n",
    "\n",
    "# Merge logs with NetData metrics\n",
    "merged_data = pd.merge(netdata_pivot, logs_short, on=\"timestamp\", how=\"outer\")\n"
   ]
  },
  {
   "cell_type": "code",
   "execution_count": 29,
   "metadata": {
    "execution": {
     "iopub.execute_input": "2025-03-19T22:41:17.391309Z",
     "iopub.status.busy": "2025-03-19T22:41:17.391235Z",
     "iopub.status.idle": "2025-03-19T22:41:17.396620Z",
     "shell.execute_reply": "2025-03-19T22:41:17.396405Z"
    }
   },
   "outputs": [
    {
     "data": {
      "application/vnd.microsoft.datawrangler.viewer.v0+json": {
       "columns": [
        {
         "name": "index",
         "rawType": "int64",
         "type": "integer"
        },
        {
         "name": "timestamp",
         "rawType": "datetime64[ns]",
         "type": "datetime"
        },
        {
         "name": "fivegs_amffunction_amf_authreject_value",
         "rawType": "float64",
         "type": "float"
        },
        {
         "name": "fivegs_amffunction_amf_authreq_value",
         "rawType": "float64",
         "type": "float"
        },
        {
         "name": "fivegs_amffunction_rm_reginitsucc_value",
         "rawType": "float64",
         "type": "float"
        },
        {
         "name": "fivegs_ep_n3_gtp_indatapktn3upf_value",
         "rawType": "float64",
         "type": "float"
        },
        {
         "name": "fivegs_ep_n3_gtp_outdatapktn3upf_value",
         "rawType": "float64",
         "type": "float"
        },
        {
         "name": "fivegs_upffunction_upf_sessionnbr_value",
         "rawType": "float64",
         "type": "float"
        },
        {
         "name": "netdata_cgroup_cpu_percentage_average_cd2487a23764_value",
         "rawType": "float64",
         "type": "float"
        },
        {
         "name": "netdata_net_net_kilobits_persec_average_br-02c136a167f8_received_value",
         "rawType": "float64",
         "type": "float"
        },
        {
         "name": "netdata_net_net_kilobits_persec_average_br-02c136a167f8_sent_value",
         "rawType": "float64",
         "type": "float"
        },
        {
         "name": "netdata_net_packets_packets_persec_average_br-02c136a167f8_received_value",
         "rawType": "float64",
         "type": "float"
        },
        {
         "name": "netdata_net_packets_packets_persec_average_br-02c136a167f8_sent_value",
         "rawType": "float64",
         "type": "float"
        },
        {
         "name": "ues_active_value",
         "rawType": "float64",
         "type": "float"
        },
        {
         "name": "application",
         "rawType": "object",
         "type": "unknown"
        },
        {
         "name": "log_type",
         "rawType": "object",
         "type": "unknown"
        }
       ],
       "conversionMethod": "pd.DataFrame",
       "ref": "f3a8ad91-b9e0-4888-aab8-a9e551f938c9",
       "rows": [
        [
         "0",
         "2025-03-19 23:56:22",
         "0.0",
         "19.0",
         "19.0",
         "0.0",
         "0.0",
         "1.0",
         "2.29861305",
         "120.80083859999999",
         "-124.6067875",
         "8.0674018",
         "-13.6674016",
         "1.0",
         null,
         null
        ],
        [
         "1",
         "2025-03-19 23:56:23",
         "0.0",
         "19.0",
         "19.0",
         "0.0",
         "0.0",
         "1.0",
         "2.29861305",
         "120.80083859999999",
         "-124.6067875",
         "8.0674018",
         "-13.6674016",
         "1.0",
         null,
         null
        ],
        [
         "2",
         "2025-03-19 23:56:24",
         "0.0",
         "19.0",
         "19.0",
         "0.0",
         "0.0",
         "1.0",
         "2.553254",
         "121.02469999999998",
         "-125.85828",
         "8.1324538",
         "-15.664904000000002",
         "1.0",
         null,
         null
        ],
        [
         "3",
         "2025-03-19 23:56:25",
         "0.0",
         "19.0",
         "19.0",
         "0.0",
         "0.0",
         "1.0",
         "2.553254",
         "121.02469999999998",
         "-125.85828",
         "8.1324538",
         "-15.664904000000002",
         "1.0",
         null,
         null
        ],
        [
         "4",
         "2025-03-19 23:56:26",
         "0.0",
         "19.0",
         "19.0",
         "0.0",
         "0.0",
         "1.0",
         "2.553254",
         "121.02469999999998",
         "-125.85828",
         "8.1324538",
         "-15.664904000000002",
         "1.0",
         null,
         null
        ]
       ],
       "shape": {
        "columns": 15,
        "rows": 5
       }
      },
      "text/html": [
       "<div>\n",
       "<style scoped>\n",
       "    .dataframe tbody tr th:only-of-type {\n",
       "        vertical-align: middle;\n",
       "    }\n",
       "\n",
       "    .dataframe tbody tr th {\n",
       "        vertical-align: top;\n",
       "    }\n",
       "\n",
       "    .dataframe thead th {\n",
       "        text-align: right;\n",
       "    }\n",
       "</style>\n",
       "<table border=\"1\" class=\"dataframe\">\n",
       "  <thead>\n",
       "    <tr style=\"text-align: right;\">\n",
       "      <th></th>\n",
       "      <th>timestamp</th>\n",
       "      <th>fivegs_amffunction_amf_authreject_value</th>\n",
       "      <th>fivegs_amffunction_amf_authreq_value</th>\n",
       "      <th>fivegs_amffunction_rm_reginitsucc_value</th>\n",
       "      <th>fivegs_ep_n3_gtp_indatapktn3upf_value</th>\n",
       "      <th>fivegs_ep_n3_gtp_outdatapktn3upf_value</th>\n",
       "      <th>fivegs_upffunction_upf_sessionnbr_value</th>\n",
       "      <th>netdata_cgroup_cpu_percentage_average_cd2487a23764_value</th>\n",
       "      <th>netdata_net_net_kilobits_persec_average_br-02c136a167f8_received_value</th>\n",
       "      <th>netdata_net_net_kilobits_persec_average_br-02c136a167f8_sent_value</th>\n",
       "      <th>netdata_net_packets_packets_persec_average_br-02c136a167f8_received_value</th>\n",
       "      <th>netdata_net_packets_packets_persec_average_br-02c136a167f8_sent_value</th>\n",
       "      <th>ues_active_value</th>\n",
       "      <th>application</th>\n",
       "      <th>log_type</th>\n",
       "    </tr>\n",
       "  </thead>\n",
       "  <tbody>\n",
       "    <tr>\n",
       "      <th>0</th>\n",
       "      <td>2025-03-19 23:56:22</td>\n",
       "      <td>0.0</td>\n",
       "      <td>19.0</td>\n",
       "      <td>19.0</td>\n",
       "      <td>0.0</td>\n",
       "      <td>0.0</td>\n",
       "      <td>1.0</td>\n",
       "      <td>2.298613</td>\n",
       "      <td>120.800839</td>\n",
       "      <td>-124.606787</td>\n",
       "      <td>8.067402</td>\n",
       "      <td>-13.667402</td>\n",
       "      <td>1.0</td>\n",
       "      <td>NaN</td>\n",
       "      <td>NaN</td>\n",
       "    </tr>\n",
       "    <tr>\n",
       "      <th>1</th>\n",
       "      <td>2025-03-19 23:56:23</td>\n",
       "      <td>0.0</td>\n",
       "      <td>19.0</td>\n",
       "      <td>19.0</td>\n",
       "      <td>0.0</td>\n",
       "      <td>0.0</td>\n",
       "      <td>1.0</td>\n",
       "      <td>2.298613</td>\n",
       "      <td>120.800839</td>\n",
       "      <td>-124.606787</td>\n",
       "      <td>8.067402</td>\n",
       "      <td>-13.667402</td>\n",
       "      <td>1.0</td>\n",
       "      <td>NaN</td>\n",
       "      <td>NaN</td>\n",
       "    </tr>\n",
       "    <tr>\n",
       "      <th>2</th>\n",
       "      <td>2025-03-19 23:56:24</td>\n",
       "      <td>0.0</td>\n",
       "      <td>19.0</td>\n",
       "      <td>19.0</td>\n",
       "      <td>0.0</td>\n",
       "      <td>0.0</td>\n",
       "      <td>1.0</td>\n",
       "      <td>2.553254</td>\n",
       "      <td>121.024700</td>\n",
       "      <td>-125.858280</td>\n",
       "      <td>8.132454</td>\n",
       "      <td>-15.664904</td>\n",
       "      <td>1.0</td>\n",
       "      <td>NaN</td>\n",
       "      <td>NaN</td>\n",
       "    </tr>\n",
       "    <tr>\n",
       "      <th>3</th>\n",
       "      <td>2025-03-19 23:56:25</td>\n",
       "      <td>0.0</td>\n",
       "      <td>19.0</td>\n",
       "      <td>19.0</td>\n",
       "      <td>0.0</td>\n",
       "      <td>0.0</td>\n",
       "      <td>1.0</td>\n",
       "      <td>2.553254</td>\n",
       "      <td>121.024700</td>\n",
       "      <td>-125.858280</td>\n",
       "      <td>8.132454</td>\n",
       "      <td>-15.664904</td>\n",
       "      <td>1.0</td>\n",
       "      <td>NaN</td>\n",
       "      <td>NaN</td>\n",
       "    </tr>\n",
       "    <tr>\n",
       "      <th>4</th>\n",
       "      <td>2025-03-19 23:56:26</td>\n",
       "      <td>0.0</td>\n",
       "      <td>19.0</td>\n",
       "      <td>19.0</td>\n",
       "      <td>0.0</td>\n",
       "      <td>0.0</td>\n",
       "      <td>1.0</td>\n",
       "      <td>2.553254</td>\n",
       "      <td>121.024700</td>\n",
       "      <td>-125.858280</td>\n",
       "      <td>8.132454</td>\n",
       "      <td>-15.664904</td>\n",
       "      <td>1.0</td>\n",
       "      <td>NaN</td>\n",
       "      <td>NaN</td>\n",
       "    </tr>\n",
       "  </tbody>\n",
       "</table>\n",
       "</div>"
      ],
      "text/plain": [
       "            timestamp  fivegs_amffunction_amf_authreject_value  \\\n",
       "0 2025-03-19 23:56:22                                      0.0   \n",
       "1 2025-03-19 23:56:23                                      0.0   \n",
       "2 2025-03-19 23:56:24                                      0.0   \n",
       "3 2025-03-19 23:56:25                                      0.0   \n",
       "4 2025-03-19 23:56:26                                      0.0   \n",
       "\n",
       "   fivegs_amffunction_amf_authreq_value  \\\n",
       "0                                  19.0   \n",
       "1                                  19.0   \n",
       "2                                  19.0   \n",
       "3                                  19.0   \n",
       "4                                  19.0   \n",
       "\n",
       "   fivegs_amffunction_rm_reginitsucc_value  \\\n",
       "0                                     19.0   \n",
       "1                                     19.0   \n",
       "2                                     19.0   \n",
       "3                                     19.0   \n",
       "4                                     19.0   \n",
       "\n",
       "   fivegs_ep_n3_gtp_indatapktn3upf_value  \\\n",
       "0                                    0.0   \n",
       "1                                    0.0   \n",
       "2                                    0.0   \n",
       "3                                    0.0   \n",
       "4                                    0.0   \n",
       "\n",
       "   fivegs_ep_n3_gtp_outdatapktn3upf_value  \\\n",
       "0                                     0.0   \n",
       "1                                     0.0   \n",
       "2                                     0.0   \n",
       "3                                     0.0   \n",
       "4                                     0.0   \n",
       "\n",
       "   fivegs_upffunction_upf_sessionnbr_value  \\\n",
       "0                                      1.0   \n",
       "1                                      1.0   \n",
       "2                                      1.0   \n",
       "3                                      1.0   \n",
       "4                                      1.0   \n",
       "\n",
       "   netdata_cgroup_cpu_percentage_average_cd2487a23764_value  \\\n",
       "0                                           2.298613          \n",
       "1                                           2.298613          \n",
       "2                                           2.553254          \n",
       "3                                           2.553254          \n",
       "4                                           2.553254          \n",
       "\n",
       "   netdata_net_net_kilobits_persec_average_br-02c136a167f8_received_value  \\\n",
       "0                                         120.800839                        \n",
       "1                                         120.800839                        \n",
       "2                                         121.024700                        \n",
       "3                                         121.024700                        \n",
       "4                                         121.024700                        \n",
       "\n",
       "   netdata_net_net_kilobits_persec_average_br-02c136a167f8_sent_value  \\\n",
       "0                                        -124.606787                    \n",
       "1                                        -124.606787                    \n",
       "2                                        -125.858280                    \n",
       "3                                        -125.858280                    \n",
       "4                                        -125.858280                    \n",
       "\n",
       "   netdata_net_packets_packets_persec_average_br-02c136a167f8_received_value  \\\n",
       "0                                           8.067402                           \n",
       "1                                           8.067402                           \n",
       "2                                           8.132454                           \n",
       "3                                           8.132454                           \n",
       "4                                           8.132454                           \n",
       "\n",
       "   netdata_net_packets_packets_persec_average_br-02c136a167f8_sent_value  \\\n",
       "0                                         -13.667402                       \n",
       "1                                         -13.667402                       \n",
       "2                                         -15.664904                       \n",
       "3                                         -15.664904                       \n",
       "4                                         -15.664904                       \n",
       "\n",
       "   ues_active_value application log_type  \n",
       "0               1.0         NaN      NaN  \n",
       "1               1.0         NaN      NaN  \n",
       "2               1.0         NaN      NaN  \n",
       "3               1.0         NaN      NaN  \n",
       "4               1.0         NaN      NaN  "
      ]
     },
     "execution_count": 29,
     "metadata": {},
     "output_type": "execute_result"
    }
   ],
   "source": [
    "merged_data.head()"
   ]
  },
  {
   "cell_type": "code",
   "execution_count": 30,
   "metadata": {
    "execution": {
     "iopub.execute_input": "2025-03-19T22:41:17.397728Z",
     "iopub.status.busy": "2025-03-19T22:41:17.397653Z",
     "iopub.status.idle": "2025-03-19T22:41:17.400300Z",
     "shell.execute_reply": "2025-03-19T22:41:17.400066Z"
    }
   },
   "outputs": [
    {
     "name": "stdout",
     "output_type": "stream",
     "text": [
      "✅ Updated Column Names: Index(['timestamp', 'Auth Reject Count', 'Auth Request Count',\n",
      "       'Registration Success', 'Incoming Data Packets',\n",
      "       'Outgoing Data Packets', 'Session Number', 'CPU Usage (Open5GS)',\n",
      "       'Network Traffic In (kbps)', 'Network Traffic Out (kbps)',\n",
      "       'Packets Received (pps)', 'Packets Sent (pps)', 'Active UEs',\n",
      "       'Application Name', 'Log Type'],\n",
      "      dtype='object')\n"
     ]
    }
   ],
   "source": [
    "# Define a mapping for renaming columns\n",
    "column_rename_mapping = {\n",
    "    \"fivegs_amffunction_amf_authreject_value\": \"Auth Reject Count\",\n",
    "    \"fivegs_amffunction_amf_authreq_value\": \"Auth Request Count\",\n",
    "    \"fivegs_amffunction_rm_reginitsucc_value\": \"Registration Success\",\n",
    "    \"fivegs_ep_n3_gtp_outdatapktn3upf_value\": \"Outgoing Data Packets\",\n",
    "    \"fivegs_ep_n3_gtp_indatapktn3upf_value\": \"Incoming Data Packets\",\n",
    "    \"fivegs_upffunction_upf_sessionnbr_value\": \"Session Number\",\n",
    "\n",
    "    # NetData metrics\n",
    "    \"netdata_cgroup_cpu_percentage_average_cd2487a23764_value\": \"CPU Usage (Open5GS)\",\n",
    "    \"netdata_net_net_kilobits_persec_average_br-02c136a167f8_received_value\": \"Network Traffic In (kbps)\",\n",
    "    \"netdata_net_net_kilobits_persec_average_br-02c136a167f8_sent_value\": \"Network Traffic Out (kbps)\",\n",
    "    \"netdata_net_packets_packets_persec_average_br-02c136a167f8_received_value\": \"Packets Received (pps)\",\n",
    "    \"netdata_net_packets_packets_persec_average_br-02c136a167f8_sent_value\": \"Packets Sent (pps)\",\n",
    "\n",
    "    # UEs and logs\n",
    "    \"ues_active_value\": \"Active UEs\",\n",
    "    \"application\": \"Application Name\",\n",
    "    \"log_type\": \"Log Type\"\n",
    "}\n",
    "\n",
    "# Apply renaming\n",
    "merged_data.rename(columns=column_rename_mapping, inplace=True)\n",
    "\n",
    "# Print updated column names for verification\n",
    "print(\"✅ Updated Column Names:\", merged_data.columns)\n"
   ]
  },
  {
   "cell_type": "code",
   "execution_count": 31,
   "metadata": {
    "execution": {
     "iopub.execute_input": "2025-03-19T22:41:17.401305Z",
     "iopub.status.busy": "2025-03-19T22:41:17.401232Z",
     "iopub.status.idle": "2025-03-19T22:41:17.405493Z",
     "shell.execute_reply": "2025-03-19T22:41:17.405295Z"
    }
   },
   "outputs": [
    {
     "name": "stdout",
     "output_type": "stream",
     "text": [
      "✅ Data merged successfully in 0:00:00.466193\n"
     ]
    }
   ],
   "source": [
    "# Append the merged data to a CSV file\n",
    "\n",
    "# Check if the file exists\n",
    "if os.path.exists(\"merged_data.csv\"):\n",
    "    existing_data = pd.read_csv(\"merged_data.csv\")\n",
    "else:\n",
    "    existing_data = pd.DataFrame()\n",
    "\n",
    "merged_data = pd.concat([existing_data, merged_data], ignore_index=True)\n",
    "\n",
    "# Save the merged data to a CSV file\n",
    "merged_data.to_csv(\"merged_data.csv\", index=False)\n",
    "\n",
    "end = datetime.now()\n",
    "print(f\"✅ Data merged successfully in {end - start}\")"
   ]
  }
 ],
 "metadata": {
  "kernelspec": {
   "display_name": ".venv",
   "language": "python",
   "name": "python3"
  },
  "language_info": {
   "codemirror_mode": {
    "name": "ipython",
    "version": 3
   },
   "file_extension": ".py",
   "mimetype": "text/x-python",
   "name": "python",
   "nbconvert_exporter": "python",
   "pygments_lexer": "ipython3",
   "version": "3.9.6"
  }
 },
 "nbformat": 4,
 "nbformat_minor": 2
}
