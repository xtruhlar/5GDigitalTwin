{
 "cells": [
  {
   "cell_type": "code",
   "execution_count": 203,
   "metadata": {},
   "outputs": [],
   "source": [
    "import pandas as pd\n",
    "from prometheus_api_client import PrometheusConnect, MetricSnapshotDataFrame\n",
    "from datetime import datetime\n",
    "import os\n",
    "import re"
   ]
  },
  {
   "cell_type": "code",
   "execution_count": 204,
   "metadata": {},
   "outputs": [
    {
     "name": "stdout",
     "output_type": "stream",
     "text": [
      "Connected to Prometheus\n"
     ]
    }
   ],
   "source": [
    "# Create a connection to prometheus\n",
    "try:\n",
    "    prom = PrometheusConnect(url=\"http://localhost:9090\", disable_ssl=True)\n",
    "    print(\"Connected to Prometheus\")\n",
    "except Exception as e:\n",
    "    print(f\"Error connecting to Prometheus: {e}\")"
   ]
  },
  {
   "cell_type": "code",
   "execution_count": 205,
   "metadata": {},
   "outputs": [],
   "source": [
    "start_time = \"2025-03-19T20:25:00Z\"\n",
    "end_time = \"2025-03-19T20:33:00Z\"\n",
    "step = \"1s\"\n",
    "\n",
    "start_time = datetime.strptime(start_time, \"%Y-%m-%dT%H:%M:%SZ\")\n",
    "end_time = datetime.strptime(end_time, \"%Y-%m-%dT%H:%M:%SZ\")"
   ]
  },
  {
   "cell_type": "code",
   "execution_count": 206,
   "metadata": {},
   "outputs": [],
   "source": [
    "# List of important metrics\n",
    "metrics = [\n",
    "    # Open5GS metrics\n",
    "    \"fivegs_amffunction_amf_authreject\",\n",
    "    \"fivegs_amffunction_amf_authreq\",\n",
    "    \"fivegs_amffunction_rm_reginitsucc\", # for registration success\n",
    "    \"fivegs_ep_n3_gtp_indatapktn3upf\", # for incoming data packets\n",
    "    \"fivegs_ep_n3_gtp_outdatapktn3upf\", # for outgoing data packets\n",
    "    \"fivegs_upffunction_upf_sessionnbr\", # for session number\n",
    "    \"ues_active\", # for active UEs\n",
    "\n",
    "    # NetData metrics for network traffic\n",
    "    'netdata_net_packets_packets_persec_average{device=\"br-02c136a167f8\", dimension=\"received\"}',\n",
    "    'netdata_net_packets_packets_persec_average{device=\"br-02c136a167f8\", dimension=\"sent\"}',\n",
    "    \"netdata_net_net_kilobits_persec_average{device='br-02c136a167f8', dimension='received'}\",\n",
    "    \"netdata_net_net_kilobits_persec_average{device='br-02c136a167f8', dimension='sent'}\",\n",
    "    \"netdata_cgroup_cpu_percentage_average{cgroup_name='cd2487a23764'}\",\n",
    "    ]"
   ]
  },
  {
   "cell_type": "code",
   "execution_count": 207,
   "metadata": {},
   "outputs": [],
   "source": [
    "# Create an empty DataFrame to store all metrics\n",
    "df_list = []"
   ]
  },
  {
   "cell_type": "code",
   "execution_count": 208,
   "metadata": {},
   "outputs": [],
   "source": [
    "import pytz  # For timezone conversion\n",
    "\n",
    "# Define your local timezone (change this if necessary)\n",
    "LOCAL_TZ = pytz.timezone(\"Europe/Bratislava\")  # Change if needed\n",
    "\n",
    "# Fetch metrics and transform timestamps\n",
    "for metric in metrics:\n",
    "    try:\n",
    "        response = prom.custom_query_range(\n",
    "            metric, start_time=start_time, end_time=end_time, step=step\n",
    "        )\n",
    "\n",
    "        # Ensure response is not empty\n",
    "        if not response:\n",
    "            print(f\"⚠️ Warning: No data for metric {metric}\")\n",
    "            continue\n",
    "\n",
    "        # Process each metric entry\n",
    "        for entry in response:\n",
    "            base_metric_name = entry[\"metric\"][\"__name__\"]\n",
    "\n",
    "            # Extract metadata if available\n",
    "            dimension = entry[\"metric\"].get(\"dimension\", None)\n",
    "            device = entry[\"metric\"].get(\"device\", None)\n",
    "            cgroup_name = entry[\"metric\"].get(\"cgroup_name\", None)\n",
    "\n",
    "            # Construct metric name properly\n",
    "            metric_name = base_metric_name\n",
    "            if device and dimension:\n",
    "                metric_name = f\"{base_metric_name}_{device}_{dimension}\"\n",
    "            elif device:\n",
    "                metric_name = f\"{base_metric_name}_{device}\"\n",
    "            elif cgroup_name:\n",
    "                metric_name = f\"{base_metric_name}_{cgroup_name}\"\n",
    "\n",
    "            # Extract and format values with timezone conversion\n",
    "            if \"values\" in entry and isinstance(entry[\"values\"], list):\n",
    "                extracted_values = [\n",
    "                   (datetime.utcfromtimestamp(int(ts)).replace(tzinfo=pytz.utc).astimezone(LOCAL_TZ), float(val))\n",
    "                    for ts, val in entry[\"values\"]\n",
    "                ]\n",
    "\n",
    "                # Create DataFrame\n",
    "                metric_df = pd.DataFrame(extracted_values, columns=[\"timestamp\", \"value\"])\n",
    "                metric_df[\"metric_name\"] = metric_name\n",
    "\n",
    "                # Append to list\n",
    "                df_list.append(metric_df)\n",
    "            else:\n",
    "                print(f\"⚠️ Warning: No valid values found for {metric}\")\n",
    "\n",
    "    except Exception as e:\n",
    "        print(f\"❌ Error fetching {metric}: {e}\")\n"
   ]
  },
  {
   "cell_type": "code",
   "execution_count": 209,
   "metadata": {},
   "outputs": [],
   "source": [
    "if df_list:\n",
    "    final_df = pd.concat(df_list, ignore_index=True)"
   ]
  },
  {
   "cell_type": "code",
   "execution_count": 210,
   "metadata": {},
   "outputs": [],
   "source": [
    "# Remove +01:00 from the timestamp\n",
    "final_df['timestamp'] = final_df['timestamp'].astype(str).str.replace(r'\\+\\d{2}:\\d{2}', '', regex=True)"
   ]
  },
  {
   "cell_type": "code",
   "execution_count": 211,
   "metadata": {},
   "outputs": [
    {
     "data": {
      "application/vnd.microsoft.datawrangler.viewer.v0+json": {
       "columns": [
        {
         "name": "index",
         "rawType": "int64",
         "type": "integer"
        },
        {
         "name": "timestamp",
         "rawType": "object",
         "type": "string"
        },
        {
         "name": "value",
         "rawType": "float64",
         "type": "float"
        },
        {
         "name": "metric_name",
         "rawType": "object",
         "type": "string"
        }
       ],
       "conversionMethod": "pd.DataFrame",
       "ref": "316c77a0-9124-4d0f-8dad-3ddd746948fd",
       "rows": [
        [
         "0",
         "2025-03-19 20:28:05",
         "0.0",
         "fivegs_amffunction_amf_authreject"
        ],
        [
         "1",
         "2025-03-19 20:28:06",
         "0.0",
         "fivegs_amffunction_amf_authreject"
        ],
        [
         "2",
         "2025-03-19 20:28:07",
         "0.0",
         "fivegs_amffunction_amf_authreject"
        ],
        [
         "3",
         "2025-03-19 20:28:08",
         "0.0",
         "fivegs_amffunction_amf_authreject"
        ],
        [
         "4",
         "2025-03-19 20:28:09",
         "0.0",
         "fivegs_amffunction_amf_authreject"
        ]
       ],
       "shape": {
        "columns": 3,
        "rows": 5
       }
      },
      "text/html": [
       "<div>\n",
       "<style scoped>\n",
       "    .dataframe tbody tr th:only-of-type {\n",
       "        vertical-align: middle;\n",
       "    }\n",
       "\n",
       "    .dataframe tbody tr th {\n",
       "        vertical-align: top;\n",
       "    }\n",
       "\n",
       "    .dataframe thead th {\n",
       "        text-align: right;\n",
       "    }\n",
       "</style>\n",
       "<table border=\"1\" class=\"dataframe\">\n",
       "  <thead>\n",
       "    <tr style=\"text-align: right;\">\n",
       "      <th></th>\n",
       "      <th>timestamp</th>\n",
       "      <th>value</th>\n",
       "      <th>metric_name</th>\n",
       "    </tr>\n",
       "  </thead>\n",
       "  <tbody>\n",
       "    <tr>\n",
       "      <th>0</th>\n",
       "      <td>2025-03-19 20:28:05</td>\n",
       "      <td>0.0</td>\n",
       "      <td>fivegs_amffunction_amf_authreject</td>\n",
       "    </tr>\n",
       "    <tr>\n",
       "      <th>1</th>\n",
       "      <td>2025-03-19 20:28:06</td>\n",
       "      <td>0.0</td>\n",
       "      <td>fivegs_amffunction_amf_authreject</td>\n",
       "    </tr>\n",
       "    <tr>\n",
       "      <th>2</th>\n",
       "      <td>2025-03-19 20:28:07</td>\n",
       "      <td>0.0</td>\n",
       "      <td>fivegs_amffunction_amf_authreject</td>\n",
       "    </tr>\n",
       "    <tr>\n",
       "      <th>3</th>\n",
       "      <td>2025-03-19 20:28:08</td>\n",
       "      <td>0.0</td>\n",
       "      <td>fivegs_amffunction_amf_authreject</td>\n",
       "    </tr>\n",
       "    <tr>\n",
       "      <th>4</th>\n",
       "      <td>2025-03-19 20:28:09</td>\n",
       "      <td>0.0</td>\n",
       "      <td>fivegs_amffunction_amf_authreject</td>\n",
       "    </tr>\n",
       "  </tbody>\n",
       "</table>\n",
       "</div>"
      ],
      "text/plain": [
       "             timestamp  value                        metric_name\n",
       "0  2025-03-19 20:28:05    0.0  fivegs_amffunction_amf_authreject\n",
       "1  2025-03-19 20:28:06    0.0  fivegs_amffunction_amf_authreject\n",
       "2  2025-03-19 20:28:07    0.0  fivegs_amffunction_amf_authreject\n",
       "3  2025-03-19 20:28:08    0.0  fivegs_amffunction_amf_authreject\n",
       "4  2025-03-19 20:28:09    0.0  fivegs_amffunction_amf_authreject"
      ]
     },
     "execution_count": 211,
     "metadata": {},
     "output_type": "execute_result"
    }
   ],
   "source": [
    "final_df.head()"
   ]
  },
  {
   "cell_type": "code",
   "execution_count": 212,
   "metadata": {},
   "outputs": [],
   "source": [
    "log_dir = \"../log/\"\n",
    "\n",
    "# Example:\n",
    "# 03/19 11:20:11.151: [amf] INFO: ngap_server() [172.22.0.10]:38412 (../src/amf/ngap-sctp.c:61)\n",
    "# 03/19 11:20:11.154: [sctp] INFO: AMF initialize...done (../src/amf/app.c:33)\n",
    "# 03/19 11:20:11.174: [sbi] INFO: [bd5d91d4-04ab-41f0-8871-a9dc3c5ef804] NF registered [Heartbeat:10s] (../lib/sbi/nf-sm.c:208)\n",
    "# 03/19 11:20:11.179: [sbi] INFO: NF EndPoint(addr) setup [172.22.0.12:7777] (../lib/sbi/nnrf-handler.c:949)\n",
    "\n",
    "\n",
    "log_pattern = re.compile(r\"(\\d{2}/\\d{2} \\d{2}:\\d{2}:\\d{2}\\.\\d{3}):\\s+\\[(\\w+)\\]\\s+(\\w+):\\s*(.+)\")\n",
    "\n",
    "log_data = []"
   ]
  },
  {
   "cell_type": "code",
   "execution_count": 213,
   "metadata": {},
   "outputs": [],
   "source": [
    "# Iterate over all log files in the directory\n",
    "for log_file in os.listdir(log_dir):\n",
    "    log_path = os.path.join(log_dir, log_file)\n",
    "    \n",
    "    with open(log_path, \"r\", encoding=\"utf-8\", errors=\"ignore\") as f:\n",
    "        for line in f:\n",
    "            match = log_pattern.match(line)\n",
    "            if match:\n",
    "                timestamp_str, application, log_level, log_message = match.groups()\n",
    "\n",
    "                # Convert timestamp to datetime (add missing year)\n",
    "                log_timestamp = datetime.strptime(timestamp_str, \"%m/%d %H:%M:%S.%f\")\n",
    "                log_timestamp = log_timestamp.replace(year=start_time.year)  # Assign correct year\n",
    "\n",
    "                # 🔹 Remove milliseconds to match Prometheus format\n",
    "                log_timestamp = log_timestamp.strftime(\"%Y-%m-%d %H:%M:%S\")\n",
    "\n",
    "                # Check if the log timestamp is between start and end time\n",
    "                if start_time.strftime(\"%Y-%m-%d %H:%M:%S\") <= log_timestamp <= end_time.strftime(\"%Y-%m-%d %H:%M:%S\"):\n",
    "                    log_data.append({\n",
    "                        \"timestamp\": log_timestamp,\n",
    "                        \"application\": application,\n",
    "                        \"log_level\": log_level,\n",
    "                        \"log_message\": log_message\n",
    "                    })\n"
   ]
  },
  {
   "cell_type": "code",
   "execution_count": 214,
   "metadata": {},
   "outputs": [
    {
     "data": {
      "application/vnd.microsoft.datawrangler.viewer.v0+json": {
       "columns": [
        {
         "name": "index",
         "rawType": "int64",
         "type": "integer"
        },
        {
         "name": "timestamp",
         "rawType": "object",
         "type": "string"
        },
        {
         "name": "application",
         "rawType": "object",
         "type": "string"
        },
        {
         "name": "log_level",
         "rawType": "object",
         "type": "string"
        },
        {
         "name": "log_message",
         "rawType": "object",
         "type": "string"
        }
       ],
       "conversionMethod": "pd.DataFrame",
       "ref": "e6afcb14-b96c-41e7-a065-ca2dc91427b7",
       "rows": [
        [
         "0",
         "2025-03-19 20:27:59",
         "app",
         "INFO",
         "Configuration: '/open5gs/install/etc/open5gs/sgwu.yaml' (../lib/app/ogs-init.c:144)"
        ],
        [
         "1",
         "2025-03-19 20:27:59",
         "app",
         "INFO",
         "File Logging: '/open5gs/install/var/log/open5gs/sgwu.log' (../lib/app/ogs-init.c:147)"
        ],
        [
         "2",
         "2025-03-19 20:27:59",
         "pfcp",
         "INFO",
         "pfcp_server() [172.22.0.6]:8805 (../lib/pfcp/path.c:30)"
        ],
        [
         "3",
         "2025-03-19 20:27:59",
         "pfcp",
         "INFO",
         "ogs_pfcp_connect() [172.22.0.5]:8805 (../lib/pfcp/path.c:61)"
        ],
        [
         "4",
         "2025-03-19 20:27:59",
         "gtp",
         "INFO",
         "gtp_server() [172.22.0.6]:2152 (../lib/gtp/path.c:30)"
        ]
       ],
       "shape": {
        "columns": 4,
        "rows": 5
       }
      },
      "text/html": [
       "<div>\n",
       "<style scoped>\n",
       "    .dataframe tbody tr th:only-of-type {\n",
       "        vertical-align: middle;\n",
       "    }\n",
       "\n",
       "    .dataframe tbody tr th {\n",
       "        vertical-align: top;\n",
       "    }\n",
       "\n",
       "    .dataframe thead th {\n",
       "        text-align: right;\n",
       "    }\n",
       "</style>\n",
       "<table border=\"1\" class=\"dataframe\">\n",
       "  <thead>\n",
       "    <tr style=\"text-align: right;\">\n",
       "      <th></th>\n",
       "      <th>timestamp</th>\n",
       "      <th>application</th>\n",
       "      <th>log_level</th>\n",
       "      <th>log_message</th>\n",
       "    </tr>\n",
       "  </thead>\n",
       "  <tbody>\n",
       "    <tr>\n",
       "      <th>0</th>\n",
       "      <td>2025-03-19 20:27:59</td>\n",
       "      <td>app</td>\n",
       "      <td>INFO</td>\n",
       "      <td>Configuration: '/open5gs/install/etc/open5gs/s...</td>\n",
       "    </tr>\n",
       "    <tr>\n",
       "      <th>1</th>\n",
       "      <td>2025-03-19 20:27:59</td>\n",
       "      <td>app</td>\n",
       "      <td>INFO</td>\n",
       "      <td>File Logging: '/open5gs/install/var/log/open5g...</td>\n",
       "    </tr>\n",
       "    <tr>\n",
       "      <th>2</th>\n",
       "      <td>2025-03-19 20:27:59</td>\n",
       "      <td>pfcp</td>\n",
       "      <td>INFO</td>\n",
       "      <td>pfcp_server() [172.22.0.6]:8805 (../lib/pfcp/p...</td>\n",
       "    </tr>\n",
       "    <tr>\n",
       "      <th>3</th>\n",
       "      <td>2025-03-19 20:27:59</td>\n",
       "      <td>pfcp</td>\n",
       "      <td>INFO</td>\n",
       "      <td>ogs_pfcp_connect() [172.22.0.5]:8805 (../lib/p...</td>\n",
       "    </tr>\n",
       "    <tr>\n",
       "      <th>4</th>\n",
       "      <td>2025-03-19 20:27:59</td>\n",
       "      <td>gtp</td>\n",
       "      <td>INFO</td>\n",
       "      <td>gtp_server() [172.22.0.6]:2152 (../lib/gtp/pat...</td>\n",
       "    </tr>\n",
       "  </tbody>\n",
       "</table>\n",
       "</div>"
      ],
      "text/plain": [
       "             timestamp application log_level  \\\n",
       "0  2025-03-19 20:27:59         app      INFO   \n",
       "1  2025-03-19 20:27:59         app      INFO   \n",
       "2  2025-03-19 20:27:59        pfcp      INFO   \n",
       "3  2025-03-19 20:27:59        pfcp      INFO   \n",
       "4  2025-03-19 20:27:59         gtp      INFO   \n",
       "\n",
       "                                         log_message  \n",
       "0  Configuration: '/open5gs/install/etc/open5gs/s...  \n",
       "1  File Logging: '/open5gs/install/var/log/open5g...  \n",
       "2  pfcp_server() [172.22.0.6]:8805 (../lib/pfcp/p...  \n",
       "3  ogs_pfcp_connect() [172.22.0.5]:8805 (../lib/p...  \n",
       "4  gtp_server() [172.22.0.6]:2152 (../lib/gtp/pat...  "
      ]
     },
     "execution_count": 214,
     "metadata": {},
     "output_type": "execute_result"
    }
   ],
   "source": [
    "log_data = pd.DataFrame(log_data)\n",
    "log_data.head()"
   ]
  },
  {
   "cell_type": "code",
   "execution_count": 215,
   "metadata": {},
   "outputs": [
    {
     "data": {
      "application/vnd.microsoft.datawrangler.viewer.v0+json": {
       "columns": [
        {
         "name": "index",
         "rawType": "int64",
         "type": "integer"
        },
        {
         "name": "timestamp",
         "rawType": "datetime64[ns]",
         "type": "datetime"
        },
        {
         "name": "application",
         "rawType": "object",
         "type": "string"
        },
        {
         "name": "log_level",
         "rawType": "object",
         "type": "string"
        },
        {
         "name": "log_message",
         "rawType": "object",
         "type": "string"
        }
       ],
       "conversionMethod": "pd.DataFrame",
       "ref": "50463d9a-5b83-43ab-ac8f-3307ece86ea2",
       "rows": [
        [
         "0",
         "2025-03-19 20:27:59",
         "app",
         "INFO",
         "Configuration: '/open5gs/install/etc/open5gs/sgwu.yaml' (../lib/app/ogs-init.c:144)"
        ]
       ],
       "shape": {
        "columns": 4,
        "rows": 1
       }
      },
      "text/html": [
       "<div>\n",
       "<style scoped>\n",
       "    .dataframe tbody tr th:only-of-type {\n",
       "        vertical-align: middle;\n",
       "    }\n",
       "\n",
       "    .dataframe tbody tr th {\n",
       "        vertical-align: top;\n",
       "    }\n",
       "\n",
       "    .dataframe thead th {\n",
       "        text-align: right;\n",
       "    }\n",
       "</style>\n",
       "<table border=\"1\" class=\"dataframe\">\n",
       "  <thead>\n",
       "    <tr style=\"text-align: right;\">\n",
       "      <th></th>\n",
       "      <th>timestamp</th>\n",
       "      <th>application</th>\n",
       "      <th>log_level</th>\n",
       "      <th>log_message</th>\n",
       "    </tr>\n",
       "  </thead>\n",
       "  <tbody>\n",
       "    <tr>\n",
       "      <th>0</th>\n",
       "      <td>2025-03-19 20:27:59</td>\n",
       "      <td>app</td>\n",
       "      <td>INFO</td>\n",
       "      <td>Configuration: '/open5gs/install/etc/open5gs/s...</td>\n",
       "    </tr>\n",
       "  </tbody>\n",
       "</table>\n",
       "</div>"
      ],
      "text/plain": [
       "            timestamp application log_level  \\\n",
       "0 2025-03-19 20:27:59         app      INFO   \n",
       "\n",
       "                                         log_message  \n",
       "0  Configuration: '/open5gs/install/etc/open5gs/s...  "
      ]
     },
     "execution_count": 215,
     "metadata": {},
     "output_type": "execute_result"
    }
   ],
   "source": [
    "log_data[\"timestamp\"] = pd.to_datetime(log_data[\"timestamp\"])\n",
    "log_data.head(1)"
   ]
  },
  {
   "cell_type": "code",
   "execution_count": 216,
   "metadata": {},
   "outputs": [
    {
     "data": {
      "application/vnd.microsoft.datawrangler.viewer.v0+json": {
       "columns": [
        {
         "name": "index",
         "rawType": "int64",
         "type": "integer"
        },
        {
         "name": "timestamp",
         "rawType": "datetime64[ns]",
         "type": "datetime"
        },
        {
         "name": "value",
         "rawType": "float64",
         "type": "float"
        },
        {
         "name": "metric_name",
         "rawType": "object",
         "type": "string"
        }
       ],
       "conversionMethod": "pd.DataFrame",
       "ref": "d2d1b4be-af73-4324-88fb-00c66af841cc",
       "rows": [
        [
         "0",
         "2025-03-19 20:28:05",
         "0.0",
         "fivegs_amffunction_amf_authreject"
        ]
       ],
       "shape": {
        "columns": 3,
        "rows": 1
       }
      },
      "text/html": [
       "<div>\n",
       "<style scoped>\n",
       "    .dataframe tbody tr th:only-of-type {\n",
       "        vertical-align: middle;\n",
       "    }\n",
       "\n",
       "    .dataframe tbody tr th {\n",
       "        vertical-align: top;\n",
       "    }\n",
       "\n",
       "    .dataframe thead th {\n",
       "        text-align: right;\n",
       "    }\n",
       "</style>\n",
       "<table border=\"1\" class=\"dataframe\">\n",
       "  <thead>\n",
       "    <tr style=\"text-align: right;\">\n",
       "      <th></th>\n",
       "      <th>timestamp</th>\n",
       "      <th>value</th>\n",
       "      <th>metric_name</th>\n",
       "    </tr>\n",
       "  </thead>\n",
       "  <tbody>\n",
       "    <tr>\n",
       "      <th>0</th>\n",
       "      <td>2025-03-19 20:28:05</td>\n",
       "      <td>0.0</td>\n",
       "      <td>fivegs_amffunction_amf_authreject</td>\n",
       "    </tr>\n",
       "  </tbody>\n",
       "</table>\n",
       "</div>"
      ],
      "text/plain": [
       "            timestamp  value                        metric_name\n",
       "0 2025-03-19 20:28:05    0.0  fivegs_amffunction_amf_authreject"
      ]
     },
     "execution_count": 216,
     "metadata": {},
     "output_type": "execute_result"
    }
   ],
   "source": [
    "final_df[\"timestamp\"] = pd.to_datetime(final_df[\"timestamp\"])\n",
    "final_df.head(1)"
   ]
  },
  {
   "cell_type": "markdown",
   "metadata": {},
   "source": [
    "log_data and final_df\n",
    "----------------------\n",
    "save()"
   ]
  },
  {
   "cell_type": "code",
   "execution_count": 217,
   "metadata": {},
   "outputs": [],
   "source": [
    "log_data.to_csv(\"log_data.csv\", index=False)\n",
    "final_df.to_csv(\"metrics_data.csv\", index=False)"
   ]
  },
  {
   "cell_type": "code",
   "execution_count": 218,
   "metadata": {},
   "outputs": [],
   "source": [
    "# Load logs separately before merging\n",
    "logs = log_data\n",
    "metrics = final_df"
   ]
  },
  {
   "cell_type": "code",
   "execution_count": 219,
   "metadata": {},
   "outputs": [
    {
     "name": "stdout",
     "output_type": "stream",
     "text": [
      "✅ NetData metrics aggregated and pivoted successfully!\n"
     ]
    },
    {
     "data": {
      "application/vnd.microsoft.datawrangler.viewer.v0+json": {
       "columns": [
        {
         "name": "index",
         "rawType": "int64",
         "type": "integer"
        },
        {
         "name": "timestamp",
         "rawType": "datetime64[ns]",
         "type": "datetime"
        },
        {
         "name": "fivegs_amffunction_amf_authreject_value",
         "rawType": "float64",
         "type": "float"
        },
        {
         "name": "fivegs_amffunction_amf_authreq_value",
         "rawType": "float64",
         "type": "float"
        },
        {
         "name": "fivegs_amffunction_rm_reginitsucc_value",
         "rawType": "float64",
         "type": "float"
        },
        {
         "name": "fivegs_ep_n3_gtp_indatapktn3upf_value",
         "rawType": "float64",
         "type": "float"
        },
        {
         "name": "fivegs_ep_n3_gtp_outdatapktn3upf_value",
         "rawType": "float64",
         "type": "float"
        },
        {
         "name": "fivegs_upffunction_upf_sessionnbr_value",
         "rawType": "float64",
         "type": "float"
        },
        {
         "name": "netdata_cgroup_cpu_percentage_average_cd2487a23764_value",
         "rawType": "float64",
         "type": "float"
        },
        {
         "name": "netdata_net_net_kilobits_persec_average_br-02c136a167f8_received_value",
         "rawType": "float64",
         "type": "float"
        },
        {
         "name": "netdata_net_net_kilobits_persec_average_br-02c136a167f8_sent_value",
         "rawType": "float64",
         "type": "float"
        },
        {
         "name": "netdata_net_packets_packets_persec_average_br-02c136a167f8_received_value",
         "rawType": "float64",
         "type": "float"
        },
        {
         "name": "netdata_net_packets_packets_persec_average_br-02c136a167f8_sent_value",
         "rawType": "float64",
         "type": "float"
        },
        {
         "name": "ues_active_value",
         "rawType": "float64",
         "type": "float"
        }
       ],
       "conversionMethod": "pd.DataFrame",
       "ref": "4438bf4e-907d-4d45-813d-a2d592f8db28",
       "rows": [
        [
         "0",
         "2025-03-19 20:28:04",
         null,
         null,
         null,
         null,
         null,
         null,
         "2.5127055499999997",
         "8.3188273",
         "-9.3387332",
         "2.6536095",
         "-1.649435",
         null
        ]
       ],
       "shape": {
        "columns": 13,
        "rows": 1
       }
      },
      "text/html": [
       "<div>\n",
       "<style scoped>\n",
       "    .dataframe tbody tr th:only-of-type {\n",
       "        vertical-align: middle;\n",
       "    }\n",
       "\n",
       "    .dataframe tbody tr th {\n",
       "        vertical-align: top;\n",
       "    }\n",
       "\n",
       "    .dataframe thead th {\n",
       "        text-align: right;\n",
       "    }\n",
       "</style>\n",
       "<table border=\"1\" class=\"dataframe\">\n",
       "  <thead>\n",
       "    <tr style=\"text-align: right;\">\n",
       "      <th></th>\n",
       "      <th>timestamp</th>\n",
       "      <th>fivegs_amffunction_amf_authreject_value</th>\n",
       "      <th>fivegs_amffunction_amf_authreq_value</th>\n",
       "      <th>fivegs_amffunction_rm_reginitsucc_value</th>\n",
       "      <th>fivegs_ep_n3_gtp_indatapktn3upf_value</th>\n",
       "      <th>fivegs_ep_n3_gtp_outdatapktn3upf_value</th>\n",
       "      <th>fivegs_upffunction_upf_sessionnbr_value</th>\n",
       "      <th>netdata_cgroup_cpu_percentage_average_cd2487a23764_value</th>\n",
       "      <th>netdata_net_net_kilobits_persec_average_br-02c136a167f8_received_value</th>\n",
       "      <th>netdata_net_net_kilobits_persec_average_br-02c136a167f8_sent_value</th>\n",
       "      <th>netdata_net_packets_packets_persec_average_br-02c136a167f8_received_value</th>\n",
       "      <th>netdata_net_packets_packets_persec_average_br-02c136a167f8_sent_value</th>\n",
       "      <th>ues_active_value</th>\n",
       "    </tr>\n",
       "  </thead>\n",
       "  <tbody>\n",
       "    <tr>\n",
       "      <th>0</th>\n",
       "      <td>2025-03-19 20:28:04</td>\n",
       "      <td>NaN</td>\n",
       "      <td>NaN</td>\n",
       "      <td>NaN</td>\n",
       "      <td>NaN</td>\n",
       "      <td>NaN</td>\n",
       "      <td>NaN</td>\n",
       "      <td>2.512706</td>\n",
       "      <td>8.318827</td>\n",
       "      <td>-9.338733</td>\n",
       "      <td>2.653609</td>\n",
       "      <td>-1.649435</td>\n",
       "      <td>NaN</td>\n",
       "    </tr>\n",
       "  </tbody>\n",
       "</table>\n",
       "</div>"
      ],
      "text/plain": [
       "            timestamp  fivegs_amffunction_amf_authreject_value  \\\n",
       "0 2025-03-19 20:28:04                                      NaN   \n",
       "\n",
       "   fivegs_amffunction_amf_authreq_value  \\\n",
       "0                                   NaN   \n",
       "\n",
       "   fivegs_amffunction_rm_reginitsucc_value  \\\n",
       "0                                      NaN   \n",
       "\n",
       "   fivegs_ep_n3_gtp_indatapktn3upf_value  \\\n",
       "0                                    NaN   \n",
       "\n",
       "   fivegs_ep_n3_gtp_outdatapktn3upf_value  \\\n",
       "0                                     NaN   \n",
       "\n",
       "   fivegs_upffunction_upf_sessionnbr_value  \\\n",
       "0                                      NaN   \n",
       "\n",
       "   netdata_cgroup_cpu_percentage_average_cd2487a23764_value  \\\n",
       "0                                           2.512706          \n",
       "\n",
       "   netdata_net_net_kilobits_persec_average_br-02c136a167f8_received_value  \\\n",
       "0                                           8.318827                        \n",
       "\n",
       "   netdata_net_net_kilobits_persec_average_br-02c136a167f8_sent_value  \\\n",
       "0                                          -9.338733                    \n",
       "\n",
       "   netdata_net_packets_packets_persec_average_br-02c136a167f8_received_value  \\\n",
       "0                                           2.653609                           \n",
       "\n",
       "   netdata_net_packets_packets_persec_average_br-02c136a167f8_sent_value  \\\n",
       "0                                          -1.649435                       \n",
       "\n",
       "   ues_active_value  \n",
       "0               NaN  "
      ]
     },
     "execution_count": 219,
     "metadata": {},
     "output_type": "execute_result"
    }
   ],
   "source": [
    "# 🔹 Aggregate NetData metrics (choose appropriate aggregation: mean, sum, max, etc.)\n",
    "netdata_aggregated = metrics.groupby([\"timestamp\", \"metric_name\"])[\"value\"].mean().reset_index()\n",
    "\n",
    "# Pivot NetData metrics so each metric has its own column\n",
    "netdata_pivot = netdata_aggregated.pivot(index=\"timestamp\", columns=\"metric_name\", values=\"value\")\n",
    "\n",
    "# Flatten column names\n",
    "netdata_pivot.columns = [f\"{col}_value\" for col in netdata_pivot.columns]\n",
    "\n",
    "# Reset index to bring timestamp back\n",
    "netdata_pivot.reset_index(inplace=True)\n",
    "\n",
    "print(\"✅ NetData metrics aggregated and pivoted successfully!\")\n",
    "netdata_pivot.head(1)"
   ]
  },
  {
   "cell_type": "code",
   "execution_count": 220,
   "metadata": {},
   "outputs": [],
   "source": [
    "# Define function to classify log messages\n",
    "def classify_log_message(message):\n",
    "    if isinstance(message, str):  # Ensure it's a string before applying .lower()\n",
    "        if \"connect\" in message.lower():\n",
    "            return \"connect\"\n",
    "        elif \"request\" in message.lower():\n",
    "            return \"request\"\n",
    "        elif \"reject\" in message.lower():\n",
    "            return \"reject\"\n",
    "        else:\n",
    "            return \"nothing\"\n",
    "    return \"nothing\"  # Handle missing or NaN values"
   ]
  },
  {
   "cell_type": "code",
   "execution_count": 221,
   "metadata": {},
   "outputs": [],
   "source": [
    "# Apply classification **before merging**\n",
    "logs[\"log_type\"] = logs[\"log_message\"].apply(classify_log_message)"
   ]
  },
  {
   "cell_type": "code",
   "execution_count": 222,
   "metadata": {},
   "outputs": [
    {
     "data": {
      "application/vnd.microsoft.datawrangler.viewer.v0+json": {
       "columns": [
        {
         "name": "index",
         "rawType": "int64",
         "type": "integer"
        },
        {
         "name": "timestamp",
         "rawType": "datetime64[ns]",
         "type": "datetime"
        },
        {
         "name": "application",
         "rawType": "object",
         "type": "string"
        },
        {
         "name": "log_level",
         "rawType": "object",
         "type": "string"
        },
        {
         "name": "log_message",
         "rawType": "object",
         "type": "string"
        },
        {
         "name": "log_type",
         "rawType": "object",
         "type": "string"
        }
       ],
       "conversionMethod": "pd.DataFrame",
       "ref": "789beed8-a1e8-46e7-8651-1a14bd1e7795",
       "rows": [
        [
         "0",
         "2025-03-19 20:27:59",
         "app",
         "INFO",
         "Configuration: '/open5gs/install/etc/open5gs/sgwu.yaml' (../lib/app/ogs-init.c:144)",
         "nothing"
        ]
       ],
       "shape": {
        "columns": 5,
        "rows": 1
       }
      },
      "text/html": [
       "<div>\n",
       "<style scoped>\n",
       "    .dataframe tbody tr th:only-of-type {\n",
       "        vertical-align: middle;\n",
       "    }\n",
       "\n",
       "    .dataframe tbody tr th {\n",
       "        vertical-align: top;\n",
       "    }\n",
       "\n",
       "    .dataframe thead th {\n",
       "        text-align: right;\n",
       "    }\n",
       "</style>\n",
       "<table border=\"1\" class=\"dataframe\">\n",
       "  <thead>\n",
       "    <tr style=\"text-align: right;\">\n",
       "      <th></th>\n",
       "      <th>timestamp</th>\n",
       "      <th>application</th>\n",
       "      <th>log_level</th>\n",
       "      <th>log_message</th>\n",
       "      <th>log_type</th>\n",
       "    </tr>\n",
       "  </thead>\n",
       "  <tbody>\n",
       "    <tr>\n",
       "      <th>0</th>\n",
       "      <td>2025-03-19 20:27:59</td>\n",
       "      <td>app</td>\n",
       "      <td>INFO</td>\n",
       "      <td>Configuration: '/open5gs/install/etc/open5gs/s...</td>\n",
       "      <td>nothing</td>\n",
       "    </tr>\n",
       "  </tbody>\n",
       "</table>\n",
       "</div>"
      ],
      "text/plain": [
       "            timestamp application log_level  \\\n",
       "0 2025-03-19 20:27:59         app      INFO   \n",
       "\n",
       "                                         log_message log_type  \n",
       "0  Configuration: '/open5gs/install/etc/open5gs/s...  nothing  "
      ]
     },
     "execution_count": 222,
     "metadata": {},
     "output_type": "execute_result"
    }
   ],
   "source": [
    "logs.head(1)"
   ]
  },
  {
   "cell_type": "code",
   "execution_count": 223,
   "metadata": {},
   "outputs": [],
   "source": [
    "# Keep only necessary columns from logs\n",
    "logs_short = logs[[\"timestamp\", \"application\", \"log_type\"]]"
   ]
  },
  {
   "cell_type": "code",
   "execution_count": 224,
   "metadata": {},
   "outputs": [
    {
     "data": {
      "application/vnd.microsoft.datawrangler.viewer.v0+json": {
       "columns": [
        {
         "name": "index",
         "rawType": "int64",
         "type": "integer"
        },
        {
         "name": "timestamp",
         "rawType": "datetime64[ns]",
         "type": "datetime"
        },
        {
         "name": "application",
         "rawType": "object",
         "type": "string"
        },
        {
         "name": "log_type",
         "rawType": "object",
         "type": "string"
        }
       ],
       "conversionMethod": "pd.DataFrame",
       "ref": "14e6432e-c537-42f0-ad3e-fe64307c6347",
       "rows": [
        [
         "397",
         "2025-03-19 20:28:09",
         "sbi",
         "nothing"
        ]
       ],
       "shape": {
        "columns": 3,
        "rows": 1
       }
      },
      "text/html": [
       "<div>\n",
       "<style scoped>\n",
       "    .dataframe tbody tr th:only-of-type {\n",
       "        vertical-align: middle;\n",
       "    }\n",
       "\n",
       "    .dataframe tbody tr th {\n",
       "        vertical-align: top;\n",
       "    }\n",
       "\n",
       "    .dataframe thead th {\n",
       "        text-align: right;\n",
       "    }\n",
       "</style>\n",
       "<table border=\"1\" class=\"dataframe\">\n",
       "  <thead>\n",
       "    <tr style=\"text-align: right;\">\n",
       "      <th></th>\n",
       "      <th>timestamp</th>\n",
       "      <th>application</th>\n",
       "      <th>log_type</th>\n",
       "    </tr>\n",
       "  </thead>\n",
       "  <tbody>\n",
       "    <tr>\n",
       "      <th>397</th>\n",
       "      <td>2025-03-19 20:28:09</td>\n",
       "      <td>sbi</td>\n",
       "      <td>nothing</td>\n",
       "    </tr>\n",
       "  </tbody>\n",
       "</table>\n",
       "</div>"
      ],
      "text/plain": [
       "              timestamp application log_type\n",
       "397 2025-03-19 20:28:09         sbi  nothing"
      ]
     },
     "execution_count": 224,
     "metadata": {},
     "output_type": "execute_result"
    }
   ],
   "source": [
    "logs_short.tail(1)"
   ]
  },
  {
   "cell_type": "code",
   "execution_count": 225,
   "metadata": {},
   "outputs": [],
   "source": [
    "# Remove logs before 2025-03-19 12:56:20\n",
    "logs_short = logs_short[logs_short[\"timestamp\"] >= \"2025-03-19 12:56:20\"]"
   ]
  },
  {
   "cell_type": "code",
   "execution_count": 226,
   "metadata": {},
   "outputs": [
    {
     "data": {
      "application/vnd.microsoft.datawrangler.viewer.v0+json": {
       "columns": [
        {
         "name": "index",
         "rawType": "int64",
         "type": "integer"
        },
        {
         "name": "timestamp",
         "rawType": "datetime64[ns]",
         "type": "datetime"
        },
        {
         "name": "fivegs_amffunction_amf_authreject_value",
         "rawType": "float64",
         "type": "float"
        },
        {
         "name": "fivegs_amffunction_amf_authreq_value",
         "rawType": "float64",
         "type": "float"
        },
        {
         "name": "fivegs_amffunction_rm_reginitsucc_value",
         "rawType": "float64",
         "type": "float"
        },
        {
         "name": "fivegs_ep_n3_gtp_indatapktn3upf_value",
         "rawType": "float64",
         "type": "float"
        },
        {
         "name": "fivegs_ep_n3_gtp_outdatapktn3upf_value",
         "rawType": "float64",
         "type": "float"
        },
        {
         "name": "fivegs_upffunction_upf_sessionnbr_value",
         "rawType": "float64",
         "type": "float"
        },
        {
         "name": "netdata_cgroup_cpu_percentage_average_cd2487a23764_value",
         "rawType": "float64",
         "type": "float"
        },
        {
         "name": "netdata_net_net_kilobits_persec_average_br-02c136a167f8_received_value",
         "rawType": "float64",
         "type": "float"
        },
        {
         "name": "netdata_net_net_kilobits_persec_average_br-02c136a167f8_sent_value",
         "rawType": "float64",
         "type": "float"
        },
        {
         "name": "netdata_net_packets_packets_persec_average_br-02c136a167f8_received_value",
         "rawType": "float64",
         "type": "float"
        },
        {
         "name": "netdata_net_packets_packets_persec_average_br-02c136a167f8_sent_value",
         "rawType": "float64",
         "type": "float"
        },
        {
         "name": "ues_active_value",
         "rawType": "float64",
         "type": "float"
        }
       ],
       "conversionMethod": "pd.DataFrame",
       "ref": "159fdf78-986a-4ff7-839b-6dca2b105ba8",
       "rows": [
        [
         "0",
         "2025-03-19 20:28:04",
         null,
         null,
         null,
         null,
         null,
         null,
         "2.5127055499999997",
         "8.3188273",
         "-9.3387332",
         "2.6536095",
         "-1.649435",
         null
        ]
       ],
       "shape": {
        "columns": 13,
        "rows": 1
       }
      },
      "text/html": [
       "<div>\n",
       "<style scoped>\n",
       "    .dataframe tbody tr th:only-of-type {\n",
       "        vertical-align: middle;\n",
       "    }\n",
       "\n",
       "    .dataframe tbody tr th {\n",
       "        vertical-align: top;\n",
       "    }\n",
       "\n",
       "    .dataframe thead th {\n",
       "        text-align: right;\n",
       "    }\n",
       "</style>\n",
       "<table border=\"1\" class=\"dataframe\">\n",
       "  <thead>\n",
       "    <tr style=\"text-align: right;\">\n",
       "      <th></th>\n",
       "      <th>timestamp</th>\n",
       "      <th>fivegs_amffunction_amf_authreject_value</th>\n",
       "      <th>fivegs_amffunction_amf_authreq_value</th>\n",
       "      <th>fivegs_amffunction_rm_reginitsucc_value</th>\n",
       "      <th>fivegs_ep_n3_gtp_indatapktn3upf_value</th>\n",
       "      <th>fivegs_ep_n3_gtp_outdatapktn3upf_value</th>\n",
       "      <th>fivegs_upffunction_upf_sessionnbr_value</th>\n",
       "      <th>netdata_cgroup_cpu_percentage_average_cd2487a23764_value</th>\n",
       "      <th>netdata_net_net_kilobits_persec_average_br-02c136a167f8_received_value</th>\n",
       "      <th>netdata_net_net_kilobits_persec_average_br-02c136a167f8_sent_value</th>\n",
       "      <th>netdata_net_packets_packets_persec_average_br-02c136a167f8_received_value</th>\n",
       "      <th>netdata_net_packets_packets_persec_average_br-02c136a167f8_sent_value</th>\n",
       "      <th>ues_active_value</th>\n",
       "    </tr>\n",
       "  </thead>\n",
       "  <tbody>\n",
       "    <tr>\n",
       "      <th>0</th>\n",
       "      <td>2025-03-19 20:28:04</td>\n",
       "      <td>NaN</td>\n",
       "      <td>NaN</td>\n",
       "      <td>NaN</td>\n",
       "      <td>NaN</td>\n",
       "      <td>NaN</td>\n",
       "      <td>NaN</td>\n",
       "      <td>2.512706</td>\n",
       "      <td>8.318827</td>\n",
       "      <td>-9.338733</td>\n",
       "      <td>2.653609</td>\n",
       "      <td>-1.649435</td>\n",
       "      <td>NaN</td>\n",
       "    </tr>\n",
       "  </tbody>\n",
       "</table>\n",
       "</div>"
      ],
      "text/plain": [
       "            timestamp  fivegs_amffunction_amf_authreject_value  \\\n",
       "0 2025-03-19 20:28:04                                      NaN   \n",
       "\n",
       "   fivegs_amffunction_amf_authreq_value  \\\n",
       "0                                   NaN   \n",
       "\n",
       "   fivegs_amffunction_rm_reginitsucc_value  \\\n",
       "0                                      NaN   \n",
       "\n",
       "   fivegs_ep_n3_gtp_indatapktn3upf_value  \\\n",
       "0                                    NaN   \n",
       "\n",
       "   fivegs_ep_n3_gtp_outdatapktn3upf_value  \\\n",
       "0                                     NaN   \n",
       "\n",
       "   fivegs_upffunction_upf_sessionnbr_value  \\\n",
       "0                                      NaN   \n",
       "\n",
       "   netdata_cgroup_cpu_percentage_average_cd2487a23764_value  \\\n",
       "0                                           2.512706          \n",
       "\n",
       "   netdata_net_net_kilobits_persec_average_br-02c136a167f8_received_value  \\\n",
       "0                                           8.318827                        \n",
       "\n",
       "   netdata_net_net_kilobits_persec_average_br-02c136a167f8_sent_value  \\\n",
       "0                                          -9.338733                    \n",
       "\n",
       "   netdata_net_packets_packets_persec_average_br-02c136a167f8_received_value  \\\n",
       "0                                           2.653609                           \n",
       "\n",
       "   netdata_net_packets_packets_persec_average_br-02c136a167f8_sent_value  \\\n",
       "0                                          -1.649435                       \n",
       "\n",
       "   ues_active_value  \n",
       "0               NaN  "
      ]
     },
     "execution_count": 226,
     "metadata": {},
     "output_type": "execute_result"
    }
   ],
   "source": [
    "netdata_pivot.head(1)"
   ]
  },
  {
   "cell_type": "code",
   "execution_count": 227,
   "metadata": {},
   "outputs": [],
   "source": [
    "# Merge logs with NetData metrics\n",
    "merged_data = pd.merge(netdata_pivot, logs_short, on=\"timestamp\", how=\"outer\")"
   ]
  },
  {
   "cell_type": "code",
   "execution_count": 228,
   "metadata": {},
   "outputs": [
    {
     "name": "stdout",
     "output_type": "stream",
     "text": [
      "✅ Updated Column Names: Index(['timestamp', 'Auth Reject Count', 'Auth Request Count',\n",
      "       'Registration Success', 'Incoming Data Packets',\n",
      "       'Outgoing Data Packets', 'Session Number', 'CPU Usage (Open5GS)',\n",
      "       'Network Traffic In (kbps)', 'Network Traffic Out (kbps)',\n",
      "       'Packets Received (pps)', 'Packets Sent (pps)', 'Active UEs',\n",
      "       'Application Name', 'Log Type'],\n",
      "      dtype='object')\n"
     ]
    }
   ],
   "source": [
    "# Define a mapping for renaming columns\n",
    "column_rename_mapping = {\n",
    "    \"fivegs_amffunction_amf_authreject_value\": \"Auth Reject Count\",\n",
    "    \"fivegs_amffunction_amf_authreq_value\": \"Auth Request Count\",\n",
    "    \"fivegs_amffunction_rm_reginitsucc_value\": \"Registration Success\",\n",
    "    \"fivegs_ep_n3_gtp_outdatapktn3upf_value\": \"Outgoing Data Packets\",\n",
    "    \"fivegs_ep_n3_gtp_indatapktn3upf_value\": \"Incoming Data Packets\",\n",
    "    \"fivegs_upffunction_upf_sessionnbr_value\": \"Session Number\",\n",
    "\n",
    "    # NetData metrics\n",
    "    \"netdata_cgroup_cpu_percentage_average_cd2487a23764_value\": \"CPU Usage (Open5GS)\",\n",
    "    \"netdata_net_net_kilobits_persec_average_br-02c136a167f8_received_value\": \"Network Traffic In (kbps)\",\n",
    "    \"netdata_net_net_kilobits_persec_average_br-02c136a167f8_sent_value\": \"Network Traffic Out (kbps)\",\n",
    "    \"netdata_net_packets_packets_persec_average_br-02c136a167f8_received_value\": \"Packets Received (pps)\",\n",
    "    \"netdata_net_packets_packets_persec_average_br-02c136a167f8_sent_value\": \"Packets Sent (pps)\",\n",
    "\n",
    "    # UEs and logs\n",
    "    \"ues_active_value\": \"Active UEs\",\n",
    "    \"application\": \"Application Name\",\n",
    "    \"log_type\": \"Log Type\"\n",
    "}\n",
    "\n",
    "# Apply renaming\n",
    "merged_data.rename(columns=column_rename_mapping, inplace=True)\n",
    "\n",
    "# Print updated column names for verification\n",
    "print(\"✅ Updated Column Names:\", merged_data.columns)\n"
   ]
  },
  {
   "cell_type": "code",
   "execution_count": 229,
   "metadata": {},
   "outputs": [
    {
     "name": "stdout",
     "output_type": "stream",
     "text": [
      "✅ Data merged successfully!\n"
     ]
    }
   ],
   "source": [
    "merged_data.to_csv(\"merged_data.csv\", index=False)\n",
    "print(\"✅ Data merged successfully!\")"
   ]
  }
 ],
 "metadata": {
  "kernelspec": {
   "display_name": ".venv",
   "language": "python",
   "name": "python3"
  },
  "language_info": {
   "codemirror_mode": {
    "name": "ipython",
    "version": 3
   },
   "file_extension": ".py",
   "mimetype": "text/x-python",
   "name": "python",
   "nbconvert_exporter": "python",
   "pygments_lexer": "ipython3",
   "version": "3.9.6"
  }
 },
 "nbformat": 4,
 "nbformat_minor": 2
}
