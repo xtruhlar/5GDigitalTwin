{
 "cells": [
  {
   "cell_type": "code",
   "execution_count": 793,
   "metadata": {
    "execution": {
     "iopub.execute_input": "2025-03-20T18:07:44.253724Z",
     "iopub.status.busy": "2025-03-20T18:07:44.253632Z",
     "iopub.status.idle": "2025-03-20T18:07:44.434516Z",
     "shell.execute_reply": "2025-03-20T18:07:44.434202Z"
    }
   },
   "outputs": [],
   "source": [
    "import pandas as pd\n",
    "from prometheus_api_client import PrometheusConnect, MetricSnapshotDataFrame\n",
    "from datetime import datetime, timedelta, timezone\n",
    "import os\n",
    "import re"
   ]
  },
  {
   "cell_type": "code",
   "execution_count": 794,
   "metadata": {
    "execution": {
     "iopub.execute_input": "2025-03-20T18:07:44.435878Z",
     "iopub.status.busy": "2025-03-20T18:07:44.435759Z",
     "iopub.status.idle": "2025-03-20T18:07:44.437555Z",
     "shell.execute_reply": "2025-03-20T18:07:44.437297Z"
    }
   },
   "outputs": [],
   "source": [
    "start = datetime.now()"
   ]
  },
  {
   "cell_type": "code",
   "execution_count": 795,
   "metadata": {
    "execution": {
     "iopub.execute_input": "2025-03-20T18:07:44.438654Z",
     "iopub.status.busy": "2025-03-20T18:07:44.438572Z",
     "iopub.status.idle": "2025-03-20T18:07:44.440624Z",
     "shell.execute_reply": "2025-03-20T18:07:44.440372Z"
    }
   },
   "outputs": [
    {
     "name": "stdout",
     "output_type": "stream",
     "text": [
      "Connected to Prometheus\n"
     ]
    }
   ],
   "source": [
    "# Create a connection to prometheus\n",
    "try:\n",
    "    prom = PrometheusConnect(url=\"http://localhost:9090\", disable_ssl=True)\n",
    "    print(\"Connected to Prometheus\")\n",
    "except Exception as e:\n",
    "    print(f\"Error connecting to Prometheus: {e}\")"
   ]
  },
  {
   "cell_type": "code",
   "execution_count": 796,
   "metadata": {
    "execution": {
     "iopub.execute_input": "2025-03-20T18:07:44.442071Z",
     "iopub.status.busy": "2025-03-20T18:07:44.441997Z",
     "iopub.status.idle": "2025-03-20T18:07:44.444260Z",
     "shell.execute_reply": "2025-03-20T18:07:44.443989Z"
    }
   },
   "outputs": [],
   "source": [
    "current_time = datetime.now()\n",
    "\n",
    "# Set start_time as the last processed time (or now - 10 seconds for a buffer)\n",
    "start_time = (current_time - timedelta(seconds=50)).strftime(\"%Y-%m-%dT%H:%M:%SZ\")\n",
    "end_time = current_time.strftime(\"%Y-%m-%dT%H:%M:%SZ\")\n",
    "\n",
    "step = \"50ms\"\n",
    "\n",
    "start_time = datetime.strptime(start_time, \"%Y-%m-%dT%H:%M:%SZ\")\n",
    "end_time = datetime.strptime(end_time, \"%Y-%m-%dT%H:%M:%SZ\")"
   ]
  },
  {
   "cell_type": "code",
   "execution_count": 797,
   "metadata": {
    "execution": {
     "iopub.execute_input": "2025-03-20T18:07:44.445342Z",
     "iopub.status.busy": "2025-03-20T18:07:44.445269Z",
     "iopub.status.idle": "2025-03-20T18:07:44.446908Z",
     "shell.execute_reply": "2025-03-20T18:07:44.446671Z"
    }
   },
   "outputs": [
    {
     "name": "stdout",
     "output_type": "stream",
     "text": [
      "Start time: 2025-03-21 10:07:49\n",
      "End time: 2025-03-21 10:08:39\n"
     ]
    }
   ],
   "source": [
    "print(f\"Start time: {start_time}\")\n",
    "print(f\"End time: {end_time}\")"
   ]
  },
  {
   "cell_type": "code",
   "execution_count": 798,
   "metadata": {},
   "outputs": [],
   "source": [
    "# Labels\n",
    "device=\"br-02c136a167f8\",                                               # Device name for network metrics (Based on the device name in the Prometheus metrics)\n",
    "cgroup_name=\"b48f9356ec91\",                                             # Cgroup name for CPU metrics (Based on the cgroup name in the Prometheus metrics)"
   ]
  },
  {
   "cell_type": "code",
   "execution_count": null,
   "metadata": {
    "execution": {
     "iopub.execute_input": "2025-03-20T18:07:44.447901Z",
     "iopub.status.busy": "2025-03-20T18:07:44.447830Z",
     "iopub.status.idle": "2025-03-20T18:07:44.449585Z",
     "shell.execute_reply": "2025-03-20T18:07:44.449386Z"
    }
   },
   "outputs": [],
   "source": [
    "# List of important metrics\n",
    "metrics = [\n",
    "    # Open5GS metrics\n",
    "    \"amf_session\",                                                          # AMF Sessions (Gauge)\n",
    "    \"bearers_active\",                                                       # Active Bearers (Gauge)                                                                     \n",
    "    \"enb\",                                                                  # eNodeBs (Gauge)\n",
    "    \"enb_ue\",                                                               # Number of UEs connected to eNodeBs (Gauge)\n",
    "\n",
    "    # FiveGS metrics\n",
    "    ## AMF\n",
    "    \"fivegs_amffunction_amf_authreject\",                                    # Number of authentication rejections sent by the AMF (Counter)\n",
    "    \"fivegs_amffunction_amf_authreq\",                                       # Number of authentication requests sent by the AMF (Counter)\n",
    "    \"fivegs_amffunction_mm_confupdate\",                                     # Number of UE Configuration Update commands requested by the AMF (Counter)\n",
    "    \"fivegs_amffunction_mm_confupdatesucc\",                                 # Number of UE Configuration Update complete messages received by the AMF (Counter)\n",
    "    \"fivegs_amffunction_mm_paging5greq\",                                    # Number of 5G paging procedures initiated at the AMF (Counter)\n",
    "    \"fivegs_amffunction_mm_paging5gsucc\",                                   # Number of successful 5G paging procedures initiated at the AMF (Counter)\n",
    "    \"fivegs_amffunction_rm_regemergreq\",                                    # Number of emergency registration requests received by the AMF (Counter)\n",
    "    \"fivegs_amffunction_rm_regemergsucc\",                                   # Number of successful emergency registrations at the AMF (Counter)\n",
    "    \"fivegs_amffunction_rm_reginitreq\",                                     # Number of initial registration requests received by the AMF (Counter)\n",
    "    \"fivegs_amffunction_rm_reginitsucc\",                                    # Number of successful initial registrations at the AMF (Counter)\n",
    "    \"fivegs_amffunction_rm_registeredsubnbr\",                               # Number of registered subscribers at the AMF (Gauge)\n",
    "    \"fivegs_amffunction_rm_regmobreq\",                                      # Number of mobility registration update requests received by the AMF (Counter)\n",
    "    \"fivegs_amffunction_rm_regmobsucc\",                                     # Number of successful mobility registration updates at the AMF (Counter)\n",
    "    \"fivegs_amffunction_rm_regperiodreq\",                                   # Number of periodic registration update requests received by the AMF (Counter)\n",
    "    \"fivegs_amffunction_rm_regperiodsucc\",                                  # Number of successful periodic registration update requests at the AMF (Counter)\n",
    "\n",
    "    ## EP_N3_GTP\n",
    "    \"fivegs_ep_n3_gtp_indatapktn3upf\",                                      # Number of incoming GTP data packets on the N3 interface (Counter)\n",
    "    \"fivegs_ep_n3_gtp_outdatapktn3upf\",                                     # Number of outgoing GTP data packets on the N3 interface (Counter)\n",
    "\n",
    "    ## SMF\n",
    "    \"fivegs_smffunction_sm_n4sessionestabreq\",                              # Number of requested N4 session establishments evidented by SMF (Counter)\n",
    "    \"fivegs_smffunction_sm_n4sessionreport\",                                # Number of requested N4 session reports evidented by SMF (Counter)\n",
    "    \"fivegs_smffunction_sm_n4sessionreportsucc\",                            # Number of successful N4 session reports evidented by SMF (Counter)\n",
    "    \"fivegs_smffunction_sm_pdusessioncreationreq\",                          # Number of PDU sessions requested to be created by the SMF (Counter)\n",
    "    \"fivegs_smffunction_sm_pdusessioncreationsucc\",                         # Number of PDU sessions successfully created by the SMF (Counter)\n",
    "    \"fivegs_smffunction_sm_qos_flow_nbr\",                                   # Number of QoS flows at the SMF (Gauge)\n",
    "    \"fivegs_smffunction_sm_sessionnbr\",                                     # Active Sessions (Gauge)\n",
    "\n",
    "    ## UPF\n",
    "    \"fivegs_upffunction_sm_n4sessionestabreq\",                              # Number of requested N4 session establishments (Counter)\n",
    "    \"fivegs_upffunction_sm_n4sessionreport\",                                # Number of requested N4 session reports (Counter)\n",
    "    \"fivegs_upffunction_sm_n4sessionreportsucc\",                            # Number of successful N4 session reports (Counter)\n",
    "    \"fivegs_upffunction_sm_qosflows\",                                       # Number of QoS flows of UPF (Gauge)\n",
    "    \"fivegs_upffunction_sm_sessionnbr\",                                     # Active Sessions (Gauge)\n",
    "\n",
    "    ## PCF\n",
    "    \"fivegs_pcffunction_pa_policyamassoreq\",                                # Number of Policy Association Requests sent by the PCF (Counter)\n",
    "    \"fivegs_pcffunction_pa_policyamassosucc\",                               # Number of Policy Association Successes sent by the PCF (Counter)\n",
    "    \"fivegs_pcffunction_pa_policysmassoreq\",                                # Number of Policy Session Association Requests sent by the PCF (Counter)\n",
    "    \"fivegs_pcffunction_pa_policysmassosucc\",                               # Number of Policy Session Association Successes sent by the PCF (Counter)\n",
    "    \"fivegs_pcffunction_pa_sessionnbr\",                                     # Active Sessions (Gauge)\n",
    "\n",
    "    ## GN RX\n",
    "    \"gn_rx_createpdpcontextreq\",                                            # Received GTPv1C CreatePDPContextRequest messages (Counter)\n",
    "    \"gn_rx_deletepdpcontextreq\",                                            # Received GTPv1C DeletePDPContextRequest messages (Counter)\n",
    "    \"gn_rx_parse_failed\",                                                   # Received GTPv1C messages discarded due to parsing failure (Counter)\n",
    "\n",
    "    # GNB\n",
    "    \"gnb\",                                                                  # gNodeBs (Gauge)\n",
    "\n",
    "    # GTP\n",
    "    \"gtp1_pdpctxs_active\",                                                  # Active GTPv1 PDP Contexts (GGSN) (Gauge)\n",
    "    \"gtp2_sessions_active\",                                                 # Active GTPv2 Sessions (PGW) (Gauge)\n",
    "    \"gtp_new_node_failed\",                                                  # Unable to allocate new GTP (peer) Node (Counter)\n",
    "    \"gtp_peers_active\",                                                     # Active GTP peers (Gauge)\n",
    "\n",
    "    # MME\n",
    "    \"mme_session\",                                                          # MME Sessions (Gauge)\n",
    "\n",
    "    # S5C RX\n",
    "    \"s5c_rx_createsession\",                                                 # Received GTPv2C CreateSessionRequest messages (Counter)\n",
    "    \"s5c_rx_parse_failed\",                                                  # Received GTPv2C messages discarded due to parsing failure (Counter)\n",
    "\n",
    "    # Prometheus metrics scrape\n",
    "    \"scrape_duration_seconds\",                                              # Prometheus scrape duration (Gauge)\n",
    "    \"scrape_samples_post_metric_relabeling\",                                # Prometheus scrape samples post metric relabeling (Gauge)\n",
    "    \"scrape_samples_scraped\",                                               # Prometheus scrape samples scraped (Gauge)\n",
    "    \"scrape_series_added\",                                                  # Prometheus scrape series added (Gauge)\n",
    "\n",
    "    ## UES\n",
    "    \"ues_active\",                                                           # Active User Equipments (Gauge)\n",
    "    \"ran_ue\",                                                               # RAN UEs (Gauge)\n",
    "    \n",
    "    # Up\n",
    "    \"up\",                                                                   # 0 = Down, 1 = Up (Gauge)\n",
    "\n",
    "    # Process metrics\n",
    "    \"process_cpu_seconds_total\",                                            # Total user and system CPU time spent in seconds (Counter)\n",
    "    \"process_max_fds\",                                                      # Maximum number of open file descriptors (Gauge)\n",
    "    \"process_open_fds\",                                                     # Number of open file descriptors (Gauge)\n",
    "    \"process_resident_memory_bytes\",                                        # Resident memory size in bytes (Gauge)\n",
    "    \"process_start_time_seconds\",                                           # Start time of the process since unix epoch in seconds (Gauge)\n",
    "    \"process_virtual_memory_bytes\",                                         # Virtual memory size in bytes (Gauge)\n",
    "    \"process_virtual_memory_max_bytes\",                                     # Maximum amount of virtual memory available in bytes (Gauge)\n",
    "\n",
    "    # NetData metrics for network traffic\n",
    "    f'netdata_net_net_kilobits_persec_average{{device=\"{device[0]}\", dimension=\"received\"}}',                              # Bandwidth received (Kbps)\n",
    "    f'netdata_net_net_kilobits_persec_average{{device=\"{device[0]}\", dimension=\"sent\"}}',                                  # Bandwidth sent (Kbps)\n",
    "    # The two metrics above will be used to calculate the total bandwidth used (Kbps)\n",
    "\n",
    "    f'netdata_net_packets_packets_persec_average{{device=\"{device[0]}\", dimension=\"received\"}}',                           # Packets received per second\n",
    "    f'netdata_net_packets_packets_persec_average{{device=\"{device[0]}\", dimension=\"sent\"}}',                               # Packets sent per second\n",
    "    # The two metrics above will be used to calculate the total packets sent and received per second\n",
    "\n",
    "    f'netdata_cgroup_cpu_percentage_average{{cgroup_name=\"{cgroup_name[0]}\"}}',                                           # CPU usage percentage\n",
    "    ]"
   ]
  },
  {
   "cell_type": "code",
   "execution_count": 800,
   "metadata": {
    "execution": {
     "iopub.execute_input": "2025-03-20T18:07:44.450620Z",
     "iopub.status.busy": "2025-03-20T18:07:44.450532Z",
     "iopub.status.idle": "2025-03-20T18:07:44.451980Z",
     "shell.execute_reply": "2025-03-20T18:07:44.451758Z"
    }
   },
   "outputs": [],
   "source": [
    "# Create an empty DataFrame to store all metrics\n",
    "df_list = []"
   ]
  },
  {
   "cell_type": "code",
   "execution_count": 801,
   "metadata": {
    "execution": {
     "iopub.execute_input": "2025-03-20T18:07:44.453068Z",
     "iopub.status.busy": "2025-03-20T18:07:44.452995Z",
     "iopub.status.idle": "2025-03-20T18:07:44.575755Z",
     "shell.execute_reply": "2025-03-20T18:07:44.575421Z"
    }
   },
   "outputs": [
    {
     "name": "stdout",
     "output_type": "stream",
     "text": [
      "⚠️ Warning: No data for metric fivegs_amffunction_rm_registeredsubnbr\n",
      "⚠️ Warning: No data for metric fivegs_smffunction_sm_pdusessioncreationreq\n",
      "⚠️ Warning: No data for metric fivegs_smffunction_sm_pdusessioncreationsucc\n",
      "⚠️ Warning: No data for metric fivegs_smffunction_sm_qos_flow_nbr\n",
      "⚠️ Warning: No data for metric fivegs_smffunction_sm_sessionnbr\n",
      "⚠️ Warning: No data for metric fivegs_upffunction_sm_qosflows\n",
      "⚠️ Warning: No data for metric fivegs_upffunction_sm_sessionnbr\n",
      "⚠️ Warning: No data for metric fivegs_pcffunction_pa_policyamassoreq\n",
      "⚠️ Warning: No data for metric fivegs_pcffunction_pa_policyamassosucc\n",
      "⚠️ Warning: No data for metric fivegs_pcffunction_pa_policysmassoreq\n",
      "⚠️ Warning: No data for metric fivegs_pcffunction_pa_policysmassosucc\n",
      "⚠️ Warning: No data for metric fivegs_pcffunction_pa_sessionnbr\n"
     ]
    }
   ],
   "source": [
    "import pytz  # For timezone conversion\n",
    "\n",
    "# Define your local timezone (change this if necessary)\n",
    "LOCAL_TZ = pytz.timezone(\"Europe/Bratislava\")  # Change if needed\n",
    "\n",
    "# Fetch metrics and transform timestamps\n",
    "for metric in metrics:\n",
    "    try:\n",
    "        response = prom.custom_query_range(\n",
    "            metric, start_time=start_time, end_time=end_time, step=step\n",
    "        )\n",
    "\n",
    "        # Ensure response is not empty\n",
    "        if not response:\n",
    "            print(f\"⚠️ Warning: No data for metric {metric}\")\n",
    "            continue\n",
    "\n",
    "        # Process each metric entry\n",
    "        for entry in response:\n",
    "            base_metric_name = entry[\"metric\"][\"__name__\"]\n",
    "\n",
    "            # Extract metadata if available\n",
    "            dimension = entry[\"metric\"].get(\"dimension\", None)\n",
    "            device = entry[\"metric\"].get(\"device\", None)\n",
    "            cgroup_name = entry[\"metric\"].get(\"cgroup_name\", None)\n",
    "\n",
    "            # Construct metric name properly\n",
    "            metric_name = base_metric_name\n",
    "            if device and dimension:\n",
    "                metric_name = f\"{base_metric_name}_{device}_{dimension}\"\n",
    "            elif device:\n",
    "                metric_name = f\"{base_metric_name}_{device}\"\n",
    "            elif cgroup_name:\n",
    "                metric_name = f\"{base_metric_name}_{cgroup_name}\"\n",
    "\n",
    "            # Extract and format values with timezone conversion\n",
    "            if \"values\" in entry and isinstance(entry[\"values\"], list):\n",
    "                extracted_values = [\n",
    "                   (datetime.utcfromtimestamp(int(ts)).replace(tzinfo=pytz.utc).astimezone(LOCAL_TZ), float(val))\n",
    "                    for ts, val in entry[\"values\"]\n",
    "                ]\n",
    "\n",
    "                # Create DataFrame\n",
    "                metric_df = pd.DataFrame(extracted_values, columns=[\"timestamp\", \"value\"])\n",
    "                metric_df[\"metric_name\"] = metric_name\n",
    "\n",
    "                # Append to list\n",
    "                df_list.append(metric_df)\n",
    "            else:\n",
    "                print(f\"⚠️ Warning: No valid values found for {metric}\")\n",
    "\n",
    "    except Exception as e:\n",
    "        print(f\"❌ Error fetching {metric}: {e}\")\n"
   ]
  },
  {
   "cell_type": "code",
   "execution_count": 802,
   "metadata": {
    "execution": {
     "iopub.execute_input": "2025-03-20T18:07:44.577088Z",
     "iopub.status.busy": "2025-03-20T18:07:44.577003Z",
     "iopub.status.idle": "2025-03-20T18:07:44.579542Z",
     "shell.execute_reply": "2025-03-20T18:07:44.579294Z"
    }
   },
   "outputs": [],
   "source": [
    "if df_list:\n",
    "    final_df = pd.concat(df_list, ignore_index=True)"
   ]
  },
  {
   "cell_type": "code",
   "execution_count": 803,
   "metadata": {
    "execution": {
     "iopub.execute_input": "2025-03-20T18:07:44.580695Z",
     "iopub.status.busy": "2025-03-20T18:07:44.580610Z",
     "iopub.status.idle": "2025-03-20T18:07:44.613388Z",
     "shell.execute_reply": "2025-03-20T18:07:44.613128Z"
    }
   },
   "outputs": [],
   "source": [
    "# Remove +01:00 from the timestamp\n",
    "final_df['timestamp'] = final_df['timestamp'].astype(str).str.replace(r'\\+\\d{2}:\\d{2}', '', regex=True)"
   ]
  },
  {
   "cell_type": "code",
   "execution_count": 804,
   "metadata": {
    "execution": {
     "iopub.execute_input": "2025-03-20T18:07:44.614605Z",
     "iopub.status.busy": "2025-03-20T18:07:44.614513Z",
     "iopub.status.idle": "2025-03-20T18:07:44.619851Z",
     "shell.execute_reply": "2025-03-20T18:07:44.619616Z"
    }
   },
   "outputs": [
    {
     "data": {
      "application/vnd.microsoft.datawrangler.viewer.v0+json": {
       "columns": [
        {
         "name": "index",
         "rawType": "int64",
         "type": "integer"
        },
        {
         "name": "timestamp",
         "rawType": "object",
         "type": "string"
        },
        {
         "name": "value",
         "rawType": "float64",
         "type": "float"
        },
        {
         "name": "metric_name",
         "rawType": "object",
         "type": "string"
        }
       ],
       "conversionMethod": "pd.DataFrame",
       "ref": "18d71fcf-7c50-4bef-a15b-7c1cecbd64eb",
       "rows": [
        [
         "0",
         "2025-03-21 10:07:49",
         "0.0",
         "amf_session"
        ],
        [
         "1",
         "2025-03-21 10:07:49",
         "0.0",
         "amf_session"
        ],
        [
         "2",
         "2025-03-21 10:07:49",
         "0.0",
         "amf_session"
        ],
        [
         "3",
         "2025-03-21 10:07:49",
         "0.0",
         "amf_session"
        ],
        [
         "4",
         "2025-03-21 10:07:49",
         "0.0",
         "amf_session"
        ]
       ],
       "shape": {
        "columns": 3,
        "rows": 5
       }
      },
      "text/html": [
       "<div>\n",
       "<style scoped>\n",
       "    .dataframe tbody tr th:only-of-type {\n",
       "        vertical-align: middle;\n",
       "    }\n",
       "\n",
       "    .dataframe tbody tr th {\n",
       "        vertical-align: top;\n",
       "    }\n",
       "\n",
       "    .dataframe thead th {\n",
       "        text-align: right;\n",
       "    }\n",
       "</style>\n",
       "<table border=\"1\" class=\"dataframe\">\n",
       "  <thead>\n",
       "    <tr style=\"text-align: right;\">\n",
       "      <th></th>\n",
       "      <th>timestamp</th>\n",
       "      <th>value</th>\n",
       "      <th>metric_name</th>\n",
       "    </tr>\n",
       "  </thead>\n",
       "  <tbody>\n",
       "    <tr>\n",
       "      <th>0</th>\n",
       "      <td>2025-03-21 10:07:49</td>\n",
       "      <td>0.0</td>\n",
       "      <td>amf_session</td>\n",
       "    </tr>\n",
       "    <tr>\n",
       "      <th>1</th>\n",
       "      <td>2025-03-21 10:07:49</td>\n",
       "      <td>0.0</td>\n",
       "      <td>amf_session</td>\n",
       "    </tr>\n",
       "    <tr>\n",
       "      <th>2</th>\n",
       "      <td>2025-03-21 10:07:49</td>\n",
       "      <td>0.0</td>\n",
       "      <td>amf_session</td>\n",
       "    </tr>\n",
       "    <tr>\n",
       "      <th>3</th>\n",
       "      <td>2025-03-21 10:07:49</td>\n",
       "      <td>0.0</td>\n",
       "      <td>amf_session</td>\n",
       "    </tr>\n",
       "    <tr>\n",
       "      <th>4</th>\n",
       "      <td>2025-03-21 10:07:49</td>\n",
       "      <td>0.0</td>\n",
       "      <td>amf_session</td>\n",
       "    </tr>\n",
       "  </tbody>\n",
       "</table>\n",
       "</div>"
      ],
      "text/plain": [
       "             timestamp  value  metric_name\n",
       "0  2025-03-21 10:07:49    0.0  amf_session\n",
       "1  2025-03-21 10:07:49    0.0  amf_session\n",
       "2  2025-03-21 10:07:49    0.0  amf_session\n",
       "3  2025-03-21 10:07:49    0.0  amf_session\n",
       "4  2025-03-21 10:07:49    0.0  amf_session"
      ]
     },
     "execution_count": 804,
     "metadata": {},
     "output_type": "execute_result"
    }
   ],
   "source": [
    "final_df.head()"
   ]
  },
  {
   "cell_type": "code",
   "execution_count": 805,
   "metadata": {
    "execution": {
     "iopub.execute_input": "2025-03-20T18:07:44.621318Z",
     "iopub.status.busy": "2025-03-20T18:07:44.621221Z",
     "iopub.status.idle": "2025-03-20T18:07:44.623282Z",
     "shell.execute_reply": "2025-03-20T18:07:44.623053Z"
    }
   },
   "outputs": [],
   "source": [
    "log_dir = \"../log/\"\n",
    "\n",
    "# Example:\n",
    "# 03/19 11:20:11.151: [amf] INFO: ngap_server() [172.22.0.10]:38412 (../src/amf/ngap-sctp.c:61)\n",
    "# 03/19 11:20:11.154: [sctp] INFO: AMF initialize...done (../src/amf/app.c:33)\n",
    "# 03/19 11:20:11.174: [sbi] INFO: [bd5d91d4-04ab-41f0-8871-a9dc3c5ef804] NF registered [Heartbeat:10s] (../lib/sbi/nf-sm.c:208)\n",
    "# 03/19 11:20:11.179: [sbi] INFO: NF EndPoint(addr) setup [172.22.0.12:7777] (../lib/sbi/nnrf-handler.c:949)\n",
    "\n",
    "\n",
    "log_pattern = re.compile(r\"(\\d{2}/\\d{2} \\d{2}:\\d{2}:\\d{2}\\.\\d{3}):\\s+\\[(\\w+)\\]\\s+(\\w+):\\s*(.+)\")\n",
    "\n",
    "log_data = []"
   ]
  },
  {
   "cell_type": "code",
   "execution_count": 806,
   "metadata": {
    "execution": {
     "iopub.execute_input": "2025-03-20T18:07:44.624394Z",
     "iopub.status.busy": "2025-03-20T18:07:44.624321Z",
     "iopub.status.idle": "2025-03-20T18:07:44.672767Z",
     "shell.execute_reply": "2025-03-20T18:07:44.672490Z"
    }
   },
   "outputs": [],
   "source": [
    "# Iterate over all log files in the directory\n",
    "for log_file in os.listdir(log_dir):\n",
    "    log_path = os.path.join(log_dir, log_file)\n",
    "    \n",
    "    with open(log_path, \"r\", encoding=\"utf-8\", errors=\"ignore\") as f:\n",
    "        for line in f:\n",
    "            match = log_pattern.match(line)\n",
    "            if match:\n",
    "                timestamp_str, application, log_level, log_message = match.groups()\n",
    "\n",
    "                # Convert timestamp to datetime (add missing year)\n",
    "                log_timestamp = datetime.strptime(timestamp_str, \"%m/%d %H:%M:%S.%f\")\n",
    "                log_timestamp = log_timestamp.replace(year=start_time.year)  # Assign correct year\n",
    "\n",
    "                # 🔹 Remove milliseconds to match Prometheus format\n",
    "                log_timestamp = log_timestamp.replace(tzinfo=None)\n",
    "                log_timestamp = log_timestamp.replace(microsecond=0)\n",
    "\n",
    "\n",
    "                # Check if the log timestamp later than the start time\n",
    "                if log_timestamp > start_time:\n",
    "                    log_data.append({\n",
    "                        \"timestamp\": log_timestamp,\n",
    "                        \"application\": application,\n",
    "                        \"log_level\": log_level,\n",
    "                        \"log_message\": log_message\n",
    "                    })\n"
   ]
  },
  {
   "cell_type": "code",
   "execution_count": 807,
   "metadata": {
    "execution": {
     "iopub.execute_input": "2025-03-20T18:07:44.674131Z",
     "iopub.status.busy": "2025-03-20T18:07:44.674034Z",
     "iopub.status.idle": "2025-03-20T18:07:44.677062Z",
     "shell.execute_reply": "2025-03-20T18:07:44.676783Z"
    }
   },
   "outputs": [
    {
     "data": {
      "application/vnd.microsoft.datawrangler.viewer.v0+json": {
       "columns": [
        {
         "name": "index",
         "rawType": "int64",
         "type": "integer"
        }
       ],
       "conversionMethod": "pd.DataFrame",
       "ref": "0d685caf-7b56-460e-a130-3f7afd5d9f4e",
       "rows": [],
       "shape": {
        "columns": 0,
        "rows": 0
       }
      },
      "text/html": [
       "<div>\n",
       "<style scoped>\n",
       "    .dataframe tbody tr th:only-of-type {\n",
       "        vertical-align: middle;\n",
       "    }\n",
       "\n",
       "    .dataframe tbody tr th {\n",
       "        vertical-align: top;\n",
       "    }\n",
       "\n",
       "    .dataframe thead th {\n",
       "        text-align: right;\n",
       "    }\n",
       "</style>\n",
       "<table border=\"1\" class=\"dataframe\">\n",
       "  <thead>\n",
       "    <tr style=\"text-align: right;\">\n",
       "      <th></th>\n",
       "    </tr>\n",
       "  </thead>\n",
       "  <tbody>\n",
       "  </tbody>\n",
       "</table>\n",
       "</div>"
      ],
      "text/plain": [
       "Empty DataFrame\n",
       "Columns: []\n",
       "Index: []"
      ]
     },
     "execution_count": 807,
     "metadata": {},
     "output_type": "execute_result"
    }
   ],
   "source": [
    "log_data = pd.DataFrame(log_data)\n",
    "log_data.head()"
   ]
  },
  {
   "cell_type": "code",
   "execution_count": 808,
   "metadata": {
    "execution": {
     "iopub.execute_input": "2025-03-20T18:07:44.678150Z",
     "iopub.status.busy": "2025-03-20T18:07:44.678074Z",
     "iopub.status.idle": "2025-03-20T18:07:44.683551Z",
     "shell.execute_reply": "2025-03-20T18:07:44.683300Z"
    }
   },
   "outputs": [
    {
     "data": {
      "application/vnd.microsoft.datawrangler.viewer.v0+json": {
       "columns": [
        {
         "name": "index",
         "rawType": "int64",
         "type": "integer"
        },
        {
         "name": "timestamp",
         "rawType": "datetime64[ns]",
         "type": "datetime"
        },
        {
         "name": "value",
         "rawType": "float64",
         "type": "float"
        },
        {
         "name": "metric_name",
         "rawType": "object",
         "type": "string"
        }
       ],
       "conversionMethod": "pd.DataFrame",
       "ref": "fd2c1651-8df2-4f20-b04e-1928fbd33416",
       "rows": [
        [
         "0",
         "2025-03-21 10:07:49",
         "0.0",
         "amf_session"
        ]
       ],
       "shape": {
        "columns": 3,
        "rows": 1
       }
      },
      "text/html": [
       "<div>\n",
       "<style scoped>\n",
       "    .dataframe tbody tr th:only-of-type {\n",
       "        vertical-align: middle;\n",
       "    }\n",
       "\n",
       "    .dataframe tbody tr th {\n",
       "        vertical-align: top;\n",
       "    }\n",
       "\n",
       "    .dataframe thead th {\n",
       "        text-align: right;\n",
       "    }\n",
       "</style>\n",
       "<table border=\"1\" class=\"dataframe\">\n",
       "  <thead>\n",
       "    <tr style=\"text-align: right;\">\n",
       "      <th></th>\n",
       "      <th>timestamp</th>\n",
       "      <th>value</th>\n",
       "      <th>metric_name</th>\n",
       "    </tr>\n",
       "  </thead>\n",
       "  <tbody>\n",
       "    <tr>\n",
       "      <th>0</th>\n",
       "      <td>2025-03-21 10:07:49</td>\n",
       "      <td>0.0</td>\n",
       "      <td>amf_session</td>\n",
       "    </tr>\n",
       "  </tbody>\n",
       "</table>\n",
       "</div>"
      ],
      "text/plain": [
       "            timestamp  value  metric_name\n",
       "0 2025-03-21 10:07:49    0.0  amf_session"
      ]
     },
     "execution_count": 808,
     "metadata": {},
     "output_type": "execute_result"
    }
   ],
   "source": [
    "final_df[\"timestamp\"] = pd.to_datetime(final_df[\"timestamp\"])\n",
    "final_df.head(1)"
   ]
  },
  {
   "cell_type": "markdown",
   "metadata": {},
   "source": [
    "log_data and final_df\n",
    "----------------------\n",
    "save()"
   ]
  },
  {
   "cell_type": "code",
   "execution_count": 809,
   "metadata": {
    "execution": {
     "iopub.execute_input": "2025-03-20T18:07:44.684852Z",
     "iopub.status.busy": "2025-03-20T18:07:44.684770Z",
     "iopub.status.idle": "2025-03-20T18:07:44.709235Z",
     "shell.execute_reply": "2025-03-20T18:07:44.708922Z"
    }
   },
   "outputs": [],
   "source": [
    "log_data.to_csv(\"log_data.csv\", index=False)\n",
    "final_df.to_csv(\"metrics_data.csv\", index=False)"
   ]
  },
  {
   "cell_type": "code",
   "execution_count": 810,
   "metadata": {
    "execution": {
     "iopub.execute_input": "2025-03-20T18:07:44.710506Z",
     "iopub.status.busy": "2025-03-20T18:07:44.710408Z",
     "iopub.status.idle": "2025-03-20T18:07:44.711998Z",
     "shell.execute_reply": "2025-03-20T18:07:44.711784Z"
    }
   },
   "outputs": [],
   "source": [
    "# Load logs separately before merging\n",
    "logs = log_data\n",
    "metrics = final_df"
   ]
  },
  {
   "cell_type": "code",
   "execution_count": 811,
   "metadata": {
    "execution": {
     "iopub.execute_input": "2025-03-20T18:07:44.712962Z",
     "iopub.status.busy": "2025-03-20T18:07:44.712890Z",
     "iopub.status.idle": "2025-03-20T18:07:44.721896Z",
     "shell.execute_reply": "2025-03-20T18:07:44.721661Z"
    }
   },
   "outputs": [
    {
     "name": "stdout",
     "output_type": "stream",
     "text": [
      "✅ NetData metrics aggregated and pivoted successfully!\n"
     ]
    },
    {
     "data": {
      "application/vnd.microsoft.datawrangler.viewer.v0+json": {
       "columns": [
        {
         "name": "index",
         "rawType": "int64",
         "type": "integer"
        },
        {
         "name": "timestamp",
         "rawType": "datetime64[ns]",
         "type": "datetime"
        },
        {
         "name": "amf_session_value",
         "rawType": "float64",
         "type": "float"
        },
        {
         "name": "bearers_active_value",
         "rawType": "float64",
         "type": "float"
        },
        {
         "name": "enb_value",
         "rawType": "float64",
         "type": "float"
        },
        {
         "name": "enb_ue_value",
         "rawType": "float64",
         "type": "float"
        },
        {
         "name": "fivegs_amffunction_amf_authreject_value",
         "rawType": "float64",
         "type": "float"
        },
        {
         "name": "fivegs_amffunction_amf_authreq_value",
         "rawType": "float64",
         "type": "float"
        },
        {
         "name": "fivegs_amffunction_mm_confupdate_value",
         "rawType": "float64",
         "type": "float"
        },
        {
         "name": "fivegs_amffunction_mm_confupdatesucc_value",
         "rawType": "float64",
         "type": "float"
        },
        {
         "name": "fivegs_amffunction_mm_paging5greq_value",
         "rawType": "float64",
         "type": "float"
        },
        {
         "name": "fivegs_amffunction_mm_paging5gsucc_value",
         "rawType": "float64",
         "type": "float"
        },
        {
         "name": "fivegs_amffunction_rm_regemergreq_value",
         "rawType": "float64",
         "type": "float"
        },
        {
         "name": "fivegs_amffunction_rm_regemergsucc_value",
         "rawType": "float64",
         "type": "float"
        },
        {
         "name": "fivegs_amffunction_rm_reginitreq_value",
         "rawType": "float64",
         "type": "float"
        },
        {
         "name": "fivegs_amffunction_rm_reginitsucc_value",
         "rawType": "float64",
         "type": "float"
        },
        {
         "name": "fivegs_amffunction_rm_regmobreq_value",
         "rawType": "float64",
         "type": "float"
        },
        {
         "name": "fivegs_amffunction_rm_regmobsucc_value",
         "rawType": "float64",
         "type": "float"
        },
        {
         "name": "fivegs_amffunction_rm_regperiodreq_value",
         "rawType": "float64",
         "type": "float"
        },
        {
         "name": "fivegs_amffunction_rm_regperiodsucc_value",
         "rawType": "float64",
         "type": "float"
        },
        {
         "name": "fivegs_ep_n3_gtp_indatapktn3upf_value",
         "rawType": "float64",
         "type": "float"
        },
        {
         "name": "fivegs_ep_n3_gtp_outdatapktn3upf_value",
         "rawType": "float64",
         "type": "float"
        },
        {
         "name": "fivegs_smffunction_sm_n4sessionestabreq_value",
         "rawType": "float64",
         "type": "float"
        },
        {
         "name": "fivegs_smffunction_sm_n4sessionreport_value",
         "rawType": "float64",
         "type": "float"
        },
        {
         "name": "fivegs_smffunction_sm_n4sessionreportsucc_value",
         "rawType": "float64",
         "type": "float"
        },
        {
         "name": "fivegs_upffunction_sm_n4sessionestabreq_value",
         "rawType": "float64",
         "type": "float"
        },
        {
         "name": "fivegs_upffunction_sm_n4sessionreport_value",
         "rawType": "float64",
         "type": "float"
        },
        {
         "name": "fivegs_upffunction_sm_n4sessionreportsucc_value",
         "rawType": "float64",
         "type": "float"
        },
        {
         "name": "gn_rx_createpdpcontextreq_value",
         "rawType": "float64",
         "type": "float"
        },
        {
         "name": "gn_rx_deletepdpcontextreq_value",
         "rawType": "float64",
         "type": "float"
        },
        {
         "name": "gn_rx_parse_failed_value",
         "rawType": "float64",
         "type": "float"
        },
        {
         "name": "gnb_value",
         "rawType": "float64",
         "type": "float"
        },
        {
         "name": "gtp1_pdpctxs_active_value",
         "rawType": "float64",
         "type": "float"
        },
        {
         "name": "gtp2_sessions_active_value",
         "rawType": "float64",
         "type": "float"
        },
        {
         "name": "gtp_new_node_failed_value",
         "rawType": "float64",
         "type": "float"
        },
        {
         "name": "gtp_peers_active_value",
         "rawType": "float64",
         "type": "float"
        },
        {
         "name": "mme_session_value",
         "rawType": "float64",
         "type": "float"
        },
        {
         "name": "netdata_cgroup_cpu_percentage_average_b48f9356ec91_value",
         "rawType": "float64",
         "type": "float"
        },
        {
         "name": "netdata_net_net_kilobits_persec_average_br-02c136a167f8_received_value",
         "rawType": "float64",
         "type": "float"
        },
        {
         "name": "netdata_net_net_kilobits_persec_average_br-02c136a167f8_sent_value",
         "rawType": "float64",
         "type": "float"
        },
        {
         "name": "netdata_net_packets_packets_persec_average_br-02c136a167f8_received_value",
         "rawType": "float64",
         "type": "float"
        },
        {
         "name": "netdata_net_packets_packets_persec_average_br-02c136a167f8_sent_value",
         "rawType": "float64",
         "type": "float"
        },
        {
         "name": "process_cpu_seconds_total_value",
         "rawType": "float64",
         "type": "float"
        },
        {
         "name": "process_max_fds_value",
         "rawType": "float64",
         "type": "float"
        },
        {
         "name": "process_open_fds_value",
         "rawType": "float64",
         "type": "float"
        },
        {
         "name": "process_resident_memory_bytes_value",
         "rawType": "float64",
         "type": "float"
        },
        {
         "name": "process_start_time_seconds_value",
         "rawType": "float64",
         "type": "float"
        },
        {
         "name": "process_virtual_memory_bytes_value",
         "rawType": "float64",
         "type": "float"
        },
        {
         "name": "process_virtual_memory_max_bytes_value",
         "rawType": "float64",
         "type": "float"
        },
        {
         "name": "ran_ue_value",
         "rawType": "float64",
         "type": "float"
        },
        {
         "name": "s5c_rx_createsession_value",
         "rawType": "float64",
         "type": "float"
        },
        {
         "name": "s5c_rx_parse_failed_value",
         "rawType": "float64",
         "type": "float"
        },
        {
         "name": "scrape_duration_seconds_value",
         "rawType": "float64",
         "type": "float"
        },
        {
         "name": "scrape_samples_post_metric_relabeling_value",
         "rawType": "float64",
         "type": "float"
        },
        {
         "name": "scrape_samples_scraped_value",
         "rawType": "float64",
         "type": "float"
        },
        {
         "name": "scrape_series_added_value",
         "rawType": "float64",
         "type": "float"
        },
        {
         "name": "ues_active_value",
         "rawType": "float64",
         "type": "float"
        },
        {
         "name": "up_value",
         "rawType": "float64",
         "type": "float"
        }
       ],
       "conversionMethod": "pd.DataFrame",
       "ref": "69459a7a-69c3-40fc-84b1-efdc79e28579",
       "rows": [
        [
         "0",
         "2025-03-21 10:07:49",
         "0.0",
         "0.0",
         "0.0",
         "0.0",
         "0.0",
         "0.0",
         "0.0",
         "0.0",
         "0.0",
         "0.0",
         "0.0",
         "0.0",
         "0.0",
         "0.0",
         "0.0",
         "0.0",
         "0.0",
         "0.0",
         "0.0",
         "0.0",
         "0.0",
         "0.0",
         "0.0",
         "0.0",
         "0.0",
         "0.0",
         "0.0",
         "0.0",
         "0.0",
         "0.0",
         "0.0",
         "0.0",
         "0.0",
         "0.0",
         "0.0",
         "2.15371075",
         "117.963198",
         "-121.467204",
         "9.5999994",
         "-14.199999600000002",
         "10.6",
         "1048576.0",
         "22.2",
         "47989555.2",
         "357.6",
         "1711113830.4",
         "-1.0",
         "0.0",
         "0.0",
         "0.0",
         "0.005815847",
         "964.3333333333334",
         "964.3333333333334",
         "0.0",
         "0.0",
         "1.0"
        ],
        [
         "1",
         "2025-03-21 10:07:50",
         "0.0",
         "0.0",
         "0.0",
         "0.0",
         "0.0",
         "0.0",
         "0.0",
         "0.0",
         "0.0",
         "0.0",
         "0.0",
         "0.0",
         "0.0",
         "0.0",
         "0.0",
         "0.0",
         "0.0",
         "0.0",
         "0.0",
         "0.0",
         "0.0",
         "0.0",
         "0.0",
         "0.0",
         "0.0",
         "0.0",
         "0.0",
         "0.0",
         "0.0",
         "0.0",
         "0.0",
         "0.0",
         "0.0",
         "0.0",
         "0.0",
         "2.15371075",
         "117.963198",
         "-121.467204",
         "9.5999994",
         "-14.199999600000002",
         "10.6",
         "1048576.0",
         "22.2",
         "47989555.2",
         "357.6",
         "1711113830.4",
         "-1.0",
         "0.0",
         "0.0",
         "0.0",
         "0.0058453928",
         "964.3333333333334",
         "964.3333333333334",
         "0.0",
         "0.0",
         "1.0"
        ],
        [
         "2",
         "2025-03-21 10:07:51",
         "0.0",
         "0.0",
         "0.0",
         "0.0",
         "0.0",
         "0.0",
         "0.0",
         "0.0",
         "0.0",
         "0.0",
         "0.0",
         "0.0",
         "0.0",
         "0.0",
         "0.0",
         "0.0",
         "0.0",
         "0.0",
         "0.0",
         "0.0",
         "0.0",
         "0.0",
         "0.0",
         "0.0",
         "0.0",
         "0.0",
         "0.0",
         "0.0",
         "0.0",
         "0.0",
         "0.0",
         "0.0",
         "0.0",
         "0.0",
         "0.0",
         "2.15371075",
         "117.963198",
         "-121.467204",
         "9.5999994",
         "-14.199999600000002",
         "10.6",
         "1048576.0",
         "22.2",
         "47989555.2",
         "357.6",
         "1711113830.4",
         "-1.0",
         "0.0",
         "0.0",
         "0.0",
         "0.005836533791666667",
         "964.3333333333334",
         "964.3333333333334",
         "0.0",
         "0.0",
         "1.0"
        ]
       ],
       "shape": {
        "columns": 57,
        "rows": 3
       }
      },
      "text/html": [
       "<div>\n",
       "<style scoped>\n",
       "    .dataframe tbody tr th:only-of-type {\n",
       "        vertical-align: middle;\n",
       "    }\n",
       "\n",
       "    .dataframe tbody tr th {\n",
       "        vertical-align: top;\n",
       "    }\n",
       "\n",
       "    .dataframe thead th {\n",
       "        text-align: right;\n",
       "    }\n",
       "</style>\n",
       "<table border=\"1\" class=\"dataframe\">\n",
       "  <thead>\n",
       "    <tr style=\"text-align: right;\">\n",
       "      <th></th>\n",
       "      <th>timestamp</th>\n",
       "      <th>amf_session_value</th>\n",
       "      <th>bearers_active_value</th>\n",
       "      <th>enb_value</th>\n",
       "      <th>enb_ue_value</th>\n",
       "      <th>fivegs_amffunction_amf_authreject_value</th>\n",
       "      <th>fivegs_amffunction_amf_authreq_value</th>\n",
       "      <th>fivegs_amffunction_mm_confupdate_value</th>\n",
       "      <th>fivegs_amffunction_mm_confupdatesucc_value</th>\n",
       "      <th>fivegs_amffunction_mm_paging5greq_value</th>\n",
       "      <th>...</th>\n",
       "      <th>process_virtual_memory_max_bytes_value</th>\n",
       "      <th>ran_ue_value</th>\n",
       "      <th>s5c_rx_createsession_value</th>\n",
       "      <th>s5c_rx_parse_failed_value</th>\n",
       "      <th>scrape_duration_seconds_value</th>\n",
       "      <th>scrape_samples_post_metric_relabeling_value</th>\n",
       "      <th>scrape_samples_scraped_value</th>\n",
       "      <th>scrape_series_added_value</th>\n",
       "      <th>ues_active_value</th>\n",
       "      <th>up_value</th>\n",
       "    </tr>\n",
       "  </thead>\n",
       "  <tbody>\n",
       "    <tr>\n",
       "      <th>0</th>\n",
       "      <td>2025-03-21 10:07:49</td>\n",
       "      <td>0.0</td>\n",
       "      <td>0.0</td>\n",
       "      <td>0.0</td>\n",
       "      <td>0.0</td>\n",
       "      <td>0.0</td>\n",
       "      <td>0.0</td>\n",
       "      <td>0.0</td>\n",
       "      <td>0.0</td>\n",
       "      <td>0.0</td>\n",
       "      <td>...</td>\n",
       "      <td>-1.0</td>\n",
       "      <td>0.0</td>\n",
       "      <td>0.0</td>\n",
       "      <td>0.0</td>\n",
       "      <td>0.005816</td>\n",
       "      <td>964.333333</td>\n",
       "      <td>964.333333</td>\n",
       "      <td>0.0</td>\n",
       "      <td>0.0</td>\n",
       "      <td>1.0</td>\n",
       "    </tr>\n",
       "    <tr>\n",
       "      <th>1</th>\n",
       "      <td>2025-03-21 10:07:50</td>\n",
       "      <td>0.0</td>\n",
       "      <td>0.0</td>\n",
       "      <td>0.0</td>\n",
       "      <td>0.0</td>\n",
       "      <td>0.0</td>\n",
       "      <td>0.0</td>\n",
       "      <td>0.0</td>\n",
       "      <td>0.0</td>\n",
       "      <td>0.0</td>\n",
       "      <td>...</td>\n",
       "      <td>-1.0</td>\n",
       "      <td>0.0</td>\n",
       "      <td>0.0</td>\n",
       "      <td>0.0</td>\n",
       "      <td>0.005845</td>\n",
       "      <td>964.333333</td>\n",
       "      <td>964.333333</td>\n",
       "      <td>0.0</td>\n",
       "      <td>0.0</td>\n",
       "      <td>1.0</td>\n",
       "    </tr>\n",
       "    <tr>\n",
       "      <th>2</th>\n",
       "      <td>2025-03-21 10:07:51</td>\n",
       "      <td>0.0</td>\n",
       "      <td>0.0</td>\n",
       "      <td>0.0</td>\n",
       "      <td>0.0</td>\n",
       "      <td>0.0</td>\n",
       "      <td>0.0</td>\n",
       "      <td>0.0</td>\n",
       "      <td>0.0</td>\n",
       "      <td>0.0</td>\n",
       "      <td>...</td>\n",
       "      <td>-1.0</td>\n",
       "      <td>0.0</td>\n",
       "      <td>0.0</td>\n",
       "      <td>0.0</td>\n",
       "      <td>0.005837</td>\n",
       "      <td>964.333333</td>\n",
       "      <td>964.333333</td>\n",
       "      <td>0.0</td>\n",
       "      <td>0.0</td>\n",
       "      <td>1.0</td>\n",
       "    </tr>\n",
       "  </tbody>\n",
       "</table>\n",
       "<p>3 rows × 57 columns</p>\n",
       "</div>"
      ],
      "text/plain": [
       "            timestamp  amf_session_value  bearers_active_value  enb_value  \\\n",
       "0 2025-03-21 10:07:49                0.0                   0.0        0.0   \n",
       "1 2025-03-21 10:07:50                0.0                   0.0        0.0   \n",
       "2 2025-03-21 10:07:51                0.0                   0.0        0.0   \n",
       "\n",
       "   enb_ue_value  fivegs_amffunction_amf_authreject_value  \\\n",
       "0           0.0                                      0.0   \n",
       "1           0.0                                      0.0   \n",
       "2           0.0                                      0.0   \n",
       "\n",
       "   fivegs_amffunction_amf_authreq_value  \\\n",
       "0                                   0.0   \n",
       "1                                   0.0   \n",
       "2                                   0.0   \n",
       "\n",
       "   fivegs_amffunction_mm_confupdate_value  \\\n",
       "0                                     0.0   \n",
       "1                                     0.0   \n",
       "2                                     0.0   \n",
       "\n",
       "   fivegs_amffunction_mm_confupdatesucc_value  \\\n",
       "0                                         0.0   \n",
       "1                                         0.0   \n",
       "2                                         0.0   \n",
       "\n",
       "   fivegs_amffunction_mm_paging5greq_value  ...  \\\n",
       "0                                      0.0  ...   \n",
       "1                                      0.0  ...   \n",
       "2                                      0.0  ...   \n",
       "\n",
       "   process_virtual_memory_max_bytes_value  ran_ue_value  \\\n",
       "0                                    -1.0           0.0   \n",
       "1                                    -1.0           0.0   \n",
       "2                                    -1.0           0.0   \n",
       "\n",
       "   s5c_rx_createsession_value  s5c_rx_parse_failed_value  \\\n",
       "0                         0.0                        0.0   \n",
       "1                         0.0                        0.0   \n",
       "2                         0.0                        0.0   \n",
       "\n",
       "   scrape_duration_seconds_value  scrape_samples_post_metric_relabeling_value  \\\n",
       "0                       0.005816                                   964.333333   \n",
       "1                       0.005845                                   964.333333   \n",
       "2                       0.005837                                   964.333333   \n",
       "\n",
       "   scrape_samples_scraped_value  scrape_series_added_value  ues_active_value  \\\n",
       "0                    964.333333                        0.0               0.0   \n",
       "1                    964.333333                        0.0               0.0   \n",
       "2                    964.333333                        0.0               0.0   \n",
       "\n",
       "   up_value  \n",
       "0       1.0  \n",
       "1       1.0  \n",
       "2       1.0  \n",
       "\n",
       "[3 rows x 57 columns]"
      ]
     },
     "execution_count": 811,
     "metadata": {},
     "output_type": "execute_result"
    }
   ],
   "source": [
    "# 🔹 Aggregate NetData metrics (choose appropriate aggregation: mean, sum, max, etc.)\n",
    "netdata_aggregated = metrics.groupby([\"timestamp\", \"metric_name\"])[\"value\"].mean().reset_index()\n",
    "\n",
    "# Pivot NetData metrics so each metric has its own column\n",
    "netdata_pivot = netdata_aggregated.pivot(index=\"timestamp\", columns=\"metric_name\", values=\"value\")\n",
    "\n",
    "# Flatten column names\n",
    "netdata_pivot.columns = [f\"{col}_value\" for col in netdata_pivot.columns]\n",
    "\n",
    "# Reset index to bring timestamp back\n",
    "netdata_pivot.reset_index(inplace=True)\n",
    "\n",
    "print(\"✅ NetData metrics aggregated and pivoted successfully!\")\n",
    "netdata_pivot.head(3)"
   ]
  },
  {
   "cell_type": "code",
   "execution_count": 812,
   "metadata": {
    "execution": {
     "iopub.execute_input": "2025-03-20T18:07:44.722941Z",
     "iopub.status.busy": "2025-03-20T18:07:44.722865Z",
     "iopub.status.idle": "2025-03-20T18:07:44.724869Z",
     "shell.execute_reply": "2025-03-20T18:07:44.724653Z"
    }
   },
   "outputs": [],
   "source": [
    "# Define function to classify log messages\n",
    "def classify_log_message(message):\n",
    "    if isinstance(message, str):  # Ensure it's a string before applying .lower()\n",
    "        if \"connect\" in message.lower():\n",
    "            return \"connect\"\n",
    "        elif \"request\" in message.lower():\n",
    "            return \"request\"\n",
    "        elif \"reject\" in message.lower():\n",
    "            return \"reject\"\n",
    "        else:\n",
    "            return \"nothing\"\n",
    "    return \"nothing\"  # Handle missing or NaN values"
   ]
  },
  {
   "cell_type": "code",
   "execution_count": 813,
   "metadata": {
    "execution": {
     "iopub.execute_input": "2025-03-20T18:07:44.725905Z",
     "iopub.status.busy": "2025-03-20T18:07:44.725826Z",
     "iopub.status.idle": "2025-03-20T18:07:44.727717Z",
     "shell.execute_reply": "2025-03-20T18:07:44.727495Z"
    }
   },
   "outputs": [
    {
     "name": "stdout",
     "output_type": "stream",
     "text": [
      "Error: 'log_message' column not found in logs DataFrame\n"
     ]
    }
   ],
   "source": [
    "# Ensure log_message column exists before applying classification\n",
    "if \"log_message\" in logs.columns:\n",
    "\tlogs[\"log_type\"] = logs[\"log_message\"].apply(classify_log_message)\n",
    "else:\n",
    "\tprint(\"Error: 'log_message' column not found in logs DataFrame\")"
   ]
  },
  {
   "cell_type": "code",
   "execution_count": 814,
   "metadata": {
    "execution": {
     "iopub.execute_input": "2025-03-20T18:07:44.728861Z",
     "iopub.status.busy": "2025-03-20T18:07:44.728789Z",
     "iopub.status.idle": "2025-03-20T18:07:44.731201Z",
     "shell.execute_reply": "2025-03-20T18:07:44.730947Z"
    }
   },
   "outputs": [
    {
     "data": {
      "application/vnd.microsoft.datawrangler.viewer.v0+json": {
       "columns": [
        {
         "name": "index",
         "rawType": "int64",
         "type": "integer"
        }
       ],
       "conversionMethod": "pd.DataFrame",
       "ref": "8040496c-524d-4d7f-8d7a-c8cd8d238275",
       "rows": [],
       "shape": {
        "columns": 0,
        "rows": 0
       }
      },
      "text/html": [
       "<div>\n",
       "<style scoped>\n",
       "    .dataframe tbody tr th:only-of-type {\n",
       "        vertical-align: middle;\n",
       "    }\n",
       "\n",
       "    .dataframe tbody tr th {\n",
       "        vertical-align: top;\n",
       "    }\n",
       "\n",
       "    .dataframe thead th {\n",
       "        text-align: right;\n",
       "    }\n",
       "</style>\n",
       "<table border=\"1\" class=\"dataframe\">\n",
       "  <thead>\n",
       "    <tr style=\"text-align: right;\">\n",
       "      <th></th>\n",
       "    </tr>\n",
       "  </thead>\n",
       "  <tbody>\n",
       "  </tbody>\n",
       "</table>\n",
       "</div>"
      ],
      "text/plain": [
       "Empty DataFrame\n",
       "Columns: []\n",
       "Index: []"
      ]
     },
     "execution_count": 814,
     "metadata": {},
     "output_type": "execute_result"
    }
   ],
   "source": [
    "logs.head(1)"
   ]
  },
  {
   "cell_type": "code",
   "execution_count": 815,
   "metadata": {
    "execution": {
     "iopub.execute_input": "2025-03-20T18:07:44.732294Z",
     "iopub.status.busy": "2025-03-20T18:07:44.732215Z",
     "iopub.status.idle": "2025-03-20T18:07:44.734461Z",
     "shell.execute_reply": "2025-03-20T18:07:44.734207Z"
    }
   },
   "outputs": [],
   "source": [
    "# Check if logs DataFrame is not empty before selecting columns\n",
    "if not logs.empty:\n",
    "\t# Keep only necessary columns from logs\n",
    "\tlogs_short = logs[[\"timestamp\", \"application\", \"log_type\"]]\n",
    "else:\n",
    "\t# Create an empty DataFrame if logs is empty\n",
    "\tlogs_short = pd.DataFrame(columns=[\"timestamp\", \"application\", \"log_type\"])"
   ]
  },
  {
   "cell_type": "code",
   "execution_count": 816,
   "metadata": {
    "execution": {
     "iopub.execute_input": "2025-03-20T18:07:44.735615Z",
     "iopub.status.busy": "2025-03-20T18:07:44.735533Z",
     "iopub.status.idle": "2025-03-20T18:07:44.738211Z",
     "shell.execute_reply": "2025-03-20T18:07:44.737977Z"
    }
   },
   "outputs": [
    {
     "data": {
      "application/vnd.microsoft.datawrangler.viewer.v0+json": {
       "columns": [
        {
         "name": "index",
         "rawType": "int64",
         "type": "integer"
        },
        {
         "name": "timestamp",
         "rawType": "object",
         "type": "string"
        },
        {
         "name": "application",
         "rawType": "object",
         "type": "string"
        },
        {
         "name": "log_type",
         "rawType": "object",
         "type": "string"
        }
       ],
       "conversionMethod": "pd.DataFrame",
       "ref": "59fb04e3-19a4-472f-aad2-de2b252d4a37",
       "rows": [],
       "shape": {
        "columns": 3,
        "rows": 0
       }
      },
      "text/html": [
       "<div>\n",
       "<style scoped>\n",
       "    .dataframe tbody tr th:only-of-type {\n",
       "        vertical-align: middle;\n",
       "    }\n",
       "\n",
       "    .dataframe tbody tr th {\n",
       "        vertical-align: top;\n",
       "    }\n",
       "\n",
       "    .dataframe thead th {\n",
       "        text-align: right;\n",
       "    }\n",
       "</style>\n",
       "<table border=\"1\" class=\"dataframe\">\n",
       "  <thead>\n",
       "    <tr style=\"text-align: right;\">\n",
       "      <th></th>\n",
       "      <th>timestamp</th>\n",
       "      <th>application</th>\n",
       "      <th>log_type</th>\n",
       "    </tr>\n",
       "  </thead>\n",
       "  <tbody>\n",
       "  </tbody>\n",
       "</table>\n",
       "</div>"
      ],
      "text/plain": [
       "Empty DataFrame\n",
       "Columns: [timestamp, application, log_type]\n",
       "Index: []"
      ]
     },
     "execution_count": 816,
     "metadata": {},
     "output_type": "execute_result"
    }
   ],
   "source": [
    "logs_short.head(1)"
   ]
  },
  {
   "cell_type": "code",
   "execution_count": 817,
   "metadata": {
    "execution": {
     "iopub.execute_input": "2025-03-20T18:07:44.739274Z",
     "iopub.status.busy": "2025-03-20T18:07:44.739198Z",
     "iopub.status.idle": "2025-03-20T18:07:44.741700Z",
     "shell.execute_reply": "2025-03-20T18:07:44.741458Z"
    }
   },
   "outputs": [],
   "source": [
    "# Ensure start_time is timezone-aware\n",
    "start_time_tz_aware = start_time.replace(tzinfo=pytz.utc).astimezone(LOCAL_TZ)\n",
    "\n",
    "# Convert logs_short timestamp to datetime and ensure it is timezone-aware\n",
    "logs_short[\"timestamp\"] = pd.to_datetime(logs_short[\"timestamp\"]).dt.tz_localize('UTC').dt.tz_convert(LOCAL_TZ)\n",
    "\n",
    "# Remove logs before the start time\n",
    "logs_short = logs_short[logs_short[\"timestamp\"] >= start_time_tz_aware]\n"
   ]
  },
  {
   "cell_type": "code",
   "execution_count": 818,
   "metadata": {
    "execution": {
     "iopub.execute_input": "2025-03-20T18:07:44.742736Z",
     "iopub.status.busy": "2025-03-20T18:07:44.742656Z",
     "iopub.status.idle": "2025-03-20T18:07:44.747495Z",
     "shell.execute_reply": "2025-03-20T18:07:44.747234Z"
    }
   },
   "outputs": [
    {
     "data": {
      "application/vnd.microsoft.datawrangler.viewer.v0+json": {
       "columns": [
        {
         "name": "index",
         "rawType": "int64",
         "type": "integer"
        },
        {
         "name": "timestamp",
         "rawType": "datetime64[ns]",
         "type": "datetime"
        },
        {
         "name": "amf_session_value",
         "rawType": "float64",
         "type": "float"
        },
        {
         "name": "bearers_active_value",
         "rawType": "float64",
         "type": "float"
        },
        {
         "name": "enb_value",
         "rawType": "float64",
         "type": "float"
        },
        {
         "name": "enb_ue_value",
         "rawType": "float64",
         "type": "float"
        },
        {
         "name": "fivegs_amffunction_amf_authreject_value",
         "rawType": "float64",
         "type": "float"
        },
        {
         "name": "fivegs_amffunction_amf_authreq_value",
         "rawType": "float64",
         "type": "float"
        },
        {
         "name": "fivegs_amffunction_mm_confupdate_value",
         "rawType": "float64",
         "type": "float"
        },
        {
         "name": "fivegs_amffunction_mm_confupdatesucc_value",
         "rawType": "float64",
         "type": "float"
        },
        {
         "name": "fivegs_amffunction_mm_paging5greq_value",
         "rawType": "float64",
         "type": "float"
        },
        {
         "name": "fivegs_amffunction_mm_paging5gsucc_value",
         "rawType": "float64",
         "type": "float"
        },
        {
         "name": "fivegs_amffunction_rm_regemergreq_value",
         "rawType": "float64",
         "type": "float"
        },
        {
         "name": "fivegs_amffunction_rm_regemergsucc_value",
         "rawType": "float64",
         "type": "float"
        },
        {
         "name": "fivegs_amffunction_rm_reginitreq_value",
         "rawType": "float64",
         "type": "float"
        },
        {
         "name": "fivegs_amffunction_rm_reginitsucc_value",
         "rawType": "float64",
         "type": "float"
        },
        {
         "name": "fivegs_amffunction_rm_regmobreq_value",
         "rawType": "float64",
         "type": "float"
        },
        {
         "name": "fivegs_amffunction_rm_regmobsucc_value",
         "rawType": "float64",
         "type": "float"
        },
        {
         "name": "fivegs_amffunction_rm_regperiodreq_value",
         "rawType": "float64",
         "type": "float"
        },
        {
         "name": "fivegs_amffunction_rm_regperiodsucc_value",
         "rawType": "float64",
         "type": "float"
        },
        {
         "name": "fivegs_ep_n3_gtp_indatapktn3upf_value",
         "rawType": "float64",
         "type": "float"
        },
        {
         "name": "fivegs_ep_n3_gtp_outdatapktn3upf_value",
         "rawType": "float64",
         "type": "float"
        },
        {
         "name": "fivegs_smffunction_sm_n4sessionestabreq_value",
         "rawType": "float64",
         "type": "float"
        },
        {
         "name": "fivegs_smffunction_sm_n4sessionreport_value",
         "rawType": "float64",
         "type": "float"
        },
        {
         "name": "fivegs_smffunction_sm_n4sessionreportsucc_value",
         "rawType": "float64",
         "type": "float"
        },
        {
         "name": "fivegs_upffunction_sm_n4sessionestabreq_value",
         "rawType": "float64",
         "type": "float"
        },
        {
         "name": "fivegs_upffunction_sm_n4sessionreport_value",
         "rawType": "float64",
         "type": "float"
        },
        {
         "name": "fivegs_upffunction_sm_n4sessionreportsucc_value",
         "rawType": "float64",
         "type": "float"
        },
        {
         "name": "gn_rx_createpdpcontextreq_value",
         "rawType": "float64",
         "type": "float"
        },
        {
         "name": "gn_rx_deletepdpcontextreq_value",
         "rawType": "float64",
         "type": "float"
        },
        {
         "name": "gn_rx_parse_failed_value",
         "rawType": "float64",
         "type": "float"
        },
        {
         "name": "gnb_value",
         "rawType": "float64",
         "type": "float"
        },
        {
         "name": "gtp1_pdpctxs_active_value",
         "rawType": "float64",
         "type": "float"
        },
        {
         "name": "gtp2_sessions_active_value",
         "rawType": "float64",
         "type": "float"
        },
        {
         "name": "gtp_new_node_failed_value",
         "rawType": "float64",
         "type": "float"
        },
        {
         "name": "gtp_peers_active_value",
         "rawType": "float64",
         "type": "float"
        },
        {
         "name": "mme_session_value",
         "rawType": "float64",
         "type": "float"
        },
        {
         "name": "netdata_cgroup_cpu_percentage_average_b48f9356ec91_value",
         "rawType": "float64",
         "type": "float"
        },
        {
         "name": "netdata_net_net_kilobits_persec_average_br-02c136a167f8_received_value",
         "rawType": "float64",
         "type": "float"
        },
        {
         "name": "netdata_net_net_kilobits_persec_average_br-02c136a167f8_sent_value",
         "rawType": "float64",
         "type": "float"
        },
        {
         "name": "netdata_net_packets_packets_persec_average_br-02c136a167f8_received_value",
         "rawType": "float64",
         "type": "float"
        },
        {
         "name": "netdata_net_packets_packets_persec_average_br-02c136a167f8_sent_value",
         "rawType": "float64",
         "type": "float"
        },
        {
         "name": "process_cpu_seconds_total_value",
         "rawType": "float64",
         "type": "float"
        },
        {
         "name": "process_max_fds_value",
         "rawType": "float64",
         "type": "float"
        },
        {
         "name": "process_open_fds_value",
         "rawType": "float64",
         "type": "float"
        },
        {
         "name": "process_resident_memory_bytes_value",
         "rawType": "float64",
         "type": "float"
        },
        {
         "name": "process_start_time_seconds_value",
         "rawType": "float64",
         "type": "float"
        },
        {
         "name": "process_virtual_memory_bytes_value",
         "rawType": "float64",
         "type": "float"
        },
        {
         "name": "process_virtual_memory_max_bytes_value",
         "rawType": "float64",
         "type": "float"
        },
        {
         "name": "ran_ue_value",
         "rawType": "float64",
         "type": "float"
        },
        {
         "name": "s5c_rx_createsession_value",
         "rawType": "float64",
         "type": "float"
        },
        {
         "name": "s5c_rx_parse_failed_value",
         "rawType": "float64",
         "type": "float"
        },
        {
         "name": "scrape_duration_seconds_value",
         "rawType": "float64",
         "type": "float"
        },
        {
         "name": "scrape_samples_post_metric_relabeling_value",
         "rawType": "float64",
         "type": "float"
        },
        {
         "name": "scrape_samples_scraped_value",
         "rawType": "float64",
         "type": "float"
        },
        {
         "name": "scrape_series_added_value",
         "rawType": "float64",
         "type": "float"
        },
        {
         "name": "ues_active_value",
         "rawType": "float64",
         "type": "float"
        },
        {
         "name": "up_value",
         "rawType": "float64",
         "type": "float"
        }
       ],
       "conversionMethod": "pd.DataFrame",
       "ref": "b9bf9f19-b823-490c-9430-95d35adc3a70",
       "rows": [
        [
         "0",
         "2025-03-21 10:07:49",
         "0.0",
         "0.0",
         "0.0",
         "0.0",
         "0.0",
         "0.0",
         "0.0",
         "0.0",
         "0.0",
         "0.0",
         "0.0",
         "0.0",
         "0.0",
         "0.0",
         "0.0",
         "0.0",
         "0.0",
         "0.0",
         "0.0",
         "0.0",
         "0.0",
         "0.0",
         "0.0",
         "0.0",
         "0.0",
         "0.0",
         "0.0",
         "0.0",
         "0.0",
         "0.0",
         "0.0",
         "0.0",
         "0.0",
         "0.0",
         "0.0",
         "2.15371075",
         "117.963198",
         "-121.467204",
         "9.5999994",
         "-14.199999600000002",
         "10.6",
         "1048576.0",
         "22.2",
         "47989555.2",
         "357.6",
         "1711113830.4",
         "-1.0",
         "0.0",
         "0.0",
         "0.0",
         "0.005815847",
         "964.3333333333334",
         "964.3333333333334",
         "0.0",
         "0.0",
         "1.0"
        ]
       ],
       "shape": {
        "columns": 57,
        "rows": 1
       }
      },
      "text/html": [
       "<div>\n",
       "<style scoped>\n",
       "    .dataframe tbody tr th:only-of-type {\n",
       "        vertical-align: middle;\n",
       "    }\n",
       "\n",
       "    .dataframe tbody tr th {\n",
       "        vertical-align: top;\n",
       "    }\n",
       "\n",
       "    .dataframe thead th {\n",
       "        text-align: right;\n",
       "    }\n",
       "</style>\n",
       "<table border=\"1\" class=\"dataframe\">\n",
       "  <thead>\n",
       "    <tr style=\"text-align: right;\">\n",
       "      <th></th>\n",
       "      <th>timestamp</th>\n",
       "      <th>amf_session_value</th>\n",
       "      <th>bearers_active_value</th>\n",
       "      <th>enb_value</th>\n",
       "      <th>enb_ue_value</th>\n",
       "      <th>fivegs_amffunction_amf_authreject_value</th>\n",
       "      <th>fivegs_amffunction_amf_authreq_value</th>\n",
       "      <th>fivegs_amffunction_mm_confupdate_value</th>\n",
       "      <th>fivegs_amffunction_mm_confupdatesucc_value</th>\n",
       "      <th>fivegs_amffunction_mm_paging5greq_value</th>\n",
       "      <th>...</th>\n",
       "      <th>process_virtual_memory_max_bytes_value</th>\n",
       "      <th>ran_ue_value</th>\n",
       "      <th>s5c_rx_createsession_value</th>\n",
       "      <th>s5c_rx_parse_failed_value</th>\n",
       "      <th>scrape_duration_seconds_value</th>\n",
       "      <th>scrape_samples_post_metric_relabeling_value</th>\n",
       "      <th>scrape_samples_scraped_value</th>\n",
       "      <th>scrape_series_added_value</th>\n",
       "      <th>ues_active_value</th>\n",
       "      <th>up_value</th>\n",
       "    </tr>\n",
       "  </thead>\n",
       "  <tbody>\n",
       "    <tr>\n",
       "      <th>0</th>\n",
       "      <td>2025-03-21 10:07:49</td>\n",
       "      <td>0.0</td>\n",
       "      <td>0.0</td>\n",
       "      <td>0.0</td>\n",
       "      <td>0.0</td>\n",
       "      <td>0.0</td>\n",
       "      <td>0.0</td>\n",
       "      <td>0.0</td>\n",
       "      <td>0.0</td>\n",
       "      <td>0.0</td>\n",
       "      <td>...</td>\n",
       "      <td>-1.0</td>\n",
       "      <td>0.0</td>\n",
       "      <td>0.0</td>\n",
       "      <td>0.0</td>\n",
       "      <td>0.005816</td>\n",
       "      <td>964.333333</td>\n",
       "      <td>964.333333</td>\n",
       "      <td>0.0</td>\n",
       "      <td>0.0</td>\n",
       "      <td>1.0</td>\n",
       "    </tr>\n",
       "  </tbody>\n",
       "</table>\n",
       "<p>1 rows × 57 columns</p>\n",
       "</div>"
      ],
      "text/plain": [
       "            timestamp  amf_session_value  bearers_active_value  enb_value  \\\n",
       "0 2025-03-21 10:07:49                0.0                   0.0        0.0   \n",
       "\n",
       "   enb_ue_value  fivegs_amffunction_amf_authreject_value  \\\n",
       "0           0.0                                      0.0   \n",
       "\n",
       "   fivegs_amffunction_amf_authreq_value  \\\n",
       "0                                   0.0   \n",
       "\n",
       "   fivegs_amffunction_mm_confupdate_value  \\\n",
       "0                                     0.0   \n",
       "\n",
       "   fivegs_amffunction_mm_confupdatesucc_value  \\\n",
       "0                                         0.0   \n",
       "\n",
       "   fivegs_amffunction_mm_paging5greq_value  ...  \\\n",
       "0                                      0.0  ...   \n",
       "\n",
       "   process_virtual_memory_max_bytes_value  ran_ue_value  \\\n",
       "0                                    -1.0           0.0   \n",
       "\n",
       "   s5c_rx_createsession_value  s5c_rx_parse_failed_value  \\\n",
       "0                         0.0                        0.0   \n",
       "\n",
       "   scrape_duration_seconds_value  scrape_samples_post_metric_relabeling_value  \\\n",
       "0                       0.005816                                   964.333333   \n",
       "\n",
       "   scrape_samples_scraped_value  scrape_series_added_value  ues_active_value  \\\n",
       "0                    964.333333                        0.0               0.0   \n",
       "\n",
       "   up_value  \n",
       "0       1.0  \n",
       "\n",
       "[1 rows x 57 columns]"
      ]
     },
     "execution_count": 818,
     "metadata": {},
     "output_type": "execute_result"
    }
   ],
   "source": [
    "netdata_pivot.head(1)"
   ]
  },
  {
   "cell_type": "code",
   "execution_count": 819,
   "metadata": {
    "execution": {
     "iopub.execute_input": "2025-03-20T18:07:44.748563Z",
     "iopub.status.busy": "2025-03-20T18:07:44.748487Z",
     "iopub.status.idle": "2025-03-20T18:07:44.751357Z",
     "shell.execute_reply": "2025-03-20T18:07:44.751096Z"
    }
   },
   "outputs": [],
   "source": [
    "# Convert logs_short timestamp to UTC\n",
    "logs_short[\"timestamp\"] = logs_short[\"timestamp\"].dt.tz_convert(\"UTC\").dt.tz_localize(None)\n",
    "\n",
    "# Merge logs with NetData metrics\n",
    "merged_data = pd.merge(netdata_pivot, logs_short, on=\"timestamp\", how=\"outer\")\n"
   ]
  },
  {
   "cell_type": "code",
   "execution_count": 820,
   "metadata": {
    "execution": {
     "iopub.execute_input": "2025-03-20T18:07:44.752607Z",
     "iopub.status.busy": "2025-03-20T18:07:44.752367Z",
     "iopub.status.idle": "2025-03-20T18:07:44.762010Z",
     "shell.execute_reply": "2025-03-20T18:07:44.761745Z"
    }
   },
   "outputs": [
    {
     "data": {
      "application/vnd.microsoft.datawrangler.viewer.v0+json": {
       "columns": [
        {
         "name": "index",
         "rawType": "int64",
         "type": "integer"
        },
        {
         "name": "timestamp",
         "rawType": "datetime64[ns]",
         "type": "datetime"
        },
        {
         "name": "amf_session_value",
         "rawType": "float64",
         "type": "float"
        },
        {
         "name": "bearers_active_value",
         "rawType": "float64",
         "type": "float"
        },
        {
         "name": "enb_value",
         "rawType": "float64",
         "type": "float"
        },
        {
         "name": "enb_ue_value",
         "rawType": "float64",
         "type": "float"
        },
        {
         "name": "fivegs_amffunction_amf_authreject_value",
         "rawType": "float64",
         "type": "float"
        },
        {
         "name": "fivegs_amffunction_amf_authreq_value",
         "rawType": "float64",
         "type": "float"
        },
        {
         "name": "fivegs_amffunction_mm_confupdate_value",
         "rawType": "float64",
         "type": "float"
        },
        {
         "name": "fivegs_amffunction_mm_confupdatesucc_value",
         "rawType": "float64",
         "type": "float"
        },
        {
         "name": "fivegs_amffunction_mm_paging5greq_value",
         "rawType": "float64",
         "type": "float"
        },
        {
         "name": "fivegs_amffunction_mm_paging5gsucc_value",
         "rawType": "float64",
         "type": "float"
        },
        {
         "name": "fivegs_amffunction_rm_regemergreq_value",
         "rawType": "float64",
         "type": "float"
        },
        {
         "name": "fivegs_amffunction_rm_regemergsucc_value",
         "rawType": "float64",
         "type": "float"
        },
        {
         "name": "fivegs_amffunction_rm_reginitreq_value",
         "rawType": "float64",
         "type": "float"
        },
        {
         "name": "fivegs_amffunction_rm_reginitsucc_value",
         "rawType": "float64",
         "type": "float"
        },
        {
         "name": "fivegs_amffunction_rm_regmobreq_value",
         "rawType": "float64",
         "type": "float"
        },
        {
         "name": "fivegs_amffunction_rm_regmobsucc_value",
         "rawType": "float64",
         "type": "float"
        },
        {
         "name": "fivegs_amffunction_rm_regperiodreq_value",
         "rawType": "float64",
         "type": "float"
        },
        {
         "name": "fivegs_amffunction_rm_regperiodsucc_value",
         "rawType": "float64",
         "type": "float"
        },
        {
         "name": "fivegs_ep_n3_gtp_indatapktn3upf_value",
         "rawType": "float64",
         "type": "float"
        },
        {
         "name": "fivegs_ep_n3_gtp_outdatapktn3upf_value",
         "rawType": "float64",
         "type": "float"
        },
        {
         "name": "fivegs_smffunction_sm_n4sessionestabreq_value",
         "rawType": "float64",
         "type": "float"
        },
        {
         "name": "fivegs_smffunction_sm_n4sessionreport_value",
         "rawType": "float64",
         "type": "float"
        },
        {
         "name": "fivegs_smffunction_sm_n4sessionreportsucc_value",
         "rawType": "float64",
         "type": "float"
        },
        {
         "name": "fivegs_upffunction_sm_n4sessionestabreq_value",
         "rawType": "float64",
         "type": "float"
        },
        {
         "name": "fivegs_upffunction_sm_n4sessionreport_value",
         "rawType": "float64",
         "type": "float"
        },
        {
         "name": "fivegs_upffunction_sm_n4sessionreportsucc_value",
         "rawType": "float64",
         "type": "float"
        },
        {
         "name": "gn_rx_createpdpcontextreq_value",
         "rawType": "float64",
         "type": "float"
        },
        {
         "name": "gn_rx_deletepdpcontextreq_value",
         "rawType": "float64",
         "type": "float"
        },
        {
         "name": "gn_rx_parse_failed_value",
         "rawType": "float64",
         "type": "float"
        },
        {
         "name": "gnb_value",
         "rawType": "float64",
         "type": "float"
        },
        {
         "name": "gtp1_pdpctxs_active_value",
         "rawType": "float64",
         "type": "float"
        },
        {
         "name": "gtp2_sessions_active_value",
         "rawType": "float64",
         "type": "float"
        },
        {
         "name": "gtp_new_node_failed_value",
         "rawType": "float64",
         "type": "float"
        },
        {
         "name": "gtp_peers_active_value",
         "rawType": "float64",
         "type": "float"
        },
        {
         "name": "mme_session_value",
         "rawType": "float64",
         "type": "float"
        },
        {
         "name": "netdata_cgroup_cpu_percentage_average_b48f9356ec91_value",
         "rawType": "float64",
         "type": "float"
        },
        {
         "name": "netdata_net_net_kilobits_persec_average_br-02c136a167f8_received_value",
         "rawType": "float64",
         "type": "float"
        },
        {
         "name": "netdata_net_net_kilobits_persec_average_br-02c136a167f8_sent_value",
         "rawType": "float64",
         "type": "float"
        },
        {
         "name": "netdata_net_packets_packets_persec_average_br-02c136a167f8_received_value",
         "rawType": "float64",
         "type": "float"
        },
        {
         "name": "netdata_net_packets_packets_persec_average_br-02c136a167f8_sent_value",
         "rawType": "float64",
         "type": "float"
        },
        {
         "name": "process_cpu_seconds_total_value",
         "rawType": "float64",
         "type": "float"
        },
        {
         "name": "process_max_fds_value",
         "rawType": "float64",
         "type": "float"
        },
        {
         "name": "process_open_fds_value",
         "rawType": "float64",
         "type": "float"
        },
        {
         "name": "process_resident_memory_bytes_value",
         "rawType": "float64",
         "type": "float"
        },
        {
         "name": "process_start_time_seconds_value",
         "rawType": "float64",
         "type": "float"
        },
        {
         "name": "process_virtual_memory_bytes_value",
         "rawType": "float64",
         "type": "float"
        },
        {
         "name": "process_virtual_memory_max_bytes_value",
         "rawType": "float64",
         "type": "float"
        },
        {
         "name": "ran_ue_value",
         "rawType": "float64",
         "type": "float"
        },
        {
         "name": "s5c_rx_createsession_value",
         "rawType": "float64",
         "type": "float"
        },
        {
         "name": "s5c_rx_parse_failed_value",
         "rawType": "float64",
         "type": "float"
        },
        {
         "name": "scrape_duration_seconds_value",
         "rawType": "float64",
         "type": "float"
        },
        {
         "name": "scrape_samples_post_metric_relabeling_value",
         "rawType": "float64",
         "type": "float"
        },
        {
         "name": "scrape_samples_scraped_value",
         "rawType": "float64",
         "type": "float"
        },
        {
         "name": "scrape_series_added_value",
         "rawType": "float64",
         "type": "float"
        },
        {
         "name": "ues_active_value",
         "rawType": "float64",
         "type": "float"
        },
        {
         "name": "up_value",
         "rawType": "float64",
         "type": "float"
        },
        {
         "name": "application",
         "rawType": "object",
         "type": "unknown"
        },
        {
         "name": "log_type",
         "rawType": "object",
         "type": "unknown"
        }
       ],
       "conversionMethod": "pd.DataFrame",
       "ref": "99629b18-ab97-457f-b4c5-905f4d773b55",
       "rows": [
        [
         "0",
         "2025-03-21 10:07:49",
         "0.0",
         "0.0",
         "0.0",
         "0.0",
         "0.0",
         "0.0",
         "0.0",
         "0.0",
         "0.0",
         "0.0",
         "0.0",
         "0.0",
         "0.0",
         "0.0",
         "0.0",
         "0.0",
         "0.0",
         "0.0",
         "0.0",
         "0.0",
         "0.0",
         "0.0",
         "0.0",
         "0.0",
         "0.0",
         "0.0",
         "0.0",
         "0.0",
         "0.0",
         "0.0",
         "0.0",
         "0.0",
         "0.0",
         "0.0",
         "0.0",
         "2.15371075",
         "117.963198",
         "-121.467204",
         "9.5999994",
         "-14.199999600000002",
         "10.6",
         "1048576.0",
         "22.2",
         "47989555.2",
         "357.6",
         "1711113830.4",
         "-1.0",
         "0.0",
         "0.0",
         "0.0",
         "0.005815847",
         "964.3333333333334",
         "964.3333333333334",
         "0.0",
         "0.0",
         "1.0",
         null,
         null
        ],
        [
         "1",
         "2025-03-21 10:07:50",
         "0.0",
         "0.0",
         "0.0",
         "0.0",
         "0.0",
         "0.0",
         "0.0",
         "0.0",
         "0.0",
         "0.0",
         "0.0",
         "0.0",
         "0.0",
         "0.0",
         "0.0",
         "0.0",
         "0.0",
         "0.0",
         "0.0",
         "0.0",
         "0.0",
         "0.0",
         "0.0",
         "0.0",
         "0.0",
         "0.0",
         "0.0",
         "0.0",
         "0.0",
         "0.0",
         "0.0",
         "0.0",
         "0.0",
         "0.0",
         "0.0",
         "2.15371075",
         "117.963198",
         "-121.467204",
         "9.5999994",
         "-14.199999600000002",
         "10.6",
         "1048576.0",
         "22.2",
         "47989555.2",
         "357.6",
         "1711113830.4",
         "-1.0",
         "0.0",
         "0.0",
         "0.0",
         "0.0058453928",
         "964.3333333333334",
         "964.3333333333334",
         "0.0",
         "0.0",
         "1.0",
         null,
         null
        ],
        [
         "2",
         "2025-03-21 10:07:51",
         "0.0",
         "0.0",
         "0.0",
         "0.0",
         "0.0",
         "0.0",
         "0.0",
         "0.0",
         "0.0",
         "0.0",
         "0.0",
         "0.0",
         "0.0",
         "0.0",
         "0.0",
         "0.0",
         "0.0",
         "0.0",
         "0.0",
         "0.0",
         "0.0",
         "0.0",
         "0.0",
         "0.0",
         "0.0",
         "0.0",
         "0.0",
         "0.0",
         "0.0",
         "0.0",
         "0.0",
         "0.0",
         "0.0",
         "0.0",
         "0.0",
         "2.15371075",
         "117.963198",
         "-121.467204",
         "9.5999994",
         "-14.199999600000002",
         "10.6",
         "1048576.0",
         "22.2",
         "47989555.2",
         "357.6",
         "1711113830.4",
         "-1.0",
         "0.0",
         "0.0",
         "0.0",
         "0.005836533791666667",
         "964.3333333333334",
         "964.3333333333334",
         "0.0",
         "0.0",
         "1.0",
         null,
         null
        ],
        [
         "3",
         "2025-03-21 10:07:52",
         "0.0",
         "0.0",
         "0.0",
         "0.0",
         "0.0",
         "0.0",
         "0.0",
         "0.0",
         "0.0",
         "0.0",
         "0.0",
         "0.0",
         "0.0",
         "0.0",
         "0.0",
         "0.0",
         "0.0",
         "0.0",
         "0.0",
         "0.0",
         "0.0",
         "0.0",
         "0.0",
         "0.0",
         "0.0",
         "0.0",
         "0.0",
         "0.0",
         "0.0",
         "0.0",
         "0.0",
         "0.0",
         "0.0",
         "0.0",
         "0.0",
         "2.15371075",
         "117.963198",
         "-121.467204",
         "9.5999994",
         "-14.199999600000002",
         "10.6",
         "1048576.0",
         "22.2",
         "47989555.2",
         "357.6",
         "1711113830.4",
         "-1.0",
         "0.0",
         "0.0",
         "0.0",
         "0.007470892783333334",
         "964.3333333333334",
         "964.3333333333334",
         "0.0",
         "0.0",
         "1.0",
         null,
         null
        ],
        [
         "4",
         "2025-03-21 10:07:53",
         "0.0",
         "0.0",
         "0.0",
         "0.0",
         "0.0",
         "0.0",
         "0.0",
         "0.0",
         "0.0",
         "0.0",
         "0.0",
         "0.0",
         "0.0",
         "0.0",
         "0.0",
         "0.0",
         "0.0",
         "0.0",
         "0.0",
         "0.0",
         "0.0",
         "0.0",
         "0.0",
         "0.0",
         "0.0",
         "0.0",
         "0.0",
         "0.0",
         "0.0",
         "0.0",
         "0.0",
         "0.0",
         "0.0",
         "0.0",
         "0.0",
         "2.15371075",
         "117.963198",
         "-121.467204",
         "9.5999994",
         "-14.199999600000002",
         "10.6",
         "1048576.0",
         "22.2",
         "47989555.2",
         "357.6",
         "1711113830.4",
         "-1.0",
         "0.0",
         "0.0",
         "0.0",
         "0.008715833183333334",
         "964.3333333333334",
         "964.3333333333334",
         "0.0",
         "0.0",
         "1.0",
         null,
         null
        ]
       ],
       "shape": {
        "columns": 59,
        "rows": 5
       }
      },
      "text/html": [
       "<div>\n",
       "<style scoped>\n",
       "    .dataframe tbody tr th:only-of-type {\n",
       "        vertical-align: middle;\n",
       "    }\n",
       "\n",
       "    .dataframe tbody tr th {\n",
       "        vertical-align: top;\n",
       "    }\n",
       "\n",
       "    .dataframe thead th {\n",
       "        text-align: right;\n",
       "    }\n",
       "</style>\n",
       "<table border=\"1\" class=\"dataframe\">\n",
       "  <thead>\n",
       "    <tr style=\"text-align: right;\">\n",
       "      <th></th>\n",
       "      <th>timestamp</th>\n",
       "      <th>amf_session_value</th>\n",
       "      <th>bearers_active_value</th>\n",
       "      <th>enb_value</th>\n",
       "      <th>enb_ue_value</th>\n",
       "      <th>fivegs_amffunction_amf_authreject_value</th>\n",
       "      <th>fivegs_amffunction_amf_authreq_value</th>\n",
       "      <th>fivegs_amffunction_mm_confupdate_value</th>\n",
       "      <th>fivegs_amffunction_mm_confupdatesucc_value</th>\n",
       "      <th>fivegs_amffunction_mm_paging5greq_value</th>\n",
       "      <th>...</th>\n",
       "      <th>s5c_rx_createsession_value</th>\n",
       "      <th>s5c_rx_parse_failed_value</th>\n",
       "      <th>scrape_duration_seconds_value</th>\n",
       "      <th>scrape_samples_post_metric_relabeling_value</th>\n",
       "      <th>scrape_samples_scraped_value</th>\n",
       "      <th>scrape_series_added_value</th>\n",
       "      <th>ues_active_value</th>\n",
       "      <th>up_value</th>\n",
       "      <th>application</th>\n",
       "      <th>log_type</th>\n",
       "    </tr>\n",
       "  </thead>\n",
       "  <tbody>\n",
       "    <tr>\n",
       "      <th>0</th>\n",
       "      <td>2025-03-21 10:07:49</td>\n",
       "      <td>0.0</td>\n",
       "      <td>0.0</td>\n",
       "      <td>0.0</td>\n",
       "      <td>0.0</td>\n",
       "      <td>0.0</td>\n",
       "      <td>0.0</td>\n",
       "      <td>0.0</td>\n",
       "      <td>0.0</td>\n",
       "      <td>0.0</td>\n",
       "      <td>...</td>\n",
       "      <td>0.0</td>\n",
       "      <td>0.0</td>\n",
       "      <td>0.005816</td>\n",
       "      <td>964.333333</td>\n",
       "      <td>964.333333</td>\n",
       "      <td>0.0</td>\n",
       "      <td>0.0</td>\n",
       "      <td>1.0</td>\n",
       "      <td>NaN</td>\n",
       "      <td>NaN</td>\n",
       "    </tr>\n",
       "    <tr>\n",
       "      <th>1</th>\n",
       "      <td>2025-03-21 10:07:50</td>\n",
       "      <td>0.0</td>\n",
       "      <td>0.0</td>\n",
       "      <td>0.0</td>\n",
       "      <td>0.0</td>\n",
       "      <td>0.0</td>\n",
       "      <td>0.0</td>\n",
       "      <td>0.0</td>\n",
       "      <td>0.0</td>\n",
       "      <td>0.0</td>\n",
       "      <td>...</td>\n",
       "      <td>0.0</td>\n",
       "      <td>0.0</td>\n",
       "      <td>0.005845</td>\n",
       "      <td>964.333333</td>\n",
       "      <td>964.333333</td>\n",
       "      <td>0.0</td>\n",
       "      <td>0.0</td>\n",
       "      <td>1.0</td>\n",
       "      <td>NaN</td>\n",
       "      <td>NaN</td>\n",
       "    </tr>\n",
       "    <tr>\n",
       "      <th>2</th>\n",
       "      <td>2025-03-21 10:07:51</td>\n",
       "      <td>0.0</td>\n",
       "      <td>0.0</td>\n",
       "      <td>0.0</td>\n",
       "      <td>0.0</td>\n",
       "      <td>0.0</td>\n",
       "      <td>0.0</td>\n",
       "      <td>0.0</td>\n",
       "      <td>0.0</td>\n",
       "      <td>0.0</td>\n",
       "      <td>...</td>\n",
       "      <td>0.0</td>\n",
       "      <td>0.0</td>\n",
       "      <td>0.005837</td>\n",
       "      <td>964.333333</td>\n",
       "      <td>964.333333</td>\n",
       "      <td>0.0</td>\n",
       "      <td>0.0</td>\n",
       "      <td>1.0</td>\n",
       "      <td>NaN</td>\n",
       "      <td>NaN</td>\n",
       "    </tr>\n",
       "    <tr>\n",
       "      <th>3</th>\n",
       "      <td>2025-03-21 10:07:52</td>\n",
       "      <td>0.0</td>\n",
       "      <td>0.0</td>\n",
       "      <td>0.0</td>\n",
       "      <td>0.0</td>\n",
       "      <td>0.0</td>\n",
       "      <td>0.0</td>\n",
       "      <td>0.0</td>\n",
       "      <td>0.0</td>\n",
       "      <td>0.0</td>\n",
       "      <td>...</td>\n",
       "      <td>0.0</td>\n",
       "      <td>0.0</td>\n",
       "      <td>0.007471</td>\n",
       "      <td>964.333333</td>\n",
       "      <td>964.333333</td>\n",
       "      <td>0.0</td>\n",
       "      <td>0.0</td>\n",
       "      <td>1.0</td>\n",
       "      <td>NaN</td>\n",
       "      <td>NaN</td>\n",
       "    </tr>\n",
       "    <tr>\n",
       "      <th>4</th>\n",
       "      <td>2025-03-21 10:07:53</td>\n",
       "      <td>0.0</td>\n",
       "      <td>0.0</td>\n",
       "      <td>0.0</td>\n",
       "      <td>0.0</td>\n",
       "      <td>0.0</td>\n",
       "      <td>0.0</td>\n",
       "      <td>0.0</td>\n",
       "      <td>0.0</td>\n",
       "      <td>0.0</td>\n",
       "      <td>...</td>\n",
       "      <td>0.0</td>\n",
       "      <td>0.0</td>\n",
       "      <td>0.008716</td>\n",
       "      <td>964.333333</td>\n",
       "      <td>964.333333</td>\n",
       "      <td>0.0</td>\n",
       "      <td>0.0</td>\n",
       "      <td>1.0</td>\n",
       "      <td>NaN</td>\n",
       "      <td>NaN</td>\n",
       "    </tr>\n",
       "  </tbody>\n",
       "</table>\n",
       "<p>5 rows × 59 columns</p>\n",
       "</div>"
      ],
      "text/plain": [
       "            timestamp  amf_session_value  bearers_active_value  enb_value  \\\n",
       "0 2025-03-21 10:07:49                0.0                   0.0        0.0   \n",
       "1 2025-03-21 10:07:50                0.0                   0.0        0.0   \n",
       "2 2025-03-21 10:07:51                0.0                   0.0        0.0   \n",
       "3 2025-03-21 10:07:52                0.0                   0.0        0.0   \n",
       "4 2025-03-21 10:07:53                0.0                   0.0        0.0   \n",
       "\n",
       "   enb_ue_value  fivegs_amffunction_amf_authreject_value  \\\n",
       "0           0.0                                      0.0   \n",
       "1           0.0                                      0.0   \n",
       "2           0.0                                      0.0   \n",
       "3           0.0                                      0.0   \n",
       "4           0.0                                      0.0   \n",
       "\n",
       "   fivegs_amffunction_amf_authreq_value  \\\n",
       "0                                   0.0   \n",
       "1                                   0.0   \n",
       "2                                   0.0   \n",
       "3                                   0.0   \n",
       "4                                   0.0   \n",
       "\n",
       "   fivegs_amffunction_mm_confupdate_value  \\\n",
       "0                                     0.0   \n",
       "1                                     0.0   \n",
       "2                                     0.0   \n",
       "3                                     0.0   \n",
       "4                                     0.0   \n",
       "\n",
       "   fivegs_amffunction_mm_confupdatesucc_value  \\\n",
       "0                                         0.0   \n",
       "1                                         0.0   \n",
       "2                                         0.0   \n",
       "3                                         0.0   \n",
       "4                                         0.0   \n",
       "\n",
       "   fivegs_amffunction_mm_paging5greq_value  ...  s5c_rx_createsession_value  \\\n",
       "0                                      0.0  ...                         0.0   \n",
       "1                                      0.0  ...                         0.0   \n",
       "2                                      0.0  ...                         0.0   \n",
       "3                                      0.0  ...                         0.0   \n",
       "4                                      0.0  ...                         0.0   \n",
       "\n",
       "   s5c_rx_parse_failed_value  scrape_duration_seconds_value  \\\n",
       "0                        0.0                       0.005816   \n",
       "1                        0.0                       0.005845   \n",
       "2                        0.0                       0.005837   \n",
       "3                        0.0                       0.007471   \n",
       "4                        0.0                       0.008716   \n",
       "\n",
       "   scrape_samples_post_metric_relabeling_value  scrape_samples_scraped_value  \\\n",
       "0                                   964.333333                    964.333333   \n",
       "1                                   964.333333                    964.333333   \n",
       "2                                   964.333333                    964.333333   \n",
       "3                                   964.333333                    964.333333   \n",
       "4                                   964.333333                    964.333333   \n",
       "\n",
       "   scrape_series_added_value  ues_active_value  up_value  application  \\\n",
       "0                        0.0               0.0       1.0          NaN   \n",
       "1                        0.0               0.0       1.0          NaN   \n",
       "2                        0.0               0.0       1.0          NaN   \n",
       "3                        0.0               0.0       1.0          NaN   \n",
       "4                        0.0               0.0       1.0          NaN   \n",
       "\n",
       "   log_type  \n",
       "0       NaN  \n",
       "1       NaN  \n",
       "2       NaN  \n",
       "3       NaN  \n",
       "4       NaN  \n",
       "\n",
       "[5 rows x 59 columns]"
      ]
     },
     "execution_count": 820,
     "metadata": {},
     "output_type": "execute_result"
    }
   ],
   "source": [
    "merged_data.head()"
   ]
  },
  {
   "cell_type": "code",
   "execution_count": null,
   "metadata": {
    "execution": {
     "iopub.execute_input": "2025-03-20T18:07:44.763238Z",
     "iopub.status.busy": "2025-03-20T18:07:44.763154Z",
     "iopub.status.idle": "2025-03-20T18:07:44.766082Z",
     "shell.execute_reply": "2025-03-20T18:07:44.765844Z"
    }
   },
   "outputs": [
    {
     "name": "stdout",
     "output_type": "stream",
     "text": [
      "✅ Updated Column Names: Index(['timestamp', 'amf_session_value', 'bearers_active_value', 'enb_value',\n",
      "       'enb_ue_value', 'Auth Reject Count', 'Auth Request Count',\n",
      "       'fivegs_amffunction_mm_confupdate_value',\n",
      "       'fivegs_amffunction_mm_confupdatesucc_value',\n",
      "       'fivegs_amffunction_mm_paging5greq_value',\n",
      "       'fivegs_amffunction_mm_paging5gsucc_value',\n",
      "       'fivegs_amffunction_rm_regemergreq_value',\n",
      "       'fivegs_amffunction_rm_regemergsucc_value',\n",
      "       'fivegs_amffunction_rm_reginitreq_value', 'Registration Success',\n",
      "       'fivegs_amffunction_rm_regmobreq_value',\n",
      "       'fivegs_amffunction_rm_regmobsucc_value',\n",
      "       'fivegs_amffunction_rm_regperiodreq_value',\n",
      "       'fivegs_amffunction_rm_regperiodsucc_value', 'Incoming Data Packets',\n",
      "       'Outgoing Data Packets',\n",
      "       'fivegs_smffunction_sm_n4sessionestabreq_value',\n",
      "       'fivegs_smffunction_sm_n4sessionreport_value',\n",
      "       'fivegs_smffunction_sm_n4sessionreportsucc_value',\n",
      "       'fivegs_upffunction_sm_n4sessionestabreq_value',\n",
      "       'fivegs_upffunction_sm_n4sessionreport_value',\n",
      "       'fivegs_upffunction_sm_n4sessionreportsucc_value',\n",
      "       'gn_rx_createpdpcontextreq_value', 'gn_rx_deletepdpcontextreq_value',\n",
      "       'gn_rx_parse_failed_value', 'gnb_value', 'gtp1_pdpctxs_active_value',\n",
      "       'gtp2_sessions_active_value', 'gtp_new_node_failed_value',\n",
      "       'gtp_peers_active_value', 'mme_session_value', 'CPU Usage (Open5GS)',\n",
      "       'Network Traffic In (kbps)', 'Network Traffic Out (kbps)',\n",
      "       'Packets Received (pps)', 'Packets Sent (pps)',\n",
      "       'process_cpu_seconds_total_value', 'process_max_fds_value',\n",
      "       'process_open_fds_value', 'process_resident_memory_bytes_value',\n",
      "       'process_start_time_seconds_value',\n",
      "       'process_virtual_memory_bytes_value',\n",
      "       'process_virtual_memory_max_bytes_value', 'ran_ue_value',\n",
      "       's5c_rx_createsession_value', 's5c_rx_parse_failed_value',\n",
      "       'scrape_duration_seconds_value',\n",
      "       'scrape_samples_post_metric_relabeling_value',\n",
      "       'scrape_samples_scraped_value', 'scrape_series_added_value',\n",
      "       'Active UEs', 'up_value', 'Application Name', 'Log Type'],\n",
      "      dtype='object')\n"
     ]
    }
   ],
   "source": [
    "# Define a mapping for renaming columns\n",
    "column_rename_mapping = {\n",
    "    # NetData metrics\n",
    "}\n",
    "\n",
    "# Apply renaming\n",
    "merged_data.rename(columns=column_rename_mapping, inplace=True)\n",
    "\n",
    "# Print updated column names for verification\n",
    "print(\"✅ Updated Column Names:\", merged_data.columns)\n"
   ]
  },
  {
   "cell_type": "code",
   "execution_count": 822,
   "metadata": {
    "execution": {
     "iopub.execute_input": "2025-03-20T18:07:44.767328Z",
     "iopub.status.busy": "2025-03-20T18:07:44.767227Z",
     "iopub.status.idle": "2025-03-20T18:07:44.771946Z",
     "shell.execute_reply": "2025-03-20T18:07:44.771673Z"
    }
   },
   "outputs": [
    {
     "name": "stdout",
     "output_type": "stream",
     "text": [
      "✅ Data appended efficiently!\n"
     ]
    }
   ],
   "source": [
    "csv_file = \"merged_data.csv\"\n",
    "\n",
    "# Check if the file exists and is not empty\n",
    "if os.path.exists(csv_file) and os.path.getsize(csv_file) > 0:\n",
    "    try:\n",
    "        last_timestamp = pd.read_csv(csv_file, usecols=[\"timestamp\"], nrows=1)[\"timestamp\"].max()\n",
    "        merged_data = merged_data[merged_data[\"timestamp\"] > last_timestamp]  # Keep only new data\n",
    "    except pd.errors.EmptyDataError:\n",
    "        print(\"⚠️ CSV file is empty. Writing new data without filtering.\")\n",
    "else:\n",
    "    print(\"⚠️ CSV file does not exist or is empty. Creating a new one.\")\n",
    "\n",
    "# If the file is empty or does not exist, write with a header\n",
    "write_header = not os.path.exists(csv_file) or os.path.getsize(csv_file) == 0\n",
    "\n",
    "# Append only new data with a header each time\n",
    "if not merged_data.empty:\n",
    "    merged_data.to_csv(csv_file, mode=\"a\", index=False, header=write_header)\n",
    "\n",
    "\n",
    "print(\"✅ Data appended efficiently!\")\n"
   ]
  }
 ],
 "metadata": {
  "kernelspec": {
   "display_name": ".venv",
   "language": "python",
   "name": "python3"
  },
  "language_info": {
   "codemirror_mode": {
    "name": "ipython",
    "version": 3
   },
   "file_extension": ".py",
   "mimetype": "text/x-python",
   "name": "python",
   "nbconvert_exporter": "python",
   "pygments_lexer": "ipython3",
   "version": "3.9.6"
  }
 },
 "nbformat": 4,
 "nbformat_minor": 2
}
