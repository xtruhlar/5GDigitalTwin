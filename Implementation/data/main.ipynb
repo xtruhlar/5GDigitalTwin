{
 "cells": [
  {
   "cell_type": "code",
   "execution_count": 98,
   "metadata": {
    "execution": {
     "iopub.execute_input": "2025-03-24T12:00:42.297333Z",
     "iopub.status.busy": "2025-03-24T12:00:42.296921Z",
     "iopub.status.idle": "2025-03-24T12:00:42.503227Z",
     "shell.execute_reply": "2025-03-24T12:00:42.502967Z"
    }
   },
   "outputs": [],
   "source": [
    "import pandas as pd\n",
    "from prometheus_api_client import PrometheusConnect, MetricSnapshotDataFrame\n",
    "from datetime import datetime, timedelta, timezone\n",
    "import os\n",
    "import re"
   ]
  },
  {
   "cell_type": "code",
   "execution_count": 99,
   "metadata": {
    "execution": {
     "iopub.execute_input": "2025-03-24T12:00:42.504545Z",
     "iopub.status.busy": "2025-03-24T12:00:42.504396Z",
     "iopub.status.idle": "2025-03-24T12:00:42.506376Z",
     "shell.execute_reply": "2025-03-24T12:00:42.506119Z"
    }
   },
   "outputs": [],
   "source": [
    "start = datetime.now()"
   ]
  },
  {
   "cell_type": "code",
   "execution_count": 100,
   "metadata": {
    "execution": {
     "iopub.execute_input": "2025-03-24T12:00:42.507419Z",
     "iopub.status.busy": "2025-03-24T12:00:42.507345Z",
     "iopub.status.idle": "2025-03-24T12:00:42.509272Z",
     "shell.execute_reply": "2025-03-24T12:00:42.509026Z"
    }
   },
   "outputs": [
    {
     "name": "stdout",
     "output_type": "stream",
     "text": [
      "Connected to Prometheus\n"
     ]
    }
   ],
   "source": [
    "# Create a connection to prometheus\n",
    "try:\n",
    "    prom = PrometheusConnect(url=\"http://localhost:9090\", disable_ssl=True)\n",
    "    print(\"Connected to Prometheus\")\n",
    "except Exception as e:\n",
    "    print(f\"Error connecting to Prometheus: {e}\")"
   ]
  },
  {
   "cell_type": "code",
   "execution_count": 101,
   "metadata": {
    "execution": {
     "iopub.execute_input": "2025-03-24T12:00:42.510390Z",
     "iopub.status.busy": "2025-03-24T12:00:42.510306Z",
     "iopub.status.idle": "2025-03-24T12:00:42.512604Z",
     "shell.execute_reply": "2025-03-24T12:00:42.512368Z"
    }
   },
   "outputs": [],
   "source": [
    "current_time = datetime.now()\n",
    "\n",
    "# Set start_time as the last processed time (or now - 10 seconds for a buffer)\n",
    "start_time = (current_time - timedelta(seconds=50)).strftime(\"%Y-%m-%dT%H:%M:%SZ\")\n",
    "end_time = current_time.strftime(\"%Y-%m-%dT%H:%M:%SZ\")\n",
    "\n",
    "step = \"50ms\"\n",
    "\n",
    "start_time = datetime.strptime(start_time, \"%Y-%m-%dT%H:%M:%SZ\")\n",
    "end_time = datetime.strptime(end_time, \"%Y-%m-%dT%H:%M:%SZ\")"
   ]
  },
  {
   "cell_type": "code",
   "execution_count": 102,
   "metadata": {
    "execution": {
     "iopub.execute_input": "2025-03-24T12:00:42.513624Z",
     "iopub.status.busy": "2025-03-24T12:00:42.513549Z",
     "iopub.status.idle": "2025-03-24T12:00:42.515250Z",
     "shell.execute_reply": "2025-03-24T12:00:42.515020Z"
    }
   },
   "outputs": [
    {
     "name": "stdout",
     "output_type": "stream",
     "text": [
      "Start time: 2025-03-29 15:33:56\n",
      "End time: 2025-03-29 15:34:46\n"
     ]
    }
   ],
   "source": [
    "print(f\"Start time: {start_time}\")\n",
    "print(f\"End time: {end_time}\")"
   ]
  },
  {
   "cell_type": "code",
   "execution_count": 103,
   "metadata": {
    "execution": {
     "iopub.execute_input": "2025-03-24T12:00:42.516270Z",
     "iopub.status.busy": "2025-03-24T12:00:42.516198Z",
     "iopub.status.idle": "2025-03-24T12:00:42.517733Z",
     "shell.execute_reply": "2025-03-24T12:00:42.517512Z"
    }
   },
   "outputs": [],
   "source": [
    "# Labels\n",
    "device=\"br-02c136a167f8\",                                               # Device name for network metrics (Based on the device name in the Prometheus metrics)\n",
    "cgroup_name=\"b48f9356ec91\",                                             # Cgroup name for CPU metrics (Based on the cgroup name in the Prometheus metrics)"
   ]
  },
  {
   "cell_type": "code",
   "execution_count": 104,
   "metadata": {
    "execution": {
     "iopub.execute_input": "2025-03-24T12:00:42.518779Z",
     "iopub.status.busy": "2025-03-24T12:00:42.518692Z",
     "iopub.status.idle": "2025-03-24T12:00:42.522958Z",
     "shell.execute_reply": "2025-03-24T12:00:42.522738Z"
    }
   },
   "outputs": [],
   "source": [
    "# List of important metrics\n",
    "metrics = [\n",
    "    # Open5GS metrics\n",
    "    \"amf_session\",                                                          # AMF Sessions (Gauge)\n",
    "    # \"bearers_active\",                                                       # Active Bearers (Gauge)                                                                     \n",
    "    # \"enb\",                                                                  # eNodeBs (Gauge)\n",
    "    # \"enb_ue\",                                                               # Number of UEs connected to eNodeBs (Gauge)\n",
    "\n",
    "    # FiveGS metrics\n",
    "    ## AMF\n",
    "    \"fivegs_amffunction_amf_authreject\",                                    # Number of authentication rejections sent by the AMF (Counter)\n",
    "    \"fivegs_amffunction_amf_authreq\",                                       # Number of authentication requests sent by the AMF (Counter)\n",
    "    \"fivegs_amffunction_mm_confupdate\",                                     # Number of UE Configuration Update commands requested by the AMF (Counter)\n",
    "    \"fivegs_amffunction_mm_confupdatesucc\",                                 # Number of UE Configuration Update complete messages received by the AMF (Counter)\n",
    "    \"fivegs_amffunction_mm_paging5greq\",                                    # Number of 5G paging procedures initiated at the AMF (Counter)\n",
    "    \"fivegs_amffunction_mm_paging5gsucc\",                                   # Number of successful 5G paging procedures initiated at the AMF (Counter)\n",
    "    \"fivegs_amffunction_rm_regemergreq\",                                    # Number of emergency registration requests received by the AMF (Counter)\n",
    "    \"fivegs_amffunction_rm_regemergsucc\",                                   # Number of successful emergency registrations at the AMF (Counter)\n",
    "    \"fivegs_amffunction_rm_reginitreq\",                                     # Number of initial registration requests received by the AMF (Counter)\n",
    "    \"fivegs_amffunction_rm_reginitsucc\",                                    # Number of successful initial registrations at the AMF (Counter)\n",
    "    \"fivegs_amffunction_rm_registeredsubnbr\",                               # Number of registered subscribers at the AMF (Gauge)\n",
    "    \"fivegs_amffunction_rm_regmobreq\",                                      # Number of mobility registration update requests received by the AMF (Counter)\n",
    "    \"fivegs_amffunction_rm_regmobsucc\",                                     # Number of successful mobility registration updates at the AMF (Counter)\n",
    "    \"fivegs_amffunction_rm_regperiodreq\",                                   # Number of periodic registration update requests received by the AMF (Counter)\n",
    "    \"fivegs_amffunction_rm_regperiodsucc\",                                  # Number of successful periodic registration update requests at the AMF (Counter)\n",
    "\n",
    "    ## EP_N3_GTP\n",
    "    \"fivegs_ep_n3_gtp_indatapktn3upf\",                                      # Number of incoming GTP data packets on the N3 interface (Counter)\n",
    "    \"fivegs_ep_n3_gtp_outdatapktn3upf\",                                     # Number of outgoing GTP data packets on the N3 interface (Counter)\n",
    "\n",
    "    ## SMF\n",
    "    \"fivegs_smffunction_sm_n4sessionestabreq\",                              # Number of requested N4 session establishments evidented by SMF (Counter)\n",
    "    \"fivegs_smffunction_sm_n4sessionreport\",                                # Number of requested N4 session reports evidented by SMF (Counter)\n",
    "    \"fivegs_smffunction_sm_n4sessionreportsucc\",                            # Number of successful N4 session reports evidented by SMF (Counter)\n",
    "    \"fivegs_smffunction_sm_pdusessioncreationreq\",                          # Number of PDU sessions requested to be created by the SMF (Counter)\n",
    "    \"fivegs_smffunction_sm_pdusessioncreationsucc\",                         # Number of PDU sessions successfully created by the SMF (Counter)\n",
    "    \"fivegs_smffunction_sm_qos_flow_nbr\",                                   # Number of QoS flows at the SMF (Gauge)\n",
    "    \"fivegs_smffunction_sm_sessionnbr\",                                     # Active Sessions (Gauge)\n",
    "\n",
    "    ## UPF\n",
    "    \"fivegs_upffunction_sm_n4sessionestabreq\",                              # Number of requested N4 session establishments (Counter)\n",
    "    \"fivegs_upffunction_sm_n4sessionreport\",                                # Number of requested N4 session reports (Counter)\n",
    "    \"fivegs_upffunction_sm_n4sessionreportsucc\",                            # Number of successful N4 session reports (Counter)\n",
    "    \"fivegs_upffunction_upf_qosflows\",                                      # Number of QoS flows of UPF (Gauge)\n",
    "    \"fivegs_upffunction_upf_sessionnbr\",                                    # Active Sessions (Gauge)\n",
    "\n",
    "    ## PCF\n",
    "    \"fivegs_pcffunction_pa_policyamassoreq\",                                # Number of Policy Association Requests sent by the PCF (Counter)\n",
    "    \"fivegs_pcffunction_pa_policyamassosucc\",                               # Number of Policy Association Successes sent by the PCF (Counter)\n",
    "    \"fivegs_pcffunction_pa_policysmassoreq\",                                # Number of Policy Session Association Requests sent by the PCF (Counter)\n",
    "    \"fivegs_pcffunction_pa_policysmassosucc\",                               # Number of Policy Session Association Successes sent by the PCF (Counter)\n",
    "    \"fivegs_pcffunction_pa_sessionnbr\",                                     # Active Sessions (Gauge)\n",
    "\n",
    "    ## GN RX\n",
    "    \"gn_rx_createpdpcontextreq\",                                            # Received GTPv1C CreatePDPContextRequest messages (Counter)\n",
    "    \"gn_rx_deletepdpcontextreq\",                                            # Received GTPv1C DeletePDPContextRequest messages (Counter)\n",
    "    \"gn_rx_parse_failed\",                                                   # Received GTPv1C messages discarded due to parsing failure (Counter)\n",
    "\n",
    "    ## GNB\n",
    "    \"gnb\",                                                                  # gNodeBs (Gauge) [Real time active gNodeBs]\n",
    "\n",
    "    ## GTP\n",
    "    \"gtp1_pdpctxs_active\",                                                  # Active GTPv1 PDP Contexts (GGSN) (Gauge)\n",
    "    \"gtp2_sessions_active\",                                                 # Active GTPv2 Sessions (PGW) (Gauge)\n",
    "    \"gtp_new_node_failed\",                                                  # Unable to allocate new GTP (peer) Node (Counter)\n",
    "    \"gtp_peers_active\",                                                     # Active GTP peers (Gauge)\n",
    "\n",
    "    ## MME\n",
    "    # \"mme_session\",                                                          # MME Sessions (Gauge)\n",
    "\n",
    "    ## S5C RX\n",
    "    \"s5c_rx_createsession\",                                                 # Received GTPv2C CreateSessionRequest messages (Counter)\n",
    "    \"s5c_rx_parse_failed\",                                                  # Received GTPv2C messages discarded due to parsing failure (Counter)\n",
    "\n",
    "    ## Prometheus metrics scrape\n",
    "    # \"scrape_duration_seconds\",                                              # Prometheus scrape duration (Gauge)\n",
    "    # \"scrape_samples_post_metric_relabeling\",                                # Prometheus scrape samples post metric relabeling (Gauge)\n",
    "    # \"scrape_samples_scraped\",                                               # Prometheus scrape samples scraped (Gauge)\n",
    "    # \"scrape_series_added\",                                                  # Prometheus scrape series added (Gauge)\n",
    "\n",
    "    ## UES\n",
    "    # \"ues_active\",                                                           # Active User Equipments (Gauge) [Not real time active UEs but the total number of UEs that have been connected to the network]\n",
    "    # \"ran_ue\",                                                               # RAN UEs (Gauge) [Real time active UEs]\n",
    "    \n",
    "    ## Up\n",
    "    \"up\",                                                                     # 0 = Down, 1 = Up (Gauge)\n",
    "\n",
    "    ## Process metrics\n",
    "    # \"process_cpu_seconds_total\",                                            # Total user and system CPU time spent in seconds (Counter)\n",
    "    # \"process_max_fds\",                                                      # Maximum number of open file descriptors (Gauge)\n",
    "    # \"process_open_fds\",                                                     # Number of open file descriptors (Gauge)\n",
    "    # \"process_resident_memory_bytes\",                                        # Resident memory size in bytes (Gauge)\n",
    "    # \"process_start_time_seconds\",                                           # Start time of the process since unix epoch in seconds (Gauge)\n",
    "    # \"process_virtual_memory_bytes\",                                         # Virtual memory size in bytes (Gauge)\n",
    "    # \"process_virtual_memory_max_bytes\",                                     # Maximum amount of virtual memory available in bytes (Gauge)\n",
    "\n",
    "    ## NetData metrics for network traffic\n",
    "    f'netdata_net_net_kilobits_persec_average{{device=\"{device[0]}\", dimension=\"received\"}}',                              # Bandwidth received (Kbps)\n",
    "    f'netdata_net_net_kilobits_persec_average{{device=\"{device[0]}\", dimension=\"sent\"}}',                                  # Bandwidth sent (Kbps)\n",
    "    f'netdata_net_packets_packets_persec_average{{device=\"{device[0]}\", dimension=\"received\"}}',                           # Packets received per second\n",
    "    f'netdata_net_packets_packets_persec_average{{device=\"{device[0]}\", dimension=\"sent\"}}',                               # Packets sent per second\n",
    "\n",
    "    f'netdata_cgroup_cpu_percentage_average{{cgroup_name=\"{cgroup_name[0]}\"}}',                                            # CPU usage percentage\n",
    "\n",
    "    f'netdata_cgroup_memory_bytes_average{{cgroup_name=\"{cgroup_name[0]}\"}}',                                              # Memory usage in bytes\n",
    "\n",
    "    ## Custom metrics\n",
    "    \"currently_active_ues\",                                                     # Currently active UEs (Gauge)\n",
    "    ]"
   ]
  },
  {
   "cell_type": "code",
   "execution_count": 105,
   "metadata": {
    "execution": {
     "iopub.execute_input": "2025-03-24T12:00:42.523977Z",
     "iopub.status.busy": "2025-03-24T12:00:42.523900Z",
     "iopub.status.idle": "2025-03-24T12:00:42.525357Z",
     "shell.execute_reply": "2025-03-24T12:00:42.525127Z"
    }
   },
   "outputs": [],
   "source": [
    "# Create an empty DataFrame to store all metrics\n",
    "df_list = []"
   ]
  },
  {
   "cell_type": "code",
   "execution_count": 106,
   "metadata": {
    "execution": {
     "iopub.execute_input": "2025-03-24T12:00:42.526353Z",
     "iopub.status.busy": "2025-03-24T12:00:42.526276Z",
     "iopub.status.idle": "2025-03-24T12:00:42.664443Z",
     "shell.execute_reply": "2025-03-24T12:00:42.664179Z"
    }
   },
   "outputs": [
    {
     "name": "stdout",
     "output_type": "stream",
     "text": [
      "⚠️ Warning: No data for metric netdata_cgroup_memory_bytes_average{cgroup_name=\"b48f9356ec91\"}\n"
     ]
    }
   ],
   "source": [
    "import pytz  # For timezone conversion\n",
    "\n",
    "# Define your local timezone (change this if necessary)\n",
    "LOCAL_TZ = pytz.timezone(\"Europe/Bratislava\")  # Change if needed\n",
    "\n",
    "# Fetch metrics and transform timestamps\n",
    "for metric in metrics:\n",
    "    try:\n",
    "        response = prom.custom_query_range(\n",
    "            metric, start_time=start_time, end_time=end_time, step=step\n",
    "        )\n",
    "\n",
    "        # Ensure response is not empty\n",
    "        if not response:\n",
    "            print(f\"⚠️ Warning: No data for metric {metric}\")\n",
    "            continue\n",
    "\n",
    "        # Process each metric entry\n",
    "        for entry in response:\n",
    "            base_metric_name = entry[\"metric\"][\"__name__\"]\n",
    "\n",
    "            # Extract metadata if available\n",
    "            dimension = entry[\"metric\"].get(\"dimension\", None)\n",
    "            device = entry[\"metric\"].get(\"device\", None)\n",
    "            cgroup_name = entry[\"metric\"].get(\"cgroup_name\", None)\n",
    "\n",
    "            # Construct metric name properly\n",
    "            metric_name = base_metric_name\n",
    "            if device and dimension:\n",
    "                metric_name = f\"{base_metric_name}_{device}_{dimension}\"\n",
    "            elif device:\n",
    "                metric_name = f\"{base_metric_name}_{device}\"\n",
    "            elif cgroup_name:\n",
    "                metric_name = f\"{base_metric_name}_{cgroup_name}\"\n",
    "\n",
    "            # Extract and format values with timezone conversion\n",
    "            if \"values\" in entry and isinstance(entry[\"values\"], list):\n",
    "                extracted_values = [\n",
    "                   (datetime.utcfromtimestamp(int(ts)).replace(tzinfo=pytz.utc).astimezone(LOCAL_TZ), float(val))\n",
    "                    for ts, val in entry[\"values\"]\n",
    "                ]\n",
    "\n",
    "                # Create DataFrame\n",
    "                metric_df = pd.DataFrame(extracted_values, columns=[\"timestamp\", \"value\"])\n",
    "                metric_df[\"metric_name\"] = metric_name\n",
    "\n",
    "                # Append to list\n",
    "                df_list.append(metric_df)\n",
    "            else:\n",
    "                print(f\"⚠️ Warning: No valid values found for {metric}\")\n",
    "\n",
    "    except Exception as e:\n",
    "        print(f\"❌ Error fetching {metric}: {e}\")\n"
   ]
  },
  {
   "cell_type": "code",
   "execution_count": 107,
   "metadata": {
    "execution": {
     "iopub.execute_input": "2025-03-24T12:00:42.665651Z",
     "iopub.status.busy": "2025-03-24T12:00:42.665568Z",
     "iopub.status.idle": "2025-03-24T12:00:42.668353Z",
     "shell.execute_reply": "2025-03-24T12:00:42.668025Z"
    }
   },
   "outputs": [],
   "source": [
    "if df_list:\n",
    "    final_df = pd.concat(df_list, ignore_index=True)"
   ]
  },
  {
   "cell_type": "code",
   "execution_count": 108,
   "metadata": {
    "execution": {
     "iopub.execute_input": "2025-03-24T12:00:42.669487Z",
     "iopub.status.busy": "2025-03-24T12:00:42.669403Z",
     "iopub.status.idle": "2025-03-24T12:00:42.718853Z",
     "shell.execute_reply": "2025-03-24T12:00:42.718561Z"
    }
   },
   "outputs": [],
   "source": [
    "# Remove +01:00 from the timestamp\n",
    "final_df['timestamp'] = final_df['timestamp'].astype(str).str.replace(r'\\+\\d{2}:\\d{2}', '', regex=True)"
   ]
  },
  {
   "cell_type": "code",
   "execution_count": 109,
   "metadata": {
    "execution": {
     "iopub.execute_input": "2025-03-24T12:00:42.719921Z",
     "iopub.status.busy": "2025-03-24T12:00:42.719843Z",
     "iopub.status.idle": "2025-03-24T12:00:42.724588Z",
     "shell.execute_reply": "2025-03-24T12:00:42.724358Z"
    }
   },
   "outputs": [
    {
     "data": {
      "text/html": [
       "<div>\n",
       "<style scoped>\n",
       "    .dataframe tbody tr th:only-of-type {\n",
       "        vertical-align: middle;\n",
       "    }\n",
       "\n",
       "    .dataframe tbody tr th {\n",
       "        vertical-align: top;\n",
       "    }\n",
       "\n",
       "    .dataframe thead th {\n",
       "        text-align: right;\n",
       "    }\n",
       "</style>\n",
       "<table border=\"1\" class=\"dataframe\">\n",
       "  <thead>\n",
       "    <tr style=\"text-align: right;\">\n",
       "      <th></th>\n",
       "      <th>timestamp</th>\n",
       "      <th>value</th>\n",
       "      <th>metric_name</th>\n",
       "    </tr>\n",
       "  </thead>\n",
       "  <tbody>\n",
       "    <tr>\n",
       "      <th>0</th>\n",
       "      <td>2025-03-29 15:33:56</td>\n",
       "      <td>10.0</td>\n",
       "      <td>amf_session</td>\n",
       "    </tr>\n",
       "    <tr>\n",
       "      <th>1</th>\n",
       "      <td>2025-03-29 15:33:56</td>\n",
       "      <td>10.0</td>\n",
       "      <td>amf_session</td>\n",
       "    </tr>\n",
       "    <tr>\n",
       "      <th>2</th>\n",
       "      <td>2025-03-29 15:33:56</td>\n",
       "      <td>10.0</td>\n",
       "      <td>amf_session</td>\n",
       "    </tr>\n",
       "    <tr>\n",
       "      <th>3</th>\n",
       "      <td>2025-03-29 15:33:56</td>\n",
       "      <td>10.0</td>\n",
       "      <td>amf_session</td>\n",
       "    </tr>\n",
       "    <tr>\n",
       "      <th>4</th>\n",
       "      <td>2025-03-29 15:33:56</td>\n",
       "      <td>10.0</td>\n",
       "      <td>amf_session</td>\n",
       "    </tr>\n",
       "  </tbody>\n",
       "</table>\n",
       "</div>"
      ],
      "text/plain": [
       "             timestamp  value  metric_name\n",
       "0  2025-03-29 15:33:56   10.0  amf_session\n",
       "1  2025-03-29 15:33:56   10.0  amf_session\n",
       "2  2025-03-29 15:33:56   10.0  amf_session\n",
       "3  2025-03-29 15:33:56   10.0  amf_session\n",
       "4  2025-03-29 15:33:56   10.0  amf_session"
      ]
     },
     "execution_count": 109,
     "metadata": {},
     "output_type": "execute_result"
    }
   ],
   "source": [
    "final_df.head()"
   ]
  },
  {
   "cell_type": "code",
   "execution_count": 110,
   "metadata": {
    "execution": {
     "iopub.execute_input": "2025-03-24T12:00:42.725689Z",
     "iopub.status.busy": "2025-03-24T12:00:42.725615Z",
     "iopub.status.idle": "2025-03-24T12:00:42.727468Z",
     "shell.execute_reply": "2025-03-24T12:00:42.727255Z"
    }
   },
   "outputs": [],
   "source": [
    "log_dir = \"../log/\"\n",
    "\n",
    "# Example:\n",
    "# 03/19 11:20:11.151: [amf] INFO: ngap_server() [172.22.0.10]:38412 (../src/amf/ngap-sctp.c:61)\n",
    "# 03/19 11:20:11.154: [sctp] INFO: AMF initialize...done (../src/amf/app.c:33)\n",
    "# 03/19 11:20:11.174: [sbi] INFO: [bd5d91d4-04ab-41f0-8871-a9dc3c5ef804] NF registered [Heartbeat:10s] (../lib/sbi/nf-sm.c:208)\n",
    "# 03/19 11:20:11.179: [sbi] INFO: NF EndPoint(addr) setup [172.22.0.12:7777] (../lib/sbi/nnrf-handler.c:949)\n",
    "\n",
    "\n",
    "log_pattern = re.compile(r\"(\\d{2}/\\d{2} \\d{2}:\\d{2}:\\d{2}\\.\\d{3}):\\s+\\[(\\w+)\\]\\s+(\\w+):\\s*(.+)\")\n",
    "\n",
    "log_data = []"
   ]
  },
  {
   "cell_type": "code",
   "execution_count": 111,
   "metadata": {
    "execution": {
     "iopub.execute_input": "2025-03-24T12:00:42.728463Z",
     "iopub.status.busy": "2025-03-24T12:00:42.728390Z",
     "iopub.status.idle": "2025-03-24T12:00:42.834558Z",
     "shell.execute_reply": "2025-03-24T12:00:42.834244Z"
    }
   },
   "outputs": [],
   "source": [
    "# Iterate over all log files in the directory\n",
    "for log_file in os.listdir(log_dir):\n",
    "    log_path = os.path.join(log_dir, log_file)\n",
    "    \n",
    "    with open(log_path, \"r\", encoding=\"utf-8\", errors=\"ignore\") as f:\n",
    "        for line in f:\n",
    "            match = log_pattern.match(line)\n",
    "            if match:\n",
    "                timestamp_str, application, log_level, log_message = match.groups()\n",
    "\n",
    "                # Convert timestamp to datetime (add missing year)\n",
    "                log_timestamp = datetime.strptime(timestamp_str, \"%m/%d %H:%M:%S.%f\")\n",
    "                log_timestamp = log_timestamp.replace(year=start_time.year)  # Assign correct year\n",
    "\n",
    "                # 🔹 Remove milliseconds to match Prometheus format\n",
    "                log_timestamp = log_timestamp.replace(tzinfo=None)\n",
    "                log_timestamp = log_timestamp.replace(microsecond=0)\n",
    "\n",
    "\n",
    "                # Check if the log timestamp later than the start time\n",
    "                if log_timestamp > start_time:\n",
    "                    log_data.append({\n",
    "                        \"timestamp\": log_timestamp,\n",
    "                        \"application\": application,\n",
    "                        \"log_level\": log_level,\n",
    "                        \"log_message\": log_message\n",
    "                    })\n"
   ]
  },
  {
   "cell_type": "code",
   "execution_count": 112,
   "metadata": {
    "execution": {
     "iopub.execute_input": "2025-03-24T12:00:42.835851Z",
     "iopub.status.busy": "2025-03-24T12:00:42.835760Z",
     "iopub.status.idle": "2025-03-24T12:00:42.838729Z",
     "shell.execute_reply": "2025-03-24T12:00:42.838493Z"
    }
   },
   "outputs": [
    {
     "data": {
      "text/html": [
       "<div>\n",
       "<style scoped>\n",
       "    .dataframe tbody tr th:only-of-type {\n",
       "        vertical-align: middle;\n",
       "    }\n",
       "\n",
       "    .dataframe tbody tr th {\n",
       "        vertical-align: top;\n",
       "    }\n",
       "\n",
       "    .dataframe thead th {\n",
       "        text-align: right;\n",
       "    }\n",
       "</style>\n",
       "<table border=\"1\" class=\"dataframe\">\n",
       "  <thead>\n",
       "    <tr style=\"text-align: right;\">\n",
       "      <th></th>\n",
       "    </tr>\n",
       "  </thead>\n",
       "  <tbody>\n",
       "  </tbody>\n",
       "</table>\n",
       "</div>"
      ],
      "text/plain": [
       "Empty DataFrame\n",
       "Columns: []\n",
       "Index: []"
      ]
     },
     "execution_count": 112,
     "metadata": {},
     "output_type": "execute_result"
    }
   ],
   "source": [
    "log_data = pd.DataFrame(log_data)\n",
    "log_data.head()"
   ]
  },
  {
   "cell_type": "code",
   "execution_count": 113,
   "metadata": {
    "execution": {
     "iopub.execute_input": "2025-03-24T12:00:42.839778Z",
     "iopub.status.busy": "2025-03-24T12:00:42.839704Z",
     "iopub.status.idle": "2025-03-24T12:00:42.844926Z",
     "shell.execute_reply": "2025-03-24T12:00:42.844703Z"
    }
   },
   "outputs": [
    {
     "data": {
      "text/html": [
       "<div>\n",
       "<style scoped>\n",
       "    .dataframe tbody tr th:only-of-type {\n",
       "        vertical-align: middle;\n",
       "    }\n",
       "\n",
       "    .dataframe tbody tr th {\n",
       "        vertical-align: top;\n",
       "    }\n",
       "\n",
       "    .dataframe thead th {\n",
       "        text-align: right;\n",
       "    }\n",
       "</style>\n",
       "<table border=\"1\" class=\"dataframe\">\n",
       "  <thead>\n",
       "    <tr style=\"text-align: right;\">\n",
       "      <th></th>\n",
       "      <th>timestamp</th>\n",
       "      <th>value</th>\n",
       "      <th>metric_name</th>\n",
       "    </tr>\n",
       "  </thead>\n",
       "  <tbody>\n",
       "    <tr>\n",
       "      <th>0</th>\n",
       "      <td>2025-03-29 15:33:56</td>\n",
       "      <td>10.0</td>\n",
       "      <td>amf_session</td>\n",
       "    </tr>\n",
       "  </tbody>\n",
       "</table>\n",
       "</div>"
      ],
      "text/plain": [
       "            timestamp  value  metric_name\n",
       "0 2025-03-29 15:33:56   10.0  amf_session"
      ]
     },
     "execution_count": 113,
     "metadata": {},
     "output_type": "execute_result"
    }
   ],
   "source": [
    "final_df[\"timestamp\"] = pd.to_datetime(final_df[\"timestamp\"])\n",
    "final_df.head(1)"
   ]
  },
  {
   "cell_type": "markdown",
   "metadata": {},
   "source": [
    "log_data and final_df\n",
    "----------------------\n",
    "save()"
   ]
  },
  {
   "cell_type": "code",
   "execution_count": 114,
   "metadata": {
    "execution": {
     "iopub.execute_input": "2025-03-24T12:00:42.845982Z",
     "iopub.status.busy": "2025-03-24T12:00:42.845905Z",
     "iopub.status.idle": "2025-03-24T12:00:42.877002Z",
     "shell.execute_reply": "2025-03-24T12:00:42.876764Z"
    }
   },
   "outputs": [],
   "source": [
    "log_data.to_csv(\"log_data.csv\", index=False)\n",
    "final_df.to_csv(\"metrics_data.csv\", index=False)"
   ]
  },
  {
   "cell_type": "code",
   "execution_count": 115,
   "metadata": {
    "execution": {
     "iopub.execute_input": "2025-03-24T12:00:42.878137Z",
     "iopub.status.busy": "2025-03-24T12:00:42.878053Z",
     "iopub.status.idle": "2025-03-24T12:00:42.879526Z",
     "shell.execute_reply": "2025-03-24T12:00:42.879309Z"
    }
   },
   "outputs": [],
   "source": [
    "# Load logs separately before merging\n",
    "logs = log_data\n",
    "metrics = final_df"
   ]
  },
  {
   "cell_type": "code",
   "execution_count": 116,
   "metadata": {
    "execution": {
     "iopub.execute_input": "2025-03-24T12:00:42.880500Z",
     "iopub.status.busy": "2025-03-24T12:00:42.880428Z",
     "iopub.status.idle": "2025-03-24T12:00:42.889189Z",
     "shell.execute_reply": "2025-03-24T12:00:42.888966Z"
    }
   },
   "outputs": [
    {
     "name": "stdout",
     "output_type": "stream",
     "text": [
      "✅ NetData metrics aggregated and pivoted successfully!\n"
     ]
    },
    {
     "data": {
      "text/html": [
       "<div>\n",
       "<style scoped>\n",
       "    .dataframe tbody tr th:only-of-type {\n",
       "        vertical-align: middle;\n",
       "    }\n",
       "\n",
       "    .dataframe tbody tr th {\n",
       "        vertical-align: top;\n",
       "    }\n",
       "\n",
       "    .dataframe thead th {\n",
       "        text-align: right;\n",
       "    }\n",
       "</style>\n",
       "<table border=\"1\" class=\"dataframe\">\n",
       "  <thead>\n",
       "    <tr style=\"text-align: right;\">\n",
       "      <th></th>\n",
       "      <th>timestamp</th>\n",
       "      <th>amf_session_value</th>\n",
       "      <th>currently_active_ues_value</th>\n",
       "      <th>fivegs_amffunction_amf_authreject_value</th>\n",
       "      <th>fivegs_amffunction_amf_authreq_value</th>\n",
       "      <th>fivegs_amffunction_mm_confupdate_value</th>\n",
       "      <th>fivegs_amffunction_mm_confupdatesucc_value</th>\n",
       "      <th>fivegs_amffunction_mm_paging5greq_value</th>\n",
       "      <th>fivegs_amffunction_mm_paging5gsucc_value</th>\n",
       "      <th>fivegs_amffunction_rm_regemergreq_value</th>\n",
       "      <th>...</th>\n",
       "      <th>gtp_new_node_failed_value</th>\n",
       "      <th>gtp_peers_active_value</th>\n",
       "      <th>netdata_cgroup_cpu_percentage_average_b48f9356ec91_value</th>\n",
       "      <th>netdata_net_net_kilobits_persec_average_br-02c136a167f8_received_value</th>\n",
       "      <th>netdata_net_net_kilobits_persec_average_br-02c136a167f8_sent_value</th>\n",
       "      <th>netdata_net_packets_packets_persec_average_br-02c136a167f8_received_value</th>\n",
       "      <th>netdata_net_packets_packets_persec_average_br-02c136a167f8_sent_value</th>\n",
       "      <th>s5c_rx_createsession_value</th>\n",
       "      <th>s5c_rx_parse_failed_value</th>\n",
       "      <th>up_value</th>\n",
       "    </tr>\n",
       "  </thead>\n",
       "  <tbody>\n",
       "    <tr>\n",
       "      <th>0</th>\n",
       "      <td>2025-03-29 15:33:56</td>\n",
       "      <td>10.0</td>\n",
       "      <td>0.0</td>\n",
       "      <td>0.0</td>\n",
       "      <td>10.0</td>\n",
       "      <td>10.0</td>\n",
       "      <td>0.0</td>\n",
       "      <td>0.0</td>\n",
       "      <td>0.0</td>\n",
       "      <td>0.0</td>\n",
       "      <td>...</td>\n",
       "      <td>0.0</td>\n",
       "      <td>0.0</td>\n",
       "      <td>3.266856</td>\n",
       "      <td>619.5316</td>\n",
       "      <td>-640.3017</td>\n",
       "      <td>51.17004</td>\n",
       "      <td>-79.77375</td>\n",
       "      <td>0.0</td>\n",
       "      <td>0.0</td>\n",
       "      <td>0.942857</td>\n",
       "    </tr>\n",
       "    <tr>\n",
       "      <th>1</th>\n",
       "      <td>2025-03-29 15:33:57</td>\n",
       "      <td>10.0</td>\n",
       "      <td>0.0</td>\n",
       "      <td>0.0</td>\n",
       "      <td>10.0</td>\n",
       "      <td>10.0</td>\n",
       "      <td>0.0</td>\n",
       "      <td>0.0</td>\n",
       "      <td>0.0</td>\n",
       "      <td>0.0</td>\n",
       "      <td>...</td>\n",
       "      <td>0.0</td>\n",
       "      <td>0.0</td>\n",
       "      <td>3.205879</td>\n",
       "      <td>630.0923</td>\n",
       "      <td>-651.2135</td>\n",
       "      <td>57.48617</td>\n",
       "      <td>-85.38434</td>\n",
       "      <td>0.0</td>\n",
       "      <td>0.0</td>\n",
       "      <td>1.000000</td>\n",
       "    </tr>\n",
       "    <tr>\n",
       "      <th>2</th>\n",
       "      <td>2025-03-29 15:33:58</td>\n",
       "      <td>10.0</td>\n",
       "      <td>0.0</td>\n",
       "      <td>0.0</td>\n",
       "      <td>10.0</td>\n",
       "      <td>10.0</td>\n",
       "      <td>0.0</td>\n",
       "      <td>0.0</td>\n",
       "      <td>0.0</td>\n",
       "      <td>0.0</td>\n",
       "      <td>...</td>\n",
       "      <td>0.0</td>\n",
       "      <td>0.0</td>\n",
       "      <td>3.489308</td>\n",
       "      <td>639.6909</td>\n",
       "      <td>-655.2794</td>\n",
       "      <td>60.89733</td>\n",
       "      <td>-89.11620</td>\n",
       "      <td>0.0</td>\n",
       "      <td>0.0</td>\n",
       "      <td>1.000000</td>\n",
       "    </tr>\n",
       "  </tbody>\n",
       "</table>\n",
       "<p>3 rows × 53 columns</p>\n",
       "</div>"
      ],
      "text/plain": [
       "            timestamp  amf_session_value  currently_active_ues_value  \\\n",
       "0 2025-03-29 15:33:56               10.0                         0.0   \n",
       "1 2025-03-29 15:33:57               10.0                         0.0   \n",
       "2 2025-03-29 15:33:58               10.0                         0.0   \n",
       "\n",
       "   fivegs_amffunction_amf_authreject_value  \\\n",
       "0                                      0.0   \n",
       "1                                      0.0   \n",
       "2                                      0.0   \n",
       "\n",
       "   fivegs_amffunction_amf_authreq_value  \\\n",
       "0                                  10.0   \n",
       "1                                  10.0   \n",
       "2                                  10.0   \n",
       "\n",
       "   fivegs_amffunction_mm_confupdate_value  \\\n",
       "0                                    10.0   \n",
       "1                                    10.0   \n",
       "2                                    10.0   \n",
       "\n",
       "   fivegs_amffunction_mm_confupdatesucc_value  \\\n",
       "0                                         0.0   \n",
       "1                                         0.0   \n",
       "2                                         0.0   \n",
       "\n",
       "   fivegs_amffunction_mm_paging5greq_value  \\\n",
       "0                                      0.0   \n",
       "1                                      0.0   \n",
       "2                                      0.0   \n",
       "\n",
       "   fivegs_amffunction_mm_paging5gsucc_value  \\\n",
       "0                                       0.0   \n",
       "1                                       0.0   \n",
       "2                                       0.0   \n",
       "\n",
       "   fivegs_amffunction_rm_regemergreq_value  ...  gtp_new_node_failed_value  \\\n",
       "0                                      0.0  ...                        0.0   \n",
       "1                                      0.0  ...                        0.0   \n",
       "2                                      0.0  ...                        0.0   \n",
       "\n",
       "   gtp_peers_active_value  \\\n",
       "0                     0.0   \n",
       "1                     0.0   \n",
       "2                     0.0   \n",
       "\n",
       "   netdata_cgroup_cpu_percentage_average_b48f9356ec91_value  \\\n",
       "0                                           3.266856          \n",
       "1                                           3.205879          \n",
       "2                                           3.489308          \n",
       "\n",
       "   netdata_net_net_kilobits_persec_average_br-02c136a167f8_received_value  \\\n",
       "0                                           619.5316                        \n",
       "1                                           630.0923                        \n",
       "2                                           639.6909                        \n",
       "\n",
       "   netdata_net_net_kilobits_persec_average_br-02c136a167f8_sent_value  \\\n",
       "0                                          -640.3017                    \n",
       "1                                          -651.2135                    \n",
       "2                                          -655.2794                    \n",
       "\n",
       "   netdata_net_packets_packets_persec_average_br-02c136a167f8_received_value  \\\n",
       "0                                           51.17004                           \n",
       "1                                           57.48617                           \n",
       "2                                           60.89733                           \n",
       "\n",
       "   netdata_net_packets_packets_persec_average_br-02c136a167f8_sent_value  \\\n",
       "0                                          -79.77375                       \n",
       "1                                          -85.38434                       \n",
       "2                                          -89.11620                       \n",
       "\n",
       "   s5c_rx_createsession_value  s5c_rx_parse_failed_value  up_value  \n",
       "0                         0.0                        0.0  0.942857  \n",
       "1                         0.0                        0.0  1.000000  \n",
       "2                         0.0                        0.0  1.000000  \n",
       "\n",
       "[3 rows x 53 columns]"
      ]
     },
     "execution_count": 116,
     "metadata": {},
     "output_type": "execute_result"
    }
   ],
   "source": [
    "# 🔹 Aggregate NetData metrics (choose appropriate aggregation: mean, sum, max, etc.)\n",
    "netdata_aggregated = metrics.groupby([\"timestamp\", \"metric_name\"])[\"value\"].mean().reset_index()\n",
    "\n",
    "# Pivot NetData metrics so each metric has its own column\n",
    "netdata_pivot = netdata_aggregated.pivot(index=\"timestamp\", columns=\"metric_name\", values=\"value\")\n",
    "\n",
    "# Flatten column names\n",
    "netdata_pivot.columns = [f\"{col}_value\" for col in netdata_pivot.columns]\n",
    "\n",
    "# Reset index to bring timestamp back\n",
    "netdata_pivot.reset_index(inplace=True)\n",
    "\n",
    "print(\"✅ NetData metrics aggregated and pivoted successfully!\")\n",
    "netdata_pivot.head(3)"
   ]
  },
  {
   "cell_type": "code",
   "execution_count": 117,
   "metadata": {
    "execution": {
     "iopub.execute_input": "2025-03-24T12:00:42.890256Z",
     "iopub.status.busy": "2025-03-24T12:00:42.890180Z",
     "iopub.status.idle": "2025-03-24T12:00:42.892111Z",
     "shell.execute_reply": "2025-03-24T12:00:42.891896Z"
    }
   },
   "outputs": [],
   "source": [
    "# Move the up_value to the second column after the timestamp\n",
    "cols = list(netdata_pivot.columns)\n",
    "cols.remove(\"up_value\")\n",
    "cols.insert(1, \"up_value\")\n",
    "netdata_pivot = netdata_pivot[cols]"
   ]
  },
  {
   "cell_type": "code",
   "execution_count": 118,
   "metadata": {
    "execution": {
     "iopub.execute_input": "2025-03-24T12:00:42.893116Z",
     "iopub.status.busy": "2025-03-24T12:00:42.893046Z",
     "iopub.status.idle": "2025-03-24T12:00:42.894955Z",
     "shell.execute_reply": "2025-03-24T12:00:42.894735Z"
    }
   },
   "outputs": [],
   "source": [
    "# Define function to classify log messages\n",
    "def classify_log_message(message):\n",
    "    if isinstance(message, str):  # Ensure it's a string before applying .lower()\n",
    "        if \"connect\" in message.lower():\n",
    "            return \"connect\"\n",
    "        elif \"request\" in message.lower():\n",
    "            return \"request\"\n",
    "        elif \"reject\" in message.lower():\n",
    "            return \"reject\"\n",
    "        else:\n",
    "            return \"nothing\"\n",
    "    return \"nothing\"  # Handle missing or NaN values"
   ]
  },
  {
   "cell_type": "code",
   "execution_count": 119,
   "metadata": {
    "execution": {
     "iopub.execute_input": "2025-03-24T12:00:42.895950Z",
     "iopub.status.busy": "2025-03-24T12:00:42.895881Z",
     "iopub.status.idle": "2025-03-24T12:00:42.897562Z",
     "shell.execute_reply": "2025-03-24T12:00:42.897334Z"
    }
   },
   "outputs": [
    {
     "name": "stdout",
     "output_type": "stream",
     "text": [
      "Error: 'log_message' column not found in logs DataFrame\n"
     ]
    }
   ],
   "source": [
    "# Ensure log_message column exists before applying classification\n",
    "if \"log_message\" in logs.columns:\n",
    "\tlogs[\"log_type\"] = logs[\"log_message\"].apply(classify_log_message)\n",
    "else:\n",
    "\tprint(\"Error: 'log_message' column not found in logs DataFrame\")"
   ]
  },
  {
   "cell_type": "code",
   "execution_count": 120,
   "metadata": {
    "execution": {
     "iopub.execute_input": "2025-03-24T12:00:42.898575Z",
     "iopub.status.busy": "2025-03-24T12:00:42.898500Z",
     "iopub.status.idle": "2025-03-24T12:00:42.900682Z",
     "shell.execute_reply": "2025-03-24T12:00:42.900459Z"
    }
   },
   "outputs": [
    {
     "data": {
      "text/html": [
       "<div>\n",
       "<style scoped>\n",
       "    .dataframe tbody tr th:only-of-type {\n",
       "        vertical-align: middle;\n",
       "    }\n",
       "\n",
       "    .dataframe tbody tr th {\n",
       "        vertical-align: top;\n",
       "    }\n",
       "\n",
       "    .dataframe thead th {\n",
       "        text-align: right;\n",
       "    }\n",
       "</style>\n",
       "<table border=\"1\" class=\"dataframe\">\n",
       "  <thead>\n",
       "    <tr style=\"text-align: right;\">\n",
       "      <th></th>\n",
       "    </tr>\n",
       "  </thead>\n",
       "  <tbody>\n",
       "  </tbody>\n",
       "</table>\n",
       "</div>"
      ],
      "text/plain": [
       "Empty DataFrame\n",
       "Columns: []\n",
       "Index: []"
      ]
     },
     "execution_count": 120,
     "metadata": {},
     "output_type": "execute_result"
    }
   ],
   "source": [
    "logs.head(1)"
   ]
  },
  {
   "cell_type": "code",
   "execution_count": 121,
   "metadata": {
    "execution": {
     "iopub.execute_input": "2025-03-24T12:00:42.901685Z",
     "iopub.status.busy": "2025-03-24T12:00:42.901613Z",
     "iopub.status.idle": "2025-03-24T12:00:42.903499Z",
     "shell.execute_reply": "2025-03-24T12:00:42.903288Z"
    }
   },
   "outputs": [],
   "source": [
    "# Check if logs DataFrame is not empty before selecting columns\n",
    "if not logs.empty:\n",
    "\t# Keep only necessary columns from logs\n",
    "\tlogs_short = logs[[\"timestamp\", \"application\", \"log_type\"]]\n",
    "else:\n",
    "\t# Create an empty DataFrame if logs is empty\n",
    "\tlogs_short = pd.DataFrame(columns=[\"timestamp\", \"application\", \"log_type\"])"
   ]
  },
  {
   "cell_type": "code",
   "execution_count": 122,
   "metadata": {
    "execution": {
     "iopub.execute_input": "2025-03-24T12:00:42.904443Z",
     "iopub.status.busy": "2025-03-24T12:00:42.904375Z",
     "iopub.status.idle": "2025-03-24T12:00:42.906738Z",
     "shell.execute_reply": "2025-03-24T12:00:42.906496Z"
    }
   },
   "outputs": [
    {
     "data": {
      "text/html": [
       "<div>\n",
       "<style scoped>\n",
       "    .dataframe tbody tr th:only-of-type {\n",
       "        vertical-align: middle;\n",
       "    }\n",
       "\n",
       "    .dataframe tbody tr th {\n",
       "        vertical-align: top;\n",
       "    }\n",
       "\n",
       "    .dataframe thead th {\n",
       "        text-align: right;\n",
       "    }\n",
       "</style>\n",
       "<table border=\"1\" class=\"dataframe\">\n",
       "  <thead>\n",
       "    <tr style=\"text-align: right;\">\n",
       "      <th></th>\n",
       "      <th>timestamp</th>\n",
       "      <th>application</th>\n",
       "      <th>log_type</th>\n",
       "    </tr>\n",
       "  </thead>\n",
       "  <tbody>\n",
       "  </tbody>\n",
       "</table>\n",
       "</div>"
      ],
      "text/plain": [
       "Empty DataFrame\n",
       "Columns: [timestamp, application, log_type]\n",
       "Index: []"
      ]
     },
     "execution_count": 122,
     "metadata": {},
     "output_type": "execute_result"
    }
   ],
   "source": [
    "logs_short.head(1)"
   ]
  },
  {
   "cell_type": "code",
   "execution_count": 123,
   "metadata": {
    "execution": {
     "iopub.execute_input": "2025-03-24T12:00:42.907731Z",
     "iopub.status.busy": "2025-03-24T12:00:42.907659Z",
     "iopub.status.idle": "2025-03-24T12:00:42.909949Z",
     "shell.execute_reply": "2025-03-24T12:00:42.909717Z"
    }
   },
   "outputs": [],
   "source": [
    "# Ensure start_time is timezone-aware\n",
    "start_time_tz_aware = start_time.replace(tzinfo=pytz.utc).astimezone(LOCAL_TZ)\n",
    "\n",
    "# Convert logs_short timestamp to datetime and ensure it is timezone-aware\n",
    "logs_short[\"timestamp\"] = pd.to_datetime(logs_short[\"timestamp\"]).dt.tz_localize('UTC').dt.tz_convert(LOCAL_TZ)\n",
    "\n",
    "# Remove logs before the start time\n",
    "logs_short = logs_short[logs_short[\"timestamp\"] >= start_time_tz_aware]\n"
   ]
  },
  {
   "cell_type": "code",
   "execution_count": 124,
   "metadata": {
    "execution": {
     "iopub.execute_input": "2025-03-24T12:00:42.910934Z",
     "iopub.status.busy": "2025-03-24T12:00:42.910864Z",
     "iopub.status.idle": "2025-03-24T12:00:42.915049Z",
     "shell.execute_reply": "2025-03-24T12:00:42.914834Z"
    }
   },
   "outputs": [
    {
     "data": {
      "text/html": [
       "<div>\n",
       "<style scoped>\n",
       "    .dataframe tbody tr th:only-of-type {\n",
       "        vertical-align: middle;\n",
       "    }\n",
       "\n",
       "    .dataframe tbody tr th {\n",
       "        vertical-align: top;\n",
       "    }\n",
       "\n",
       "    .dataframe thead th {\n",
       "        text-align: right;\n",
       "    }\n",
       "</style>\n",
       "<table border=\"1\" class=\"dataframe\">\n",
       "  <thead>\n",
       "    <tr style=\"text-align: right;\">\n",
       "      <th></th>\n",
       "      <th>timestamp</th>\n",
       "      <th>up_value</th>\n",
       "      <th>amf_session_value</th>\n",
       "      <th>currently_active_ues_value</th>\n",
       "      <th>fivegs_amffunction_amf_authreject_value</th>\n",
       "      <th>fivegs_amffunction_amf_authreq_value</th>\n",
       "      <th>fivegs_amffunction_mm_confupdate_value</th>\n",
       "      <th>fivegs_amffunction_mm_confupdatesucc_value</th>\n",
       "      <th>fivegs_amffunction_mm_paging5greq_value</th>\n",
       "      <th>fivegs_amffunction_mm_paging5gsucc_value</th>\n",
       "      <th>...</th>\n",
       "      <th>gtp2_sessions_active_value</th>\n",
       "      <th>gtp_new_node_failed_value</th>\n",
       "      <th>gtp_peers_active_value</th>\n",
       "      <th>netdata_cgroup_cpu_percentage_average_b48f9356ec91_value</th>\n",
       "      <th>netdata_net_net_kilobits_persec_average_br-02c136a167f8_received_value</th>\n",
       "      <th>netdata_net_net_kilobits_persec_average_br-02c136a167f8_sent_value</th>\n",
       "      <th>netdata_net_packets_packets_persec_average_br-02c136a167f8_received_value</th>\n",
       "      <th>netdata_net_packets_packets_persec_average_br-02c136a167f8_sent_value</th>\n",
       "      <th>s5c_rx_createsession_value</th>\n",
       "      <th>s5c_rx_parse_failed_value</th>\n",
       "    </tr>\n",
       "  </thead>\n",
       "  <tbody>\n",
       "    <tr>\n",
       "      <th>0</th>\n",
       "      <td>2025-03-29 15:33:56</td>\n",
       "      <td>0.942857</td>\n",
       "      <td>10.0</td>\n",
       "      <td>0.0</td>\n",
       "      <td>0.0</td>\n",
       "      <td>10.0</td>\n",
       "      <td>10.0</td>\n",
       "      <td>0.0</td>\n",
       "      <td>0.0</td>\n",
       "      <td>0.0</td>\n",
       "      <td>...</td>\n",
       "      <td>0.0</td>\n",
       "      <td>0.0</td>\n",
       "      <td>0.0</td>\n",
       "      <td>3.266856</td>\n",
       "      <td>619.5316</td>\n",
       "      <td>-640.3017</td>\n",
       "      <td>51.17004</td>\n",
       "      <td>-79.77375</td>\n",
       "      <td>0.0</td>\n",
       "      <td>0.0</td>\n",
       "    </tr>\n",
       "  </tbody>\n",
       "</table>\n",
       "<p>1 rows × 53 columns</p>\n",
       "</div>"
      ],
      "text/plain": [
       "            timestamp  up_value  amf_session_value  \\\n",
       "0 2025-03-29 15:33:56  0.942857               10.0   \n",
       "\n",
       "   currently_active_ues_value  fivegs_amffunction_amf_authreject_value  \\\n",
       "0                         0.0                                      0.0   \n",
       "\n",
       "   fivegs_amffunction_amf_authreq_value  \\\n",
       "0                                  10.0   \n",
       "\n",
       "   fivegs_amffunction_mm_confupdate_value  \\\n",
       "0                                    10.0   \n",
       "\n",
       "   fivegs_amffunction_mm_confupdatesucc_value  \\\n",
       "0                                         0.0   \n",
       "\n",
       "   fivegs_amffunction_mm_paging5greq_value  \\\n",
       "0                                      0.0   \n",
       "\n",
       "   fivegs_amffunction_mm_paging5gsucc_value  ...  gtp2_sessions_active_value  \\\n",
       "0                                       0.0  ...                         0.0   \n",
       "\n",
       "   gtp_new_node_failed_value  gtp_peers_active_value  \\\n",
       "0                        0.0                     0.0   \n",
       "\n",
       "   netdata_cgroup_cpu_percentage_average_b48f9356ec91_value  \\\n",
       "0                                           3.266856          \n",
       "\n",
       "   netdata_net_net_kilobits_persec_average_br-02c136a167f8_received_value  \\\n",
       "0                                           619.5316                        \n",
       "\n",
       "   netdata_net_net_kilobits_persec_average_br-02c136a167f8_sent_value  \\\n",
       "0                                          -640.3017                    \n",
       "\n",
       "   netdata_net_packets_packets_persec_average_br-02c136a167f8_received_value  \\\n",
       "0                                           51.17004                           \n",
       "\n",
       "   netdata_net_packets_packets_persec_average_br-02c136a167f8_sent_value  \\\n",
       "0                                          -79.77375                       \n",
       "\n",
       "   s5c_rx_createsession_value  s5c_rx_parse_failed_value  \n",
       "0                         0.0                        0.0  \n",
       "\n",
       "[1 rows x 53 columns]"
      ]
     },
     "execution_count": 124,
     "metadata": {},
     "output_type": "execute_result"
    }
   ],
   "source": [
    "netdata_pivot.head(1)"
   ]
  },
  {
   "cell_type": "code",
   "execution_count": 125,
   "metadata": {
    "execution": {
     "iopub.execute_input": "2025-03-24T12:00:42.916060Z",
     "iopub.status.busy": "2025-03-24T12:00:42.915969Z",
     "iopub.status.idle": "2025-03-24T12:00:42.918458Z",
     "shell.execute_reply": "2025-03-24T12:00:42.918243Z"
    }
   },
   "outputs": [],
   "source": [
    "# Convert logs_short timestamp to UTC\n",
    "logs_short[\"timestamp\"] = logs_short[\"timestamp\"].dt.tz_convert(\"UTC\").dt.tz_localize(None)\n",
    "\n",
    "# Merge logs with NetData metrics\n",
    "merged_data = pd.merge(netdata_pivot, logs_short, on=\"timestamp\", how=\"outer\")\n"
   ]
  },
  {
   "cell_type": "code",
   "execution_count": 126,
   "metadata": {
    "execution": {
     "iopub.execute_input": "2025-03-24T12:00:42.919426Z",
     "iopub.status.busy": "2025-03-24T12:00:42.919356Z",
     "iopub.status.idle": "2025-03-24T12:00:42.924908Z",
     "shell.execute_reply": "2025-03-24T12:00:42.924679Z"
    }
   },
   "outputs": [
    {
     "data": {
      "text/html": [
       "<div>\n",
       "<style scoped>\n",
       "    .dataframe tbody tr th:only-of-type {\n",
       "        vertical-align: middle;\n",
       "    }\n",
       "\n",
       "    .dataframe tbody tr th {\n",
       "        vertical-align: top;\n",
       "    }\n",
       "\n",
       "    .dataframe thead th {\n",
       "        text-align: right;\n",
       "    }\n",
       "</style>\n",
       "<table border=\"1\" class=\"dataframe\">\n",
       "  <thead>\n",
       "    <tr style=\"text-align: right;\">\n",
       "      <th></th>\n",
       "      <th>timestamp</th>\n",
       "      <th>up_value</th>\n",
       "      <th>amf_session_value</th>\n",
       "      <th>currently_active_ues_value</th>\n",
       "      <th>fivegs_amffunction_amf_authreject_value</th>\n",
       "      <th>fivegs_amffunction_amf_authreq_value</th>\n",
       "      <th>fivegs_amffunction_mm_confupdate_value</th>\n",
       "      <th>fivegs_amffunction_mm_confupdatesucc_value</th>\n",
       "      <th>fivegs_amffunction_mm_paging5greq_value</th>\n",
       "      <th>fivegs_amffunction_mm_paging5gsucc_value</th>\n",
       "      <th>...</th>\n",
       "      <th>gtp_peers_active_value</th>\n",
       "      <th>netdata_cgroup_cpu_percentage_average_b48f9356ec91_value</th>\n",
       "      <th>netdata_net_net_kilobits_persec_average_br-02c136a167f8_received_value</th>\n",
       "      <th>netdata_net_net_kilobits_persec_average_br-02c136a167f8_sent_value</th>\n",
       "      <th>netdata_net_packets_packets_persec_average_br-02c136a167f8_received_value</th>\n",
       "      <th>netdata_net_packets_packets_persec_average_br-02c136a167f8_sent_value</th>\n",
       "      <th>s5c_rx_createsession_value</th>\n",
       "      <th>s5c_rx_parse_failed_value</th>\n",
       "      <th>application</th>\n",
       "      <th>log_type</th>\n",
       "    </tr>\n",
       "  </thead>\n",
       "  <tbody>\n",
       "    <tr>\n",
       "      <th>0</th>\n",
       "      <td>2025-03-29 15:33:56</td>\n",
       "      <td>0.942857</td>\n",
       "      <td>10.0</td>\n",
       "      <td>0.0</td>\n",
       "      <td>0.0</td>\n",
       "      <td>10.0</td>\n",
       "      <td>10.0</td>\n",
       "      <td>0.0</td>\n",
       "      <td>0.0</td>\n",
       "      <td>0.0</td>\n",
       "      <td>...</td>\n",
       "      <td>0.0</td>\n",
       "      <td>3.266856</td>\n",
       "      <td>619.5316</td>\n",
       "      <td>-640.3017</td>\n",
       "      <td>51.17004</td>\n",
       "      <td>-79.77375</td>\n",
       "      <td>0.0</td>\n",
       "      <td>0.0</td>\n",
       "      <td>NaN</td>\n",
       "      <td>NaN</td>\n",
       "    </tr>\n",
       "    <tr>\n",
       "      <th>1</th>\n",
       "      <td>2025-03-29 15:33:57</td>\n",
       "      <td>1.000000</td>\n",
       "      <td>10.0</td>\n",
       "      <td>0.0</td>\n",
       "      <td>0.0</td>\n",
       "      <td>10.0</td>\n",
       "      <td>10.0</td>\n",
       "      <td>0.0</td>\n",
       "      <td>0.0</td>\n",
       "      <td>0.0</td>\n",
       "      <td>...</td>\n",
       "      <td>0.0</td>\n",
       "      <td>3.205879</td>\n",
       "      <td>630.0923</td>\n",
       "      <td>-651.2135</td>\n",
       "      <td>57.48617</td>\n",
       "      <td>-85.38434</td>\n",
       "      <td>0.0</td>\n",
       "      <td>0.0</td>\n",
       "      <td>NaN</td>\n",
       "      <td>NaN</td>\n",
       "    </tr>\n",
       "    <tr>\n",
       "      <th>2</th>\n",
       "      <td>2025-03-29 15:33:58</td>\n",
       "      <td>1.000000</td>\n",
       "      <td>10.0</td>\n",
       "      <td>0.0</td>\n",
       "      <td>0.0</td>\n",
       "      <td>10.0</td>\n",
       "      <td>10.0</td>\n",
       "      <td>0.0</td>\n",
       "      <td>0.0</td>\n",
       "      <td>0.0</td>\n",
       "      <td>...</td>\n",
       "      <td>0.0</td>\n",
       "      <td>3.489308</td>\n",
       "      <td>639.6909</td>\n",
       "      <td>-655.2794</td>\n",
       "      <td>60.89733</td>\n",
       "      <td>-89.11620</td>\n",
       "      <td>0.0</td>\n",
       "      <td>0.0</td>\n",
       "      <td>NaN</td>\n",
       "      <td>NaN</td>\n",
       "    </tr>\n",
       "    <tr>\n",
       "      <th>3</th>\n",
       "      <td>2025-03-29 15:33:59</td>\n",
       "      <td>1.000000</td>\n",
       "      <td>10.0</td>\n",
       "      <td>0.0</td>\n",
       "      <td>0.0</td>\n",
       "      <td>10.0</td>\n",
       "      <td>10.0</td>\n",
       "      <td>0.0</td>\n",
       "      <td>0.0</td>\n",
       "      <td>0.0</td>\n",
       "      <td>...</td>\n",
       "      <td>0.0</td>\n",
       "      <td>3.670329</td>\n",
       "      <td>630.9690</td>\n",
       "      <td>-645.6762</td>\n",
       "      <td>59.85091</td>\n",
       "      <td>-85.54947</td>\n",
       "      <td>0.0</td>\n",
       "      <td>0.0</td>\n",
       "      <td>NaN</td>\n",
       "      <td>NaN</td>\n",
       "    </tr>\n",
       "    <tr>\n",
       "      <th>4</th>\n",
       "      <td>2025-03-29 15:34:00</td>\n",
       "      <td>1.000000</td>\n",
       "      <td>10.0</td>\n",
       "      <td>0.0</td>\n",
       "      <td>0.0</td>\n",
       "      <td>10.0</td>\n",
       "      <td>10.0</td>\n",
       "      <td>0.0</td>\n",
       "      <td>0.0</td>\n",
       "      <td>0.0</td>\n",
       "      <td>...</td>\n",
       "      <td>0.0</td>\n",
       "      <td>4.835446</td>\n",
       "      <td>623.7027</td>\n",
       "      <td>-641.4222</td>\n",
       "      <td>55.60356</td>\n",
       "      <td>-77.42667</td>\n",
       "      <td>0.0</td>\n",
       "      <td>0.0</td>\n",
       "      <td>NaN</td>\n",
       "      <td>NaN</td>\n",
       "    </tr>\n",
       "  </tbody>\n",
       "</table>\n",
       "<p>5 rows × 55 columns</p>\n",
       "</div>"
      ],
      "text/plain": [
       "            timestamp  up_value  amf_session_value  \\\n",
       "0 2025-03-29 15:33:56  0.942857               10.0   \n",
       "1 2025-03-29 15:33:57  1.000000               10.0   \n",
       "2 2025-03-29 15:33:58  1.000000               10.0   \n",
       "3 2025-03-29 15:33:59  1.000000               10.0   \n",
       "4 2025-03-29 15:34:00  1.000000               10.0   \n",
       "\n",
       "   currently_active_ues_value  fivegs_amffunction_amf_authreject_value  \\\n",
       "0                         0.0                                      0.0   \n",
       "1                         0.0                                      0.0   \n",
       "2                         0.0                                      0.0   \n",
       "3                         0.0                                      0.0   \n",
       "4                         0.0                                      0.0   \n",
       "\n",
       "   fivegs_amffunction_amf_authreq_value  \\\n",
       "0                                  10.0   \n",
       "1                                  10.0   \n",
       "2                                  10.0   \n",
       "3                                  10.0   \n",
       "4                                  10.0   \n",
       "\n",
       "   fivegs_amffunction_mm_confupdate_value  \\\n",
       "0                                    10.0   \n",
       "1                                    10.0   \n",
       "2                                    10.0   \n",
       "3                                    10.0   \n",
       "4                                    10.0   \n",
       "\n",
       "   fivegs_amffunction_mm_confupdatesucc_value  \\\n",
       "0                                         0.0   \n",
       "1                                         0.0   \n",
       "2                                         0.0   \n",
       "3                                         0.0   \n",
       "4                                         0.0   \n",
       "\n",
       "   fivegs_amffunction_mm_paging5greq_value  \\\n",
       "0                                      0.0   \n",
       "1                                      0.0   \n",
       "2                                      0.0   \n",
       "3                                      0.0   \n",
       "4                                      0.0   \n",
       "\n",
       "   fivegs_amffunction_mm_paging5gsucc_value  ...  gtp_peers_active_value  \\\n",
       "0                                       0.0  ...                     0.0   \n",
       "1                                       0.0  ...                     0.0   \n",
       "2                                       0.0  ...                     0.0   \n",
       "3                                       0.0  ...                     0.0   \n",
       "4                                       0.0  ...                     0.0   \n",
       "\n",
       "   netdata_cgroup_cpu_percentage_average_b48f9356ec91_value  \\\n",
       "0                                           3.266856          \n",
       "1                                           3.205879          \n",
       "2                                           3.489308          \n",
       "3                                           3.670329          \n",
       "4                                           4.835446          \n",
       "\n",
       "   netdata_net_net_kilobits_persec_average_br-02c136a167f8_received_value  \\\n",
       "0                                           619.5316                        \n",
       "1                                           630.0923                        \n",
       "2                                           639.6909                        \n",
       "3                                           630.9690                        \n",
       "4                                           623.7027                        \n",
       "\n",
       "   netdata_net_net_kilobits_persec_average_br-02c136a167f8_sent_value  \\\n",
       "0                                          -640.3017                    \n",
       "1                                          -651.2135                    \n",
       "2                                          -655.2794                    \n",
       "3                                          -645.6762                    \n",
       "4                                          -641.4222                    \n",
       "\n",
       "   netdata_net_packets_packets_persec_average_br-02c136a167f8_received_value  \\\n",
       "0                                           51.17004                           \n",
       "1                                           57.48617                           \n",
       "2                                           60.89733                           \n",
       "3                                           59.85091                           \n",
       "4                                           55.60356                           \n",
       "\n",
       "   netdata_net_packets_packets_persec_average_br-02c136a167f8_sent_value  \\\n",
       "0                                          -79.77375                       \n",
       "1                                          -85.38434                       \n",
       "2                                          -89.11620                       \n",
       "3                                          -85.54947                       \n",
       "4                                          -77.42667                       \n",
       "\n",
       "   s5c_rx_createsession_value  s5c_rx_parse_failed_value  application  \\\n",
       "0                         0.0                        0.0          NaN   \n",
       "1                         0.0                        0.0          NaN   \n",
       "2                         0.0                        0.0          NaN   \n",
       "3                         0.0                        0.0          NaN   \n",
       "4                         0.0                        0.0          NaN   \n",
       "\n",
       "   log_type  \n",
       "0       NaN  \n",
       "1       NaN  \n",
       "2       NaN  \n",
       "3       NaN  \n",
       "4       NaN  \n",
       "\n",
       "[5 rows x 55 columns]"
      ]
     },
     "execution_count": 126,
     "metadata": {},
     "output_type": "execute_result"
    }
   ],
   "source": [
    "merged_data.head()"
   ]
  },
  {
   "cell_type": "code",
   "execution_count": 127,
   "metadata": {
    "execution": {
     "iopub.execute_input": "2025-03-24T12:00:42.925895Z",
     "iopub.status.busy": "2025-03-24T12:00:42.925826Z",
     "iopub.status.idle": "2025-03-24T12:00:42.928401Z",
     "shell.execute_reply": "2025-03-24T12:00:42.928188Z"
    }
   },
   "outputs": [
    {
     "name": "stdout",
     "output_type": "stream",
     "text": [
      "✅ Updated Column Names: Index(['timestamp', 'Status', 'amf_session_value', 'Currently Active UEs',\n",
      "       'Auth Reject Count', 'Auth Request Count',\n",
      "       'fivegs_amffunction_mm_confupdate_value',\n",
      "       'fivegs_amffunction_mm_confupdatesucc_value',\n",
      "       'fivegs_amffunction_mm_paging5greq_value',\n",
      "       'fivegs_amffunction_mm_paging5gsucc_value',\n",
      "       'fivegs_amffunction_rm_regemergreq_value',\n",
      "       'fivegs_amffunction_rm_regemergsucc_value',\n",
      "       'fivegs_amffunction_rm_reginitreq_value', 'Registration Success',\n",
      "       'fivegs_amffunction_rm_registeredsubnbr_value',\n",
      "       'fivegs_amffunction_rm_regmobreq_value',\n",
      "       'fivegs_amffunction_rm_regmobsucc_value',\n",
      "       'fivegs_amffunction_rm_regperiodreq_value',\n",
      "       'fivegs_amffunction_rm_regperiodsucc_value', 'Incoming Data Packets',\n",
      "       'Outgoing Data Packets', 'fivegs_pcffunction_pa_policyamassoreq_value',\n",
      "       'fivegs_pcffunction_pa_policyamassosucc_value',\n",
      "       'fivegs_pcffunction_pa_policysmassoreq_value',\n",
      "       'fivegs_pcffunction_pa_policysmassosucc_value',\n",
      "       'fivegs_pcffunction_pa_sessionnbr_value',\n",
      "       'fivegs_smffunction_sm_n4sessionestabreq_value',\n",
      "       'fivegs_smffunction_sm_n4sessionreport_value',\n",
      "       'fivegs_smffunction_sm_n4sessionreportsucc_value',\n",
      "       'fivegs_smffunction_sm_pdusessioncreationreq_value',\n",
      "       'fivegs_smffunction_sm_pdusessioncreationsucc_value',\n",
      "       'fivegs_smffunction_sm_qos_flow_nbr_value',\n",
      "       'fivegs_smffunction_sm_sessionnbr_value',\n",
      "       'fivegs_upffunction_sm_n4sessionestabreq_value',\n",
      "       'fivegs_upffunction_sm_n4sessionreport_value',\n",
      "       'fivegs_upffunction_sm_n4sessionreportsucc_value',\n",
      "       'fivegs_upffunction_upf_qosflows_value', 'Session Number',\n",
      "       'gn_rx_createpdpcontextreq_value', 'gn_rx_deletepdpcontextreq_value',\n",
      "       'gn_rx_parse_failed_value', 'Active gNodeBs',\n",
      "       'gtp1_pdpctxs_active_value', 'gtp2_sessions_active_value',\n",
      "       'gtp_new_node_failed_value', 'gtp_peers_active_value',\n",
      "       'CPU Usage (Open5GS)', 'Network Traffic In (kbps)',\n",
      "       'Network Traffic Out (kbps)', 'Packets Received (pps)',\n",
      "       'Packets Sent (pps)', 's5c_rx_createsession_value',\n",
      "       's5c_rx_parse_failed_value', 'Application Name', 'Log Type'],\n",
      "      dtype='object')\n"
     ]
    }
   ],
   "source": [
    "# Define a mapping for renaming columns\n",
    "column_rename_mapping = {\n",
    "    \"fivegs_amffunction_amf_authreject_value\": \"Auth Reject Count\",\n",
    "    \"fivegs_amffunction_amf_authreq_value\": \"Auth Request Count\",\n",
    "    \"fivegs_amffunction_rm_reginitsucc_value\": \"Registration Success\",\n",
    "    \"fivegs_ep_n3_gtp_outdatapktn3upf_value\": \"Outgoing Data Packets\",\n",
    "    \"fivegs_ep_n3_gtp_indatapktn3upf_value\": \"Incoming Data Packets\",\n",
    "    \"fivegs_upffunction_upf_sessionnbr_value\": \"Session Number\",\n",
    "\n",
    "    # NetData metrics\n",
    "    \"netdata_cgroup_cpu_percentage_average_b48f9356ec91_value\": \"CPU Usage (Open5GS)\",\n",
    "    \"netdata_net_net_kilobits_persec_average_br-02c136a167f8_received_value\": \"Network Traffic In (kbps)\",\n",
    "    \"netdata_net_net_kilobits_persec_average_br-02c136a167f8_sent_value\": \"Network Traffic Out (kbps)\",\n",
    "    \"netdata_net_packets_packets_persec_average_br-02c136a167f8_received_value\": \"Packets Received (pps)\",\n",
    "    \"netdata_net_packets_packets_persec_average_br-02c136a167f8_sent_value\": \"Packets Sent (pps)\",\n",
    "\n",
    "    # UEs, gnBs and logs\n",
    "    \"ues_active_value\": \"Active UEs (Total)\",\n",
    "    \"application\": \"Application Name\",\n",
    "    \"log_type\": \"Log Type\",\n",
    "    \"gnb_value\": \"Active gNodeBs\",\n",
    "\n",
    "    # Up status\n",
    "    \"up_value\": \"Status\",\n",
    "\n",
    "    # Custom metrics\n",
    "    \"currently_active_ues_value\": \"Currently Active UEs\"\n",
    "\n",
    "}\n",
    "\n",
    "# Apply renaming\n",
    "merged_data.rename(columns=column_rename_mapping, inplace=True)\n",
    "\n",
    "# Print updated column names for verification\n",
    "print(\"✅ Updated Column Names:\", merged_data.columns)\n"
   ]
  },
  {
   "cell_type": "code",
   "execution_count": 128,
   "metadata": {
    "execution": {
     "iopub.execute_input": "2025-03-24T12:00:42.929414Z",
     "iopub.status.busy": "2025-03-24T12:00:42.929343Z",
     "iopub.status.idle": "2025-03-24T12:00:42.933314Z",
     "shell.execute_reply": "2025-03-24T12:00:42.933111Z"
    }
   },
   "outputs": [
    {
     "name": "stdout",
     "output_type": "stream",
     "text": [
      "⚠️ CSV file does not exist or is empty. Creating a new one.\n",
      "✅ Data appended efficiently!\n"
     ]
    }
   ],
   "source": [
    "csv_file = \"merged_data.csv\"\n",
    "\n",
    "# Check if the file exists and is not empty\n",
    "if os.path.exists(csv_file) and os.path.getsize(csv_file) > 0:\n",
    "    try:\n",
    "        last_timestamp = pd.read_csv(csv_file, usecols=[\"timestamp\"], nrows=1)[\"timestamp\"].max()\n",
    "        merged_data = merged_data[merged_data[\"timestamp\"] > last_timestamp]  # Keep only new data\n",
    "    except pd.errors.EmptyDataError:\n",
    "        print(\"⚠️ CSV file is empty. Writing new data without filtering.\")\n",
    "else:\n",
    "    print(\"⚠️ CSV file does not exist or is empty. Creating a new one.\")\n",
    "\n",
    "# If the file is empty or does not exist, write with a header\n",
    "write_header = not os.path.exists(csv_file) or os.path.getsize(csv_file) == 0\n",
    "\n",
    "# Append only new data with a header each time\n",
    "if not merged_data.empty:\n",
    "    merged_data.to_csv(csv_file, mode=\"a\", index=False, header=write_header)\n",
    "\n",
    "\n",
    "print(\"✅ Data appended efficiently!\")\n"
   ]
  }
 ],
 "metadata": {
  "kernelspec": {
   "display_name": ".venv",
   "language": "python",
   "name": "python3"
  },
  "language_info": {
   "codemirror_mode": {
    "name": "ipython",
    "version": 3
   },
   "file_extension": ".py",
   "mimetype": "text/x-python",
   "name": "python",
   "nbconvert_exporter": "python",
   "pygments_lexer": "ipython3",
   "version": "3.9.6"
  }
 },
 "nbformat": 4,
 "nbformat_minor": 2
}
