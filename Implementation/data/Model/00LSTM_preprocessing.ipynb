{
 "cells": [
  {
   "cell_type": "markdown",
   "id": "75b28c5c",
   "metadata": {},
   "source": [
    "# LSTM"
   ]
  },
  {
   "cell_type": "markdown",
   "id": "b6dac9a2",
   "metadata": {},
   "source": [
    "### Obsah<a class='anchor' id='top'></a>\n",
    "* [Globálne parametre](#1)\n",
    "* [Načítanie dát](#2)\n",
    "* [Rozdelenie dát na testovaciu a trénovaciu sadu](#3)\n",
    "* [Vytvorenie sekvencií](#4)"
   ]
  },
  {
   "cell_type": "code",
   "execution_count": null,
   "id": "a5e8b98b",
   "metadata": {},
   "outputs": [],
   "source": [
    "import json\n",
    "import warnings\n",
    "\n",
    "import joblib\n",
    "import numpy as np\n",
    "\n",
    "warnings.filterwarnings(\"ignore\")"
   ]
  },
  {
   "cell_type": "markdown",
   "id": "f9d8afd6",
   "metadata": {},
   "source": [
    "### Globálne parametre<a class='anchor' id='1'></a>"
   ]
  },
  {
   "cell_type": "code",
   "execution_count": 30,
   "id": "915b5550",
   "metadata": {},
   "outputs": [],
   "source": [
    "# Globálne konfiguračné premenné\n",
    "\n",
    "# Cesty k súborom    \n",
    "X_PATH = 'X_scaled.npy'\n",
    "Y_PATH = 'y_labels.npy'\n",
    "SCALER_PATH = 'scaler.joblib'\n",
    "FEATURES_PATH = 'selected_features.json'  \n",
    "UC_MAP_PATH = 'uc_map.json'\n",
    "\n",
    "# Názov stĺpca s cieľovou premennou\n",
    "LABEL_COLUMN = 'current_uc'       \n",
    "\n",
    "# Parametre pre rozdelenie dát\n",
    "TEST_SIZE = 0.2                   \n",
    "SEED = 42                                       \n",
    "\n",
    "# Parametre pre LSTM model\n",
    "SEQUENCE_LENGTH = 60              \n",
    "LSTM_UNITS = 128                  \n",
    "DROPOUT_RATE = 0.2                \n",
    "\n",
    "# Ďalšie parametre\n",
    "VERBOSE = 1                       "
   ]
  },
  {
   "cell_type": "markdown",
   "id": "ddab66ec",
   "metadata": {},
   "source": [
    "### Načítanie predspracovaných dát <a class='anchor' id='2'></a>"
   ]
  },
  {
   "cell_type": "code",
   "execution_count": 31,
   "id": "a2315328",
   "metadata": {},
   "outputs": [],
   "source": [
    "with open(FEATURES_PATH, 'r') as f:\n",
    "    selected_features = json.load(f)['features']"
   ]
  },
  {
   "cell_type": "code",
   "execution_count": 32,
   "id": "bd987faf",
   "metadata": {},
   "outputs": [],
   "source": [
    "X_scaled = np.load(X_PATH)\n",
    "y = np.load(Y_PATH)\n",
    "scaler = joblib.load(SCALER_PATH)\n",
    "\n",
    "with open(UC_MAP_PATH, \"r\") as f:\n",
    "    uc_map = json.load(f)"
   ]
  },
  {
   "cell_type": "markdown",
   "id": "eee865dd",
   "metadata": {},
   "source": [
    "### Rozdelenie dát na trénovaciu a testovaciu množinu <a class='anchor' id='3'></a>"
   ]
  },
  {
   "cell_type": "code",
   "execution_count": 33,
   "id": "38baecba",
   "metadata": {},
   "outputs": [],
   "source": [
    "def create_sequences(X, y, seq_len):\n",
    "\n",
    "    \"\"\"Create sequences of data with given length for LSTM input.\"\"\"\n",
    "\n",
    "    Xs, ys = [], []\n",
    "    for i in range(len(X) - seq_len):\n",
    "        Xs.append(X[i:i+seq_len])\n",
    "        ys.append(y[i+seq_len])\n",
    "    return np.array(Xs), np.array(ys)"
   ]
  },
  {
   "cell_type": "markdown",
   "id": "c173ed60",
   "metadata": {},
   "source": [
    "#### Vytvorenie sekvencií <a class='anchor' id='4'></a>"
   ]
  },
  {
   "cell_type": "code",
   "execution_count": 34,
   "id": "11a578b0",
   "metadata": {},
   "outputs": [],
   "source": [
    "# Create sliding window sequences\n",
    "X_seq, y_seq = create_sequences(X_scaled, y, SEQUENCE_LENGTH)\n",
    "\n",
    "# Then split\n",
    "X_train, X_test, y_train, y_test = train_test_split(\n",
    "    X_seq, y_seq, test_size=TEST_SIZE, random_state=SEED, stratify=y_seq\n",
    ")"
   ]
  },
  {
   "cell_type": "code",
   "execution_count": 35,
   "id": "01e3130e",
   "metadata": {},
   "outputs": [
    {
     "name": "stdout",
     "output_type": "stream",
     "text": [
      "✅ X_train: (35000, 60, 7), y_train: (35000, 6)\n",
      "✅ X_test: (8750, 60, 7), y_test: (8750, 6)\n"
     ]
    }
   ],
   "source": [
    "print(f\"✅ X_train: {X_train.shape}, y_train: {y_train_cat.shape}\")\n",
    "print(f\"✅ X_test: {X_test.shape}, y_test: {y_test_cat.shape}\")"
   ]
  },
  {
   "cell_type": "code",
   "execution_count": 36,
   "id": "fdd36860",
   "metadata": {},
   "outputs": [],
   "source": [
    "# Save the X_train and y_train, X_test and y_test arrays\n",
    "np.save('preprocessed_data/X_train.npy', X_train)\n",
    "np.save('preprocessed_data/y_train.npy', y_train)\n",
    "np.save('preprocessed_data/X_test.npy', X_test)\n",
    "np.save('preprocessed_data/y_test.npy', y_test)"
   ]
  }
 ],
 "metadata": {
  "kernelspec": {
   "display_name": ".venv",
   "language": "python",
   "name": "python3"
  },
  "language_info": {
   "codemirror_mode": {
    "name": "ipython",
    "version": 3
   },
   "file_extension": ".py",
   "mimetype": "text/x-python",
   "name": "python",
   "nbconvert_exporter": "python",
   "pygments_lexer": "ipython3",
   "version": "3.9.6"
  }
 },
 "nbformat": 4,
 "nbformat_minor": 5
}
