{
 "cells": [
  {
   "cell_type": "markdown",
   "id": "75b28c5c",
   "metadata": {},
   "source": [
    "# LSTM pipeline"
   ]
  },
  {
   "cell_type": "code",
   "execution_count": 110,
   "id": "a5e8b98b",
   "metadata": {},
   "outputs": [],
   "source": [
    "import pandas as pd\n",
    "import numpy as np\n",
    "import matplotlib.pyplot as plt\n",
    "import seaborn as sns\n",
    "from sklearn.model_selection import train_test_split\n",
    "from sklearn.preprocessing import MinMaxScaler, LabelEncoder\n",
    "from tensorflow.keras.models import Sequential # type: ignore\n",
    "from tensorflow.keras.layers import LSTM, Dense, Dropout # type: ignore\n",
    "from tensorflow.keras.utils import to_categorical # type: ignore"
   ]
  },
  {
   "cell_type": "code",
   "execution_count": null,
   "id": "2235afa8",
   "metadata": {},
   "outputs": [],
   "source": [
    "#csv file path\n",
    "CSV_PATH = 'real5g_scenarios1-5.csv'\n",
    "LABEL_COLUMN = 'ran_ue_value'\n",
    "TEST_SIZE = 0.1\n",
    "SEED = 42\n",
    "EPOCHS = 50\n",
    "BATCH_SIZE = 32"
   ]
  },
  {
   "cell_type": "code",
   "execution_count": 112,
   "id": "c5029eb0",
   "metadata": {},
   "outputs": [],
   "source": [
    "# Load data\n",
    "data_path = CSV_PATH\n",
    "raw_df = pd.read_csv(data_path)"
   ]
  },
  {
   "cell_type": "code",
   "execution_count": 113,
   "id": "b122beef",
   "metadata": {},
   "outputs": [
    {
     "name": "stdout",
     "output_type": "stream",
     "text": [
      "\n",
      "Data preview:\n"
     ]
    },
    {
     "data": {
      "application/vnd.microsoft.datawrangler.viewer.v0+json": {
       "columns": [
        {
         "name": "index",
         "rawType": "int64",
         "type": "integer"
        },
        {
         "name": "timestamp",
         "rawType": "object",
         "type": "string"
        },
        {
         "name": "amf_session_value",
         "rawType": "float64",
         "type": "float"
        },
        {
         "name": "bearers_active_value",
         "rawType": "float64",
         "type": "float"
        },
        {
         "name": "fivegs_amffunction_amf_authreject_value",
         "rawType": "float64",
         "type": "float"
        },
        {
         "name": "fivegs_amffunction_amf_authreq_value",
         "rawType": "float64",
         "type": "float"
        },
        {
         "name": "fivegs_amffunction_mm_confupdate_value",
         "rawType": "float64",
         "type": "float"
        },
        {
         "name": "fivegs_amffunction_mm_confupdatesucc_value",
         "rawType": "float64",
         "type": "float"
        },
        {
         "name": "fivegs_amffunction_mm_paging5greq_value",
         "rawType": "float64",
         "type": "float"
        },
        {
         "name": "fivegs_amffunction_mm_paging5gsucc_value",
         "rawType": "float64",
         "type": "float"
        },
        {
         "name": "fivegs_amffunction_rm_regemergreq_value",
         "rawType": "float64",
         "type": "float"
        },
        {
         "name": "fivegs_amffunction_rm_regemergsucc_value",
         "rawType": "float64",
         "type": "float"
        },
        {
         "name": "fivegs_amffunction_rm_reginitreq_value",
         "rawType": "float64",
         "type": "float"
        },
        {
         "name": "fivegs_amffunction_rm_reginitsucc_value",
         "rawType": "float64",
         "type": "float"
        },
        {
         "name": "fivegs_amffunction_rm_registeredsubnbr_value",
         "rawType": "float64",
         "type": "float"
        },
        {
         "name": "fivegs_amffunction_rm_regmobreq_value",
         "rawType": "float64",
         "type": "float"
        },
        {
         "name": "fivegs_amffunction_rm_regmobsucc_value",
         "rawType": "float64",
         "type": "float"
        },
        {
         "name": "fivegs_amffunction_rm_regperiodreq_value",
         "rawType": "float64",
         "type": "float"
        },
        {
         "name": "fivegs_amffunction_rm_regperiodsucc_value",
         "rawType": "float64",
         "type": "float"
        },
        {
         "name": "fivegs_ep_n3_gtp_indatapktn3upf_value",
         "rawType": "float64",
         "type": "float"
        },
        {
         "name": "fivegs_ep_n3_gtp_outdatapktn3upf_value",
         "rawType": "float64",
         "type": "float"
        },
        {
         "name": "fivegs_pcffunction_pa_policyamassoreq_value",
         "rawType": "float64",
         "type": "float"
        },
        {
         "name": "fivegs_pcffunction_pa_policyamassosucc_value",
         "rawType": "float64",
         "type": "float"
        },
        {
         "name": "fivegs_pcffunction_pa_policysmassoreq_value",
         "rawType": "float64",
         "type": "float"
        },
        {
         "name": "fivegs_pcffunction_pa_policysmassosucc_value",
         "rawType": "float64",
         "type": "float"
        },
        {
         "name": "fivegs_pcffunction_pa_sessionnbr_value",
         "rawType": "float64",
         "type": "float"
        },
        {
         "name": "fivegs_smffunction_sm_n4sessionestabreq_value",
         "rawType": "float64",
         "type": "float"
        },
        {
         "name": "fivegs_smffunction_sm_n4sessionreport_value",
         "rawType": "float64",
         "type": "float"
        },
        {
         "name": "fivegs_smffunction_sm_n4sessionreportsucc_value",
         "rawType": "float64",
         "type": "float"
        },
        {
         "name": "fivegs_smffunction_sm_pdusessioncreationreq_value",
         "rawType": "float64",
         "type": "float"
        },
        {
         "name": "fivegs_smffunction_sm_pdusessioncreationsucc_value",
         "rawType": "float64",
         "type": "float"
        },
        {
         "name": "fivegs_smffunction_sm_qos_flow_nbr_value",
         "rawType": "float64",
         "type": "float"
        },
        {
         "name": "fivegs_smffunction_sm_sessionnbr_value",
         "rawType": "float64",
         "type": "float"
        },
        {
         "name": "fivegs_upffunction_sm_n4sessionestabreq_value",
         "rawType": "float64",
         "type": "float"
        },
        {
         "name": "fivegs_upffunction_sm_n4sessionreport_value",
         "rawType": "float64",
         "type": "float"
        },
        {
         "name": "fivegs_upffunction_sm_n4sessionreportsucc_value",
         "rawType": "float64",
         "type": "float"
        },
        {
         "name": "fivegs_upffunction_upf_qosflows_value",
         "rawType": "float64",
         "type": "float"
        },
        {
         "name": "fivegs_upffunction_upf_sessionnbr_value",
         "rawType": "float64",
         "type": "float"
        },
        {
         "name": "gn_rx_createpdpcontextreq_value",
         "rawType": "float64",
         "type": "float"
        },
        {
         "name": "gn_rx_deletepdpcontextreq_value",
         "rawType": "float64",
         "type": "float"
        },
        {
         "name": "gn_rx_parse_failed_value",
         "rawType": "float64",
         "type": "float"
        },
        {
         "name": "gnb_value",
         "rawType": "float64",
         "type": "float"
        },
        {
         "name": "gtp1_pdpctxs_active_value",
         "rawType": "float64",
         "type": "float"
        },
        {
         "name": "gtp2_sessions_active_value",
         "rawType": "float64",
         "type": "float"
        },
        {
         "name": "gtp_new_node_failed_value",
         "rawType": "float64",
         "type": "float"
        },
        {
         "name": "gtp_peers_active_value",
         "rawType": "float64",
         "type": "float"
        },
        {
         "name": "process_cpu_seconds_total_value",
         "rawType": "float64",
         "type": "float"
        },
        {
         "name": "process_max_fds_value",
         "rawType": "float64",
         "type": "float"
        },
        {
         "name": "process_open_fds_value",
         "rawType": "float64",
         "type": "float"
        },
        {
         "name": "process_resident_memory_bytes_value",
         "rawType": "float64",
         "type": "float"
        },
        {
         "name": "process_start_time_seconds_value",
         "rawType": "float64",
         "type": "float"
        },
        {
         "name": "process_virtual_memory_bytes_value",
         "rawType": "float64",
         "type": "float"
        },
        {
         "name": "process_virtual_memory_max_bytes_value",
         "rawType": "float64",
         "type": "float"
        },
        {
         "name": "ran_ue_value",
         "rawType": "float64",
         "type": "float"
        },
        {
         "name": "s5c_rx_createsession_value",
         "rawType": "float64",
         "type": "float"
        },
        {
         "name": "s5c_rx_parse_failed_value",
         "rawType": "float64",
         "type": "float"
        }
       ],
       "conversionMethod": "pd.DataFrame",
       "ref": "263054a6-7153-4314-9f7a-ab4a18c9c691",
       "rows": [
        [
         "0",
         "2025-04-10 12:28:14",
         "2.0",
         "2.0",
         "0.0",
         "10.0",
         "599.0",
         "499.0",
         "1034.0",
         "498.0",
         "0.0",
         "0.0",
         "8.0",
         "8.0",
         "2.0",
         "2.0",
         "2.0",
         "91.0",
         "90.0",
         "0.0",
         "0.0",
         "9.0",
         "9.0",
         "9.0",
         "9.0",
         "2.0",
         "0.0",
         "513.0",
         "513.0",
         "9.0",
         "9.0",
         "9.0",
         "2.0",
         "7.0",
         "513.0",
         "513.0",
         "2.0",
         "2.0",
         "0.0",
         "0.0",
         "0.0",
         "2.0",
         "0.0",
         "0.0",
         "0.0",
         "0.0",
         "43.25",
         "1024.0",
         "29.75",
         "50106368.0",
         "118464611.5",
         "1404078080.0",
         "-1.0",
         "0.0",
         "0.0",
         "0.0"
        ],
        [
         "1",
         "2025-04-10 12:28:15",
         "2.0",
         "2.0",
         "0.0",
         "10.0",
         "599.0",
         "499.0",
         "1034.0",
         "498.0",
         "0.0",
         "0.0",
         "8.0",
         "8.0",
         "2.0",
         "2.0",
         "2.0",
         "91.0",
         "90.0",
         "0.0",
         "0.0",
         "9.0",
         "9.0",
         "9.0",
         "9.0",
         "2.0",
         "0.0",
         "513.0",
         "513.0",
         "9.0",
         "9.0",
         "9.0",
         "2.0",
         "7.0",
         "513.0",
         "513.0",
         "2.0",
         "2.0",
         "0.0",
         "0.0",
         "0.0",
         "2.0",
         "0.0",
         "0.0",
         "0.0",
         "0.0",
         "43.25",
         "1024.0",
         "29.75",
         "50106368.0",
         "118464611.5",
         "1404078080.0",
         "-1.0",
         "0.0",
         "0.0",
         "0.0"
        ],
        [
         "2",
         "2025-04-10 12:28:16",
         "2.0",
         "2.0",
         "0.0",
         "10.0",
         "599.0",
         "499.0",
         "1034.0",
         "498.0",
         "0.0",
         "0.0",
         "8.0",
         "8.0",
         "2.0",
         "2.0",
         "2.0",
         "91.0",
         "90.0",
         "0.0",
         "0.0",
         "9.0",
         "9.0",
         "9.0",
         "9.0",
         "2.0",
         "0.0",
         "513.0",
         "513.0",
         "9.0",
         "9.0",
         "9.0",
         "2.0",
         "7.0",
         "513.0",
         "513.0",
         "2.0",
         "2.0",
         "0.0",
         "0.0",
         "0.0",
         "2.0",
         "0.0",
         "0.0",
         "0.0",
         "0.0",
         "43.25",
         "1024.0",
         "29.75",
         "50106368.0",
         "118464611.5",
         "1404078080.0",
         "-1.0",
         "0.0",
         "0.0",
         "0.0"
        ],
        [
         "3",
         "2025-04-10 12:28:17",
         "2.0",
         "2.0",
         "0.0",
         "10.0",
         "599.0",
         "499.0",
         "1034.0",
         "498.0",
         "0.0",
         "0.0",
         "8.0",
         "8.0",
         "2.0",
         "2.0",
         "2.0",
         "91.0",
         "90.0",
         "0.0",
         "0.0",
         "9.0",
         "9.0",
         "9.0",
         "9.0",
         "2.0",
         "0.0",
         "513.0",
         "513.0",
         "9.0",
         "9.0",
         "9.0",
         "2.0",
         "7.0",
         "513.0",
         "513.0",
         "2.0",
         "2.0",
         "0.0",
         "0.0",
         "0.0",
         "2.0",
         "0.0",
         "0.0",
         "0.0",
         "0.0",
         "43.25",
         "1024.0",
         "29.75",
         "50106368.0",
         "118464611.5",
         "1404078080.0",
         "-1.0",
         "0.0",
         "0.0",
         "0.0"
        ],
        [
         "4",
         "2025-04-10 12:28:18",
         "2.0",
         "2.0",
         "0.0",
         "10.0",
         "599.0",
         "499.0",
         "1034.0",
         "498.0",
         "0.0",
         "0.0",
         "8.0",
         "8.0",
         "2.0",
         "2.0",
         "2.0",
         "91.0",
         "90.0",
         "0.0",
         "0.0",
         "9.0",
         "9.0",
         "9.0",
         "9.0",
         "2.0",
         "0.0",
         "513.0",
         "513.0",
         "9.0",
         "9.0",
         "9.0",
         "2.0",
         "7.0",
         "513.0",
         "513.0",
         "2.0",
         "2.0",
         "0.0",
         "0.0",
         "0.0",
         "2.0",
         "0.0",
         "0.0",
         "0.0",
         "0.0",
         "43.25",
         "1024.0",
         "29.75",
         "50106368.0",
         "118464611.5",
         "1404078080.0",
         "-1.0",
         "0.0",
         "0.0",
         "0.0"
        ]
       ],
       "shape": {
        "columns": 55,
        "rows": 5
       }
      },
      "text/html": [
       "<div>\n",
       "<style scoped>\n",
       "    .dataframe tbody tr th:only-of-type {\n",
       "        vertical-align: middle;\n",
       "    }\n",
       "\n",
       "    .dataframe tbody tr th {\n",
       "        vertical-align: top;\n",
       "    }\n",
       "\n",
       "    .dataframe thead th {\n",
       "        text-align: right;\n",
       "    }\n",
       "</style>\n",
       "<table border=\"1\" class=\"dataframe\">\n",
       "  <thead>\n",
       "    <tr style=\"text-align: right;\">\n",
       "      <th></th>\n",
       "      <th>timestamp</th>\n",
       "      <th>amf_session_value</th>\n",
       "      <th>bearers_active_value</th>\n",
       "      <th>fivegs_amffunction_amf_authreject_value</th>\n",
       "      <th>fivegs_amffunction_amf_authreq_value</th>\n",
       "      <th>fivegs_amffunction_mm_confupdate_value</th>\n",
       "      <th>fivegs_amffunction_mm_confupdatesucc_value</th>\n",
       "      <th>fivegs_amffunction_mm_paging5greq_value</th>\n",
       "      <th>fivegs_amffunction_mm_paging5gsucc_value</th>\n",
       "      <th>fivegs_amffunction_rm_regemergreq_value</th>\n",
       "      <th>...</th>\n",
       "      <th>process_cpu_seconds_total_value</th>\n",
       "      <th>process_max_fds_value</th>\n",
       "      <th>process_open_fds_value</th>\n",
       "      <th>process_resident_memory_bytes_value</th>\n",
       "      <th>process_start_time_seconds_value</th>\n",
       "      <th>process_virtual_memory_bytes_value</th>\n",
       "      <th>process_virtual_memory_max_bytes_value</th>\n",
       "      <th>ran_ue_value</th>\n",
       "      <th>s5c_rx_createsession_value</th>\n",
       "      <th>s5c_rx_parse_failed_value</th>\n",
       "    </tr>\n",
       "  </thead>\n",
       "  <tbody>\n",
       "    <tr>\n",
       "      <th>0</th>\n",
       "      <td>2025-04-10 12:28:14</td>\n",
       "      <td>2.0</td>\n",
       "      <td>2.0</td>\n",
       "      <td>0.0</td>\n",
       "      <td>10.0</td>\n",
       "      <td>599.0</td>\n",
       "      <td>499.0</td>\n",
       "      <td>1034.0</td>\n",
       "      <td>498.0</td>\n",
       "      <td>0.0</td>\n",
       "      <td>...</td>\n",
       "      <td>43.25</td>\n",
       "      <td>1024.0</td>\n",
       "      <td>29.75</td>\n",
       "      <td>50106368.0</td>\n",
       "      <td>118464611.5</td>\n",
       "      <td>1.404078e+09</td>\n",
       "      <td>-1.0</td>\n",
       "      <td>0.0</td>\n",
       "      <td>0.0</td>\n",
       "      <td>0.0</td>\n",
       "    </tr>\n",
       "    <tr>\n",
       "      <th>1</th>\n",
       "      <td>2025-04-10 12:28:15</td>\n",
       "      <td>2.0</td>\n",
       "      <td>2.0</td>\n",
       "      <td>0.0</td>\n",
       "      <td>10.0</td>\n",
       "      <td>599.0</td>\n",
       "      <td>499.0</td>\n",
       "      <td>1034.0</td>\n",
       "      <td>498.0</td>\n",
       "      <td>0.0</td>\n",
       "      <td>...</td>\n",
       "      <td>43.25</td>\n",
       "      <td>1024.0</td>\n",
       "      <td>29.75</td>\n",
       "      <td>50106368.0</td>\n",
       "      <td>118464611.5</td>\n",
       "      <td>1.404078e+09</td>\n",
       "      <td>-1.0</td>\n",
       "      <td>0.0</td>\n",
       "      <td>0.0</td>\n",
       "      <td>0.0</td>\n",
       "    </tr>\n",
       "    <tr>\n",
       "      <th>2</th>\n",
       "      <td>2025-04-10 12:28:16</td>\n",
       "      <td>2.0</td>\n",
       "      <td>2.0</td>\n",
       "      <td>0.0</td>\n",
       "      <td>10.0</td>\n",
       "      <td>599.0</td>\n",
       "      <td>499.0</td>\n",
       "      <td>1034.0</td>\n",
       "      <td>498.0</td>\n",
       "      <td>0.0</td>\n",
       "      <td>...</td>\n",
       "      <td>43.25</td>\n",
       "      <td>1024.0</td>\n",
       "      <td>29.75</td>\n",
       "      <td>50106368.0</td>\n",
       "      <td>118464611.5</td>\n",
       "      <td>1.404078e+09</td>\n",
       "      <td>-1.0</td>\n",
       "      <td>0.0</td>\n",
       "      <td>0.0</td>\n",
       "      <td>0.0</td>\n",
       "    </tr>\n",
       "    <tr>\n",
       "      <th>3</th>\n",
       "      <td>2025-04-10 12:28:17</td>\n",
       "      <td>2.0</td>\n",
       "      <td>2.0</td>\n",
       "      <td>0.0</td>\n",
       "      <td>10.0</td>\n",
       "      <td>599.0</td>\n",
       "      <td>499.0</td>\n",
       "      <td>1034.0</td>\n",
       "      <td>498.0</td>\n",
       "      <td>0.0</td>\n",
       "      <td>...</td>\n",
       "      <td>43.25</td>\n",
       "      <td>1024.0</td>\n",
       "      <td>29.75</td>\n",
       "      <td>50106368.0</td>\n",
       "      <td>118464611.5</td>\n",
       "      <td>1.404078e+09</td>\n",
       "      <td>-1.0</td>\n",
       "      <td>0.0</td>\n",
       "      <td>0.0</td>\n",
       "      <td>0.0</td>\n",
       "    </tr>\n",
       "    <tr>\n",
       "      <th>4</th>\n",
       "      <td>2025-04-10 12:28:18</td>\n",
       "      <td>2.0</td>\n",
       "      <td>2.0</td>\n",
       "      <td>0.0</td>\n",
       "      <td>10.0</td>\n",
       "      <td>599.0</td>\n",
       "      <td>499.0</td>\n",
       "      <td>1034.0</td>\n",
       "      <td>498.0</td>\n",
       "      <td>0.0</td>\n",
       "      <td>...</td>\n",
       "      <td>43.25</td>\n",
       "      <td>1024.0</td>\n",
       "      <td>29.75</td>\n",
       "      <td>50106368.0</td>\n",
       "      <td>118464611.5</td>\n",
       "      <td>1.404078e+09</td>\n",
       "      <td>-1.0</td>\n",
       "      <td>0.0</td>\n",
       "      <td>0.0</td>\n",
       "      <td>0.0</td>\n",
       "    </tr>\n",
       "  </tbody>\n",
       "</table>\n",
       "<p>5 rows × 55 columns</p>\n",
       "</div>"
      ],
      "text/plain": [
       "             timestamp  amf_session_value  bearers_active_value  \\\n",
       "0  2025-04-10 12:28:14                2.0                   2.0   \n",
       "1  2025-04-10 12:28:15                2.0                   2.0   \n",
       "2  2025-04-10 12:28:16                2.0                   2.0   \n",
       "3  2025-04-10 12:28:17                2.0                   2.0   \n",
       "4  2025-04-10 12:28:18                2.0                   2.0   \n",
       "\n",
       "   fivegs_amffunction_amf_authreject_value  \\\n",
       "0                                      0.0   \n",
       "1                                      0.0   \n",
       "2                                      0.0   \n",
       "3                                      0.0   \n",
       "4                                      0.0   \n",
       "\n",
       "   fivegs_amffunction_amf_authreq_value  \\\n",
       "0                                  10.0   \n",
       "1                                  10.0   \n",
       "2                                  10.0   \n",
       "3                                  10.0   \n",
       "4                                  10.0   \n",
       "\n",
       "   fivegs_amffunction_mm_confupdate_value  \\\n",
       "0                                   599.0   \n",
       "1                                   599.0   \n",
       "2                                   599.0   \n",
       "3                                   599.0   \n",
       "4                                   599.0   \n",
       "\n",
       "   fivegs_amffunction_mm_confupdatesucc_value  \\\n",
       "0                                       499.0   \n",
       "1                                       499.0   \n",
       "2                                       499.0   \n",
       "3                                       499.0   \n",
       "4                                       499.0   \n",
       "\n",
       "   fivegs_amffunction_mm_paging5greq_value  \\\n",
       "0                                   1034.0   \n",
       "1                                   1034.0   \n",
       "2                                   1034.0   \n",
       "3                                   1034.0   \n",
       "4                                   1034.0   \n",
       "\n",
       "   fivegs_amffunction_mm_paging5gsucc_value  \\\n",
       "0                                     498.0   \n",
       "1                                     498.0   \n",
       "2                                     498.0   \n",
       "3                                     498.0   \n",
       "4                                     498.0   \n",
       "\n",
       "   fivegs_amffunction_rm_regemergreq_value  ...  \\\n",
       "0                                      0.0  ...   \n",
       "1                                      0.0  ...   \n",
       "2                                      0.0  ...   \n",
       "3                                      0.0  ...   \n",
       "4                                      0.0  ...   \n",
       "\n",
       "   process_cpu_seconds_total_value  process_max_fds_value  \\\n",
       "0                            43.25                 1024.0   \n",
       "1                            43.25                 1024.0   \n",
       "2                            43.25                 1024.0   \n",
       "3                            43.25                 1024.0   \n",
       "4                            43.25                 1024.0   \n",
       "\n",
       "   process_open_fds_value  process_resident_memory_bytes_value  \\\n",
       "0                   29.75                           50106368.0   \n",
       "1                   29.75                           50106368.0   \n",
       "2                   29.75                           50106368.0   \n",
       "3                   29.75                           50106368.0   \n",
       "4                   29.75                           50106368.0   \n",
       "\n",
       "   process_start_time_seconds_value  process_virtual_memory_bytes_value  \\\n",
       "0                       118464611.5                        1.404078e+09   \n",
       "1                       118464611.5                        1.404078e+09   \n",
       "2                       118464611.5                        1.404078e+09   \n",
       "3                       118464611.5                        1.404078e+09   \n",
       "4                       118464611.5                        1.404078e+09   \n",
       "\n",
       "   process_virtual_memory_max_bytes_value  ran_ue_value  \\\n",
       "0                                    -1.0           0.0   \n",
       "1                                    -1.0           0.0   \n",
       "2                                    -1.0           0.0   \n",
       "3                                    -1.0           0.0   \n",
       "4                                    -1.0           0.0   \n",
       "\n",
       "   s5c_rx_createsession_value  s5c_rx_parse_failed_value  \n",
       "0                         0.0                        0.0  \n",
       "1                         0.0                        0.0  \n",
       "2                         0.0                        0.0  \n",
       "3                         0.0                        0.0  \n",
       "4                         0.0                        0.0  \n",
       "\n",
       "[5 rows x 55 columns]"
      ]
     },
     "execution_count": 113,
     "metadata": {},
     "output_type": "execute_result"
    }
   ],
   "source": [
    "# Inspect data\n",
    "print(\"\\nData preview:\")\n",
    "raw_df.head()"
   ]
  },
  {
   "cell_type": "code",
   "execution_count": 114,
   "id": "d45bebc4",
   "metadata": {},
   "outputs": [
    {
     "name": "stdout",
     "output_type": "stream",
     "text": [
      "\n",
      "Missing values:\n"
     ]
    },
    {
     "data": {
      "text/plain": [
       "timestamp                                              0\n",
       "amf_session_value                                      0\n",
       "bearers_active_value                                   0\n",
       "fivegs_amffunction_amf_authreject_value                0\n",
       "fivegs_amffunction_amf_authreq_value                   0\n",
       "fivegs_amffunction_mm_confupdate_value                 0\n",
       "fivegs_amffunction_mm_confupdatesucc_value             0\n",
       "fivegs_amffunction_mm_paging5greq_value                0\n",
       "fivegs_amffunction_mm_paging5gsucc_value               0\n",
       "fivegs_amffunction_rm_regemergreq_value                0\n",
       "fivegs_amffunction_rm_regemergsucc_value               0\n",
       "fivegs_amffunction_rm_reginitreq_value                 0\n",
       "fivegs_amffunction_rm_reginitsucc_value                0\n",
       "fivegs_amffunction_rm_registeredsubnbr_value           0\n",
       "fivegs_amffunction_rm_regmobreq_value                  0\n",
       "fivegs_amffunction_rm_regmobsucc_value                 0\n",
       "fivegs_amffunction_rm_regperiodreq_value               0\n",
       "fivegs_amffunction_rm_regperiodsucc_value              0\n",
       "fivegs_ep_n3_gtp_indatapktn3upf_value                 15\n",
       "fivegs_ep_n3_gtp_outdatapktn3upf_value                15\n",
       "fivegs_pcffunction_pa_policyamassoreq_value            0\n",
       "fivegs_pcffunction_pa_policyamassosucc_value           0\n",
       "fivegs_pcffunction_pa_policysmassoreq_value            0\n",
       "fivegs_pcffunction_pa_policysmassosucc_value           0\n",
       "fivegs_pcffunction_pa_sessionnbr_value                 0\n",
       "fivegs_smffunction_sm_n4sessionestabreq_value          0\n",
       "fivegs_smffunction_sm_n4sessionreport_value            0\n",
       "fivegs_smffunction_sm_n4sessionreportsucc_value        0\n",
       "fivegs_smffunction_sm_pdusessioncreationreq_value      0\n",
       "fivegs_smffunction_sm_pdusessioncreationsucc_value     0\n",
       "fivegs_smffunction_sm_qos_flow_nbr_value               0\n",
       "fivegs_smffunction_sm_sessionnbr_value                 0\n",
       "fivegs_upffunction_sm_n4sessionestabreq_value         15\n",
       "fivegs_upffunction_sm_n4sessionreport_value           15\n",
       "fivegs_upffunction_sm_n4sessionreportsucc_value       15\n",
       "fivegs_upffunction_upf_qosflows_value                 15\n",
       "fivegs_upffunction_upf_sessionnbr_value               15\n",
       "gn_rx_createpdpcontextreq_value                        0\n",
       "gn_rx_deletepdpcontextreq_value                        0\n",
       "gn_rx_parse_failed_value                               0\n",
       "gnb_value                                              0\n",
       "gtp1_pdpctxs_active_value                              0\n",
       "gtp2_sessions_active_value                             0\n",
       "gtp_new_node_failed_value                              0\n",
       "gtp_peers_active_value                                 0\n",
       "process_cpu_seconds_total_value                        0\n",
       "process_max_fds_value                                  0\n",
       "process_open_fds_value                                 0\n",
       "process_resident_memory_bytes_value                    0\n",
       "process_start_time_seconds_value                       0\n",
       "process_virtual_memory_bytes_value                     0\n",
       "process_virtual_memory_max_bytes_value                 0\n",
       "ran_ue_value                                           0\n",
       "s5c_rx_createsession_value                             0\n",
       "s5c_rx_parse_failed_value                              0\n",
       "dtype: int64"
      ]
     },
     "execution_count": 114,
     "metadata": {},
     "output_type": "execute_result"
    }
   ],
   "source": [
    "print(\"\\nMissing values:\")\n",
    "raw_df.isnull().sum()"
   ]
  },
  {
   "cell_type": "code",
   "execution_count": 115,
   "id": "f13160f4",
   "metadata": {},
   "outputs": [],
   "source": [
    "# Drop any rows with missing values\n",
    "raw_df.dropna(inplace=True)"
   ]
  },
  {
   "cell_type": "code",
   "execution_count": 116,
   "id": "cc33851e",
   "metadata": {},
   "outputs": [
    {
     "name": "stdout",
     "output_type": "stream",
     "text": [
      "\n",
      "Label classes: [np.float64(0.0), np.float64(1.0), np.float64(2.0), np.float64(3.0), np.float64(4.0), np.float64(5.0)]\n"
     ]
    }
   ],
   "source": [
    "# Encode label column if it exists\n",
    "if LABEL_COLUMN in raw_df.columns:\n",
    "    le = LabelEncoder()\n",
    "    raw_df[LABEL_COLUMN] = le.fit_transform(raw_df[LABEL_COLUMN])\n",
    "    print(\"\\nLabel classes:\", list(le.classes_))"
   ]
  },
  {
   "cell_type": "code",
   "execution_count": 117,
   "id": "e0be193b",
   "metadata": {},
   "outputs": [],
   "source": [
    "# Feature selection (exclude timestamp and label)\n",
    "feature_cols = [col for col in raw_df.columns if col not in ['timestamp', LABEL_COLUMN]]\n",
    "label_col = LABEL_COLUMN"
   ]
  },
  {
   "cell_type": "code",
   "execution_count": 118,
   "id": "ec2b0780",
   "metadata": {},
   "outputs": [],
   "source": [
    "# Normalize features\n",
    "scaler = MinMaxScaler()\n",
    "scaled_features = scaler.fit_transform(raw_df[feature_cols])"
   ]
  },
  {
   "cell_type": "code",
   "execution_count": 119,
   "id": "15b79879",
   "metadata": {},
   "outputs": [
    {
     "name": "stdout",
     "output_type": "stream",
     "text": [
      "\n",
      "Final shape -> X: (4818, 10, 53), y: (4818, 6)\n"
     ]
    }
   ],
   "source": [
    "# Create sequences for LSTM\n",
    "SEQUENCE_LENGTH = 10  # Number of time steps\n",
    "X, y = [], []\n",
    "for i in range(len(scaled_features) - SEQUENCE_LENGTH):\n",
    "    X.append(scaled_features[i:i + SEQUENCE_LENGTH])\n",
    "    y.append(raw_df[label_col].iloc[i + SEQUENCE_LENGTH])\n",
    "\n",
    "X = np.array(X)\n",
    "y = np.array(y)\n",
    "y = to_categorical(y)\n",
    "\n",
    "print(f\"\\nFinal shape -> X: {X.shape}, y: {y.shape}\")"
   ]
  },
  {
   "cell_type": "code",
   "execution_count": 120,
   "id": "070d01e7",
   "metadata": {},
   "outputs": [],
   "source": [
    "# Train-test split\n",
    "X_train, X_test, y_train, y_test = train_test_split(X, y, test_size=TEST_SIZE, random_state=SEED)"
   ]
  },
  {
   "cell_type": "code",
   "execution_count": 121,
   "id": "bf062ca2",
   "metadata": {},
   "outputs": [
    {
     "name": "stderr",
     "output_type": "stream",
     "text": [
      "/Users/davidtruhlar/Documents/FIIT/BP/5GDigitalTwin/Implementation/.venv/lib/python3.9/site-packages/keras/src/layers/rnn/rnn.py:200: UserWarning: Do not pass an `input_shape`/`input_dim` argument to a layer. When using Sequential models, prefer using an `Input(shape)` object as the first layer in the model instead.\n",
      "  super().__init__(**kwargs)\n"
     ]
    }
   ],
   "source": [
    "# Build LSTM model\n",
    "model = Sequential([\n",
    "    LSTM(128, input_shape=(SEQUENCE_LENGTH, X.shape[2]), return_sequences=True),\n",
    "    LSTM(62, return_sequences=True),\n",
    "    Dropout(0.3),\n",
    "    LSTM(32),\n",
    "    Dense(32, activation='relu'),\n",
    "    Dense(y.shape[1], activation='softmax')\n",
    "])\n",
    "\n",
    "model.compile(optimizer='adam', loss='categorical_crossentropy', metrics=['accuracy'])"
   ]
  },
  {
   "cell_type": "code",
   "execution_count": 122,
   "id": "518bc8ac",
   "metadata": {},
   "outputs": [
    {
     "name": "stdout",
     "output_type": "stream",
     "text": [
      "Epoch 1/20\n",
      "\u001b[1m136/136\u001b[0m \u001b[32m━━━━━━━━━━━━━━━━━━━━\u001b[0m\u001b[37m\u001b[0m \u001b[1m2s\u001b[0m 7ms/step - accuracy: 0.4793 - loss: 1.3284 - val_accuracy: 0.6349 - val_loss: 0.9493\n",
      "Epoch 2/20\n",
      "\u001b[1m136/136\u001b[0m \u001b[32m━━━━━━━━━━━━━━━━━━━━\u001b[0m\u001b[37m\u001b[0m \u001b[1m1s\u001b[0m 5ms/step - accuracy: 0.6138 - loss: 1.0086 - val_accuracy: 0.6328 - val_loss: 0.8684\n",
      "Epoch 3/20\n",
      "\u001b[1m136/136\u001b[0m \u001b[32m━━━━━━━━━━━━━━━━━━━━\u001b[0m\u001b[37m\u001b[0m \u001b[1m1s\u001b[0m 5ms/step - accuracy: 0.6189 - loss: 0.9721 - val_accuracy: 0.6784 - val_loss: 0.8396\n",
      "Epoch 4/20\n",
      "\u001b[1m136/136\u001b[0m \u001b[32m━━━━━━━━━━━━━━━━━━━━\u001b[0m\u001b[37m\u001b[0m \u001b[1m1s\u001b[0m 6ms/step - accuracy: 0.6466 - loss: 0.8990 - val_accuracy: 0.6867 - val_loss: 0.8056\n",
      "Epoch 5/20\n",
      "\u001b[1m136/136\u001b[0m \u001b[32m━━━━━━━━━━━━━━━━━━━━\u001b[0m\u001b[37m\u001b[0m \u001b[1m1s\u001b[0m 5ms/step - accuracy: 0.6565 - loss: 0.8848 - val_accuracy: 0.6805 - val_loss: 0.8057\n",
      "Epoch 6/20\n",
      "\u001b[1m136/136\u001b[0m \u001b[32m━━━━━━━━━━━━━━━━━━━━\u001b[0m\u001b[37m\u001b[0m \u001b[1m1s\u001b[0m 5ms/step - accuracy: 0.6762 - loss: 0.8290 - val_accuracy: 0.7012 - val_loss: 0.7949\n",
      "Epoch 7/20\n",
      "\u001b[1m136/136\u001b[0m \u001b[32m━━━━━━━━━━━━━━━━━━━━\u001b[0m\u001b[37m\u001b[0m \u001b[1m1s\u001b[0m 5ms/step - accuracy: 0.6767 - loss: 0.8344 - val_accuracy: 0.6909 - val_loss: 0.7676\n",
      "Epoch 8/20\n",
      "\u001b[1m136/136\u001b[0m \u001b[32m━━━━━━━━━━━━━━━━━━━━\u001b[0m\u001b[37m\u001b[0m \u001b[1m1s\u001b[0m 5ms/step - accuracy: 0.6830 - loss: 0.7860 - val_accuracy: 0.6929 - val_loss: 0.7713\n",
      "Epoch 9/20\n",
      "\u001b[1m136/136\u001b[0m \u001b[32m━━━━━━━━━━━━━━━━━━━━\u001b[0m\u001b[37m\u001b[0m \u001b[1m1s\u001b[0m 6ms/step - accuracy: 0.6880 - loss: 0.7975 - val_accuracy: 0.6618 - val_loss: 0.7611\n",
      "Epoch 10/20\n",
      "\u001b[1m136/136\u001b[0m \u001b[32m━━━━━━━━━━━━━━━━━━━━\u001b[0m\u001b[37m\u001b[0m \u001b[1m1s\u001b[0m 5ms/step - accuracy: 0.6873 - loss: 0.7842 - val_accuracy: 0.7012 - val_loss: 0.7431\n",
      "Epoch 11/20\n",
      "\u001b[1m136/136\u001b[0m \u001b[32m━━━━━━━━━━━━━━━━━━━━\u001b[0m\u001b[37m\u001b[0m \u001b[1m1s\u001b[0m 6ms/step - accuracy: 0.6786 - loss: 0.8128 - val_accuracy: 0.6950 - val_loss: 0.7656\n",
      "Epoch 12/20\n",
      "\u001b[1m136/136\u001b[0m \u001b[32m━━━━━━━━━━━━━━━━━━━━\u001b[0m\u001b[37m\u001b[0m \u001b[1m1s\u001b[0m 6ms/step - accuracy: 0.6942 - loss: 0.8019 - val_accuracy: 0.7033 - val_loss: 0.7650\n",
      "Epoch 13/20\n",
      "\u001b[1m136/136\u001b[0m \u001b[32m━━━━━━━━━━━━━━━━━━━━\u001b[0m\u001b[37m\u001b[0m \u001b[1m1s\u001b[0m 6ms/step - accuracy: 0.7011 - loss: 0.7519 - val_accuracy: 0.7012 - val_loss: 0.7373\n",
      "Epoch 14/20\n",
      "\u001b[1m136/136\u001b[0m \u001b[32m━━━━━━━━━━━━━━━━━━━━\u001b[0m\u001b[37m\u001b[0m \u001b[1m1s\u001b[0m 5ms/step - accuracy: 0.7019 - loss: 0.7526 - val_accuracy: 0.7033 - val_loss: 0.7307\n",
      "Epoch 15/20\n",
      "\u001b[1m136/136\u001b[0m \u001b[32m━━━━━━━━━━━━━━━━━━━━\u001b[0m\u001b[37m\u001b[0m \u001b[1m1s\u001b[0m 5ms/step - accuracy: 0.6862 - loss: 0.7752 - val_accuracy: 0.7178 - val_loss: 0.7287\n",
      "Epoch 16/20\n",
      "\u001b[1m136/136\u001b[0m \u001b[32m━━━━━━━━━━━━━━━━━━━━\u001b[0m\u001b[37m\u001b[0m \u001b[1m1s\u001b[0m 5ms/step - accuracy: 0.6854 - loss: 0.7615 - val_accuracy: 0.7261 - val_loss: 0.7104\n",
      "Epoch 17/20\n",
      "\u001b[1m136/136\u001b[0m \u001b[32m━━━━━━━━━━━━━━━━━━━━\u001b[0m\u001b[37m\u001b[0m \u001b[1m1s\u001b[0m 6ms/step - accuracy: 0.6944 - loss: 0.7376 - val_accuracy: 0.7261 - val_loss: 0.6962\n",
      "Epoch 18/20\n",
      "\u001b[1m136/136\u001b[0m \u001b[32m━━━━━━━━━━━━━━━━━━━━\u001b[0m\u001b[37m\u001b[0m \u001b[1m1s\u001b[0m 5ms/step - accuracy: 0.7033 - loss: 0.7291 - val_accuracy: 0.7012 - val_loss: 0.7116\n",
      "Epoch 19/20\n",
      "\u001b[1m136/136\u001b[0m \u001b[32m━━━━━━━━━━━━━━━━━━━━\u001b[0m\u001b[37m\u001b[0m \u001b[1m1s\u001b[0m 5ms/step - accuracy: 0.7137 - loss: 0.6854 - val_accuracy: 0.7033 - val_loss: 0.7265\n",
      "Epoch 20/20\n",
      "\u001b[1m136/136\u001b[0m \u001b[32m━━━━━━━━━━━━━━━━━━━━\u001b[0m\u001b[37m\u001b[0m \u001b[1m1s\u001b[0m 5ms/step - accuracy: 0.7130 - loss: 0.6962 - val_accuracy: 0.7324 - val_loss: 0.6832\n"
     ]
    }
   ],
   "source": [
    "# Train model\n",
    "history = model.fit(X_train, y_train, validation_data=(X_test, y_test), epochs=EPOCHS, batch_size=BATCH_SIZE, verbose=1)"
   ]
  },
  {
   "cell_type": "code",
   "execution_count": 123,
   "id": "75a32821",
   "metadata": {},
   "outputs": [
    {
     "name": "stdout",
     "output_type": "stream",
     "text": [
      "\u001b[1m16/16\u001b[0m \u001b[32m━━━━━━━━━━━━━━━━━━━━\u001b[0m\u001b[37m\u001b[0m \u001b[1m0s\u001b[0m 3ms/step - accuracy: 0.7305 - loss: 0.7346 \n",
      "\n",
      "Test Accuracy: 0.7324\n"
     ]
    },
    {
     "data": {
      "image/png": "[encoded data removed]",
      "text/plain": [
       "<Figure size 1200x400 with 2 Axes>"
      ]
     },
     "metadata": {},
     "output_type": "display_data"
    }
   ],
   "source": [
    "# Evaluate model\n",
    "loss, acc = model.evaluate(X_test, y_test)\n",
    "print(f\"\\nTest Accuracy: {acc:.4f}\")\n",
    "\n",
    "# Plot training history\n",
    "plt.figure(figsize=(12, 4))\n",
    "plt.subplot(1, 2, 1)\n",
    "plt.plot(history.history['loss'], label='Loss')\n",
    "plt.plot(history.history['val_loss'], label='Val Loss')\n",
    "plt.title('Loss Curve')\n",
    "plt.legend()\n",
    "\n",
    "plt.subplot(1, 2, 2)\n",
    "plt.plot(history.history['accuracy'], label='Accuracy')\n",
    "plt.plot(history.history['val_accuracy'], label='Val Accuracy')\n",
    "plt.title('Accuracy Curve')\n",
    "plt.legend()\n",
    "\n",
    "plt.tight_layout()\n",
    "plt.show()\n"
   ]
  }
 ],
 "metadata": {
  "kernelspec": {
   "display_name": ".venv",
   "language": "python",
   "name": "python3"
  },
  "language_info": {
   "codemirror_mode": {
    "name": "ipython",
    "version": 3
   },
   "file_extension": ".py",
   "mimetype": "text/x-python",
   "name": "python",
   "nbconvert_exporter": "python",
   "pygments_lexer": "ipython3",
   "version": "3.9.6"
  }
 },
 "nbformat": 4,
 "nbformat_minor": 5
}
