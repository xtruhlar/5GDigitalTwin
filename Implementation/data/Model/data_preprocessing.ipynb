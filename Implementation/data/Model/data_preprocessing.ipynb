{
 "cells": [
  {
   "cell_type": "markdown",
   "id": "7f23a21a",
   "metadata": {},
   "source": [
    "# Predspracovanie dát"
   ]
  },
  {
   "cell_type": "code",
   "execution_count": 56,
   "id": "facd5bbc",
   "metadata": {},
   "outputs": [],
   "source": [
    "import pandas as pd\n",
    "from sklearn.preprocessing import StandardScaler\n",
    "import json\n",
    "from joblib import dump\n",
    "import numpy as np"
   ]
  },
  {
   "cell_type": "markdown",
   "id": "ad292cb8",
   "metadata": {},
   "source": [
    "Vybrané metriky z EDA:"
   ]
  },
  {
   "cell_type": "code",
   "execution_count": 57,
   "id": "294643b3",
   "metadata": {},
   "outputs": [],
   "source": [
    "# Vybrané metriky sú vo final_selected_features.json, načítame ich:\n",
    "\n",
    "SELECTED_FEATURES_JSON = 'final_selected_features.json'\n",
    "with open(SELECTED_FEATURES_JSON, 'r') as f:\n",
    "    SELECTED_FEATURES = json.load(f)"
   ]
  },
  {
   "cell_type": "markdown",
   "id": "dc4223a4",
   "metadata": {},
   "source": [
    "<div class=\"alert alert-block alert-warning\">  \n",
    "<b>Upozornenie:</b> Ak by sa v priebehu bežania digitálneho dvojčaťa menili dôležité metriky, týmto spôsobom ich neodchytíme.  \n",
    "</div>"
   ]
  },
  {
   "cell_type": "markdown",
   "id": "739d66df",
   "metadata": {},
   "source": [
    "Mapovanie katégorických premenných na číselné hodnoty:"
   ]
  },
  {
   "cell_type": "code",
   "execution_count": 58,
   "id": "4a157760",
   "metadata": {},
   "outputs": [],
   "source": [
    "# Mapy pre log_type a application a UC\n",
    "APP_MAP = {'0': 0, 'amf': 1, 'gmm': 2, 'udm': 3, 'smf': 4, 'upf': 5}\n",
    "LOG_MAP = {'0': 0, 'registration': 1, 'number_of_sessions_or_ues': 2,\n",
    "           'nothing': 3, 'remove': 4, 'error': 5 }\n",
    "UC_MAP = { 'uc1': 1, 'uc2': 2, 'uc3': 3, 'uc4': 4, 'uc5': 5, 'uc6': 6}"
   ]
  },
  {
   "cell_type": "code",
   "execution_count": 59,
   "id": "f90decec",
   "metadata": {},
   "outputs": [],
   "source": [
    "def preprocess_df(df: pd.DataFrame, scaler=None, fit_scaler=False):\n",
    "    df = df.copy()\n",
    "\n",
    "    # Chýbajúce hodnoty\n",
    "    df.fillna(df.mode().iloc[0], inplace=True)\n",
    "\n",
    "    # Timestamp\n",
    "    if 'timestamp' in df.columns:\n",
    "        df['timestamp'] = pd.to_datetime(df['timestamp'])\n",
    "\n",
    "    # Mapovanie pre application, log_type a current_uc\n",
    "    if 'application' in df.columns:\n",
    "        df['application'] = df['application'].map(APP_MAP)\n",
    "\n",
    "    if 'log_type' in df.columns:\n",
    "        df['log_type'] = df['log_type'].map(LOG_MAP)\n",
    "\n",
    "    if 'current_uc' in df.columns:\n",
    "        df['current_uc'] = df['current_uc'].map(UC_MAP)\n",
    "\n",
    "    # Uložíme UC map do JSON súboru, aby sme ho mohli použiť neskôr na dekódovanie\n",
    "    with open('uc_map.json', 'w') as f:\n",
    "        json.dump(UC_MAP, f)\n",
    "\n",
    "    # Odstránenie riadkov s chýbajúcimi hodnotami v selected features\n",
    "    df.dropna(subset=SELECTED_FEATURES, inplace=True)\n",
    "\n",
    "    # Výber selected features\n",
    "    X = df[SELECTED_FEATURES]\n",
    "\n",
    "    # Normalizácia\n",
    "    if scaler is None:\n",
    "        scaler = StandardScaler()\n",
    "\n",
    "    if fit_scaler:\n",
    "        X_scaled = scaler.fit_transform(X)\n",
    "    else:\n",
    "        X_scaled = scaler.transform(X)\n",
    "\n",
    "    return X_scaled, df.get('current_uc'), scaler"
   ]
  },
  {
   "cell_type": "markdown",
   "id": "ff2fdce2",
   "metadata": {},
   "source": [
    "<div class=\"alert alert-block alert-info\">  \n",
    "<b>Predspracovanie dát:</b> Dáta predspracujeme tak, ako sme to robili v súbore EDA. \n",
    "</div>"
   ]
  },
  {
   "cell_type": "code",
   "execution_count": 60,
   "id": "8e8aa46f",
   "metadata": {},
   "outputs": [
    {
     "data": {
      "text/plain": [
       "['scaler.joblib']"
      ]
     },
     "execution_count": 60,
     "metadata": {},
     "output_type": "execute_result"
    }
   ],
   "source": [
    "# Príklad použitia:\n",
    "df = pd.read_csv(\"../synthetic_data.csv\")\n",
    "X_scaled, y_scaled, fitted_scaler = preprocess_df(df, fit_scaler=True)\n",
    "\n",
    "# predpokladáme že máš X_scaled a y pripravené\n",
    "np.save(\"X_scaled.npy\", X_scaled)\n",
    "np.save(\"y_labels.npy\", y_scaled)\n",
    "\n",
    "# Save scaler pre použitie pri real-time inferencii\n",
    "dump(fitted_scaler, 'scaler.joblib')"
   ]
  },
  {
   "cell_type": "markdown",
   "id": "f21791b8",
   "metadata": {},
   "source": [
    "<div class=\"alert alert-block alert-success\">  \n",
    "<b>'scaler.joblib':</b> Uložíme aj scaler, aby sme mohli normalizovať dáta pred ich nahratím do digitálneho dvojčaťa.\n",
    "</div>"
   ]
  }
 ],
 "metadata": {
  "kernelspec": {
   "display_name": ".venv",
   "language": "python",
   "name": "python3"
  },
  "language_info": {
   "codemirror_mode": {
    "name": "ipython",
    "version": 3
   },
   "file_extension": ".py",
   "mimetype": "text/x-python",
   "name": "python",
   "nbconvert_exporter": "python",
   "pygments_lexer": "ipython3",
   "version": "3.9.6"
  }
 },
 "nbformat": 4,
 "nbformat_minor": 5
}
